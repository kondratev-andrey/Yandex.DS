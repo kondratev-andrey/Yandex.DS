{
 "cells": [
  {
   "cell_type": "markdown",
   "id": "bc21b974",
   "metadata": {
    "deletable": false,
    "editable": false,
    "id": "c81daeeb"
   },
   "source": [
    "# Исследование надежности заемщиков\n"
   ]
  },
  {
   "cell_type": "markdown",
   "id": "f19908f0",
   "metadata": {
    "deletable": false,
    "editable": false,
    "id": "827c20bf"
   },
   "source": [
    "Во второй части проекта вы выполните шаги 3 и 4. Их вручную проверит ревьюер.\n",
    "Чтобы вам не пришлось писать код заново для шагов 1 и 2, мы добавили авторские решения в ячейки с кодом. \n",
    "\n"
   ]
  },
  {
   "cell_type": "markdown",
   "id": "50f56c49",
   "metadata": {
    "deletable": false,
    "editable": false,
    "id": "744d7639"
   },
   "source": [
    "## Откройте таблицу и изучите общую информацию о данных"
   ]
  },
  {
   "cell_type": "markdown",
   "id": "683a6913",
   "metadata": {
    "deletable": false,
    "editable": false,
    "id": "e7a14c31"
   },
   "source": [
    "**Задание 1. Импортируйте библиотеку pandas. Считайте данные из csv-файла в датафрейм и сохраните в переменную `data`. Путь к файлу:**\n",
    "\n",
    "`/datasets/data.csv`"
   ]
  },
  {
   "cell_type": "code",
   "execution_count": 1,
   "id": "6176cb11",
   "metadata": {
    "deletable": false,
    "id": "7bcf75c9"
   },
   "outputs": [],
   "source": [
    "import pandas as pd\n",
    "\n",
    "try:\n",
    "    data = pd.read_csv('/datasets/data.csv')\n",
    "except:\n",
    "    data = pd.read_csv('https://code.s3.yandex.net/datasets/data.csv')"
   ]
  },
  {
   "cell_type": "markdown",
   "id": "94e6c75f",
   "metadata": {
    "deletable": false,
    "editable": false,
    "id": "b8038fe3"
   },
   "source": [
    "**Задание 2. Выведите первые 20 строчек датафрейма `data` на экран.**"
   ]
  },
  {
   "cell_type": "code",
   "execution_count": 2,
   "id": "f9a19a1c",
   "metadata": {
    "deletable": false,
    "id": "2a7cab99",
    "outputId": "1a8f3ef2-d323-4ec2-ddf7-89670b5944c4",
    "scrolled": true
   },
   "outputs": [
    {
     "data": {
      "text/html": [
       "<div>\n",
       "<style scoped>\n",
       "    .dataframe tbody tr th:only-of-type {\n",
       "        vertical-align: middle;\n",
       "    }\n",
       "\n",
       "    .dataframe tbody tr th {\n",
       "        vertical-align: top;\n",
       "    }\n",
       "\n",
       "    .dataframe thead th {\n",
       "        text-align: right;\n",
       "    }\n",
       "</style>\n",
       "<table border=\"1\" class=\"dataframe\">\n",
       "  <thead>\n",
       "    <tr style=\"text-align: right;\">\n",
       "      <th></th>\n",
       "      <th>children</th>\n",
       "      <th>days_employed</th>\n",
       "      <th>dob_years</th>\n",
       "      <th>education</th>\n",
       "      <th>education_id</th>\n",
       "      <th>family_status</th>\n",
       "      <th>family_status_id</th>\n",
       "      <th>gender</th>\n",
       "      <th>income_type</th>\n",
       "      <th>debt</th>\n",
       "      <th>total_income</th>\n",
       "      <th>purpose</th>\n",
       "    </tr>\n",
       "  </thead>\n",
       "  <tbody>\n",
       "    <tr>\n",
       "      <th>0</th>\n",
       "      <td>1</td>\n",
       "      <td>-8437.673028</td>\n",
       "      <td>42</td>\n",
       "      <td>высшее</td>\n",
       "      <td>0</td>\n",
       "      <td>женат / замужем</td>\n",
       "      <td>0</td>\n",
       "      <td>F</td>\n",
       "      <td>сотрудник</td>\n",
       "      <td>0</td>\n",
       "      <td>253875.639453</td>\n",
       "      <td>покупка жилья</td>\n",
       "    </tr>\n",
       "    <tr>\n",
       "      <th>1</th>\n",
       "      <td>1</td>\n",
       "      <td>-4024.803754</td>\n",
       "      <td>36</td>\n",
       "      <td>среднее</td>\n",
       "      <td>1</td>\n",
       "      <td>женат / замужем</td>\n",
       "      <td>0</td>\n",
       "      <td>F</td>\n",
       "      <td>сотрудник</td>\n",
       "      <td>0</td>\n",
       "      <td>112080.014102</td>\n",
       "      <td>приобретение автомобиля</td>\n",
       "    </tr>\n",
       "    <tr>\n",
       "      <th>2</th>\n",
       "      <td>0</td>\n",
       "      <td>-5623.422610</td>\n",
       "      <td>33</td>\n",
       "      <td>Среднее</td>\n",
       "      <td>1</td>\n",
       "      <td>женат / замужем</td>\n",
       "      <td>0</td>\n",
       "      <td>M</td>\n",
       "      <td>сотрудник</td>\n",
       "      <td>0</td>\n",
       "      <td>145885.952297</td>\n",
       "      <td>покупка жилья</td>\n",
       "    </tr>\n",
       "    <tr>\n",
       "      <th>3</th>\n",
       "      <td>3</td>\n",
       "      <td>-4124.747207</td>\n",
       "      <td>32</td>\n",
       "      <td>среднее</td>\n",
       "      <td>1</td>\n",
       "      <td>женат / замужем</td>\n",
       "      <td>0</td>\n",
       "      <td>M</td>\n",
       "      <td>сотрудник</td>\n",
       "      <td>0</td>\n",
       "      <td>267628.550329</td>\n",
       "      <td>дополнительное образование</td>\n",
       "    </tr>\n",
       "    <tr>\n",
       "      <th>4</th>\n",
       "      <td>0</td>\n",
       "      <td>340266.072047</td>\n",
       "      <td>53</td>\n",
       "      <td>среднее</td>\n",
       "      <td>1</td>\n",
       "      <td>гражданский брак</td>\n",
       "      <td>1</td>\n",
       "      <td>F</td>\n",
       "      <td>пенсионер</td>\n",
       "      <td>0</td>\n",
       "      <td>158616.077870</td>\n",
       "      <td>сыграть свадьбу</td>\n",
       "    </tr>\n",
       "    <tr>\n",
       "      <th>5</th>\n",
       "      <td>0</td>\n",
       "      <td>-926.185831</td>\n",
       "      <td>27</td>\n",
       "      <td>высшее</td>\n",
       "      <td>0</td>\n",
       "      <td>гражданский брак</td>\n",
       "      <td>1</td>\n",
       "      <td>M</td>\n",
       "      <td>компаньон</td>\n",
       "      <td>0</td>\n",
       "      <td>255763.565419</td>\n",
       "      <td>покупка жилья</td>\n",
       "    </tr>\n",
       "    <tr>\n",
       "      <th>6</th>\n",
       "      <td>0</td>\n",
       "      <td>-2879.202052</td>\n",
       "      <td>43</td>\n",
       "      <td>высшее</td>\n",
       "      <td>0</td>\n",
       "      <td>женат / замужем</td>\n",
       "      <td>0</td>\n",
       "      <td>F</td>\n",
       "      <td>компаньон</td>\n",
       "      <td>0</td>\n",
       "      <td>240525.971920</td>\n",
       "      <td>операции с жильем</td>\n",
       "    </tr>\n",
       "    <tr>\n",
       "      <th>7</th>\n",
       "      <td>0</td>\n",
       "      <td>-152.779569</td>\n",
       "      <td>50</td>\n",
       "      <td>СРЕДНЕЕ</td>\n",
       "      <td>1</td>\n",
       "      <td>женат / замужем</td>\n",
       "      <td>0</td>\n",
       "      <td>M</td>\n",
       "      <td>сотрудник</td>\n",
       "      <td>0</td>\n",
       "      <td>135823.934197</td>\n",
       "      <td>образование</td>\n",
       "    </tr>\n",
       "    <tr>\n",
       "      <th>8</th>\n",
       "      <td>2</td>\n",
       "      <td>-6929.865299</td>\n",
       "      <td>35</td>\n",
       "      <td>ВЫСШЕЕ</td>\n",
       "      <td>0</td>\n",
       "      <td>гражданский брак</td>\n",
       "      <td>1</td>\n",
       "      <td>F</td>\n",
       "      <td>сотрудник</td>\n",
       "      <td>0</td>\n",
       "      <td>95856.832424</td>\n",
       "      <td>на проведение свадьбы</td>\n",
       "    </tr>\n",
       "    <tr>\n",
       "      <th>9</th>\n",
       "      <td>0</td>\n",
       "      <td>-2188.756445</td>\n",
       "      <td>41</td>\n",
       "      <td>среднее</td>\n",
       "      <td>1</td>\n",
       "      <td>женат / замужем</td>\n",
       "      <td>0</td>\n",
       "      <td>M</td>\n",
       "      <td>сотрудник</td>\n",
       "      <td>0</td>\n",
       "      <td>144425.938277</td>\n",
       "      <td>покупка жилья для семьи</td>\n",
       "    </tr>\n",
       "    <tr>\n",
       "      <th>10</th>\n",
       "      <td>2</td>\n",
       "      <td>-4171.483647</td>\n",
       "      <td>36</td>\n",
       "      <td>высшее</td>\n",
       "      <td>0</td>\n",
       "      <td>женат / замужем</td>\n",
       "      <td>0</td>\n",
       "      <td>M</td>\n",
       "      <td>компаньон</td>\n",
       "      <td>0</td>\n",
       "      <td>113943.491460</td>\n",
       "      <td>покупка недвижимости</td>\n",
       "    </tr>\n",
       "    <tr>\n",
       "      <th>11</th>\n",
       "      <td>0</td>\n",
       "      <td>-792.701887</td>\n",
       "      <td>40</td>\n",
       "      <td>среднее</td>\n",
       "      <td>1</td>\n",
       "      <td>женат / замужем</td>\n",
       "      <td>0</td>\n",
       "      <td>F</td>\n",
       "      <td>сотрудник</td>\n",
       "      <td>0</td>\n",
       "      <td>77069.234271</td>\n",
       "      <td>покупка коммерческой недвижимости</td>\n",
       "    </tr>\n",
       "    <tr>\n",
       "      <th>12</th>\n",
       "      <td>0</td>\n",
       "      <td>NaN</td>\n",
       "      <td>65</td>\n",
       "      <td>среднее</td>\n",
       "      <td>1</td>\n",
       "      <td>гражданский брак</td>\n",
       "      <td>1</td>\n",
       "      <td>M</td>\n",
       "      <td>пенсионер</td>\n",
       "      <td>0</td>\n",
       "      <td>NaN</td>\n",
       "      <td>сыграть свадьбу</td>\n",
       "    </tr>\n",
       "    <tr>\n",
       "      <th>13</th>\n",
       "      <td>0</td>\n",
       "      <td>-1846.641941</td>\n",
       "      <td>54</td>\n",
       "      <td>неоконченное высшее</td>\n",
       "      <td>2</td>\n",
       "      <td>женат / замужем</td>\n",
       "      <td>0</td>\n",
       "      <td>F</td>\n",
       "      <td>сотрудник</td>\n",
       "      <td>0</td>\n",
       "      <td>130458.228857</td>\n",
       "      <td>приобретение автомобиля</td>\n",
       "    </tr>\n",
       "    <tr>\n",
       "      <th>14</th>\n",
       "      <td>0</td>\n",
       "      <td>-1844.956182</td>\n",
       "      <td>56</td>\n",
       "      <td>высшее</td>\n",
       "      <td>0</td>\n",
       "      <td>гражданский брак</td>\n",
       "      <td>1</td>\n",
       "      <td>F</td>\n",
       "      <td>компаньон</td>\n",
       "      <td>1</td>\n",
       "      <td>165127.911772</td>\n",
       "      <td>покупка жилой недвижимости</td>\n",
       "    </tr>\n",
       "    <tr>\n",
       "      <th>15</th>\n",
       "      <td>1</td>\n",
       "      <td>-972.364419</td>\n",
       "      <td>26</td>\n",
       "      <td>среднее</td>\n",
       "      <td>1</td>\n",
       "      <td>женат / замужем</td>\n",
       "      <td>0</td>\n",
       "      <td>F</td>\n",
       "      <td>сотрудник</td>\n",
       "      <td>0</td>\n",
       "      <td>116820.904450</td>\n",
       "      <td>строительство собственной недвижимости</td>\n",
       "    </tr>\n",
       "    <tr>\n",
       "      <th>16</th>\n",
       "      <td>0</td>\n",
       "      <td>-1719.934226</td>\n",
       "      <td>35</td>\n",
       "      <td>среднее</td>\n",
       "      <td>1</td>\n",
       "      <td>женат / замужем</td>\n",
       "      <td>0</td>\n",
       "      <td>F</td>\n",
       "      <td>сотрудник</td>\n",
       "      <td>0</td>\n",
       "      <td>289202.704229</td>\n",
       "      <td>недвижимость</td>\n",
       "    </tr>\n",
       "    <tr>\n",
       "      <th>17</th>\n",
       "      <td>0</td>\n",
       "      <td>-2369.999720</td>\n",
       "      <td>33</td>\n",
       "      <td>высшее</td>\n",
       "      <td>0</td>\n",
       "      <td>гражданский брак</td>\n",
       "      <td>1</td>\n",
       "      <td>M</td>\n",
       "      <td>сотрудник</td>\n",
       "      <td>0</td>\n",
       "      <td>90410.586745</td>\n",
       "      <td>строительство недвижимости</td>\n",
       "    </tr>\n",
       "    <tr>\n",
       "      <th>18</th>\n",
       "      <td>0</td>\n",
       "      <td>400281.136913</td>\n",
       "      <td>53</td>\n",
       "      <td>среднее</td>\n",
       "      <td>1</td>\n",
       "      <td>вдовец / вдова</td>\n",
       "      <td>2</td>\n",
       "      <td>F</td>\n",
       "      <td>пенсионер</td>\n",
       "      <td>0</td>\n",
       "      <td>56823.777243</td>\n",
       "      <td>на покупку подержанного автомобиля</td>\n",
       "    </tr>\n",
       "    <tr>\n",
       "      <th>19</th>\n",
       "      <td>0</td>\n",
       "      <td>-10038.818549</td>\n",
       "      <td>48</td>\n",
       "      <td>СРЕДНЕЕ</td>\n",
       "      <td>1</td>\n",
       "      <td>в разводе</td>\n",
       "      <td>3</td>\n",
       "      <td>F</td>\n",
       "      <td>сотрудник</td>\n",
       "      <td>0</td>\n",
       "      <td>242831.107982</td>\n",
       "      <td>на покупку своего автомобиля</td>\n",
       "    </tr>\n",
       "  </tbody>\n",
       "</table>\n",
       "</div>"
      ],
      "text/plain": [
       "    children  days_employed  dob_years            education  education_id  \\\n",
       "0          1   -8437.673028         42               высшее             0   \n",
       "1          1   -4024.803754         36              среднее             1   \n",
       "2          0   -5623.422610         33              Среднее             1   \n",
       "3          3   -4124.747207         32              среднее             1   \n",
       "4          0  340266.072047         53              среднее             1   \n",
       "5          0    -926.185831         27               высшее             0   \n",
       "6          0   -2879.202052         43               высшее             0   \n",
       "7          0    -152.779569         50              СРЕДНЕЕ             1   \n",
       "8          2   -6929.865299         35               ВЫСШЕЕ             0   \n",
       "9          0   -2188.756445         41              среднее             1   \n",
       "10         2   -4171.483647         36               высшее             0   \n",
       "11         0    -792.701887         40              среднее             1   \n",
       "12         0            NaN         65              среднее             1   \n",
       "13         0   -1846.641941         54  неоконченное высшее             2   \n",
       "14         0   -1844.956182         56               высшее             0   \n",
       "15         1    -972.364419         26              среднее             1   \n",
       "16         0   -1719.934226         35              среднее             1   \n",
       "17         0   -2369.999720         33               высшее             0   \n",
       "18         0  400281.136913         53              среднее             1   \n",
       "19         0  -10038.818549         48              СРЕДНЕЕ             1   \n",
       "\n",
       "       family_status  family_status_id gender income_type  debt  \\\n",
       "0    женат / замужем                 0      F   сотрудник     0   \n",
       "1    женат / замужем                 0      F   сотрудник     0   \n",
       "2    женат / замужем                 0      M   сотрудник     0   \n",
       "3    женат / замужем                 0      M   сотрудник     0   \n",
       "4   гражданский брак                 1      F   пенсионер     0   \n",
       "5   гражданский брак                 1      M   компаньон     0   \n",
       "6    женат / замужем                 0      F   компаньон     0   \n",
       "7    женат / замужем                 0      M   сотрудник     0   \n",
       "8   гражданский брак                 1      F   сотрудник     0   \n",
       "9    женат / замужем                 0      M   сотрудник     0   \n",
       "10   женат / замужем                 0      M   компаньон     0   \n",
       "11   женат / замужем                 0      F   сотрудник     0   \n",
       "12  гражданский брак                 1      M   пенсионер     0   \n",
       "13   женат / замужем                 0      F   сотрудник     0   \n",
       "14  гражданский брак                 1      F   компаньон     1   \n",
       "15   женат / замужем                 0      F   сотрудник     0   \n",
       "16   женат / замужем                 0      F   сотрудник     0   \n",
       "17  гражданский брак                 1      M   сотрудник     0   \n",
       "18    вдовец / вдова                 2      F   пенсионер     0   \n",
       "19         в разводе                 3      F   сотрудник     0   \n",
       "\n",
       "     total_income                                 purpose  \n",
       "0   253875.639453                           покупка жилья  \n",
       "1   112080.014102                 приобретение автомобиля  \n",
       "2   145885.952297                           покупка жилья  \n",
       "3   267628.550329              дополнительное образование  \n",
       "4   158616.077870                         сыграть свадьбу  \n",
       "5   255763.565419                           покупка жилья  \n",
       "6   240525.971920                       операции с жильем  \n",
       "7   135823.934197                             образование  \n",
       "8    95856.832424                   на проведение свадьбы  \n",
       "9   144425.938277                 покупка жилья для семьи  \n",
       "10  113943.491460                    покупка недвижимости  \n",
       "11   77069.234271       покупка коммерческой недвижимости  \n",
       "12            NaN                         сыграть свадьбу  \n",
       "13  130458.228857                 приобретение автомобиля  \n",
       "14  165127.911772              покупка жилой недвижимости  \n",
       "15  116820.904450  строительство собственной недвижимости  \n",
       "16  289202.704229                            недвижимость  \n",
       "17   90410.586745              строительство недвижимости  \n",
       "18   56823.777243      на покупку подержанного автомобиля  \n",
       "19  242831.107982            на покупку своего автомобиля  "
      ]
     },
     "execution_count": 2,
     "metadata": {},
     "output_type": "execute_result"
    }
   ],
   "source": [
    "data.head(20)"
   ]
  },
  {
   "cell_type": "markdown",
   "id": "ca13c7b2",
   "metadata": {
    "deletable": false,
    "editable": false,
    "id": "1c12e233"
   },
   "source": [
    "**Задание 3. Выведите основную информацию о датафрейме с помощью метода `info()`.**"
   ]
  },
  {
   "cell_type": "code",
   "execution_count": 3,
   "id": "c1f51b17",
   "metadata": {
    "deletable": false,
    "id": "2b757bca",
    "outputId": "15376089-8dad-46c9-b520-c05248d43158"
   },
   "outputs": [
    {
     "name": "stdout",
     "output_type": "stream",
     "text": [
      "<class 'pandas.core.frame.DataFrame'>\n",
      "RangeIndex: 21525 entries, 0 to 21524\n",
      "Data columns (total 12 columns):\n",
      " #   Column            Non-Null Count  Dtype  \n",
      "---  ------            --------------  -----  \n",
      " 0   children          21525 non-null  int64  \n",
      " 1   days_employed     19351 non-null  float64\n",
      " 2   dob_years         21525 non-null  int64  \n",
      " 3   education         21525 non-null  object \n",
      " 4   education_id      21525 non-null  int64  \n",
      " 5   family_status     21525 non-null  object \n",
      " 6   family_status_id  21525 non-null  int64  \n",
      " 7   gender            21525 non-null  object \n",
      " 8   income_type       21525 non-null  object \n",
      " 9   debt              21525 non-null  int64  \n",
      " 10  total_income      19351 non-null  float64\n",
      " 11  purpose           21525 non-null  object \n",
      "dtypes: float64(2), int64(5), object(5)\n",
      "memory usage: 2.0+ MB\n"
     ]
    }
   ],
   "source": [
    "data.info()"
   ]
  },
  {
   "cell_type": "markdown",
   "id": "2a15b825",
   "metadata": {
    "deletable": false,
    "editable": false,
    "id": "333ec665"
   },
   "source": [
    "## Предобработка данных"
   ]
  },
  {
   "cell_type": "markdown",
   "id": "9519d3b9",
   "metadata": {
    "deletable": false,
    "editable": false,
    "id": "02d92d53"
   },
   "source": [
    "### Удаление пропусков"
   ]
  },
  {
   "cell_type": "markdown",
   "id": "f2bbbd5c",
   "metadata": {
    "deletable": false,
    "editable": false,
    "id": "cd84967c"
   },
   "source": [
    "**Задание 4. Выведите количество пропущенных значений для каждого столбца. Используйте комбинацию двух методов.**"
   ]
  },
  {
   "cell_type": "code",
   "execution_count": 4,
   "id": "9a9510ce",
   "metadata": {
    "deletable": false,
    "id": "7f9b2309",
    "outputId": "81f4d817-781c-465c-ed15-91ce4446810d"
   },
   "outputs": [
    {
     "data": {
      "text/plain": [
       "children               0\n",
       "days_employed       2174\n",
       "dob_years              0\n",
       "education              0\n",
       "education_id           0\n",
       "family_status          0\n",
       "family_status_id       0\n",
       "gender                 0\n",
       "income_type            0\n",
       "debt                   0\n",
       "total_income        2174\n",
       "purpose                0\n",
       "dtype: int64"
      ]
     },
     "execution_count": 4,
     "metadata": {},
     "output_type": "execute_result"
    }
   ],
   "source": [
    "data.isna().sum()"
   ]
  },
  {
   "cell_type": "markdown",
   "id": "854550ac",
   "metadata": {
    "deletable": false,
    "editable": false,
    "id": "db86e27b"
   },
   "source": [
    "**Задание 5. В двух столбцах есть пропущенные значения. Один из них — `days_employed`. Пропуски в этом столбце вы обработаете на следующем этапе. Другой столбец с пропущенными значениями — `total_income` — хранит данные о доходах. На сумму дохода сильнее всего влияет тип занятости, поэтому заполнить пропуски в этом столбце нужно медианным значением по каждому типу из столбца `income_type`. Например, у человека с типом занятости `сотрудник` пропуск в столбце `total_income` должен быть заполнен медианным доходом среди всех записей с тем же типом.**"
   ]
  },
  {
   "cell_type": "code",
   "execution_count": 5,
   "id": "51290964",
   "metadata": {
    "deletable": false,
    "id": "42006a93"
   },
   "outputs": [],
   "source": [
    "for t in data['income_type'].unique():\n",
    "    data.loc[(data['income_type'] == t) & (data['total_income'].isna()), 'total_income'] = \\\n",
    "    data.loc[(data['income_type'] == t), 'total_income'].median()"
   ]
  },
  {
   "cell_type": "markdown",
   "id": "78f1d16b",
   "metadata": {
    "deletable": false,
    "editable": false,
    "id": "89da5ece"
   },
   "source": [
    "### Обработка аномальных значений"
   ]
  },
  {
   "cell_type": "markdown",
   "id": "39007402",
   "metadata": {
    "deletable": false,
    "editable": false,
    "id": "57964554"
   },
   "source": [
    "**Задание 6. В данных могут встречаться артефакты (аномалии) — значения, которые не отражают действительность и появились по какой-то ошибке. таким артефактом будет отрицательное количество дней трудового стажа в столбце `days_employed`. Для реальных данных это нормально. Обработайте значения в этом столбце: замените все отрицательные значения положительными с помощью метода `abs()`.**"
   ]
  },
  {
   "cell_type": "code",
   "execution_count": 6,
   "id": "d1049074",
   "metadata": {
    "deletable": false,
    "id": "f6f055bf"
   },
   "outputs": [],
   "source": [
    "data['days_employed'] = data['days_employed'].abs()"
   ]
  },
  {
   "cell_type": "markdown",
   "id": "4dddbf12",
   "metadata": {
    "deletable": false,
    "editable": false,
    "id": "6107dd2f"
   },
   "source": [
    "**Задание 7. Для каждого типа занятости выведите медианное значение трудового стажа `days_employed` в днях.**"
   ]
  },
  {
   "cell_type": "code",
   "execution_count": 7,
   "id": "1b6858a8",
   "metadata": {
    "deletable": false,
    "id": "85a5faf6",
    "outputId": "801ef80e-522b-4668-f34e-565af7432bcf"
   },
   "outputs": [
    {
     "data": {
      "text/plain": [
       "income_type\n",
       "безработный        366413.652744\n",
       "в декрете            3296.759962\n",
       "госслужащий          2689.368353\n",
       "компаньон            1547.382223\n",
       "пенсионер          365213.306266\n",
       "предприниматель       520.848083\n",
       "сотрудник            1574.202821\n",
       "студент               578.751554\n",
       "Name: days_employed, dtype: float64"
      ]
     },
     "execution_count": 7,
     "metadata": {},
     "output_type": "execute_result"
    }
   ],
   "source": [
    "data.groupby('income_type')['days_employed'].agg('median')"
   ]
  },
  {
   "cell_type": "markdown",
   "id": "d0473416",
   "metadata": {
    "deletable": false,
    "editable": false,
    "id": "38d1a030"
   },
   "source": [
    "У двух типов (безработные и пенсионеры) получатся аномально большие значения. Исправить такие значения сложно, поэтому оставьте их как есть. Тем более этот столбец не понадобится вам для исследования."
   ]
  },
  {
   "cell_type": "markdown",
   "id": "062bf99b",
   "metadata": {
    "deletable": false,
    "editable": false,
    "id": "d8a9f147"
   },
   "source": [
    "**Задание 8. Выведите перечень уникальных значений столбца `children`.**"
   ]
  },
  {
   "cell_type": "code",
   "execution_count": 8,
   "id": "3393ace5",
   "metadata": {
    "deletable": false,
    "id": "ef5056eb",
    "outputId": "6975b15c-7f95-4697-d16d-a0c79b657b03"
   },
   "outputs": [
    {
     "data": {
      "text/plain": [
       "array([ 1,  0,  3,  2, -1,  4, 20,  5])"
      ]
     },
     "execution_count": 8,
     "metadata": {},
     "output_type": "execute_result"
    }
   ],
   "source": [
    "data['children'].unique()"
   ]
  },
  {
   "cell_type": "markdown",
   "id": "908f6ff4",
   "metadata": {
    "deletable": false,
    "editable": false,
    "id": "40b9ebf2"
   },
   "source": [
    "**Задание 9. В столбце `children` есть два аномальных значения. Удалите строки, в которых встречаются такие аномальные значения из датафрейма `data`.**"
   ]
  },
  {
   "cell_type": "code",
   "execution_count": 9,
   "id": "7794fdd7",
   "metadata": {
    "deletable": false,
    "id": "3ff9801d"
   },
   "outputs": [],
   "source": [
    "data = data[(data['children'] != -1) & (data['children'] != 20)]"
   ]
  },
  {
   "cell_type": "markdown",
   "id": "2e36feb8",
   "metadata": {
    "deletable": false,
    "editable": false,
    "id": "bbc4d0ce"
   },
   "source": [
    "**Задание 10. Ещё раз выведите перечень уникальных значений столбца `children`, чтобы убедиться, что артефакты удалены.**"
   ]
  },
  {
   "cell_type": "code",
   "execution_count": 10,
   "id": "74391a07",
   "metadata": {
    "deletable": false,
    "id": "ad4fa8b7",
    "outputId": "b2097101-d49d-44d9-901b-32a65c9463d1"
   },
   "outputs": [
    {
     "data": {
      "text/plain": [
       "array([1, 0, 3, 2, 4, 5])"
      ]
     },
     "execution_count": 10,
     "metadata": {},
     "output_type": "execute_result"
    }
   ],
   "source": [
    "data['children'].unique()"
   ]
  },
  {
   "cell_type": "markdown",
   "id": "9fd680a1",
   "metadata": {
    "deletable": false,
    "editable": false,
    "id": "75440b63"
   },
   "source": [
    "### Удаление пропусков (продолжение)"
   ]
  },
  {
   "cell_type": "markdown",
   "id": "766f3888",
   "metadata": {
    "deletable": false,
    "editable": false,
    "id": "f4ea573f"
   },
   "source": [
    "**Задание 11. Заполните пропуски в столбце `days_employed` медианными значениями по каждого типа занятости `income_type`.**"
   ]
  },
  {
   "cell_type": "code",
   "execution_count": 11,
   "id": "3544a0d4",
   "metadata": {
    "deletable": false,
    "id": "af6b1a7e"
   },
   "outputs": [],
   "source": [
    "for t in data['income_type'].unique():\n",
    "    data.loc[(data['income_type'] == t) & (data['days_employed'].isna()), 'days_employed'] = \\\n",
    "    data.loc[(data['income_type'] == t), 'days_employed'].median()"
   ]
  },
  {
   "cell_type": "markdown",
   "id": "e6929b6f",
   "metadata": {
    "deletable": false,
    "editable": false,
    "id": "2753f40d"
   },
   "source": [
    "**Задание 12. Убедитесь, что все пропуски заполнены. Проверьте себя и ещё раз выведите количество пропущенных значений для каждого столбца с помощью двух методов.**"
   ]
  },
  {
   "cell_type": "code",
   "execution_count": 12,
   "id": "d76d748d",
   "metadata": {
    "deletable": false,
    "id": "55f78bc2",
    "outputId": "8da1e4e1-358e-4e87-98c9-f261bce0a7b2"
   },
   "outputs": [
    {
     "data": {
      "text/plain": [
       "children            0\n",
       "days_employed       0\n",
       "dob_years           0\n",
       "education           0\n",
       "education_id        0\n",
       "family_status       0\n",
       "family_status_id    0\n",
       "gender              0\n",
       "income_type         0\n",
       "debt                0\n",
       "total_income        0\n",
       "purpose             0\n",
       "dtype: int64"
      ]
     },
     "execution_count": 12,
     "metadata": {},
     "output_type": "execute_result"
    }
   ],
   "source": [
    "data.isna().sum()"
   ]
  },
  {
   "cell_type": "markdown",
   "id": "7445c887",
   "metadata": {
    "deletable": false,
    "editable": false,
    "id": "ddc81e43"
   },
   "source": [
    "### Изменение типов данных"
   ]
  },
  {
   "cell_type": "markdown",
   "id": "a6e239cc",
   "metadata": {
    "deletable": false,
    "editable": false,
    "id": "42d19d24"
   },
   "source": [
    "**Задание 13. Замените вещественный тип данных в столбце `total_income` на целочисленный с помощью метода `astype()`.**"
   ]
  },
  {
   "cell_type": "code",
   "execution_count": 13,
   "id": "7f344ff2",
   "metadata": {
    "deletable": false,
    "id": "920b65ad"
   },
   "outputs": [],
   "source": [
    "data['total_income'] = data['total_income'].astype(int)"
   ]
  },
  {
   "cell_type": "markdown",
   "id": "7d80f99d",
   "metadata": {
    "deletable": false,
    "editable": false,
    "id": "80c420ba"
   },
   "source": [
    "### Обработка дубликатов"
   ]
  },
  {
   "cell_type": "markdown",
   "id": "4244c8af",
   "metadata": {
    "deletable": false,
    "editable": false
   },
   "source": [
    "**Задание 14. Обработайте неявные дубликаты в столбце `education`. В этом столбце есть одни и те же значения, но записанные по-разному: с использованием заглавных и строчных букв. Приведите их к нижнему регистру. Проверьте остальные столбцы.**"
   ]
  },
  {
   "cell_type": "code",
   "execution_count": 14,
   "id": "6a60434f",
   "metadata": {
    "deletable": false
   },
   "outputs": [],
   "source": [
    "data['education'] = data['education'].str.lower()"
   ]
  },
  {
   "cell_type": "markdown",
   "id": "8b28e7aa",
   "metadata": {
    "deletable": false,
    "editable": false,
    "id": "dc587695"
   },
   "source": [
    "**Задание 15. Выведите на экран количество строк-дубликатов в данных. Если такие строки присутствуют, удалите их.**"
   ]
  },
  {
   "cell_type": "code",
   "execution_count": 15,
   "id": "bc301317",
   "metadata": {
    "deletable": false,
    "id": "3ee445e4",
    "outputId": "9684deba-1934-42d1-99e1-cda61740f822"
   },
   "outputs": [
    {
     "data": {
      "text/plain": [
       "71"
      ]
     },
     "execution_count": 15,
     "metadata": {},
     "output_type": "execute_result"
    }
   ],
   "source": [
    "data.duplicated().sum()"
   ]
  },
  {
   "cell_type": "code",
   "execution_count": 16,
   "id": "cb5a92d0",
   "metadata": {
    "deletable": false,
    "id": "8575fe05"
   },
   "outputs": [],
   "source": [
    "data = data.drop_duplicates()"
   ]
  },
  {
   "cell_type": "markdown",
   "id": "1d39a663",
   "metadata": {
    "deletable": false,
    "editable": false,
    "id": "9904cf55"
   },
   "source": [
    "### Категоризация данных"
   ]
  },
  {
   "cell_type": "markdown",
   "id": "b4cd3fac",
   "metadata": {
    "deletable": false,
    "editable": false,
    "id": "72fcc8a2"
   },
   "source": [
    "**Задание 16. На основании диапазонов, указанных ниже, создайте в датафрейме `data` столбец `total_income_category` с категориями:**\n",
    "\n",
    "- 0–30000 — `'E'`;\n",
    "- 30001–50000 — `'D'`;\n",
    "- 50001–200000 — `'C'`;\n",
    "- 200001–1000000 — `'B'`;\n",
    "- 1000001 и выше — `'A'`.\n",
    "\n",
    "\n",
    "**Например, кредитополучателю с доходом 25000 нужно назначить категорию `'E'`, а клиенту, получающему 235000, — `'B'`. Используйте собственную функцию с именем `categorize_income()` и метод `apply()`.**"
   ]
  },
  {
   "cell_type": "code",
   "execution_count": 17,
   "id": "be3b9724",
   "metadata": {
    "deletable": false,
    "id": "e1771346"
   },
   "outputs": [],
   "source": [
    "def categorize_income(income):\n",
    "    try:\n",
    "        if 0 <= income <= 30000:\n",
    "            return 'E'\n",
    "        elif 30001 <= income <= 50000:\n",
    "            return 'D'\n",
    "        elif 50001 <= income <= 200000:\n",
    "            return 'C'\n",
    "        elif 200001 <= income <= 1000000:\n",
    "            return 'B'\n",
    "        elif income >= 1000001:\n",
    "            return 'A'\n",
    "    except:\n",
    "        pass"
   ]
  },
  {
   "cell_type": "code",
   "execution_count": 18,
   "id": "f3f2ae2f",
   "metadata": {
    "deletable": false,
    "id": "d5f3586d"
   },
   "outputs": [],
   "source": [
    "data['total_income_category'] = data['total_income'].apply(categorize_income)"
   ]
  },
  {
   "cell_type": "markdown",
   "id": "d25c3419",
   "metadata": {
    "deletable": false,
    "editable": false,
    "id": "dde49b5c"
   },
   "source": [
    "**Задание 17. Выведите на экран перечень уникальных целей взятия кредита из столбца `purpose`.**"
   ]
  },
  {
   "cell_type": "code",
   "execution_count": 19,
   "id": "33039427",
   "metadata": {
    "deletable": false,
    "id": "f67ce9b3",
    "outputId": "673c12d9-7d7e-4ae0-9812-c622c89dd244"
   },
   "outputs": [
    {
     "data": {
      "text/plain": [
       "array(['покупка жилья', 'приобретение автомобиля',\n",
       "       'дополнительное образование', 'сыграть свадьбу',\n",
       "       'операции с жильем', 'образование', 'на проведение свадьбы',\n",
       "       'покупка жилья для семьи', 'покупка недвижимости',\n",
       "       'покупка коммерческой недвижимости', 'покупка жилой недвижимости',\n",
       "       'строительство собственной недвижимости', 'недвижимость',\n",
       "       'строительство недвижимости', 'на покупку подержанного автомобиля',\n",
       "       'на покупку своего автомобиля',\n",
       "       'операции с коммерческой недвижимостью',\n",
       "       'строительство жилой недвижимости', 'жилье',\n",
       "       'операции со своей недвижимостью', 'автомобили',\n",
       "       'заняться образованием', 'сделка с подержанным автомобилем',\n",
       "       'получение образования', 'автомобиль', 'свадьба',\n",
       "       'получение дополнительного образования', 'покупка своего жилья',\n",
       "       'операции с недвижимостью', 'получение высшего образования',\n",
       "       'свой автомобиль', 'сделка с автомобилем',\n",
       "       'профильное образование', 'высшее образование',\n",
       "       'покупка жилья для сдачи', 'на покупку автомобиля', 'ремонт жилью',\n",
       "       'заняться высшим образованием'], dtype=object)"
      ]
     },
     "execution_count": 19,
     "metadata": {},
     "output_type": "execute_result"
    }
   ],
   "source": [
    "data['purpose'].unique()"
   ]
  },
  {
   "cell_type": "markdown",
   "id": "e35358c0",
   "metadata": {
    "deletable": false,
    "editable": false,
    "id": "85d0aef0"
   },
   "source": [
    "**Задание 18. Создайте функцию, которая на основании данных из столбца `purpose` сформирует новый столбец `purpose_category`, в который войдут следующие категории:**\n",
    "\n",
    "- `'операции с автомобилем'`,\n",
    "- `'операции с недвижимостью'`,\n",
    "- `'проведение свадьбы'`,\n",
    "- `'получение образования'`.\n",
    "\n",
    "**Например, если в столбце `purpose` находится подстрока `'на покупку автомобиля'`, то в столбце `purpose_category` должна появиться строка `'операции с автомобилем'`.**\n",
    "\n",
    "**Используйте собственную функцию с именем `categorize_purpose()` и метод `apply()`. Изучите данные в столбце `purpose` и определите, какие подстроки помогут вам правильно определить категорию.**"
   ]
  },
  {
   "cell_type": "code",
   "execution_count": 20,
   "id": "be6efcf3",
   "metadata": {
    "deletable": false,
    "id": "e149fab4"
   },
   "outputs": [],
   "source": [
    "def categorize_purpose(row):\n",
    "    try:\n",
    "        if 'автом' in row:\n",
    "            return 'операции с автомобилем'\n",
    "        elif 'жил' in row or 'недвиж' in row:\n",
    "            return 'операции с недвижимостью'\n",
    "        elif 'свад' in row:\n",
    "            return 'проведение свадьбы'\n",
    "        elif 'образов' in row:\n",
    "            return 'получение образования'\n",
    "    except:\n",
    "        return 'нет категории'"
   ]
  },
  {
   "cell_type": "code",
   "execution_count": 21,
   "id": "f16c4e51",
   "metadata": {
    "deletable": false,
    "id": "bf36e69b"
   },
   "outputs": [
    {
     "data": {
      "text/html": [
       "<div>\n",
       "<style scoped>\n",
       "    .dataframe tbody tr th:only-of-type {\n",
       "        vertical-align: middle;\n",
       "    }\n",
       "\n",
       "    .dataframe tbody tr th {\n",
       "        vertical-align: top;\n",
       "    }\n",
       "\n",
       "    .dataframe thead th {\n",
       "        text-align: right;\n",
       "    }\n",
       "</style>\n",
       "<table border=\"1\" class=\"dataframe\">\n",
       "  <thead>\n",
       "    <tr style=\"text-align: right;\">\n",
       "      <th></th>\n",
       "      <th>children</th>\n",
       "      <th>days_employed</th>\n",
       "      <th>dob_years</th>\n",
       "      <th>education</th>\n",
       "      <th>education_id</th>\n",
       "      <th>family_status</th>\n",
       "      <th>family_status_id</th>\n",
       "      <th>gender</th>\n",
       "      <th>income_type</th>\n",
       "      <th>debt</th>\n",
       "      <th>total_income</th>\n",
       "      <th>purpose</th>\n",
       "      <th>total_income_category</th>\n",
       "      <th>purpose_category</th>\n",
       "    </tr>\n",
       "  </thead>\n",
       "  <tbody>\n",
       "    <tr>\n",
       "      <th>0</th>\n",
       "      <td>1</td>\n",
       "      <td>8437.673028</td>\n",
       "      <td>42</td>\n",
       "      <td>высшее</td>\n",
       "      <td>0</td>\n",
       "      <td>женат / замужем</td>\n",
       "      <td>0</td>\n",
       "      <td>F</td>\n",
       "      <td>сотрудник</td>\n",
       "      <td>0</td>\n",
       "      <td>253875</td>\n",
       "      <td>покупка жилья</td>\n",
       "      <td>B</td>\n",
       "      <td>операции с недвижимостью</td>\n",
       "    </tr>\n",
       "    <tr>\n",
       "      <th>1</th>\n",
       "      <td>1</td>\n",
       "      <td>4024.803754</td>\n",
       "      <td>36</td>\n",
       "      <td>среднее</td>\n",
       "      <td>1</td>\n",
       "      <td>женат / замужем</td>\n",
       "      <td>0</td>\n",
       "      <td>F</td>\n",
       "      <td>сотрудник</td>\n",
       "      <td>0</td>\n",
       "      <td>112080</td>\n",
       "      <td>приобретение автомобиля</td>\n",
       "      <td>C</td>\n",
       "      <td>операции с автомобилем</td>\n",
       "    </tr>\n",
       "    <tr>\n",
       "      <th>2</th>\n",
       "      <td>0</td>\n",
       "      <td>5623.422610</td>\n",
       "      <td>33</td>\n",
       "      <td>среднее</td>\n",
       "      <td>1</td>\n",
       "      <td>женат / замужем</td>\n",
       "      <td>0</td>\n",
       "      <td>M</td>\n",
       "      <td>сотрудник</td>\n",
       "      <td>0</td>\n",
       "      <td>145885</td>\n",
       "      <td>покупка жилья</td>\n",
       "      <td>C</td>\n",
       "      <td>операции с недвижимостью</td>\n",
       "    </tr>\n",
       "    <tr>\n",
       "      <th>3</th>\n",
       "      <td>3</td>\n",
       "      <td>4124.747207</td>\n",
       "      <td>32</td>\n",
       "      <td>среднее</td>\n",
       "      <td>1</td>\n",
       "      <td>женат / замужем</td>\n",
       "      <td>0</td>\n",
       "      <td>M</td>\n",
       "      <td>сотрудник</td>\n",
       "      <td>0</td>\n",
       "      <td>267628</td>\n",
       "      <td>дополнительное образование</td>\n",
       "      <td>B</td>\n",
       "      <td>получение образования</td>\n",
       "    </tr>\n",
       "    <tr>\n",
       "      <th>4</th>\n",
       "      <td>0</td>\n",
       "      <td>340266.072047</td>\n",
       "      <td>53</td>\n",
       "      <td>среднее</td>\n",
       "      <td>1</td>\n",
       "      <td>гражданский брак</td>\n",
       "      <td>1</td>\n",
       "      <td>F</td>\n",
       "      <td>пенсионер</td>\n",
       "      <td>0</td>\n",
       "      <td>158616</td>\n",
       "      <td>сыграть свадьбу</td>\n",
       "      <td>C</td>\n",
       "      <td>проведение свадьбы</td>\n",
       "    </tr>\n",
       "    <tr>\n",
       "      <th>5</th>\n",
       "      <td>0</td>\n",
       "      <td>926.185831</td>\n",
       "      <td>27</td>\n",
       "      <td>высшее</td>\n",
       "      <td>0</td>\n",
       "      <td>гражданский брак</td>\n",
       "      <td>1</td>\n",
       "      <td>M</td>\n",
       "      <td>компаньон</td>\n",
       "      <td>0</td>\n",
       "      <td>255763</td>\n",
       "      <td>покупка жилья</td>\n",
       "      <td>B</td>\n",
       "      <td>операции с недвижимостью</td>\n",
       "    </tr>\n",
       "    <tr>\n",
       "      <th>6</th>\n",
       "      <td>0</td>\n",
       "      <td>2879.202052</td>\n",
       "      <td>43</td>\n",
       "      <td>высшее</td>\n",
       "      <td>0</td>\n",
       "      <td>женат / замужем</td>\n",
       "      <td>0</td>\n",
       "      <td>F</td>\n",
       "      <td>компаньон</td>\n",
       "      <td>0</td>\n",
       "      <td>240525</td>\n",
       "      <td>операции с жильем</td>\n",
       "      <td>B</td>\n",
       "      <td>операции с недвижимостью</td>\n",
       "    </tr>\n",
       "    <tr>\n",
       "      <th>7</th>\n",
       "      <td>0</td>\n",
       "      <td>152.779569</td>\n",
       "      <td>50</td>\n",
       "      <td>среднее</td>\n",
       "      <td>1</td>\n",
       "      <td>женат / замужем</td>\n",
       "      <td>0</td>\n",
       "      <td>M</td>\n",
       "      <td>сотрудник</td>\n",
       "      <td>0</td>\n",
       "      <td>135823</td>\n",
       "      <td>образование</td>\n",
       "      <td>C</td>\n",
       "      <td>получение образования</td>\n",
       "    </tr>\n",
       "    <tr>\n",
       "      <th>8</th>\n",
       "      <td>2</td>\n",
       "      <td>6929.865299</td>\n",
       "      <td>35</td>\n",
       "      <td>высшее</td>\n",
       "      <td>0</td>\n",
       "      <td>гражданский брак</td>\n",
       "      <td>1</td>\n",
       "      <td>F</td>\n",
       "      <td>сотрудник</td>\n",
       "      <td>0</td>\n",
       "      <td>95856</td>\n",
       "      <td>на проведение свадьбы</td>\n",
       "      <td>C</td>\n",
       "      <td>проведение свадьбы</td>\n",
       "    </tr>\n",
       "    <tr>\n",
       "      <th>9</th>\n",
       "      <td>0</td>\n",
       "      <td>2188.756445</td>\n",
       "      <td>41</td>\n",
       "      <td>среднее</td>\n",
       "      <td>1</td>\n",
       "      <td>женат / замужем</td>\n",
       "      <td>0</td>\n",
       "      <td>M</td>\n",
       "      <td>сотрудник</td>\n",
       "      <td>0</td>\n",
       "      <td>144425</td>\n",
       "      <td>покупка жилья для семьи</td>\n",
       "      <td>C</td>\n",
       "      <td>операции с недвижимостью</td>\n",
       "    </tr>\n",
       "    <tr>\n",
       "      <th>10</th>\n",
       "      <td>2</td>\n",
       "      <td>4171.483647</td>\n",
       "      <td>36</td>\n",
       "      <td>высшее</td>\n",
       "      <td>0</td>\n",
       "      <td>женат / замужем</td>\n",
       "      <td>0</td>\n",
       "      <td>M</td>\n",
       "      <td>компаньон</td>\n",
       "      <td>0</td>\n",
       "      <td>113943</td>\n",
       "      <td>покупка недвижимости</td>\n",
       "      <td>C</td>\n",
       "      <td>операции с недвижимостью</td>\n",
       "    </tr>\n",
       "    <tr>\n",
       "      <th>11</th>\n",
       "      <td>0</td>\n",
       "      <td>792.701887</td>\n",
       "      <td>40</td>\n",
       "      <td>среднее</td>\n",
       "      <td>1</td>\n",
       "      <td>женат / замужем</td>\n",
       "      <td>0</td>\n",
       "      <td>F</td>\n",
       "      <td>сотрудник</td>\n",
       "      <td>0</td>\n",
       "      <td>77069</td>\n",
       "      <td>покупка коммерческой недвижимости</td>\n",
       "      <td>C</td>\n",
       "      <td>операции с недвижимостью</td>\n",
       "    </tr>\n",
       "    <tr>\n",
       "      <th>12</th>\n",
       "      <td>0</td>\n",
       "      <td>365286.622650</td>\n",
       "      <td>65</td>\n",
       "      <td>среднее</td>\n",
       "      <td>1</td>\n",
       "      <td>гражданский брак</td>\n",
       "      <td>1</td>\n",
       "      <td>M</td>\n",
       "      <td>пенсионер</td>\n",
       "      <td>0</td>\n",
       "      <td>118514</td>\n",
       "      <td>сыграть свадьбу</td>\n",
       "      <td>C</td>\n",
       "      <td>проведение свадьбы</td>\n",
       "    </tr>\n",
       "    <tr>\n",
       "      <th>13</th>\n",
       "      <td>0</td>\n",
       "      <td>1846.641941</td>\n",
       "      <td>54</td>\n",
       "      <td>неоконченное высшее</td>\n",
       "      <td>2</td>\n",
       "      <td>женат / замужем</td>\n",
       "      <td>0</td>\n",
       "      <td>F</td>\n",
       "      <td>сотрудник</td>\n",
       "      <td>0</td>\n",
       "      <td>130458</td>\n",
       "      <td>приобретение автомобиля</td>\n",
       "      <td>C</td>\n",
       "      <td>операции с автомобилем</td>\n",
       "    </tr>\n",
       "    <tr>\n",
       "      <th>14</th>\n",
       "      <td>0</td>\n",
       "      <td>1844.956182</td>\n",
       "      <td>56</td>\n",
       "      <td>высшее</td>\n",
       "      <td>0</td>\n",
       "      <td>гражданский брак</td>\n",
       "      <td>1</td>\n",
       "      <td>F</td>\n",
       "      <td>компаньон</td>\n",
       "      <td>1</td>\n",
       "      <td>165127</td>\n",
       "      <td>покупка жилой недвижимости</td>\n",
       "      <td>C</td>\n",
       "      <td>операции с недвижимостью</td>\n",
       "    </tr>\n",
       "    <tr>\n",
       "      <th>15</th>\n",
       "      <td>1</td>\n",
       "      <td>972.364419</td>\n",
       "      <td>26</td>\n",
       "      <td>среднее</td>\n",
       "      <td>1</td>\n",
       "      <td>женат / замужем</td>\n",
       "      <td>0</td>\n",
       "      <td>F</td>\n",
       "      <td>сотрудник</td>\n",
       "      <td>0</td>\n",
       "      <td>116820</td>\n",
       "      <td>строительство собственной недвижимости</td>\n",
       "      <td>C</td>\n",
       "      <td>операции с недвижимостью</td>\n",
       "    </tr>\n",
       "    <tr>\n",
       "      <th>16</th>\n",
       "      <td>0</td>\n",
       "      <td>1719.934226</td>\n",
       "      <td>35</td>\n",
       "      <td>среднее</td>\n",
       "      <td>1</td>\n",
       "      <td>женат / замужем</td>\n",
       "      <td>0</td>\n",
       "      <td>F</td>\n",
       "      <td>сотрудник</td>\n",
       "      <td>0</td>\n",
       "      <td>289202</td>\n",
       "      <td>недвижимость</td>\n",
       "      <td>B</td>\n",
       "      <td>операции с недвижимостью</td>\n",
       "    </tr>\n",
       "    <tr>\n",
       "      <th>17</th>\n",
       "      <td>0</td>\n",
       "      <td>2369.999720</td>\n",
       "      <td>33</td>\n",
       "      <td>высшее</td>\n",
       "      <td>0</td>\n",
       "      <td>гражданский брак</td>\n",
       "      <td>1</td>\n",
       "      <td>M</td>\n",
       "      <td>сотрудник</td>\n",
       "      <td>0</td>\n",
       "      <td>90410</td>\n",
       "      <td>строительство недвижимости</td>\n",
       "      <td>C</td>\n",
       "      <td>операции с недвижимостью</td>\n",
       "    </tr>\n",
       "    <tr>\n",
       "      <th>18</th>\n",
       "      <td>0</td>\n",
       "      <td>400281.136913</td>\n",
       "      <td>53</td>\n",
       "      <td>среднее</td>\n",
       "      <td>1</td>\n",
       "      <td>вдовец / вдова</td>\n",
       "      <td>2</td>\n",
       "      <td>F</td>\n",
       "      <td>пенсионер</td>\n",
       "      <td>0</td>\n",
       "      <td>56823</td>\n",
       "      <td>на покупку подержанного автомобиля</td>\n",
       "      <td>C</td>\n",
       "      <td>операции с автомобилем</td>\n",
       "    </tr>\n",
       "    <tr>\n",
       "      <th>19</th>\n",
       "      <td>0</td>\n",
       "      <td>10038.818549</td>\n",
       "      <td>48</td>\n",
       "      <td>среднее</td>\n",
       "      <td>1</td>\n",
       "      <td>в разводе</td>\n",
       "      <td>3</td>\n",
       "      <td>F</td>\n",
       "      <td>сотрудник</td>\n",
       "      <td>0</td>\n",
       "      <td>242831</td>\n",
       "      <td>на покупку своего автомобиля</td>\n",
       "      <td>B</td>\n",
       "      <td>операции с автомобилем</td>\n",
       "    </tr>\n",
       "    <tr>\n",
       "      <th>20</th>\n",
       "      <td>1</td>\n",
       "      <td>1311.604166</td>\n",
       "      <td>36</td>\n",
       "      <td>среднее</td>\n",
       "      <td>1</td>\n",
       "      <td>женат / замужем</td>\n",
       "      <td>0</td>\n",
       "      <td>M</td>\n",
       "      <td>сотрудник</td>\n",
       "      <td>0</td>\n",
       "      <td>209552</td>\n",
       "      <td>недвижимость</td>\n",
       "      <td>B</td>\n",
       "      <td>операции с недвижимостью</td>\n",
       "    </tr>\n",
       "    <tr>\n",
       "      <th>21</th>\n",
       "      <td>1</td>\n",
       "      <td>253.685166</td>\n",
       "      <td>33</td>\n",
       "      <td>среднее</td>\n",
       "      <td>1</td>\n",
       "      <td>гражданский брак</td>\n",
       "      <td>1</td>\n",
       "      <td>F</td>\n",
       "      <td>сотрудник</td>\n",
       "      <td>0</td>\n",
       "      <td>131812</td>\n",
       "      <td>приобретение автомобиля</td>\n",
       "      <td>C</td>\n",
       "      <td>операции с автомобилем</td>\n",
       "    </tr>\n",
       "    <tr>\n",
       "      <th>22</th>\n",
       "      <td>1</td>\n",
       "      <td>1766.644138</td>\n",
       "      <td>24</td>\n",
       "      <td>среднее</td>\n",
       "      <td>1</td>\n",
       "      <td>гражданский брак</td>\n",
       "      <td>1</td>\n",
       "      <td>F</td>\n",
       "      <td>сотрудник</td>\n",
       "      <td>0</td>\n",
       "      <td>149681</td>\n",
       "      <td>на покупку подержанного автомобиля</td>\n",
       "      <td>C</td>\n",
       "      <td>операции с автомобилем</td>\n",
       "    </tr>\n",
       "    <tr>\n",
       "      <th>23</th>\n",
       "      <td>0</td>\n",
       "      <td>272.981385</td>\n",
       "      <td>21</td>\n",
       "      <td>высшее</td>\n",
       "      <td>0</td>\n",
       "      <td>гражданский брак</td>\n",
       "      <td>1</td>\n",
       "      <td>M</td>\n",
       "      <td>сотрудник</td>\n",
       "      <td>0</td>\n",
       "      <td>128265</td>\n",
       "      <td>сыграть свадьбу</td>\n",
       "      <td>C</td>\n",
       "      <td>проведение свадьбы</td>\n",
       "    </tr>\n",
       "    <tr>\n",
       "      <th>24</th>\n",
       "      <td>1</td>\n",
       "      <td>338551.952911</td>\n",
       "      <td>57</td>\n",
       "      <td>среднее</td>\n",
       "      <td>1</td>\n",
       "      <td>Не женат / не замужем</td>\n",
       "      <td>4</td>\n",
       "      <td>F</td>\n",
       "      <td>пенсионер</td>\n",
       "      <td>0</td>\n",
       "      <td>290547</td>\n",
       "      <td>операции с коммерческой недвижимостью</td>\n",
       "      <td>B</td>\n",
       "      <td>операции с недвижимостью</td>\n",
       "    </tr>\n",
       "    <tr>\n",
       "      <th>25</th>\n",
       "      <td>0</td>\n",
       "      <td>363548.489348</td>\n",
       "      <td>67</td>\n",
       "      <td>среднее</td>\n",
       "      <td>1</td>\n",
       "      <td>женат / замужем</td>\n",
       "      <td>0</td>\n",
       "      <td>M</td>\n",
       "      <td>пенсионер</td>\n",
       "      <td>0</td>\n",
       "      <td>55112</td>\n",
       "      <td>покупка недвижимости</td>\n",
       "      <td>C</td>\n",
       "      <td>операции с недвижимостью</td>\n",
       "    </tr>\n",
       "    <tr>\n",
       "      <th>26</th>\n",
       "      <td>0</td>\n",
       "      <td>2689.137274</td>\n",
       "      <td>41</td>\n",
       "      <td>среднее</td>\n",
       "      <td>1</td>\n",
       "      <td>женат / замужем</td>\n",
       "      <td>0</td>\n",
       "      <td>M</td>\n",
       "      <td>госслужащий</td>\n",
       "      <td>0</td>\n",
       "      <td>150447</td>\n",
       "      <td>образование</td>\n",
       "      <td>C</td>\n",
       "      <td>получение образования</td>\n",
       "    </tr>\n",
       "    <tr>\n",
       "      <th>27</th>\n",
       "      <td>0</td>\n",
       "      <td>529.191635</td>\n",
       "      <td>28</td>\n",
       "      <td>высшее</td>\n",
       "      <td>0</td>\n",
       "      <td>женат / замужем</td>\n",
       "      <td>0</td>\n",
       "      <td>M</td>\n",
       "      <td>сотрудник</td>\n",
       "      <td>0</td>\n",
       "      <td>308848</td>\n",
       "      <td>строительство собственной недвижимости</td>\n",
       "      <td>B</td>\n",
       "      <td>операции с недвижимостью</td>\n",
       "    </tr>\n",
       "    <tr>\n",
       "      <th>28</th>\n",
       "      <td>1</td>\n",
       "      <td>717.274324</td>\n",
       "      <td>26</td>\n",
       "      <td>высшее</td>\n",
       "      <td>0</td>\n",
       "      <td>женат / замужем</td>\n",
       "      <td>0</td>\n",
       "      <td>F</td>\n",
       "      <td>сотрудник</td>\n",
       "      <td>0</td>\n",
       "      <td>187863</td>\n",
       "      <td>строительство собственной недвижимости</td>\n",
       "      <td>C</td>\n",
       "      <td>операции с недвижимостью</td>\n",
       "    </tr>\n",
       "    <tr>\n",
       "      <th>29</th>\n",
       "      <td>0</td>\n",
       "      <td>365286.622650</td>\n",
       "      <td>63</td>\n",
       "      <td>среднее</td>\n",
       "      <td>1</td>\n",
       "      <td>Не женат / не замужем</td>\n",
       "      <td>4</td>\n",
       "      <td>F</td>\n",
       "      <td>пенсионер</td>\n",
       "      <td>0</td>\n",
       "      <td>118514</td>\n",
       "      <td>строительство жилой недвижимости</td>\n",
       "      <td>C</td>\n",
       "      <td>операции с недвижимостью</td>\n",
       "    </tr>\n",
       "  </tbody>\n",
       "</table>\n",
       "</div>"
      ],
      "text/plain": [
       "    children  days_employed  dob_years            education  education_id  \\\n",
       "0          1    8437.673028         42               высшее             0   \n",
       "1          1    4024.803754         36              среднее             1   \n",
       "2          0    5623.422610         33              среднее             1   \n",
       "3          3    4124.747207         32              среднее             1   \n",
       "4          0  340266.072047         53              среднее             1   \n",
       "5          0     926.185831         27               высшее             0   \n",
       "6          0    2879.202052         43               высшее             0   \n",
       "7          0     152.779569         50              среднее             1   \n",
       "8          2    6929.865299         35               высшее             0   \n",
       "9          0    2188.756445         41              среднее             1   \n",
       "10         2    4171.483647         36               высшее             0   \n",
       "11         0     792.701887         40              среднее             1   \n",
       "12         0  365286.622650         65              среднее             1   \n",
       "13         0    1846.641941         54  неоконченное высшее             2   \n",
       "14         0    1844.956182         56               высшее             0   \n",
       "15         1     972.364419         26              среднее             1   \n",
       "16         0    1719.934226         35              среднее             1   \n",
       "17         0    2369.999720         33               высшее             0   \n",
       "18         0  400281.136913         53              среднее             1   \n",
       "19         0   10038.818549         48              среднее             1   \n",
       "20         1    1311.604166         36              среднее             1   \n",
       "21         1     253.685166         33              среднее             1   \n",
       "22         1    1766.644138         24              среднее             1   \n",
       "23         0     272.981385         21               высшее             0   \n",
       "24         1  338551.952911         57              среднее             1   \n",
       "25         0  363548.489348         67              среднее             1   \n",
       "26         0    2689.137274         41              среднее             1   \n",
       "27         0     529.191635         28               высшее             0   \n",
       "28         1     717.274324         26               высшее             0   \n",
       "29         0  365286.622650         63              среднее             1   \n",
       "\n",
       "            family_status  family_status_id gender  income_type  debt  \\\n",
       "0         женат / замужем                 0      F    сотрудник     0   \n",
       "1         женат / замужем                 0      F    сотрудник     0   \n",
       "2         женат / замужем                 0      M    сотрудник     0   \n",
       "3         женат / замужем                 0      M    сотрудник     0   \n",
       "4        гражданский брак                 1      F    пенсионер     0   \n",
       "5        гражданский брак                 1      M    компаньон     0   \n",
       "6         женат / замужем                 0      F    компаньон     0   \n",
       "7         женат / замужем                 0      M    сотрудник     0   \n",
       "8        гражданский брак                 1      F    сотрудник     0   \n",
       "9         женат / замужем                 0      M    сотрудник     0   \n",
       "10        женат / замужем                 0      M    компаньон     0   \n",
       "11        женат / замужем                 0      F    сотрудник     0   \n",
       "12       гражданский брак                 1      M    пенсионер     0   \n",
       "13        женат / замужем                 0      F    сотрудник     0   \n",
       "14       гражданский брак                 1      F    компаньон     1   \n",
       "15        женат / замужем                 0      F    сотрудник     0   \n",
       "16        женат / замужем                 0      F    сотрудник     0   \n",
       "17       гражданский брак                 1      M    сотрудник     0   \n",
       "18         вдовец / вдова                 2      F    пенсионер     0   \n",
       "19              в разводе                 3      F    сотрудник     0   \n",
       "20        женат / замужем                 0      M    сотрудник     0   \n",
       "21       гражданский брак                 1      F    сотрудник     0   \n",
       "22       гражданский брак                 1      F    сотрудник     0   \n",
       "23       гражданский брак                 1      M    сотрудник     0   \n",
       "24  Не женат / не замужем                 4      F    пенсионер     0   \n",
       "25        женат / замужем                 0      M    пенсионер     0   \n",
       "26        женат / замужем                 0      M  госслужащий     0   \n",
       "27        женат / замужем                 0      M    сотрудник     0   \n",
       "28        женат / замужем                 0      F    сотрудник     0   \n",
       "29  Не женат / не замужем                 4      F    пенсионер     0   \n",
       "\n",
       "    total_income                                 purpose  \\\n",
       "0         253875                           покупка жилья   \n",
       "1         112080                 приобретение автомобиля   \n",
       "2         145885                           покупка жилья   \n",
       "3         267628              дополнительное образование   \n",
       "4         158616                         сыграть свадьбу   \n",
       "5         255763                           покупка жилья   \n",
       "6         240525                       операции с жильем   \n",
       "7         135823                             образование   \n",
       "8          95856                   на проведение свадьбы   \n",
       "9         144425                 покупка жилья для семьи   \n",
       "10        113943                    покупка недвижимости   \n",
       "11         77069       покупка коммерческой недвижимости   \n",
       "12        118514                         сыграть свадьбу   \n",
       "13        130458                 приобретение автомобиля   \n",
       "14        165127              покупка жилой недвижимости   \n",
       "15        116820  строительство собственной недвижимости   \n",
       "16        289202                            недвижимость   \n",
       "17         90410              строительство недвижимости   \n",
       "18         56823      на покупку подержанного автомобиля   \n",
       "19        242831            на покупку своего автомобиля   \n",
       "20        209552                            недвижимость   \n",
       "21        131812                 приобретение автомобиля   \n",
       "22        149681      на покупку подержанного автомобиля   \n",
       "23        128265                         сыграть свадьбу   \n",
       "24        290547   операции с коммерческой недвижимостью   \n",
       "25         55112                    покупка недвижимости   \n",
       "26        150447                             образование   \n",
       "27        308848  строительство собственной недвижимости   \n",
       "28        187863  строительство собственной недвижимости   \n",
       "29        118514        строительство жилой недвижимости   \n",
       "\n",
       "   total_income_category          purpose_category  \n",
       "0                      B  операции с недвижимостью  \n",
       "1                      C    операции с автомобилем  \n",
       "2                      C  операции с недвижимостью  \n",
       "3                      B     получение образования  \n",
       "4                      C        проведение свадьбы  \n",
       "5                      B  операции с недвижимостью  \n",
       "6                      B  операции с недвижимостью  \n",
       "7                      C     получение образования  \n",
       "8                      C        проведение свадьбы  \n",
       "9                      C  операции с недвижимостью  \n",
       "10                     C  операции с недвижимостью  \n",
       "11                     C  операции с недвижимостью  \n",
       "12                     C        проведение свадьбы  \n",
       "13                     C    операции с автомобилем  \n",
       "14                     C  операции с недвижимостью  \n",
       "15                     C  операции с недвижимостью  \n",
       "16                     B  операции с недвижимостью  \n",
       "17                     C  операции с недвижимостью  \n",
       "18                     C    операции с автомобилем  \n",
       "19                     B    операции с автомобилем  \n",
       "20                     B  операции с недвижимостью  \n",
       "21                     C    операции с автомобилем  \n",
       "22                     C    операции с автомобилем  \n",
       "23                     C        проведение свадьбы  \n",
       "24                     B  операции с недвижимостью  \n",
       "25                     C  операции с недвижимостью  \n",
       "26                     C     получение образования  \n",
       "27                     B  операции с недвижимостью  \n",
       "28                     C  операции с недвижимостью  \n",
       "29                     C  операции с недвижимостью  "
      ]
     },
     "execution_count": 21,
     "metadata": {},
     "output_type": "execute_result"
    }
   ],
   "source": [
    "data['purpose_category'] = data['purpose'].apply(categorize_purpose)\n",
    "data.head(30)"
   ]
  },
  {
   "cell_type": "markdown",
   "id": "352a33cc",
   "metadata": {
    "deletable": false,
    "editable": false,
    "id": "09b242bf"
   },
   "source": [
    "### Шаг 3. Исследуйте данные и ответьте на вопросы"
   ]
  },
  {
   "cell_type": "markdown",
   "id": "7f8fe2f8",
   "metadata": {
    "deletable": false,
    "editable": false,
    "id": "c5d66278"
   },
   "source": [
    "#### 3.1 Есть ли зависимость между количеством детей и возвратом кредита в срок?"
   ]
  },
  {
   "cell_type": "code",
   "execution_count": 22,
   "id": "b15a4d76",
   "metadata": {
    "deletable": false,
    "id": "2cacfc4a"
   },
   "outputs": [],
   "source": [
    "debt_children = data.pivot_table(index=['children'], values='debt', aggfunc=['count', 'sum', 'mean'])# составим таблицу с интересующими нас данными"
   ]
  },
  {
   "cell_type": "code",
   "execution_count": 23,
   "id": "7d941409",
   "metadata": {},
   "outputs": [
    {
     "data": {
      "text/html": [
       "<div>\n",
       "<style scoped>\n",
       "    .dataframe tbody tr th:only-of-type {\n",
       "        vertical-align: middle;\n",
       "    }\n",
       "\n",
       "    .dataframe tbody tr th {\n",
       "        vertical-align: top;\n",
       "    }\n",
       "\n",
       "    .dataframe thead tr th {\n",
       "        text-align: left;\n",
       "    }\n",
       "\n",
       "    .dataframe thead tr:last-of-type th {\n",
       "        text-align: right;\n",
       "    }\n",
       "</style>\n",
       "<table border=\"1\" class=\"dataframe\">\n",
       "  <thead>\n",
       "    <tr>\n",
       "      <th></th>\n",
       "      <th>количество клиентов</th>\n",
       "      <th>имеющие задолженность</th>\n",
       "      <th>процентное соотношение</th>\n",
       "    </tr>\n",
       "    <tr>\n",
       "      <th></th>\n",
       "      <th></th>\n",
       "      <th></th>\n",
       "      <th></th>\n",
       "    </tr>\n",
       "    <tr>\n",
       "      <th>количество детей в семье</th>\n",
       "      <th></th>\n",
       "      <th></th>\n",
       "      <th></th>\n",
       "    </tr>\n",
       "  </thead>\n",
       "  <tbody>\n",
       "    <tr>\n",
       "      <th>0</th>\n",
       "      <td>14091</td>\n",
       "      <td>1063</td>\n",
       "      <td>7.543822</td>\n",
       "    </tr>\n",
       "    <tr>\n",
       "      <th>1</th>\n",
       "      <td>4808</td>\n",
       "      <td>444</td>\n",
       "      <td>9.234609</td>\n",
       "    </tr>\n",
       "    <tr>\n",
       "      <th>2</th>\n",
       "      <td>2052</td>\n",
       "      <td>194</td>\n",
       "      <td>9.454191</td>\n",
       "    </tr>\n",
       "    <tr>\n",
       "      <th>3</th>\n",
       "      <td>330</td>\n",
       "      <td>27</td>\n",
       "      <td>8.181818</td>\n",
       "    </tr>\n",
       "    <tr>\n",
       "      <th>4</th>\n",
       "      <td>41</td>\n",
       "      <td>4</td>\n",
       "      <td>9.756098</td>\n",
       "    </tr>\n",
       "    <tr>\n",
       "      <th>5</th>\n",
       "      <td>9</td>\n",
       "      <td>0</td>\n",
       "      <td>0.000000</td>\n",
       "    </tr>\n",
       "  </tbody>\n",
       "</table>\n",
       "</div>"
      ],
      "text/plain": [
       "                         количество клиентов имеющие задолженность  \\\n",
       "                                                                     \n",
       "количество детей в семье                                             \n",
       "0                                      14091                  1063   \n",
       "1                                       4808                   444   \n",
       "2                                       2052                   194   \n",
       "3                                        330                    27   \n",
       "4                                         41                     4   \n",
       "5                                          9                     0   \n",
       "\n",
       "                         процентное соотношение  \n",
       "                                                 \n",
       "количество детей в семье                         \n",
       "0                                      7.543822  \n",
       "1                                      9.234609  \n",
       "2                                      9.454191  \n",
       "3                                      8.181818  \n",
       "4                                      9.756098  \n",
       "5                                      0.000000  "
      ]
     },
     "execution_count": 23,
     "metadata": {},
     "output_type": "execute_result"
    }
   ],
   "source": [
    "debt_children['mean'] = debt_children['mean'] * 100\n",
    "debt_children.index.names = ['количество детей в семье']\n",
    "debt_children = debt_children.rename(columns={'debt': '', 'count': 'количество клиентов', 'sum': 'имеющие задолженность', \n",
    "                              'mean': 'процентное соотношение'})\n",
    "debt_children# приведем таблицу в презентабельный вид"
   ]
  },
  {
   "cell_type": "markdown",
   "id": "ab2b7ea7",
   "metadata": {
    "deletable": false,
    "id": "3a6b99ec"
   },
   "source": [
    "**Вывод:** Семьи без детей имеют лучшую статистику по отсутствию задолжности. Семьи в которых проживает 1 или 2 ребенка имеют схожие показатели. Результат по группам с 3, 4, и 5 детьми рекомендую не учитывать, т.к. собрано недосаточное количество данных."
   ]
  },
  {
   "cell_type": "markdown",
   "id": "069ebb41",
   "metadata": {
    "deletable": false,
    "editable": false,
    "id": "97be82ca"
   },
   "source": [
    "#### 3.2 Есть ли зависимость между семейным положением и возвратом кредита в срок?"
   ]
  },
  {
   "cell_type": "code",
   "execution_count": 24,
   "id": "1892334a",
   "metadata": {
    "deletable": false,
    "id": "dc3f7ee8"
   },
   "outputs": [],
   "source": [
    "debt_family = data.pivot_table(index=['family_status'], values='debt', aggfunc=['count', 'sum', 'mean'])# составим таблицу с интересующими нас данными"
   ]
  },
  {
   "cell_type": "code",
   "execution_count": 25,
   "id": "abdaaa4d",
   "metadata": {},
   "outputs": [
    {
     "data": {
      "text/html": [
       "<div>\n",
       "<style scoped>\n",
       "    .dataframe tbody tr th:only-of-type {\n",
       "        vertical-align: middle;\n",
       "    }\n",
       "\n",
       "    .dataframe tbody tr th {\n",
       "        vertical-align: top;\n",
       "    }\n",
       "\n",
       "    .dataframe thead tr th {\n",
       "        text-align: left;\n",
       "    }\n",
       "\n",
       "    .dataframe thead tr:last-of-type th {\n",
       "        text-align: right;\n",
       "    }\n",
       "</style>\n",
       "<table border=\"1\" class=\"dataframe\">\n",
       "  <thead>\n",
       "    <tr>\n",
       "      <th></th>\n",
       "      <th>количество клиентов</th>\n",
       "      <th>имеющие задолженность</th>\n",
       "      <th>процентное соотношение</th>\n",
       "    </tr>\n",
       "    <tr>\n",
       "      <th></th>\n",
       "      <th></th>\n",
       "      <th></th>\n",
       "      <th></th>\n",
       "    </tr>\n",
       "    <tr>\n",
       "      <th>семейное положение</th>\n",
       "      <th></th>\n",
       "      <th></th>\n",
       "      <th></th>\n",
       "    </tr>\n",
       "  </thead>\n",
       "  <tbody>\n",
       "    <tr>\n",
       "      <th>Не женат / не замужем</th>\n",
       "      <td>2796</td>\n",
       "      <td>273</td>\n",
       "      <td>9.763948</td>\n",
       "    </tr>\n",
       "    <tr>\n",
       "      <th>в разводе</th>\n",
       "      <td>1189</td>\n",
       "      <td>84</td>\n",
       "      <td>7.064760</td>\n",
       "    </tr>\n",
       "    <tr>\n",
       "      <th>вдовец / вдова</th>\n",
       "      <td>951</td>\n",
       "      <td>63</td>\n",
       "      <td>6.624606</td>\n",
       "    </tr>\n",
       "    <tr>\n",
       "      <th>гражданский брак</th>\n",
       "      <td>4134</td>\n",
       "      <td>385</td>\n",
       "      <td>9.313014</td>\n",
       "    </tr>\n",
       "    <tr>\n",
       "      <th>женат / замужем</th>\n",
       "      <td>12261</td>\n",
       "      <td>927</td>\n",
       "      <td>7.560558</td>\n",
       "    </tr>\n",
       "  </tbody>\n",
       "</table>\n",
       "</div>"
      ],
      "text/plain": [
       "                      количество клиентов имеющие задолженность  \\\n",
       "                                                                  \n",
       "семейное положение                                                \n",
       "Не женат / не замужем                2796                   273   \n",
       "в разводе                            1189                    84   \n",
       "вдовец / вдова                        951                    63   \n",
       "гражданский брак                     4134                   385   \n",
       "женат / замужем                     12261                   927   \n",
       "\n",
       "                      процентное соотношение  \n",
       "                                              \n",
       "семейное положение                            \n",
       "Не женат / не замужем               9.763948  \n",
       "в разводе                           7.064760  \n",
       "вдовец / вдова                      6.624606  \n",
       "гражданский брак                    9.313014  \n",
       "женат / замужем                     7.560558  "
      ]
     },
     "execution_count": 25,
     "metadata": {},
     "output_type": "execute_result"
    }
   ],
   "source": [
    "debt_family['mean'] = debt_family['mean'] * 100\n",
    "debt_family.index.names = ['семейное положение']\n",
    "debt_family = debt_family.rename(columns={'debt': '', 'count': 'количество клиентов', 'sum': 'имеющие задолженность', \n",
    "                              'mean': 'процентное соотношение'})\n",
    "debt_family# приведем таблицу в презентабельный вид"
   ]
  },
  {
   "cell_type": "markdown",
   "id": "e790cf02",
   "metadata": {
    "deletable": false,
    "id": "1cef7837"
   },
   "source": [
    "**Вывод:** Клиенты официально оформлявшие свои отношения ('женат / замужем', 'вдовец / вдова\t', 'в разводе') более ответственно относятся к взятым на себя кредитным обязательствам, чем клиенты которые предпочитают не оформлять свои отношения официально ('Не женат / не замужем', 'гражданский брак\t')"
   ]
  },
  {
   "cell_type": "markdown",
   "id": "b01a8814",
   "metadata": {
    "deletable": false,
    "editable": false,
    "id": "1e8b2fca"
   },
   "source": [
    "#### 3.3 Есть ли зависимость между уровнем дохода и возвратом кредита в срок?"
   ]
  },
  {
   "cell_type": "code",
   "execution_count": 26,
   "id": "82874667",
   "metadata": {
    "deletable": false,
    "id": "cd7e3720"
   },
   "outputs": [],
   "source": [
    "debt_income = data.pivot_table(index=['total_income_category'], values='debt', aggfunc=['count', 'sum', 'mean'])# составим таблицу с интересующими нас данными"
   ]
  },
  {
   "cell_type": "code",
   "execution_count": 27,
   "id": "14de32e1",
   "metadata": {},
   "outputs": [
    {
     "data": {
      "text/html": [
       "<div>\n",
       "<style scoped>\n",
       "    .dataframe tbody tr th:only-of-type {\n",
       "        vertical-align: middle;\n",
       "    }\n",
       "\n",
       "    .dataframe tbody tr th {\n",
       "        vertical-align: top;\n",
       "    }\n",
       "\n",
       "    .dataframe thead tr th {\n",
       "        text-align: left;\n",
       "    }\n",
       "\n",
       "    .dataframe thead tr:last-of-type th {\n",
       "        text-align: right;\n",
       "    }\n",
       "</style>\n",
       "<table border=\"1\" class=\"dataframe\">\n",
       "  <thead>\n",
       "    <tr>\n",
       "      <th></th>\n",
       "      <th>количество клиентов</th>\n",
       "      <th>имеющие задолженность</th>\n",
       "      <th>процентное соотношение</th>\n",
       "    </tr>\n",
       "    <tr>\n",
       "      <th></th>\n",
       "      <th></th>\n",
       "      <th></th>\n",
       "      <th></th>\n",
       "    </tr>\n",
       "    <tr>\n",
       "      <th>уровень дохода</th>\n",
       "      <th></th>\n",
       "      <th></th>\n",
       "      <th></th>\n",
       "    </tr>\n",
       "  </thead>\n",
       "  <tbody>\n",
       "    <tr>\n",
       "      <th>A</th>\n",
       "      <td>25</td>\n",
       "      <td>2</td>\n",
       "      <td>8.000000</td>\n",
       "    </tr>\n",
       "    <tr>\n",
       "      <th>B</th>\n",
       "      <td>5014</td>\n",
       "      <td>354</td>\n",
       "      <td>7.060231</td>\n",
       "    </tr>\n",
       "    <tr>\n",
       "      <th>C</th>\n",
       "      <td>15921</td>\n",
       "      <td>1353</td>\n",
       "      <td>8.498210</td>\n",
       "    </tr>\n",
       "    <tr>\n",
       "      <th>D</th>\n",
       "      <td>349</td>\n",
       "      <td>21</td>\n",
       "      <td>6.017192</td>\n",
       "    </tr>\n",
       "    <tr>\n",
       "      <th>E</th>\n",
       "      <td>22</td>\n",
       "      <td>2</td>\n",
       "      <td>9.090909</td>\n",
       "    </tr>\n",
       "  </tbody>\n",
       "</table>\n",
       "</div>"
      ],
      "text/plain": [
       "               количество клиентов имеющие задолженность  \\\n",
       "                                                           \n",
       "уровень дохода                                             \n",
       "A                               25                     2   \n",
       "B                             5014                   354   \n",
       "C                            15921                  1353   \n",
       "D                              349                    21   \n",
       "E                               22                     2   \n",
       "\n",
       "               процентное соотношение  \n",
       "                                       \n",
       "уровень дохода                         \n",
       "A                            8.000000  \n",
       "B                            7.060231  \n",
       "C                            8.498210  \n",
       "D                            6.017192  \n",
       "E                            9.090909  "
      ]
     },
     "execution_count": 27,
     "metadata": {},
     "output_type": "execute_result"
    }
   ],
   "source": [
    "debt_income['mean'] = debt_income['mean'] * 100\n",
    "debt_income.index.names = ['уровень дохода']\n",
    "debt_income = debt_income.rename(columns={'debt': '', 'count': 'количество клиентов', 'sum': 'имеющие задолженность', \n",
    "                              'mean': 'процентное соотношение'})\n",
    "debt_income# приведем таблицу в презентабельный вид"
   ]
  },
  {
   "cell_type": "markdown",
   "id": "15356602",
   "metadata": {
    "deletable": false,
    "id": "e8593def"
   },
   "source": [
    "**Вывод:** Клиенты с доходом 200001–1000000(B) имеют почти на 1,5% меньше задолжностей, чем клиенты с доходом 50001–200000(C).\n",
    "По категория A, D выводы сделать сложно, тк собрано пока не достаточно данных и несколько новых случаев задолжности могут внести сильные корективы в статистику.\n",
    "Учитывая, что клиенты с доходом 0–30000(E) изначально прошли более жесткий контроль и деньги получили всего 22 клиента, а процент задолжности в этой категории самый высокий - делает эту группу самой рискованной.Хотя для полноценных выводов данных недостаточно."
   ]
  },
  {
   "cell_type": "markdown",
   "id": "96d9399c",
   "metadata": {
    "deletable": false,
    "editable": false,
    "id": "99ecbd1f"
   },
   "source": [
    "#### 3.4 Как разные цели кредита влияют на его возврат в срок?"
   ]
  },
  {
   "cell_type": "code",
   "execution_count": 28,
   "id": "3e5c4771",
   "metadata": {
    "deletable": false,
    "id": "2b687290"
   },
   "outputs": [],
   "source": [
    "debt_purpose = data.pivot_table(index=['purpose_category'], values='debt', aggfunc=['count', 'sum', 'mean'])# составим таблицу с интересующими нас данными"
   ]
  },
  {
   "cell_type": "code",
   "execution_count": 29,
   "id": "658d0794",
   "metadata": {},
   "outputs": [
    {
     "data": {
      "text/html": [
       "<div>\n",
       "<style scoped>\n",
       "    .dataframe tbody tr th:only-of-type {\n",
       "        vertical-align: middle;\n",
       "    }\n",
       "\n",
       "    .dataframe tbody tr th {\n",
       "        vertical-align: top;\n",
       "    }\n",
       "\n",
       "    .dataframe thead tr th {\n",
       "        text-align: left;\n",
       "    }\n",
       "\n",
       "    .dataframe thead tr:last-of-type th {\n",
       "        text-align: right;\n",
       "    }\n",
       "</style>\n",
       "<table border=\"1\" class=\"dataframe\">\n",
       "  <thead>\n",
       "    <tr>\n",
       "      <th></th>\n",
       "      <th>количество клиентов</th>\n",
       "      <th>имеющие задолженность</th>\n",
       "      <th>процентное соотношение</th>\n",
       "    </tr>\n",
       "    <tr>\n",
       "      <th></th>\n",
       "      <th></th>\n",
       "      <th></th>\n",
       "      <th></th>\n",
       "    </tr>\n",
       "    <tr>\n",
       "      <th>цель кредита</th>\n",
       "      <th></th>\n",
       "      <th></th>\n",
       "      <th></th>\n",
       "    </tr>\n",
       "  </thead>\n",
       "  <tbody>\n",
       "    <tr>\n",
       "      <th>операции с автомобилем</th>\n",
       "      <td>4279</td>\n",
       "      <td>400</td>\n",
       "      <td>9.347978</td>\n",
       "    </tr>\n",
       "    <tr>\n",
       "      <th>операции с недвижимостью</th>\n",
       "      <td>10751</td>\n",
       "      <td>780</td>\n",
       "      <td>7.255139</td>\n",
       "    </tr>\n",
       "    <tr>\n",
       "      <th>получение образования</th>\n",
       "      <td>3988</td>\n",
       "      <td>369</td>\n",
       "      <td>9.252758</td>\n",
       "    </tr>\n",
       "    <tr>\n",
       "      <th>проведение свадьбы</th>\n",
       "      <td>2313</td>\n",
       "      <td>183</td>\n",
       "      <td>7.911803</td>\n",
       "    </tr>\n",
       "  </tbody>\n",
       "</table>\n",
       "</div>"
      ],
      "text/plain": [
       "                         количество клиентов имеющие задолженность  \\\n",
       "                                                                     \n",
       "цель кредита                                                         \n",
       "операции с автомобилем                  4279                   400   \n",
       "операции с недвижимостью               10751                   780   \n",
       "получение образования                   3988                   369   \n",
       "проведение свадьбы                      2313                   183   \n",
       "\n",
       "                         процентное соотношение  \n",
       "                                                 \n",
       "цель кредита                                     \n",
       "операции с автомобилем                 9.347978  \n",
       "операции с недвижимостью               7.255139  \n",
       "получение образования                  9.252758  \n",
       "проведение свадьбы                     7.911803  "
      ]
     },
     "execution_count": 29,
     "metadata": {},
     "output_type": "execute_result"
    }
   ],
   "source": [
    "debt_purpose['mean'] = debt_purpose['mean'] * 100\n",
    "debt_purpose.index.names = ['цель кредита']\n",
    "debt_purpose = debt_purpose.rename(columns={'debt': '', 'count': 'количество клиентов', 'sum': 'имеющие задолженность', \n",
    "                              'mean': 'процентное соотношение'})\n",
    "debt_purpose# приведем таблицу в презентабельный вид"
   ]
  },
  {
   "cell_type": "markdown",
   "id": "4ed28c60",
   "metadata": {
    "deletable": false,
    "id": "b4bb2ce6"
   },
   "source": [
    "**Вывод:** Меньше всего задолжностей имеют клиенты, бравшие кредит для операций с недвижимостью. Немногого выше риски у клиентов решивших сыграть свадьбу. А вот операции с автомобилями и получение образования имеют схожие проценты и превышают первые две категориии на 1,3 - 2,1 %"
   ]
  },
  {
   "cell_type": "markdown",
   "id": "cdb45f3a",
   "metadata": {
    "deletable": false,
    "editable": false,
    "id": "09c3ac4c"
   },
   "source": [
    "#### 3.5 Приведите возможные причины появления пропусков в исходных данных."
   ]
  },
  {
   "cell_type": "markdown",
   "id": "8c526add",
   "metadata": {
    "deletable": false,
    "id": "9da2ceda"
   },
   "source": [
    "*Ответ:*  Пропуски в данных прсутствуют в двух столбцах: 'total_income' и 'days_employed'. И при этом они полностью совпадают, тоесть если у клиента отсутствует информация в 'total_income', то и в 'days_employed' тоже пропуск. И наоборот: если в 'total_income' есть значение, то и в'days_employed' значение присутствует. Возможно часть информации для этой базы собиралась из источника где в опросе не было необходимости вводить параметр рабочего стажа и дохода."
   ]
  },
  {
   "cell_type": "markdown",
   "id": "ed0007cc",
   "metadata": {
    "deletable": false,
    "editable": false,
    "id": "7b0487d6"
   },
   "source": [
    "#### 3.6 Объясните, почему заполнить пропуски медианным значением — лучшее решение для количественных переменных."
   ]
  },
  {
   "cell_type": "markdown",
   "id": "f4d48e3a",
   "metadata": {
    "deletable": false,
    "id": "7ecf2b8e"
   },
   "source": [
    "*Ответ:*  В данном случае медианное значение будет самым лучшим вариантом, тк разброс уровня зароботка в одной категории достаточно большой и медианное значение будет давть более объективную информацию, чем например среднее арифметическое число."
   ]
  },
  {
   "cell_type": "markdown",
   "id": "06c54a3f",
   "metadata": {
    "deletable": false,
    "editable": false,
    "id": "6db5255a"
   },
   "source": [
    "### Шаг 4: общий вывод."
   ]
  },
  {
   "cell_type": "markdown",
   "id": "a94ac76f",
   "metadata": {
    "deletable": false,
    "id": "bad65432"
   },
   "source": [
    "Проанализировав полученные результаты можно сделать вывод, что есть ряд факторов, одни из которых положительно сказываются на отсутствии задолженности у клиентов, а другие отрицательно. \n",
    "К положительным можно отнести : отсутствие детей, официально оформленные отношения или состоящие в разводе, уровень дохода 200001–1000000(B) и цель кредита операции с недвижимостью или проведение свадьбы.\n",
    "К факторам, которые увеличивают риски можно отнести : наличие в семье детей, холостых либо живущих в гражданском браке, уровень дохода категории С и Е, и цель кредита \tоперации с автомобилем\tи получение образования.\n",
    "\n"
   ]
  }
 ],
 "metadata": {
  "ExecuteTimeLog": [
   {
    "duration": 519,
    "start_time": "2022-12-13T07:36:33.827Z"
   },
   {
    "duration": 24,
    "start_time": "2022-12-13T07:36:37.866Z"
   },
   {
    "duration": 15,
    "start_time": "2022-12-13T07:36:41.367Z"
   },
   {
    "duration": 11,
    "start_time": "2022-12-13T07:36:43.999Z"
   },
   {
    "duration": 46,
    "start_time": "2022-12-13T07:36:46.698Z"
   },
   {
    "duration": 4,
    "start_time": "2022-12-13T07:36:49.379Z"
   },
   {
    "duration": 9,
    "start_time": "2022-12-13T07:36:51.408Z"
   },
   {
    "duration": 5,
    "start_time": "2022-12-13T07:36:53.866Z"
   },
   {
    "duration": 8,
    "start_time": "2022-12-13T07:36:56.159Z"
   },
   {
    "duration": 5,
    "start_time": "2022-12-13T07:36:58.659Z"
   },
   {
    "duration": 35,
    "start_time": "2022-12-13T07:37:00.835Z"
   },
   {
    "duration": 11,
    "start_time": "2022-12-13T07:37:04.365Z"
   },
   {
    "duration": 4,
    "start_time": "2022-12-13T07:37:06.979Z"
   },
   {
    "duration": 12,
    "start_time": "2022-12-13T07:37:09.258Z"
   },
   {
    "duration": 22,
    "start_time": "2022-12-13T07:37:12.827Z"
   },
   {
    "duration": 18,
    "start_time": "2022-12-13T07:37:14.758Z"
   },
   {
    "duration": 3,
    "start_time": "2022-12-13T07:37:17.527Z"
   },
   {
    "duration": 13,
    "start_time": "2022-12-13T07:37:21.538Z"
   },
   {
    "duration": 6,
    "start_time": "2022-12-13T07:37:23.379Z"
   },
   {
    "duration": 4,
    "start_time": "2022-12-13T07:37:27.287Z"
   },
   {
    "duration": 8,
    "start_time": "2022-12-13T07:37:30.287Z"
   },
   {
    "duration": 28,
    "start_time": "2022-12-13T07:48:47.419Z"
   },
   {
    "duration": 26,
    "start_time": "2022-12-13T07:54:56.927Z"
   },
   {
    "duration": 77,
    "start_time": "2022-12-13T08:10:00.927Z"
   },
   {
    "duration": 6,
    "start_time": "2022-12-13T08:10:24.768Z"
   },
   {
    "duration": 3,
    "start_time": "2022-12-13T08:16:21.707Z"
   },
   {
    "duration": 13,
    "start_time": "2022-12-13T08:20:11.747Z"
   },
   {
    "duration": 24,
    "start_time": "2022-12-13T08:20:53.386Z"
   },
   {
    "duration": 6,
    "start_time": "2022-12-13T08:23:10.649Z"
   },
   {
    "duration": 1688,
    "start_time": "2022-12-13T08:25:02.309Z"
   },
   {
    "duration": 23,
    "start_time": "2022-12-13T08:25:43.796Z"
   },
   {
    "duration": 11,
    "start_time": "2022-12-13T08:27:28.355Z"
   },
   {
    "duration": 10,
    "start_time": "2022-12-13T08:27:39.996Z"
   },
   {
    "duration": 9,
    "start_time": "2022-12-13T08:28:07.009Z"
   },
   {
    "duration": 16,
    "start_time": "2022-12-13T08:28:19.989Z"
   },
   {
    "duration": 12,
    "start_time": "2022-12-13T08:29:08.867Z"
   },
   {
    "duration": 4,
    "start_time": "2022-12-13T08:29:33.777Z"
   },
   {
    "duration": 8,
    "start_time": "2022-12-13T08:29:41.967Z"
   },
   {
    "duration": 21,
    "start_time": "2022-12-13T08:30:13.600Z"
   },
   {
    "duration": 23,
    "start_time": "2022-12-13T08:35:22.122Z"
   },
   {
    "duration": 6,
    "start_time": "2022-12-13T08:35:33.801Z"
   },
   {
    "duration": 7,
    "start_time": "2022-12-13T08:36:01.049Z"
   },
   {
    "duration": 7,
    "start_time": "2022-12-13T08:36:35.490Z"
   },
   {
    "duration": 10,
    "start_time": "2022-12-13T08:37:07.089Z"
   },
   {
    "duration": 64,
    "start_time": "2022-12-13T08:41:54.790Z"
   },
   {
    "duration": 13,
    "start_time": "2022-12-13T08:42:36.210Z"
   },
   {
    "duration": 25,
    "start_time": "2022-12-13T08:44:11.182Z"
   },
   {
    "duration": 8,
    "start_time": "2022-12-13T08:44:41.041Z"
   },
   {
    "duration": 8,
    "start_time": "2022-12-13T08:45:13.572Z"
   },
   {
    "duration": 9,
    "start_time": "2022-12-13T08:45:25.661Z"
   },
   {
    "duration": 812,
    "start_time": "2022-12-13T09:01:24.149Z"
   },
   {
    "duration": 9,
    "start_time": "2022-12-13T09:01:52.629Z"
   },
   {
    "duration": 10,
    "start_time": "2022-12-13T09:02:36.729Z"
   },
   {
    "duration": 568,
    "start_time": "2022-12-13T09:02:57.106Z"
   },
   {
    "duration": 12,
    "start_time": "2022-12-13T09:03:32.646Z"
   },
   {
    "duration": 7,
    "start_time": "2022-12-13T09:04:12.166Z"
   },
   {
    "duration": 9,
    "start_time": "2022-12-13T09:04:21.526Z"
   },
   {
    "duration": 9,
    "start_time": "2022-12-13T09:05:32.406Z"
   },
   {
    "duration": 46,
    "start_time": "2022-12-13T09:05:56.008Z"
   },
   {
    "duration": 11,
    "start_time": "2022-12-13T09:06:13.285Z"
   },
   {
    "duration": 10,
    "start_time": "2022-12-13T09:07:06.045Z"
   },
   {
    "duration": 8,
    "start_time": "2022-12-13T09:07:30.165Z"
   },
   {
    "duration": 10,
    "start_time": "2022-12-13T09:08:33.287Z"
   },
   {
    "duration": 11,
    "start_time": "2022-12-13T09:11:01.967Z"
   },
   {
    "duration": 11,
    "start_time": "2022-12-13T09:15:34.055Z"
   },
   {
    "duration": 5,
    "start_time": "2022-12-13T09:29:02.005Z"
   },
   {
    "duration": 30,
    "start_time": "2022-12-13T09:30:06.645Z"
   },
   {
    "duration": 9,
    "start_time": "2022-12-13T09:33:15.985Z"
   },
   {
    "duration": 6,
    "start_time": "2022-12-13T09:35:55.286Z"
   },
   {
    "duration": 7,
    "start_time": "2022-12-13T09:39:38.405Z"
   },
   {
    "duration": 12,
    "start_time": "2022-12-13T09:42:15.645Z"
   },
   {
    "duration": 10,
    "start_time": "2022-12-13T09:46:59.073Z"
   },
   {
    "duration": 512,
    "start_time": "2022-12-13T09:47:13.919Z"
   },
   {
    "duration": 29,
    "start_time": "2022-12-13T09:47:18.581Z"
   },
   {
    "duration": 16,
    "start_time": "2022-12-13T09:47:21.727Z"
   },
   {
    "duration": 12,
    "start_time": "2022-12-13T09:47:24.668Z"
   },
   {
    "duration": 50,
    "start_time": "2022-12-13T09:47:27.809Z"
   },
   {
    "duration": 4,
    "start_time": "2022-12-13T09:47:31.942Z"
   },
   {
    "duration": 10,
    "start_time": "2022-12-13T09:47:34.089Z"
   },
   {
    "duration": 5,
    "start_time": "2022-12-13T09:47:37.128Z"
   },
   {
    "duration": 7,
    "start_time": "2022-12-13T09:47:39.168Z"
   },
   {
    "duration": 5,
    "start_time": "2022-12-13T09:47:41.308Z"
   },
   {
    "duration": 37,
    "start_time": "2022-12-13T09:47:44.096Z"
   },
   {
    "duration": 11,
    "start_time": "2022-12-13T09:47:46.480Z"
   },
   {
    "duration": 4,
    "start_time": "2022-12-13T09:47:49.001Z"
   },
   {
    "duration": 13,
    "start_time": "2022-12-13T09:47:50.768Z"
   },
   {
    "duration": 20,
    "start_time": "2022-12-13T09:47:53.008Z"
   },
   {
    "duration": 19,
    "start_time": "2022-12-13T09:47:55.189Z"
   },
   {
    "duration": 4,
    "start_time": "2022-12-13T09:48:01.270Z"
   },
   {
    "duration": 12,
    "start_time": "2022-12-13T09:48:03.320Z"
   },
   {
    "duration": 6,
    "start_time": "2022-12-13T09:48:06.708Z"
   },
   {
    "duration": 4,
    "start_time": "2022-12-13T09:48:10.249Z"
   },
   {
    "duration": 26,
    "start_time": "2022-12-13T09:48:15.360Z"
   },
   {
    "duration": 11,
    "start_time": "2022-12-13T09:48:42.209Z"
   },
   {
    "duration": 16,
    "start_time": "2022-12-13T09:54:38.908Z"
   },
   {
    "duration": 10,
    "start_time": "2022-12-13T09:55:20.088Z"
   },
   {
    "duration": 11,
    "start_time": "2022-12-13T09:57:11.087Z"
   },
   {
    "duration": 77,
    "start_time": "2022-12-13T10:00:07.307Z"
   },
   {
    "duration": 694,
    "start_time": "2022-12-13T12:12:59.307Z"
   },
   {
    "duration": 26,
    "start_time": "2022-12-13T12:13:02.131Z"
   },
   {
    "duration": 17,
    "start_time": "2022-12-13T12:13:04.897Z"
   },
   {
    "duration": 11,
    "start_time": "2022-12-13T12:13:07.443Z"
   },
   {
    "duration": 37,
    "start_time": "2022-12-13T12:13:10.095Z"
   },
   {
    "duration": 4,
    "start_time": "2022-12-13T12:13:12.652Z"
   },
   {
    "duration": 11,
    "start_time": "2022-12-13T12:13:14.549Z"
   },
   {
    "duration": 5,
    "start_time": "2022-12-13T12:13:17.561Z"
   },
   {
    "duration": 8,
    "start_time": "2022-12-13T12:13:19.592Z"
   },
   {
    "duration": 5,
    "start_time": "2022-12-13T12:13:22.411Z"
   },
   {
    "duration": 34,
    "start_time": "2022-12-13T12:13:24.788Z"
   },
   {
    "duration": 12,
    "start_time": "2022-12-13T12:13:26.622Z"
   },
   {
    "duration": 4,
    "start_time": "2022-12-13T12:13:29.531Z"
   },
   {
    "duration": 13,
    "start_time": "2022-12-13T12:13:32.152Z"
   },
   {
    "duration": 21,
    "start_time": "2022-12-13T12:13:35.910Z"
   },
   {
    "duration": 21,
    "start_time": "2022-12-13T12:13:38.063Z"
   },
   {
    "duration": 69,
    "start_time": "2022-12-13T12:13:42.230Z"
   },
   {
    "duration": 4,
    "start_time": "2022-12-13T12:14:35.911Z"
   },
   {
    "duration": 10,
    "start_time": "2022-12-13T12:14:38.570Z"
   },
   {
    "duration": 6,
    "start_time": "2022-12-13T12:14:42.122Z"
   },
   {
    "duration": 4,
    "start_time": "2022-12-13T12:14:45.029Z"
   },
   {
    "duration": 28,
    "start_time": "2022-12-13T12:14:47.770Z"
   },
   {
    "duration": 18,
    "start_time": "2022-12-13T12:14:57.911Z"
   },
   {
    "duration": 11,
    "start_time": "2022-12-13T12:15:05.372Z"
   },
   {
    "duration": 6,
    "start_time": "2022-12-13T12:20:15.346Z"
   },
   {
    "duration": 11,
    "start_time": "2022-12-13T12:20:43.182Z"
   },
   {
    "duration": 9,
    "start_time": "2022-12-13T12:21:01.071Z"
   },
   {
    "duration": 8,
    "start_time": "2022-12-13T12:23:18.699Z"
   },
   {
    "duration": 9,
    "start_time": "2022-12-13T12:24:19.065Z"
   },
   {
    "duration": 9,
    "start_time": "2022-12-13T12:31:35.122Z"
   },
   {
    "duration": 12,
    "start_time": "2022-12-13T12:35:59.214Z"
   },
   {
    "duration": 13,
    "start_time": "2022-12-13T12:36:39.362Z"
   },
   {
    "duration": 14,
    "start_time": "2022-12-13T12:38:56.173Z"
   },
   {
    "duration": 18,
    "start_time": "2022-12-13T12:40:00.616Z"
   },
   {
    "duration": 15,
    "start_time": "2022-12-13T12:40:09.678Z"
   },
   {
    "duration": 751,
    "start_time": "2022-12-13T12:46:43.657Z"
   },
   {
    "duration": 15,
    "start_time": "2022-12-13T12:47:31.603Z"
   },
   {
    "duration": 1006,
    "start_time": "2022-12-13T12:48:17.066Z"
   },
   {
    "duration": 927,
    "start_time": "2022-12-13T12:48:35.532Z"
   },
   {
    "duration": 697,
    "start_time": "2022-12-13T12:49:24.235Z"
   },
   {
    "duration": 48,
    "start_time": "2022-12-13T12:51:45.927Z"
   },
   {
    "duration": 703,
    "start_time": "2022-12-13T12:56:16.957Z"
   },
   {
    "duration": 750,
    "start_time": "2022-12-13T12:56:45.513Z"
   },
   {
    "duration": 771,
    "start_time": "2022-12-13T12:56:57.535Z"
   },
   {
    "duration": 15,
    "start_time": "2022-12-13T13:02:17.557Z"
   },
   {
    "duration": 780,
    "start_time": "2022-12-13T13:06:26.219Z"
   },
   {
    "duration": 14,
    "start_time": "2022-12-13T13:07:05.268Z"
   },
   {
    "duration": 16,
    "start_time": "2022-12-13T13:13:40.349Z"
   },
   {
    "duration": 47,
    "start_time": "2022-12-13T13:14:53.153Z"
   },
   {
    "duration": 848,
    "start_time": "2022-12-13T13:15:13.535Z"
   },
   {
    "duration": 16,
    "start_time": "2022-12-13T13:15:34.175Z"
   },
   {
    "duration": 9,
    "start_time": "2022-12-13T13:17:59.208Z"
   },
   {
    "duration": 55,
    "start_time": "2022-12-13T13:18:42.719Z"
   },
   {
    "duration": 9,
    "start_time": "2022-12-13T13:19:03.568Z"
   },
   {
    "duration": 15,
    "start_time": "2022-12-13T13:19:20.007Z"
   },
   {
    "duration": 67,
    "start_time": "2022-12-13T13:29:38.007Z"
   },
   {
    "duration": 14,
    "start_time": "2022-12-13T13:29:58.242Z"
   },
   {
    "duration": 27,
    "start_time": "2022-12-13T13:30:07.778Z"
   },
   {
    "duration": 56,
    "start_time": "2022-12-13T13:30:39.206Z"
   },
   {
    "duration": 16,
    "start_time": "2022-12-13T13:31:05.387Z"
   },
   {
    "duration": 8,
    "start_time": "2022-12-13T13:37:29.511Z"
   },
   {
    "duration": 26,
    "start_time": "2022-12-13T13:38:55.409Z"
   },
   {
    "duration": 24,
    "start_time": "2022-12-13T13:39:17.187Z"
   },
   {
    "duration": 28,
    "start_time": "2022-12-13T13:40:34.567Z"
   },
   {
    "duration": 32,
    "start_time": "2022-12-13T13:42:46.233Z"
   },
   {
    "duration": 29,
    "start_time": "2022-12-13T13:43:10.034Z"
   },
   {
    "duration": 25,
    "start_time": "2022-12-13T13:43:29.964Z"
   },
   {
    "duration": 30,
    "start_time": "2022-12-13T13:43:35.268Z"
   },
   {
    "duration": 29,
    "start_time": "2022-12-13T13:44:24.828Z"
   },
   {
    "duration": 30,
    "start_time": "2022-12-13T13:44:36.179Z"
   },
   {
    "duration": 37,
    "start_time": "2022-12-13T13:44:49.252Z"
   },
   {
    "duration": 33,
    "start_time": "2022-12-13T13:45:08.562Z"
   },
   {
    "duration": 30,
    "start_time": "2022-12-13T13:49:34.679Z"
   },
   {
    "duration": 34,
    "start_time": "2022-12-13T13:49:55.667Z"
   },
   {
    "duration": 28,
    "start_time": "2022-12-13T13:51:20.507Z"
   },
   {
    "duration": 26,
    "start_time": "2022-12-13T13:51:34.852Z"
   },
   {
    "duration": 31,
    "start_time": "2022-12-13T13:51:58.127Z"
   },
   {
    "duration": 29,
    "start_time": "2022-12-13T13:52:57.895Z"
   },
   {
    "duration": 35,
    "start_time": "2022-12-13T13:53:53.028Z"
   },
   {
    "duration": 35,
    "start_time": "2022-12-13T13:59:09.666Z"
   },
   {
    "duration": 34,
    "start_time": "2022-12-13T14:00:24.969Z"
   },
   {
    "duration": 31,
    "start_time": "2022-12-13T14:02:27.071Z"
   },
   {
    "duration": 21,
    "start_time": "2022-12-13T14:08:54.237Z"
   },
   {
    "duration": 23,
    "start_time": "2022-12-13T14:11:00.796Z"
   },
   {
    "duration": 17,
    "start_time": "2022-12-13T14:11:03.427Z"
   },
   {
    "duration": 39,
    "start_time": "2022-12-13T14:30:18.429Z"
   },
   {
    "duration": 34,
    "start_time": "2022-12-13T14:32:41.433Z"
   },
   {
    "duration": 26,
    "start_time": "2022-12-13T14:36:30.537Z"
   },
   {
    "duration": 16,
    "start_time": "2022-12-13T14:36:34.154Z"
   },
   {
    "duration": 26,
    "start_time": "2022-12-13T14:37:41.814Z"
   },
   {
    "duration": 17,
    "start_time": "2022-12-13T14:37:44.696Z"
   },
   {
    "duration": 28,
    "start_time": "2022-12-13T14:49:33.061Z"
   },
   {
    "duration": 35,
    "start_time": "2022-12-13T14:50:11.653Z"
   },
   {
    "duration": 23,
    "start_time": "2022-12-13T14:53:22.642Z"
   },
   {
    "duration": 15,
    "start_time": "2022-12-13T14:53:25.162Z"
   },
   {
    "duration": 698,
    "start_time": "2022-12-14T06:07:35.387Z"
   },
   {
    "duration": 21,
    "start_time": "2022-12-14T06:07:38.268Z"
   },
   {
    "duration": 13,
    "start_time": "2022-12-14T06:07:43.080Z"
   },
   {
    "duration": 11,
    "start_time": "2022-12-14T06:07:45.389Z"
   },
   {
    "duration": 32,
    "start_time": "2022-12-14T06:07:48.161Z"
   },
   {
    "duration": 4,
    "start_time": "2022-12-14T06:07:50.128Z"
   },
   {
    "duration": 7,
    "start_time": "2022-12-14T06:07:52.529Z"
   },
   {
    "duration": 3,
    "start_time": "2022-12-14T06:07:54.928Z"
   },
   {
    "duration": 6,
    "start_time": "2022-12-14T06:07:56.328Z"
   },
   {
    "duration": 4,
    "start_time": "2022-12-14T06:07:58.209Z"
   },
   {
    "duration": 33,
    "start_time": "2022-12-14T06:08:00.108Z"
   },
   {
    "duration": 9,
    "start_time": "2022-12-14T06:08:02.359Z"
   },
   {
    "duration": 4,
    "start_time": "2022-12-14T06:08:06.348Z"
   },
   {
    "duration": 10,
    "start_time": "2022-12-14T06:08:08.133Z"
   },
   {
    "duration": 20,
    "start_time": "2022-12-14T06:08:09.848Z"
   },
   {
    "duration": 16,
    "start_time": "2022-12-14T06:08:11.668Z"
   },
   {
    "duration": 3,
    "start_time": "2022-12-14T06:08:15.049Z"
   },
   {
    "duration": 12,
    "start_time": "2022-12-14T06:08:16.680Z"
   },
   {
    "duration": 5,
    "start_time": "2022-12-14T06:08:18.021Z"
   },
   {
    "duration": 3,
    "start_time": "2022-12-14T06:08:21.359Z"
   },
   {
    "duration": 37,
    "start_time": "2022-12-14T06:08:35.161Z"
   },
   {
    "duration": 22,
    "start_time": "2022-12-14T06:08:39.560Z"
   },
   {
    "duration": 65,
    "start_time": "2022-12-14T06:08:41.409Z"
   },
   {
    "duration": 738,
    "start_time": "2022-12-14T06:09:15.149Z"
   },
   {
    "duration": 714,
    "start_time": "2022-12-14T06:10:25.029Z"
   },
   {
    "duration": 23,
    "start_time": "2022-12-14T06:10:48.172Z"
   },
   {
    "duration": 15,
    "start_time": "2022-12-14T06:10:51.160Z"
   },
   {
    "duration": 21,
    "start_time": "2022-12-14T06:12:07.108Z"
   },
   {
    "duration": 17,
    "start_time": "2022-12-14T06:12:14.928Z"
   },
   {
    "duration": 24,
    "start_time": "2022-12-14T06:12:40.389Z"
   },
   {
    "duration": 19,
    "start_time": "2022-12-14T06:12:42.369Z"
   },
   {
    "duration": 32,
    "start_time": "2022-12-14T06:12:45.489Z"
   },
   {
    "duration": 15,
    "start_time": "2022-12-14T06:12:47.428Z"
   },
   {
    "duration": 22,
    "start_time": "2022-12-14T06:12:51.461Z"
   },
   {
    "duration": 16,
    "start_time": "2022-12-14T06:12:53.448Z"
   },
   {
    "duration": 26,
    "start_time": "2022-12-14T06:14:57.849Z"
   },
   {
    "duration": 16,
    "start_time": "2022-12-14T06:16:38.988Z"
   },
   {
    "duration": 28,
    "start_time": "2022-12-14T06:25:07.921Z"
   },
   {
    "duration": 29,
    "start_time": "2022-12-14T06:26:11.588Z"
   },
   {
    "duration": 483,
    "start_time": "2022-12-14T06:26:43.328Z"
   },
   {
    "duration": 34,
    "start_time": "2022-12-14T06:26:45.736Z"
   },
   {
    "duration": 16,
    "start_time": "2022-12-14T06:27:42.528Z"
   },
   {
    "duration": 18,
    "start_time": "2022-12-14T06:28:40.088Z"
   },
   {
    "duration": 26,
    "start_time": "2022-12-14T06:32:01.044Z"
   },
   {
    "duration": 20,
    "start_time": "2022-12-14T06:33:02.023Z"
   },
   {
    "duration": 27,
    "start_time": "2022-12-14T06:33:15.317Z"
   },
   {
    "duration": 69,
    "start_time": "2022-12-14T06:51:27.030Z"
   },
   {
    "duration": 7,
    "start_time": "2022-12-14T06:51:54.418Z"
   },
   {
    "duration": 7,
    "start_time": "2022-12-14T06:52:07.950Z"
   },
   {
    "duration": 16,
    "start_time": "2022-12-14T06:52:46.139Z"
   },
   {
    "duration": 77,
    "start_time": "2022-12-14T06:55:35.301Z"
   },
   {
    "duration": 18,
    "start_time": "2022-12-14T06:55:35.381Z"
   },
   {
    "duration": 28,
    "start_time": "2022-12-14T06:55:35.401Z"
   },
   {
    "duration": 11,
    "start_time": "2022-12-14T06:55:35.430Z"
   },
   {
    "duration": 35,
    "start_time": "2022-12-14T06:55:35.443Z"
   },
   {
    "duration": 3,
    "start_time": "2022-12-14T06:55:35.480Z"
   },
   {
    "duration": 15,
    "start_time": "2022-12-14T06:55:35.485Z"
   },
   {
    "duration": 21,
    "start_time": "2022-12-14T06:55:35.501Z"
   },
   {
    "duration": 13,
    "start_time": "2022-12-14T06:55:35.523Z"
   },
   {
    "duration": 12,
    "start_time": "2022-12-14T06:55:35.538Z"
   },
   {
    "duration": 36,
    "start_time": "2022-12-14T06:55:35.551Z"
   },
   {
    "duration": 9,
    "start_time": "2022-12-14T06:55:35.589Z"
   },
   {
    "duration": 6,
    "start_time": "2022-12-14T06:55:35.599Z"
   },
   {
    "duration": 20,
    "start_time": "2022-12-14T06:55:35.608Z"
   },
   {
    "duration": 20,
    "start_time": "2022-12-14T06:55:35.630Z"
   },
   {
    "duration": 17,
    "start_time": "2022-12-14T06:55:35.652Z"
   },
   {
    "duration": 3,
    "start_time": "2022-12-14T06:55:35.671Z"
   },
   {
    "duration": 17,
    "start_time": "2022-12-14T06:55:35.675Z"
   },
   {
    "duration": 29,
    "start_time": "2022-12-14T06:55:35.694Z"
   },
   {
    "duration": 3,
    "start_time": "2022-12-14T06:55:35.725Z"
   },
   {
    "duration": 29,
    "start_time": "2022-12-14T06:55:35.729Z"
   },
   {
    "duration": 20,
    "start_time": "2022-12-14T06:55:35.759Z"
   },
   {
    "duration": 41,
    "start_time": "2022-12-14T06:55:35.780Z"
   },
   {
    "duration": 30,
    "start_time": "2022-12-14T06:55:35.822Z"
   },
   {
    "duration": 14,
    "start_time": "2022-12-14T06:55:35.854Z"
   },
   {
    "duration": 26,
    "start_time": "2022-12-14T06:55:35.869Z"
   },
   {
    "duration": 14,
    "start_time": "2022-12-14T06:55:35.896Z"
   },
   {
    "duration": 25,
    "start_time": "2022-12-14T06:55:35.921Z"
   },
   {
    "duration": 14,
    "start_time": "2022-12-14T06:55:35.947Z"
   },
   {
    "duration": 67,
    "start_time": "2022-12-14T06:55:48.891Z"
   },
   {
    "duration": 15,
    "start_time": "2022-12-14T06:55:48.960Z"
   },
   {
    "duration": 18,
    "start_time": "2022-12-14T06:55:48.977Z"
   },
   {
    "duration": 10,
    "start_time": "2022-12-14T06:55:48.996Z"
   },
   {
    "duration": 32,
    "start_time": "2022-12-14T06:55:49.020Z"
   },
   {
    "duration": 4,
    "start_time": "2022-12-14T06:55:49.053Z"
   },
   {
    "duration": 10,
    "start_time": "2022-12-14T06:55:49.058Z"
   },
   {
    "duration": 4,
    "start_time": "2022-12-14T06:55:49.070Z"
   },
   {
    "duration": 18,
    "start_time": "2022-12-14T06:55:49.076Z"
   },
   {
    "duration": 5,
    "start_time": "2022-12-14T06:55:49.095Z"
   },
   {
    "duration": 47,
    "start_time": "2022-12-14T06:55:49.102Z"
   },
   {
    "duration": 10,
    "start_time": "2022-12-14T06:55:49.151Z"
   },
   {
    "duration": 10,
    "start_time": "2022-12-14T06:55:49.163Z"
   },
   {
    "duration": 13,
    "start_time": "2022-12-14T06:55:49.175Z"
   },
   {
    "duration": 33,
    "start_time": "2022-12-14T06:55:49.189Z"
   },
   {
    "duration": 17,
    "start_time": "2022-12-14T06:55:49.224Z"
   },
   {
    "duration": 4,
    "start_time": "2022-12-14T06:55:49.243Z"
   },
   {
    "duration": 26,
    "start_time": "2022-12-14T06:55:49.249Z"
   },
   {
    "duration": 10,
    "start_time": "2022-12-14T06:55:49.277Z"
   },
   {
    "duration": 5,
    "start_time": "2022-12-14T06:55:49.289Z"
   },
   {
    "duration": 35,
    "start_time": "2022-12-14T06:55:49.296Z"
   },
   {
    "duration": 43,
    "start_time": "2022-12-14T06:55:49.333Z"
   },
   {
    "duration": 13,
    "start_time": "2022-12-14T06:55:49.378Z"
   },
   {
    "duration": 25,
    "start_time": "2022-12-14T06:55:49.393Z"
   },
   {
    "duration": 15,
    "start_time": "2022-12-14T06:55:49.419Z"
   },
   {
    "duration": 19,
    "start_time": "2022-12-14T06:55:49.435Z"
   },
   {
    "duration": 13,
    "start_time": "2022-12-14T06:55:49.455Z"
   },
   {
    "duration": 22,
    "start_time": "2022-12-14T06:55:49.470Z"
   },
   {
    "duration": 38,
    "start_time": "2022-12-14T06:55:49.493Z"
   },
   {
    "duration": 478,
    "start_time": "2022-12-14T06:56:05.799Z"
   },
   {
    "duration": 23,
    "start_time": "2022-12-14T06:56:06.279Z"
   },
   {
    "duration": 36,
    "start_time": "2022-12-14T06:56:06.304Z"
   },
   {
    "duration": 12,
    "start_time": "2022-12-14T06:56:06.342Z"
   },
   {
    "duration": 73,
    "start_time": "2022-12-14T06:56:06.357Z"
   },
   {
    "duration": 4,
    "start_time": "2022-12-14T06:56:06.432Z"
   },
   {
    "duration": 33,
    "start_time": "2022-12-14T06:56:06.438Z"
   },
   {
    "duration": 8,
    "start_time": "2022-12-14T06:56:06.473Z"
   },
   {
    "duration": 22,
    "start_time": "2022-12-14T06:56:06.482Z"
   },
   {
    "duration": 6,
    "start_time": "2022-12-14T06:56:06.506Z"
   },
   {
    "duration": 59,
    "start_time": "2022-12-14T06:56:06.513Z"
   },
   {
    "duration": 11,
    "start_time": "2022-12-14T06:56:06.573Z"
   },
   {
    "duration": 20,
    "start_time": "2022-12-14T06:56:06.585Z"
   },
   {
    "duration": 23,
    "start_time": "2022-12-14T06:56:06.607Z"
   },
   {
    "duration": 52,
    "start_time": "2022-12-14T06:56:06.632Z"
   },
   {
    "duration": 25,
    "start_time": "2022-12-14T06:56:06.686Z"
   },
   {
    "duration": 10,
    "start_time": "2022-12-14T06:56:06.713Z"
   },
   {
    "duration": 31,
    "start_time": "2022-12-14T06:56:06.724Z"
   },
   {
    "duration": 26,
    "start_time": "2022-12-14T06:56:06.757Z"
   },
   {
    "duration": 16,
    "start_time": "2022-12-14T06:56:06.784Z"
   },
   {
    "duration": 63,
    "start_time": "2022-12-14T06:56:06.801Z"
   },
   {
    "duration": 42,
    "start_time": "2022-12-14T06:56:06.866Z"
   },
   {
    "duration": 23,
    "start_time": "2022-12-14T06:56:06.909Z"
   },
   {
    "duration": 26,
    "start_time": "2022-12-14T06:56:06.934Z"
   },
   {
    "duration": 19,
    "start_time": "2022-12-14T06:56:06.962Z"
   },
   {
    "duration": 30,
    "start_time": "2022-12-14T06:56:06.983Z"
   },
   {
    "duration": 16,
    "start_time": "2022-12-14T06:56:07.014Z"
   },
   {
    "duration": 30,
    "start_time": "2022-12-14T06:56:07.032Z"
   },
   {
    "duration": 16,
    "start_time": "2022-12-14T06:56:07.064Z"
   },
   {
    "duration": 459,
    "start_time": "2022-12-14T07:26:58.519Z"
   },
   {
    "duration": 21,
    "start_time": "2022-12-14T07:26:58.980Z"
   },
   {
    "duration": 43,
    "start_time": "2022-12-14T07:26:59.003Z"
   },
   {
    "duration": 9,
    "start_time": "2022-12-14T07:26:59.047Z"
   },
   {
    "duration": 36,
    "start_time": "2022-12-14T07:26:59.059Z"
   },
   {
    "duration": 3,
    "start_time": "2022-12-14T07:26:59.097Z"
   },
   {
    "duration": 10,
    "start_time": "2022-12-14T07:26:59.102Z"
   },
   {
    "duration": 11,
    "start_time": "2022-12-14T07:26:59.113Z"
   },
   {
    "duration": 11,
    "start_time": "2022-12-14T07:26:59.125Z"
   },
   {
    "duration": 5,
    "start_time": "2022-12-14T07:26:59.137Z"
   },
   {
    "duration": 33,
    "start_time": "2022-12-14T07:26:59.144Z"
   },
   {
    "duration": 9,
    "start_time": "2022-12-14T07:26:59.179Z"
   },
   {
    "duration": 26,
    "start_time": "2022-12-14T07:26:59.189Z"
   },
   {
    "duration": 11,
    "start_time": "2022-12-14T07:26:59.220Z"
   },
   {
    "duration": 22,
    "start_time": "2022-12-14T07:26:59.233Z"
   },
   {
    "duration": 18,
    "start_time": "2022-12-14T07:26:59.256Z"
   },
   {
    "duration": 4,
    "start_time": "2022-12-14T07:26:59.276Z"
   },
   {
    "duration": 14,
    "start_time": "2022-12-14T07:26:59.283Z"
   },
   {
    "duration": 24,
    "start_time": "2022-12-14T07:26:59.298Z"
   },
   {
    "duration": 3,
    "start_time": "2022-12-14T07:26:59.324Z"
   },
   {
    "duration": 35,
    "start_time": "2022-12-14T07:26:59.330Z"
   },
   {
    "duration": 21,
    "start_time": "2022-12-14T07:26:59.366Z"
   },
   {
    "duration": 37,
    "start_time": "2022-12-14T07:26:59.389Z"
   },
   {
    "duration": 29,
    "start_time": "2022-12-14T07:26:59.428Z"
   },
   {
    "duration": 14,
    "start_time": "2022-12-14T07:26:59.458Z"
   },
   {
    "duration": 20,
    "start_time": "2022-12-14T07:26:59.474Z"
   },
   {
    "duration": 36,
    "start_time": "2022-12-14T07:26:59.495Z"
   },
   {
    "duration": 22,
    "start_time": "2022-12-14T07:26:59.532Z"
   },
   {
    "duration": 13,
    "start_time": "2022-12-14T07:26:59.556Z"
   },
   {
    "duration": 47,
    "start_time": "2022-12-15T06:47:29.387Z"
   },
   {
    "duration": 710,
    "start_time": "2022-12-15T06:47:58.836Z"
   },
   {
    "duration": 21,
    "start_time": "2022-12-15T06:48:01.710Z"
   },
   {
    "duration": 15,
    "start_time": "2022-12-15T06:48:05.169Z"
   },
   {
    "duration": 9,
    "start_time": "2022-12-15T06:48:07.349Z"
   },
   {
    "duration": 33,
    "start_time": "2022-12-15T06:48:09.205Z"
   },
   {
    "duration": 3,
    "start_time": "2022-12-15T06:48:11.369Z"
   },
   {
    "duration": 9,
    "start_time": "2022-12-15T06:48:12.441Z"
   },
   {
    "duration": 5,
    "start_time": "2022-12-15T06:48:14.008Z"
   },
   {
    "duration": 7,
    "start_time": "2022-12-15T06:48:16.780Z"
   },
   {
    "duration": 4,
    "start_time": "2022-12-15T06:48:18.736Z"
   },
   {
    "duration": 33,
    "start_time": "2022-12-15T06:48:20.738Z"
   },
   {
    "duration": 10,
    "start_time": "2022-12-15T06:48:22.181Z"
   },
   {
    "duration": 3,
    "start_time": "2022-12-15T06:48:25.773Z"
   },
   {
    "duration": 11,
    "start_time": "2022-12-15T06:48:27.009Z"
   },
   {
    "duration": 19,
    "start_time": "2022-12-15T06:48:28.201Z"
   },
   {
    "duration": 17,
    "start_time": "2022-12-15T06:48:29.361Z"
   },
   {
    "duration": 4,
    "start_time": "2022-12-15T06:48:33.867Z"
   },
   {
    "duration": 11,
    "start_time": "2022-12-15T06:48:35.748Z"
   },
   {
    "duration": 7,
    "start_time": "2022-12-15T06:48:37.780Z"
   },
   {
    "duration": 3,
    "start_time": "2022-12-15T06:48:40.028Z"
   },
   {
    "duration": 24,
    "start_time": "2022-12-15T06:48:43.460Z"
   },
   {
    "duration": 15,
    "start_time": "2022-12-15T06:48:44.976Z"
   },
   {
    "duration": 24,
    "start_time": "2022-12-15T07:58:52.657Z"
   },
   {
    "duration": 14,
    "start_time": "2022-12-15T07:58:55.256Z"
   },
   {
    "duration": 812,
    "start_time": "2022-12-15T07:59:17.070Z"
   },
   {
    "duration": 756,
    "start_time": "2022-12-15T07:59:30.869Z"
   },
   {
    "duration": 446,
    "start_time": "2022-12-15T08:00:11.967Z"
   },
   {
    "duration": 25,
    "start_time": "2022-12-15T08:00:12.415Z"
   },
   {
    "duration": 16,
    "start_time": "2022-12-15T08:00:12.442Z"
   },
   {
    "duration": 24,
    "start_time": "2022-12-15T08:00:12.460Z"
   },
   {
    "duration": 47,
    "start_time": "2022-12-15T08:00:12.486Z"
   },
   {
    "duration": 4,
    "start_time": "2022-12-15T08:00:12.534Z"
   },
   {
    "duration": 14,
    "start_time": "2022-12-15T08:00:12.539Z"
   },
   {
    "duration": 14,
    "start_time": "2022-12-15T08:00:12.555Z"
   },
   {
    "duration": 16,
    "start_time": "2022-12-15T08:00:12.571Z"
   },
   {
    "duration": 4,
    "start_time": "2022-12-15T08:00:12.589Z"
   },
   {
    "duration": 49,
    "start_time": "2022-12-15T08:00:12.595Z"
   },
   {
    "duration": 10,
    "start_time": "2022-12-15T08:00:12.646Z"
   },
   {
    "duration": 4,
    "start_time": "2022-12-15T08:00:12.658Z"
   },
   {
    "duration": 13,
    "start_time": "2022-12-15T08:00:12.665Z"
   },
   {
    "duration": 41,
    "start_time": "2022-12-15T08:00:12.679Z"
   },
   {
    "duration": 17,
    "start_time": "2022-12-15T08:00:12.722Z"
   },
   {
    "duration": 4,
    "start_time": "2022-12-15T08:00:12.741Z"
   },
   {
    "duration": 18,
    "start_time": "2022-12-15T08:00:12.747Z"
   },
   {
    "duration": 7,
    "start_time": "2022-12-15T08:00:12.766Z"
   },
   {
    "duration": 6,
    "start_time": "2022-12-15T08:00:12.775Z"
   },
   {
    "duration": 48,
    "start_time": "2022-12-15T08:00:12.782Z"
   },
   {
    "duration": 23,
    "start_time": "2022-12-15T08:00:12.832Z"
   },
   {
    "duration": 14,
    "start_time": "2022-12-15T08:00:12.857Z"
   },
   {
    "duration": 51,
    "start_time": "2022-12-15T08:00:12.873Z"
   },
   {
    "duration": 14,
    "start_time": "2022-12-15T08:00:12.926Z"
   },
   {
    "duration": 27,
    "start_time": "2022-12-15T08:00:12.941Z"
   },
   {
    "duration": 15,
    "start_time": "2022-12-15T08:00:12.970Z"
   },
   {
    "duration": 47,
    "start_time": "2022-12-15T08:00:12.987Z"
   },
   {
    "duration": 16,
    "start_time": "2022-12-15T08:00:13.036Z"
   },
   {
    "duration": 441,
    "start_time": "2022-12-15T08:21:32.757Z"
   },
   {
    "duration": 21,
    "start_time": "2022-12-15T08:21:33.200Z"
   },
   {
    "duration": 26,
    "start_time": "2022-12-15T08:21:33.222Z"
   },
   {
    "duration": 9,
    "start_time": "2022-12-15T08:21:33.250Z"
   },
   {
    "duration": 57,
    "start_time": "2022-12-15T08:21:33.261Z"
   },
   {
    "duration": 4,
    "start_time": "2022-12-15T08:21:33.321Z"
   },
   {
    "duration": 10,
    "start_time": "2022-12-15T08:21:33.328Z"
   },
   {
    "duration": 4,
    "start_time": "2022-12-15T08:21:33.340Z"
   },
   {
    "duration": 7,
    "start_time": "2022-12-15T08:21:33.346Z"
   },
   {
    "duration": 6,
    "start_time": "2022-12-15T08:21:33.354Z"
   },
   {
    "duration": 60,
    "start_time": "2022-12-15T08:21:33.361Z"
   },
   {
    "duration": 10,
    "start_time": "2022-12-15T08:21:33.423Z"
   },
   {
    "duration": 10,
    "start_time": "2022-12-15T08:21:33.434Z"
   },
   {
    "duration": 15,
    "start_time": "2022-12-15T08:21:33.446Z"
   },
   {
    "duration": 19,
    "start_time": "2022-12-15T08:21:33.462Z"
   },
   {
    "duration": 37,
    "start_time": "2022-12-15T08:21:33.483Z"
   },
   {
    "duration": 3,
    "start_time": "2022-12-15T08:21:33.522Z"
   },
   {
    "duration": 12,
    "start_time": "2022-12-15T08:21:33.526Z"
   },
   {
    "duration": 5,
    "start_time": "2022-12-15T08:21:33.539Z"
   },
   {
    "duration": 3,
    "start_time": "2022-12-15T08:21:33.546Z"
   },
   {
    "duration": 30,
    "start_time": "2022-12-15T08:21:33.550Z"
   },
   {
    "duration": 46,
    "start_time": "2022-12-15T08:21:33.581Z"
   },
   {
    "duration": 13,
    "start_time": "2022-12-15T08:21:33.629Z"
   },
   {
    "duration": 23,
    "start_time": "2022-12-15T08:21:33.643Z"
   },
   {
    "duration": 12,
    "start_time": "2022-12-15T08:21:33.667Z"
   },
   {
    "duration": 48,
    "start_time": "2022-12-15T08:21:33.681Z"
   },
   {
    "duration": 13,
    "start_time": "2022-12-15T08:21:33.730Z"
   },
   {
    "duration": 26,
    "start_time": "2022-12-15T08:21:33.744Z"
   },
   {
    "duration": 12,
    "start_time": "2022-12-15T08:21:33.772Z"
   }
  ],
  "colab": {
   "name": "dpp_template_part2.ipynb",
   "provenance": []
  },
  "kernelspec": {
   "display_name": "Python 3 (ipykernel)",
   "language": "python",
   "name": "python3"
  },
  "language_info": {
   "codemirror_mode": {
    "name": "ipython",
    "version": 3
   },
   "file_extension": ".py",
   "mimetype": "text/x-python",
   "name": "python",
   "nbconvert_exporter": "python",
   "pygments_lexer": "ipython3",
   "version": "3.9.13"
  },
  "toc": {
   "base_numbering": 1,
   "nav_menu": {},
   "number_sections": true,
   "sideBar": true,
   "skip_h1_title": true,
   "title_cell": "Table of Contents",
   "title_sidebar": "Contents",
   "toc_cell": false,
   "toc_position": {},
   "toc_section_display": true,
   "toc_window_display": false
  }
 },
 "nbformat": 4,
 "nbformat_minor": 5
}
