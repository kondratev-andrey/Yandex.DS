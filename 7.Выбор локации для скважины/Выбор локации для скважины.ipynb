{
 "cells": [
  {
   "cell_type": "markdown",
   "metadata": {},
   "source": [
    "# Выбор локации для скважины"
   ]
  },
  {
   "cell_type": "markdown",
   "metadata": {},
   "source": [
    "Допустим, вы работаете в добывающей компании «ГлавРосГосНефть». Нужно решить, где бурить новую скважину.\n",
    "\n",
    "Вам предоставлены пробы нефти в трёх регионах: в каждом 10 000 месторождений, где измерили качество нефти и объём её запасов. Постройте модель машинного обучения, которая поможет определить регион, где добыча принесёт наибольшую прибыль. Проанализируйте возможную прибыль и риски техникой *Bootstrap.*\n",
    "\n",
    "Шаги для выбора локации:\n",
    "\n",
    "- В избранном регионе ищут месторождения, для каждого определяют значения признаков;\n",
    "- Строят модель и оценивают объём запасов;\n",
    "- Выбирают месторождения с самым высокими оценками значений. Количество месторождений зависит от бюджета компании и стоимости разработки одной скважины;\n",
    "- Прибыль равна суммарной прибыли отобранных месторождений."
   ]
  },
  {
   "cell_type": "markdown",
   "metadata": {},
   "source": [
    "## Загрузка и подготовка данных"
   ]
  },
  {
   "cell_type": "code",
   "execution_count": 1,
   "metadata": {},
   "outputs": [],
   "source": [
    "import pandas as pd\n",
    "import numpy as np\n",
    "from scipy import stats as st \n",
    "from sklearn.model_selection import train_test_split\n",
    "from sklearn.linear_model import LinearRegression\n",
    "from sklearn.metrics import mean_squared_error"
   ]
  },
  {
   "cell_type": "code",
   "execution_count": 2,
   "metadata": {},
   "outputs": [],
   "source": [
    "try:\n",
    "    df_1 = pd.read_csv('C:/Users/Пользователь/OneDrive/Документы/Python/geo_data_0.csv')\n",
    "except:\n",
    "    df_1 = pd.read_csv('/datasets/geo_data_0.csv')"
   ]
  },
  {
   "cell_type": "code",
   "execution_count": 3,
   "metadata": {},
   "outputs": [],
   "source": [
    "try:\n",
    "    df_2 = pd.read_csv('C:/Users/Пользователь/OneDrive/Документы/Python/geo_data_1.csv')\n",
    "except:\n",
    "    df_2 = pd.read_csv('/datasets/geo_data_1.csv')"
   ]
  },
  {
   "cell_type": "code",
   "execution_count": 4,
   "metadata": {},
   "outputs": [],
   "source": [
    "try:\n",
    "    df_3 = pd.read_csv('C:/Users/Пользователь/OneDrive/Документы/Python/geo_data_2.csv')\n",
    "except:\n",
    "    df_3 = pd.read_csv('/datasets/geo_data_2.csv')"
   ]
  },
  {
   "cell_type": "markdown",
   "metadata": {},
   "source": [
    "Сначала посмотрим наобщую информацию и проверим на дубликаты."
   ]
  },
  {
   "cell_type": "code",
   "execution_count": 5,
   "metadata": {},
   "outputs": [
    {
     "name": "stdout",
     "output_type": "stream",
     "text": [
      "<class 'pandas.core.frame.DataFrame'>\n",
      "RangeIndex: 100000 entries, 0 to 99999\n",
      "Data columns (total 5 columns):\n",
      " #   Column   Non-Null Count   Dtype  \n",
      "---  ------   --------------   -----  \n",
      " 0   id       100000 non-null  object \n",
      " 1   f0       100000 non-null  float64\n",
      " 2   f1       100000 non-null  float64\n",
      " 3   f2       100000 non-null  float64\n",
      " 4   product  100000 non-null  float64\n",
      "dtypes: float64(4), object(1)\n",
      "memory usage: 3.8+ MB\n",
      "<class 'pandas.core.frame.DataFrame'>\n",
      "RangeIndex: 100000 entries, 0 to 99999\n",
      "Data columns (total 5 columns):\n",
      " #   Column   Non-Null Count   Dtype  \n",
      "---  ------   --------------   -----  \n",
      " 0   id       100000 non-null  object \n",
      " 1   f0       100000 non-null  float64\n",
      " 2   f1       100000 non-null  float64\n",
      " 3   f2       100000 non-null  float64\n",
      " 4   product  100000 non-null  float64\n",
      "dtypes: float64(4), object(1)\n",
      "memory usage: 3.8+ MB\n",
      "<class 'pandas.core.frame.DataFrame'>\n",
      "RangeIndex: 100000 entries, 0 to 99999\n",
      "Data columns (total 5 columns):\n",
      " #   Column   Non-Null Count   Dtype  \n",
      "---  ------   --------------   -----  \n",
      " 0   id       100000 non-null  object \n",
      " 1   f0       100000 non-null  float64\n",
      " 2   f1       100000 non-null  float64\n",
      " 3   f2       100000 non-null  float64\n",
      " 4   product  100000 non-null  float64\n",
      "dtypes: float64(4), object(1)\n",
      "memory usage: 3.8+ MB\n"
     ]
    }
   ],
   "source": [
    "df_1.info()\n",
    "df_2.info()\n",
    "df_3.info()# Посмотрим общую информацию"
   ]
  },
  {
   "cell_type": "code",
   "execution_count": 6,
   "metadata": {},
   "outputs": [
    {
     "data": {
      "text/html": [
       "<div>\n",
       "<style scoped>\n",
       "    .dataframe tbody tr th:only-of-type {\n",
       "        vertical-align: middle;\n",
       "    }\n",
       "\n",
       "    .dataframe tbody tr th {\n",
       "        vertical-align: top;\n",
       "    }\n",
       "\n",
       "    .dataframe thead th {\n",
       "        text-align: right;\n",
       "    }\n",
       "</style>\n",
       "<table border=\"1\" class=\"dataframe\">\n",
       "  <thead>\n",
       "    <tr style=\"text-align: right;\">\n",
       "      <th></th>\n",
       "      <th>id</th>\n",
       "      <th>f0</th>\n",
       "      <th>f1</th>\n",
       "      <th>f2</th>\n",
       "      <th>product</th>\n",
       "    </tr>\n",
       "  </thead>\n",
       "  <tbody>\n",
       "    <tr>\n",
       "      <th>0</th>\n",
       "      <td>txEyH</td>\n",
       "      <td>0.705745</td>\n",
       "      <td>-0.497823</td>\n",
       "      <td>1.221170</td>\n",
       "      <td>105.280062</td>\n",
       "    </tr>\n",
       "    <tr>\n",
       "      <th>1</th>\n",
       "      <td>2acmU</td>\n",
       "      <td>1.334711</td>\n",
       "      <td>-0.340164</td>\n",
       "      <td>4.365080</td>\n",
       "      <td>73.037750</td>\n",
       "    </tr>\n",
       "    <tr>\n",
       "      <th>2</th>\n",
       "      <td>409Wp</td>\n",
       "      <td>1.022732</td>\n",
       "      <td>0.151990</td>\n",
       "      <td>1.419926</td>\n",
       "      <td>85.265647</td>\n",
       "    </tr>\n",
       "    <tr>\n",
       "      <th>3</th>\n",
       "      <td>iJLyR</td>\n",
       "      <td>-0.032172</td>\n",
       "      <td>0.139033</td>\n",
       "      <td>2.978566</td>\n",
       "      <td>168.620776</td>\n",
       "    </tr>\n",
       "    <tr>\n",
       "      <th>4</th>\n",
       "      <td>Xdl7t</td>\n",
       "      <td>1.988431</td>\n",
       "      <td>0.155413</td>\n",
       "      <td>4.751769</td>\n",
       "      <td>154.036647</td>\n",
       "    </tr>\n",
       "  </tbody>\n",
       "</table>\n",
       "</div>"
      ],
      "text/plain": [
       "      id        f0        f1        f2     product\n",
       "0  txEyH  0.705745 -0.497823  1.221170  105.280062\n",
       "1  2acmU  1.334711 -0.340164  4.365080   73.037750\n",
       "2  409Wp  1.022732  0.151990  1.419926   85.265647\n",
       "3  iJLyR -0.032172  0.139033  2.978566  168.620776\n",
       "4  Xdl7t  1.988431  0.155413  4.751769  154.036647"
      ]
     },
     "execution_count": 6,
     "metadata": {},
     "output_type": "execute_result"
    }
   ],
   "source": [
    "df_1.head()# взглянем на первые 5 строчек по каждому региону"
   ]
  },
  {
   "cell_type": "code",
   "execution_count": 7,
   "metadata": {},
   "outputs": [
    {
     "data": {
      "text/html": [
       "<div>\n",
       "<style scoped>\n",
       "    .dataframe tbody tr th:only-of-type {\n",
       "        vertical-align: middle;\n",
       "    }\n",
       "\n",
       "    .dataframe tbody tr th {\n",
       "        vertical-align: top;\n",
       "    }\n",
       "\n",
       "    .dataframe thead th {\n",
       "        text-align: right;\n",
       "    }\n",
       "</style>\n",
       "<table border=\"1\" class=\"dataframe\">\n",
       "  <thead>\n",
       "    <tr style=\"text-align: right;\">\n",
       "      <th></th>\n",
       "      <th>id</th>\n",
       "      <th>f0</th>\n",
       "      <th>f1</th>\n",
       "      <th>f2</th>\n",
       "      <th>product</th>\n",
       "    </tr>\n",
       "  </thead>\n",
       "  <tbody>\n",
       "    <tr>\n",
       "      <th>0</th>\n",
       "      <td>kBEdx</td>\n",
       "      <td>-15.001348</td>\n",
       "      <td>-8.276000</td>\n",
       "      <td>-0.005876</td>\n",
       "      <td>3.179103</td>\n",
       "    </tr>\n",
       "    <tr>\n",
       "      <th>1</th>\n",
       "      <td>62mP7</td>\n",
       "      <td>14.272088</td>\n",
       "      <td>-3.475083</td>\n",
       "      <td>0.999183</td>\n",
       "      <td>26.953261</td>\n",
       "    </tr>\n",
       "    <tr>\n",
       "      <th>2</th>\n",
       "      <td>vyE1P</td>\n",
       "      <td>6.263187</td>\n",
       "      <td>-5.948386</td>\n",
       "      <td>5.001160</td>\n",
       "      <td>134.766305</td>\n",
       "    </tr>\n",
       "    <tr>\n",
       "      <th>3</th>\n",
       "      <td>KcrkZ</td>\n",
       "      <td>-13.081196</td>\n",
       "      <td>-11.506057</td>\n",
       "      <td>4.999415</td>\n",
       "      <td>137.945408</td>\n",
       "    </tr>\n",
       "    <tr>\n",
       "      <th>4</th>\n",
       "      <td>AHL4O</td>\n",
       "      <td>12.702195</td>\n",
       "      <td>-8.147433</td>\n",
       "      <td>5.004363</td>\n",
       "      <td>134.766305</td>\n",
       "    </tr>\n",
       "  </tbody>\n",
       "</table>\n",
       "</div>"
      ],
      "text/plain": [
       "      id         f0         f1        f2     product\n",
       "0  kBEdx -15.001348  -8.276000 -0.005876    3.179103\n",
       "1  62mP7  14.272088  -3.475083  0.999183   26.953261\n",
       "2  vyE1P   6.263187  -5.948386  5.001160  134.766305\n",
       "3  KcrkZ -13.081196 -11.506057  4.999415  137.945408\n",
       "4  AHL4O  12.702195  -8.147433  5.004363  134.766305"
      ]
     },
     "execution_count": 7,
     "metadata": {},
     "output_type": "execute_result"
    }
   ],
   "source": [
    "df_2.head()# взглянем на первые 5 строчек по каждому региону"
   ]
  },
  {
   "cell_type": "code",
   "execution_count": 8,
   "metadata": {},
   "outputs": [
    {
     "data": {
      "text/html": [
       "<div>\n",
       "<style scoped>\n",
       "    .dataframe tbody tr th:only-of-type {\n",
       "        vertical-align: middle;\n",
       "    }\n",
       "\n",
       "    .dataframe tbody tr th {\n",
       "        vertical-align: top;\n",
       "    }\n",
       "\n",
       "    .dataframe thead th {\n",
       "        text-align: right;\n",
       "    }\n",
       "</style>\n",
       "<table border=\"1\" class=\"dataframe\">\n",
       "  <thead>\n",
       "    <tr style=\"text-align: right;\">\n",
       "      <th></th>\n",
       "      <th>id</th>\n",
       "      <th>f0</th>\n",
       "      <th>f1</th>\n",
       "      <th>f2</th>\n",
       "      <th>product</th>\n",
       "    </tr>\n",
       "  </thead>\n",
       "  <tbody>\n",
       "    <tr>\n",
       "      <th>0</th>\n",
       "      <td>fwXo0</td>\n",
       "      <td>-1.146987</td>\n",
       "      <td>0.963328</td>\n",
       "      <td>-0.828965</td>\n",
       "      <td>27.758673</td>\n",
       "    </tr>\n",
       "    <tr>\n",
       "      <th>1</th>\n",
       "      <td>WJtFt</td>\n",
       "      <td>0.262778</td>\n",
       "      <td>0.269839</td>\n",
       "      <td>-2.530187</td>\n",
       "      <td>56.069697</td>\n",
       "    </tr>\n",
       "    <tr>\n",
       "      <th>2</th>\n",
       "      <td>ovLUW</td>\n",
       "      <td>0.194587</td>\n",
       "      <td>0.289035</td>\n",
       "      <td>-5.586433</td>\n",
       "      <td>62.871910</td>\n",
       "    </tr>\n",
       "    <tr>\n",
       "      <th>3</th>\n",
       "      <td>q6cA6</td>\n",
       "      <td>2.236060</td>\n",
       "      <td>-0.553760</td>\n",
       "      <td>0.930038</td>\n",
       "      <td>114.572842</td>\n",
       "    </tr>\n",
       "    <tr>\n",
       "      <th>4</th>\n",
       "      <td>WPMUX</td>\n",
       "      <td>-0.515993</td>\n",
       "      <td>1.716266</td>\n",
       "      <td>5.899011</td>\n",
       "      <td>149.600746</td>\n",
       "    </tr>\n",
       "  </tbody>\n",
       "</table>\n",
       "</div>"
      ],
      "text/plain": [
       "      id        f0        f1        f2     product\n",
       "0  fwXo0 -1.146987  0.963328 -0.828965   27.758673\n",
       "1  WJtFt  0.262778  0.269839 -2.530187   56.069697\n",
       "2  ovLUW  0.194587  0.289035 -5.586433   62.871910\n",
       "3  q6cA6  2.236060 -0.553760  0.930038  114.572842\n",
       "4  WPMUX -0.515993  1.716266  5.899011  149.600746"
      ]
     },
     "execution_count": 8,
     "metadata": {},
     "output_type": "execute_result"
    }
   ],
   "source": [
    "df_3.head()# взглянем на первые 5 строчек по каждому региону"
   ]
  },
  {
   "cell_type": "code",
   "execution_count": 9,
   "metadata": {},
   "outputs": [
    {
     "data": {
      "text/plain": [
       "id         0\n",
       "f0         0\n",
       "f1         0\n",
       "f2         0\n",
       "product    0\n",
       "dtype: int64"
      ]
     },
     "execution_count": 9,
     "metadata": {},
     "output_type": "execute_result"
    }
   ],
   "source": [
    "df_1.isna().sum()# посмотрим количество пропущенных значений для каждого столбца"
   ]
  },
  {
   "cell_type": "code",
   "execution_count": 10,
   "metadata": {},
   "outputs": [
    {
     "data": {
      "text/plain": [
       "id         0\n",
       "f0         0\n",
       "f1         0\n",
       "f2         0\n",
       "product    0\n",
       "dtype: int64"
      ]
     },
     "execution_count": 10,
     "metadata": {},
     "output_type": "execute_result"
    }
   ],
   "source": [
    "df_2.isna().sum()# посмотрим количество пропущенных значений для каждого столбца"
   ]
  },
  {
   "cell_type": "code",
   "execution_count": 11,
   "metadata": {},
   "outputs": [
    {
     "data": {
      "text/plain": [
       "id         0\n",
       "f0         0\n",
       "f1         0\n",
       "f2         0\n",
       "product    0\n",
       "dtype: int64"
      ]
     },
     "execution_count": 11,
     "metadata": {},
     "output_type": "execute_result"
    }
   ],
   "source": [
    "df_3.isna().sum()# посмотрим количество пропущенных значений для каждого столбца"
   ]
  },
  {
   "cell_type": "code",
   "execution_count": 12,
   "metadata": {},
   "outputs": [
    {
     "data": {
      "text/plain": [
       "0"
      ]
     },
     "execution_count": 12,
     "metadata": {},
     "output_type": "execute_result"
    }
   ],
   "source": [
    "df_1.duplicated().sum()# проверим наши исходные данные на явные дубликаты"
   ]
  },
  {
   "cell_type": "code",
   "execution_count": 13,
   "metadata": {},
   "outputs": [
    {
     "data": {
      "text/plain": [
       "0"
      ]
     },
     "execution_count": 13,
     "metadata": {},
     "output_type": "execute_result"
    }
   ],
   "source": [
    "df_2.duplicated().sum()# проверим наши исходные данные на явные дубликаты"
   ]
  },
  {
   "cell_type": "code",
   "execution_count": 14,
   "metadata": {},
   "outputs": [
    {
     "data": {
      "text/plain": [
       "0"
      ]
     },
     "execution_count": 14,
     "metadata": {},
     "output_type": "execute_result"
    }
   ],
   "source": [
    "df_3.duplicated().sum()# проверим наши исходные данные на явные дубликаты"
   ]
  },
  {
   "cell_type": "code",
   "execution_count": 15,
   "metadata": {},
   "outputs": [
    {
     "data": {
      "text/plain": [
       "10"
      ]
     },
     "execution_count": 15,
     "metadata": {},
     "output_type": "execute_result"
    }
   ],
   "source": [
    "df_1['id'].duplicated().sum()# проверим наши исходные данные на неявные дубликаты"
   ]
  },
  {
   "cell_type": "code",
   "execution_count": 16,
   "metadata": {},
   "outputs": [],
   "source": [
    "df_1 = df_1.drop_duplicates (subset=['id'])# удалим дубликаты"
   ]
  },
  {
   "cell_type": "code",
   "execution_count": 17,
   "metadata": {},
   "outputs": [
    {
     "data": {
      "text/plain": [
       "4"
      ]
     },
     "execution_count": 17,
     "metadata": {},
     "output_type": "execute_result"
    }
   ],
   "source": [
    "df_2['id'].duplicated().sum()# проверим наши исходные данные на неявные дубликаты"
   ]
  },
  {
   "cell_type": "code",
   "execution_count": 18,
   "metadata": {},
   "outputs": [],
   "source": [
    "df_2 = df_2.drop_duplicates (subset=['id'])# удалим дубликаты"
   ]
  },
  {
   "cell_type": "code",
   "execution_count": 19,
   "metadata": {},
   "outputs": [
    {
     "data": {
      "text/plain": [
       "4"
      ]
     },
     "execution_count": 19,
     "metadata": {},
     "output_type": "execute_result"
    }
   ],
   "source": [
    "df_3['id'].duplicated().sum()# проверим наши исходные данные на неявные дубликаты"
   ]
  },
  {
   "cell_type": "code",
   "execution_count": 20,
   "metadata": {},
   "outputs": [],
   "source": [
    "df_3 = df_3.drop_duplicates (subset=['id'])# удалим дубликаты"
   ]
  },
  {
   "cell_type": "markdown",
   "metadata": {},
   "source": [
    "Найденных дубликатов совсем немного, но для чистоты эксперемента их лучше удалить."
   ]
  },
  {
   "cell_type": "code",
   "execution_count": 21,
   "metadata": {},
   "outputs": [],
   "source": [
    "df_1 = df_1.drop(['id'], axis=1)# удалим ненужные для модели столбцы\n",
    "df_2 = df_2.drop(['id'], axis=1)# удалим ненужные для модели столбцы\n",
    "df_3 = df_3.drop(['id'], axis=1)# удалим ненужные для модели столбцы"
   ]
  },
  {
   "cell_type": "markdown",
   "metadata": {},
   "source": [
    "Данные проверены и готовы к дальнейшим действиям."
   ]
  },
  {
   "cell_type": "markdown",
   "metadata": {},
   "source": [
    "## Обучение и проверка модели"
   ]
  },
  {
   "cell_type": "markdown",
   "metadata": {},
   "source": [
    "Поделим данные на обучающую и валидационную выборки."
   ]
  },
  {
   "cell_type": "code",
   "execution_count": 22,
   "metadata": {},
   "outputs": [],
   "source": [
    "df_1_train, df_1_valid = train_test_split(df_1, test_size=0.25, random_state=12345) # отделим 25% данных для валидационной выборки\n",
    "df_2_train, df_2_valid = train_test_split(df_2, test_size=0.25, random_state=12345) # отделим 25% данных для валидационной выборки\n",
    "df_3_train, df_3_valid = train_test_split(df_3, test_size=0.25, random_state=12345) # отделим 25% данных для валидационной выборки"
   ]
  },
  {
   "cell_type": "code",
   "execution_count": 23,
   "metadata": {},
   "outputs": [],
   "source": [
    "features_1 = df_1_train.drop(['product'], axis=1)\n",
    "target_1 = df_1_train['product']\n",
    "features_valid_1 = df_1_valid.drop(['product'], axis=1)\n",
    "target_valid_1 = df_1_valid['product']\n",
    "\n",
    "features_2 = df_2_train.drop(['product'], axis=1)\n",
    "target_2 = df_2_train['product']\n",
    "features_valid_2 = df_2_valid.drop(['product'], axis=1)\n",
    "target_valid_2 = df_2_valid['product']\n",
    "\n",
    "features_3 = df_3_train.drop(['product'], axis=1)\n",
    "target_3 = df_3_train['product']\n",
    "features_valid_3 = df_3_valid.drop(['product'], axis=1)\n",
    "target_valid_3 = df_3_valid['product']"
   ]
  },
  {
   "cell_type": "markdown",
   "metadata": {},
   "source": [
    "Обучим модели и посмотрим на средний запас сырья и RMSE."
   ]
  },
  {
   "cell_type": "code",
   "execution_count": 24,
   "metadata": {},
   "outputs": [
    {
     "name": "stdout",
     "output_type": "stream",
     "text": [
      "RMSE : 37.853527328872964\n",
      "Средний запас сырья : 92.78915638280621\n"
     ]
    }
   ],
   "source": [
    "model_1 = LinearRegression()# применим метод\n",
    "model_1.fit(features_1, target_1)# обучим модель\n",
    "predicted_1 = model_1.predict(features_valid_1)\n",
    "np_array_1 = np.array(predicted_1)\n",
    "new_predicted_1 = pd.Series(np_array_1, index = target_valid_1.index)\n",
    "rmse_1 = mean_squared_error(target_valid_1, predicted_1) ** 0.5\n",
    "print('RMSE :',rmse_1)\n",
    "print('Средний запас сырья :', predicted_1.mean())"
   ]
  },
  {
   "cell_type": "code",
   "execution_count": 25,
   "metadata": {},
   "outputs": [
    {
     "name": "stdout",
     "output_type": "stream",
     "text": [
      "RMSE : 0.892059264771703\n",
      "Средний запас сырья : 69.17831957030432\n"
     ]
    }
   ],
   "source": [
    "model_2 = LinearRegression()# применим метод\n",
    "model_2.fit(features_2, target_2)# обучим модель\n",
    "predicted_2 = model_2.predict(features_valid_2)\n",
    "np_array_2 = np.array(predicted_2)\n",
    "new_predicted_2 = pd.Series(np_array_2, index = target_valid_2.index)\n",
    "rmse_2 = mean_squared_error(target_valid_2, predicted_2) ** 0.5\n",
    "print('RMSE :',rmse_2)\n",
    "print('Средний запас сырья :', predicted_2.mean())"
   ]
  },
  {
   "cell_type": "code",
   "execution_count": 26,
   "metadata": {},
   "outputs": [
    {
     "name": "stdout",
     "output_type": "stream",
     "text": [
      "RMSE : 40.07585073246016\n",
      "Средний запас сырья : 94.86572480562035\n"
     ]
    }
   ],
   "source": [
    "model_3 = LinearRegression()# применим метод\n",
    "model_3.fit(features_3, target_3)# обучим модель\n",
    "predicted_3 = model_3.predict(features_valid_3)\n",
    "np_array_3 = np.array(predicted_3)\n",
    "new_predicted_3 = pd.Series(np_array_3, index = target_valid_3.index)\n",
    "rmse_3 = mean_squared_error(target_valid_3, predicted_3) ** 0.5\n",
    "print('RMSE :',rmse_3)\n",
    "print('Средний запас сырья :', predicted_3.mean())"
   ]
  },
  {
   "cell_type": "markdown",
   "metadata": {},
   "source": [
    "Самый низкий запас сырья во втором регионе, но метрика RMSE выдает показатель значительно лучше первого и третьего регионов."
   ]
  },
  {
   "cell_type": "markdown",
   "metadata": {},
   "source": [
    "## Подготовка к расчёту прибыли"
   ]
  },
  {
   "cell_type": "markdown",
   "metadata": {},
   "source": [
    "- При разведке региона исследуют 500 точек, из которых с помощью машинного обучения выбирают 200 лучших для разработки.\n",
    "- Бюджет на разработку скважин в регионе — 10 млрд рублей.\n",
    "- При нынешних ценах один баррель сырья приносит 450 рублей дохода. Доход с каждой единицы продукта составляет 450 тыс. рублей, поскольку объём указан в тысячах баррелей."
   ]
  },
  {
   "cell_type": "code",
   "execution_count": 27,
   "metadata": {},
   "outputs": [],
   "source": [
    "BUDGET = 10000000000\n",
    "BARELL_PRICE = 450000\n",
    "BOREHOLE = 500\n",
    "TOP_BOREHOLE = 200"
   ]
  },
  {
   "cell_type": "code",
   "execution_count": 28,
   "metadata": {},
   "outputs": [
    {
     "data": {
      "text/plain": [
       "111.11111111111111"
      ]
     },
     "execution_count": 28,
     "metadata": {},
     "output_type": "execute_result"
    }
   ],
   "source": [
    "WITHOUT_lOSS = BUDGET/BARELL_PRICE/TOP_BOREHOLE\n",
    "WITHOUT_lOSS"
   ]
  },
  {
   "cell_type": "markdown",
   "metadata": {},
   "source": [
    "Что бы добится безубыточной разработки минимальное среднее значение запасов сырья в каждой из 200 лучших скважин региона должна ровняться 111.11111111111111.\n",
    "Напомню общее среднее со всех скважин в регионе : 92.78915638280621, 69.1783195703043, 94.86572480562035."
   ]
  },
  {
   "cell_type": "markdown",
   "metadata": {},
   "source": [
    "## Расчёт прибыли и рисков "
   ]
  },
  {
   "cell_type": "markdown",
   "metadata": {},
   "source": [
    "Вся предварительная работа проделана. Пора уже выяснить какой же регион является предпочтительным для разработки."
   ]
  },
  {
   "cell_type": "code",
   "execution_count": 29,
   "metadata": {},
   "outputs": [],
   "source": [
    "def oil(target, predictions, price, count):\n",
    "    pred_sorted = predictions.sort_values(ascending=False)\n",
    "    pred_count = target[pred_sorted.index][:count]\n",
    "    return price * pred_count.sum() - BUDGET "
   ]
  },
  {
   "cell_type": "code",
   "execution_count": 30,
   "metadata": {},
   "outputs": [],
   "source": [
    "state = np.random.RandomState(12345)"
   ]
  },
  {
   "cell_type": "code",
   "execution_count": 31,
   "metadata": {},
   "outputs": [
    {
     "name": "stdout",
     "output_type": "stream",
     "text": [
      "Средняя выручка 409428038.62143606\n",
      "Риск убыточности 7.1000000000000005\n",
      "95%-й Доверительный интервал: от -131536028.70166382 до 944395582.7546725\n"
     ]
    }
   ],
   "source": [
    "values = []\n",
    "for i in range(1000):\n",
    "    target_i = target_valid_1.sample(replace = True, random_state = state, n = BOREHOLE)\n",
    "    predicted_i = new_predicted_1[target_i.index]\n",
    "    values.append(oil(target_i,predicted_i,BARELL_PRICE, TOP_BOREHOLE))\n",
    "\n",
    "values = pd.Series(values)\n",
    "\n",
    "lower = values.quantile(0.025)\n",
    "upper = values.quantile(0.975)\n",
    "    \n",
    "print(\"Средняя выручка\", values.mean())\n",
    "print(\"Риск убыточности\", st.percentileofscore(values, 0))\n",
    "print(\"95%-й Доверительный интервал: от\",lower,\"до\",upper)"
   ]
  },
  {
   "cell_type": "code",
   "execution_count": 32,
   "metadata": {},
   "outputs": [
    {
     "name": "stdout",
     "output_type": "stream",
     "text": [
      "Средняя выручка 536400199.43510306\n",
      "Риск убыточности 0.30000000000000004\n",
      "95%-й Доверительный интервал: от 112954247.12370124 до 998504156.6468805\n"
     ]
    }
   ],
   "source": [
    "values = []\n",
    "for i in range(1000):\n",
    "    target_i = target_valid_2.sample(replace = True, random_state = state, n = BOREHOLE)\n",
    "    predicted_i = new_predicted_2[target_i.index]\n",
    "    values.append(oil(target_i,predicted_i,BARELL_PRICE, TOP_BOREHOLE))\n",
    "\n",
    "values = pd.Series(values)\n",
    "\n",
    "lower = values.quantile(0.025)\n",
    "upper = values.quantile(0.975)\n",
    "    \n",
    "print(\"Средняя выручка\", values.mean())\n",
    "print(\"Риск убыточности\", st.percentileofscore(values, 0))\n",
    "print(\"95%-й Доверительный интервал: от\",lower,\"до\",upper)"
   ]
  },
  {
   "cell_type": "code",
   "execution_count": 33,
   "metadata": {},
   "outputs": [
    {
     "name": "stdout",
     "output_type": "stream",
     "text": [
      "Средняя выручка 339478034.1977997\n",
      "Риск убыточности 11.8\n",
      "95%-й Доверительный интервал: от -224089221.7440758 до 847067587.6863929\n"
     ]
    }
   ],
   "source": [
    "values = []\n",
    "for i in range(1000):\n",
    "    target_i = target_valid_3.sample(replace = True, random_state = state, n = BOREHOLE)\n",
    "    predicted_i = new_predicted_3[target_i.index]\n",
    "    values.append(oil(target_i,predicted_i,BARELL_PRICE, TOP_BOREHOLE))\n",
    "\n",
    "values = pd.Series(values)\n",
    "\n",
    "lower = values.quantile(0.025)\n",
    "upper = values.quantile(0.975)\n",
    "    \n",
    "print(\"Средняя выручка\", values.mean())\n",
    "print(\"Риск убыточности\", st.percentileofscore(values, 0))\n",
    "print(\"95%-й Доверительный интервал: от\",lower,\"до\",upper)"
   ]
  },
  {
   "cell_type": "markdown",
   "metadata": {},
   "source": [
    "### Вывод"
   ]
  },
  {
   "cell_type": "markdown",
   "metadata": {},
   "source": [
    "Итак мы провели исследование трех регинов для выявления самого потенциально прибыльного из них. И проверить его на риск убыточности перед вложением денег в разработку.\n",
    "Получили следующие результаты:\n",
    "\n",
    "Регион 1:\n",
    "- Средний запас сырья : 92.78915638280621\n",
    "- Средняя выручка 409428038.6214359\n",
    "- Риск убыточности 7.1\n",
    "- 95%-й Доверительный интервал: от -131536028.70166382 до 944395582.7546725\n",
    "\n",
    "Регион 2:\n",
    "- Средний запас сырья : 69.1783195703043\n",
    "- Средняя выручка 536400199.43510294\n",
    "- Риск убыточности 0.3\n",
    "- 95%-й Доверительный интервал: от 112954247.12370124 до 998504156.6468805\n",
    "\n",
    "Регион 3:\n",
    "- Средний запас сырья : 94.86572480562035\n",
    "- Средняя выручка 339478034.1977996\n",
    "- Риск убыточности 11.8\n",
    "- 95%-й Доверительный интервал: от -224089221.7440758 до 847067587.6863929\n"
   ]
  },
  {
   "cell_type": "markdown",
   "metadata": {},
   "source": [
    "По получившимся данным видно, что несмотря на самый небольшой запас сырья - наиболее подходящим и единственным отвечающим предъявленным требованиям является регион 2!\n",
    "Именно его и рекомендую к вложению средств и последующей разработке с минимальными рисками!"
   ]
  }
 ],
 "metadata": {
  "ExecuteTimeLog": [
   {
    "duration": 1247,
    "start_time": "2023-03-27T08:57:43.802Z"
   },
   {
    "duration": 360,
    "start_time": "2023-03-27T08:57:45.051Z"
   },
   {
    "duration": 332,
    "start_time": "2023-03-27T08:57:45.413Z"
   },
   {
    "duration": 374,
    "start_time": "2023-03-27T08:57:45.746Z"
   },
   {
    "duration": 32,
    "start_time": "2023-03-27T08:57:46.123Z"
   },
   {
    "duration": 38,
    "start_time": "2023-03-27T08:57:46.157Z"
   },
   {
    "duration": 50,
    "start_time": "2023-03-27T08:57:46.205Z"
   },
   {
    "duration": 57,
    "start_time": "2023-03-27T08:57:46.258Z"
   },
   {
    "duration": 31,
    "start_time": "2023-03-27T08:57:46.317Z"
   },
   {
    "duration": 59,
    "start_time": "2023-03-27T08:57:46.350Z"
   },
   {
    "duration": 11,
    "start_time": "2023-03-27T08:57:46.426Z"
   },
   {
    "duration": 63,
    "start_time": "2023-03-27T08:57:46.439Z"
   },
   {
    "duration": 54,
    "start_time": "2023-03-27T08:57:46.504Z"
   },
   {
    "duration": 72,
    "start_time": "2023-03-27T08:57:46.562Z"
   },
   {
    "duration": 18,
    "start_time": "2023-03-27T08:57:46.637Z"
   },
   {
    "duration": 50,
    "start_time": "2023-03-27T08:57:46.657Z"
   },
   {
    "duration": 41,
    "start_time": "2023-03-27T08:57:46.714Z"
   },
   {
    "duration": 39,
    "start_time": "2023-03-27T08:57:46.757Z"
   },
   {
    "duration": 36,
    "start_time": "2023-03-27T08:57:46.803Z"
   },
   {
    "duration": 24,
    "start_time": "2023-03-27T08:57:46.840Z"
   },
   {
    "duration": 31,
    "start_time": "2023-03-27T08:57:46.866Z"
   },
   {
    "duration": 35,
    "start_time": "2023-03-27T08:57:46.906Z"
   },
   {
    "duration": 13,
    "start_time": "2023-03-27T08:57:46.944Z"
   },
   {
    "duration": 52,
    "start_time": "2023-03-27T08:57:46.959Z"
   },
   {
    "duration": 72,
    "start_time": "2023-03-27T08:57:47.013Z"
   },
   {
    "duration": 102,
    "start_time": "2023-03-27T08:57:47.087Z"
   },
   {
    "duration": 33,
    "start_time": "2023-03-27T08:57:47.191Z"
   },
   {
    "duration": 190,
    "start_time": "2023-03-27T08:57:47.226Z"
   },
   {
    "duration": 0,
    "start_time": "2023-03-27T08:57:47.418Z"
   },
   {
    "duration": 0,
    "start_time": "2023-03-27T08:57:47.419Z"
   },
   {
    "duration": 0,
    "start_time": "2023-03-27T08:57:47.421Z"
   },
   {
    "duration": 0,
    "start_time": "2023-03-27T08:57:47.422Z"
   },
   {
    "duration": 0,
    "start_time": "2023-03-27T08:57:47.423Z"
   },
   {
    "duration": 1126,
    "start_time": "2023-03-27T09:08:28.702Z"
   },
   {
    "duration": 218,
    "start_time": "2023-03-27T09:08:29.831Z"
   },
   {
    "duration": 202,
    "start_time": "2023-03-27T09:08:30.050Z"
   },
   {
    "duration": 198,
    "start_time": "2023-03-27T09:08:30.255Z"
   },
   {
    "duration": 46,
    "start_time": "2023-03-27T09:08:30.455Z"
   },
   {
    "duration": 39,
    "start_time": "2023-03-27T09:08:30.511Z"
   },
   {
    "duration": 54,
    "start_time": "2023-03-27T09:08:30.551Z"
   },
   {
    "duration": 26,
    "start_time": "2023-03-27T09:08:30.607Z"
   },
   {
    "duration": 47,
    "start_time": "2023-03-27T09:08:30.634Z"
   },
   {
    "duration": 72,
    "start_time": "2023-03-27T09:08:30.684Z"
   },
   {
    "duration": 51,
    "start_time": "2023-03-27T09:08:30.758Z"
   },
   {
    "duration": 84,
    "start_time": "2023-03-27T09:08:30.811Z"
   },
   {
    "duration": 53,
    "start_time": "2023-03-27T09:08:30.897Z"
   },
   {
    "duration": 50,
    "start_time": "2023-03-27T09:08:30.951Z"
   },
   {
    "duration": 32,
    "start_time": "2023-03-27T09:08:31.003Z"
   },
   {
    "duration": 55,
    "start_time": "2023-03-27T09:08:31.037Z"
   },
   {
    "duration": 51,
    "start_time": "2023-03-27T09:08:31.094Z"
   },
   {
    "duration": 78,
    "start_time": "2023-03-27T09:08:31.147Z"
   },
   {
    "duration": 27,
    "start_time": "2023-03-27T09:08:31.227Z"
   },
   {
    "duration": 84,
    "start_time": "2023-03-27T09:08:31.256Z"
   },
   {
    "duration": 26,
    "start_time": "2023-03-27T09:08:31.341Z"
   },
   {
    "duration": 78,
    "start_time": "2023-03-27T09:08:31.369Z"
   },
   {
    "duration": 12,
    "start_time": "2023-03-27T09:08:31.448Z"
   },
   {
    "duration": 62,
    "start_time": "2023-03-27T09:08:31.461Z"
   },
   {
    "duration": 100,
    "start_time": "2023-03-27T09:08:31.524Z"
   },
   {
    "duration": 146,
    "start_time": "2023-03-27T09:08:31.628Z"
   },
   {
    "duration": 99,
    "start_time": "2023-03-27T09:08:31.776Z"
   },
   {
    "duration": 75,
    "start_time": "2023-03-27T09:08:31.882Z"
   },
   {
    "duration": 57,
    "start_time": "2023-03-27T09:08:31.958Z"
   },
   {
    "duration": 36,
    "start_time": "2023-03-27T09:08:32.016Z"
   },
   {
    "duration": 1324,
    "start_time": "2023-03-27T09:08:32.054Z"
   },
   {
    "duration": 1231,
    "start_time": "2023-03-27T09:08:33.379Z"
   },
   {
    "duration": 1313,
    "start_time": "2023-03-27T09:08:34.612Z"
   },
   {
    "duration": 1175,
    "start_time": "2023-03-27T09:25:32.915Z"
   },
   {
    "duration": 321,
    "start_time": "2023-03-27T09:25:34.103Z"
   },
   {
    "duration": 226,
    "start_time": "2023-03-27T09:25:34.426Z"
   },
   {
    "duration": 279,
    "start_time": "2023-03-27T09:25:34.654Z"
   },
   {
    "duration": 31,
    "start_time": "2023-03-27T09:25:34.935Z"
   },
   {
    "duration": 34,
    "start_time": "2023-03-27T09:25:34.967Z"
   },
   {
    "duration": 20,
    "start_time": "2023-03-27T09:25:35.003Z"
   },
   {
    "duration": 15,
    "start_time": "2023-03-27T09:25:35.025Z"
   },
   {
    "duration": 23,
    "start_time": "2023-03-27T09:25:35.041Z"
   },
   {
    "duration": 24,
    "start_time": "2023-03-27T09:25:35.067Z"
   },
   {
    "duration": 18,
    "start_time": "2023-03-27T09:25:35.101Z"
   },
   {
    "duration": 43,
    "start_time": "2023-03-27T09:25:35.121Z"
   },
   {
    "duration": 53,
    "start_time": "2023-03-27T09:25:35.166Z"
   },
   {
    "duration": 44,
    "start_time": "2023-03-27T09:25:35.220Z"
   },
   {
    "duration": 18,
    "start_time": "2023-03-27T09:25:35.278Z"
   },
   {
    "duration": 47,
    "start_time": "2023-03-27T09:25:35.298Z"
   },
   {
    "duration": 18,
    "start_time": "2023-03-27T09:25:35.346Z"
   },
   {
    "duration": 67,
    "start_time": "2023-03-27T09:25:35.365Z"
   },
   {
    "duration": 16,
    "start_time": "2023-03-27T09:25:35.434Z"
   },
   {
    "duration": 22,
    "start_time": "2023-03-27T09:25:35.451Z"
   },
   {
    "duration": 22,
    "start_time": "2023-03-27T09:25:35.475Z"
   },
   {
    "duration": 33,
    "start_time": "2023-03-27T09:25:35.499Z"
   },
   {
    "duration": 13,
    "start_time": "2023-03-27T09:25:35.534Z"
   },
   {
    "duration": 44,
    "start_time": "2023-03-27T09:25:35.549Z"
   },
   {
    "duration": 99,
    "start_time": "2023-03-27T09:25:35.598Z"
   },
   {
    "duration": 182,
    "start_time": "2023-03-27T09:25:35.699Z"
   },
   {
    "duration": 22,
    "start_time": "2023-03-27T09:25:35.882Z"
   },
   {
    "duration": 40,
    "start_time": "2023-03-27T09:25:35.978Z"
   },
   {
    "duration": 21,
    "start_time": "2023-03-27T09:25:36.020Z"
   },
   {
    "duration": 18,
    "start_time": "2023-03-27T09:25:36.044Z"
   },
   {
    "duration": 1373,
    "start_time": "2023-03-27T09:25:36.064Z"
   },
   {
    "duration": 1193,
    "start_time": "2023-03-27T09:25:37.438Z"
   },
   {
    "duration": 1276,
    "start_time": "2023-03-27T09:25:38.633Z"
   }
  ],
  "kernelspec": {
   "display_name": "Python 3 (ipykernel)",
   "language": "python",
   "name": "python3"
  },
  "language_info": {
   "codemirror_mode": {
    "name": "ipython",
    "version": 3
   },
   "file_extension": ".py",
   "mimetype": "text/x-python",
   "name": "python",
   "nbconvert_exporter": "python",
   "pygments_lexer": "ipython3",
   "version": "3.9.13"
  },
  "toc": {
   "base_numbering": 1,
   "nav_menu": {},
   "number_sections": true,
   "sideBar": true,
   "skip_h1_title": true,
   "title_cell": "Table of Contents",
   "title_sidebar": "Contents",
   "toc_cell": false,
   "toc_position": {},
   "toc_section_display": true,
   "toc_window_display": false
  }
 },
 "nbformat": 4,
 "nbformat_minor": 2
}
