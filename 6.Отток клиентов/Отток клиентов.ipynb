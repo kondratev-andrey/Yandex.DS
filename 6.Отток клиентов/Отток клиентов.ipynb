{
 "cells": [
  {
   "cell_type": "markdown",
   "metadata": {},
   "source": [
    "# Отток клиентов"
   ]
  },
  {
   "cell_type": "markdown",
   "metadata": {},
   "source": [
    "Из «Бета-Банка» стали уходить клиенты. Каждый месяц. Немного, но заметно. Банковские маркетологи посчитали: сохранять текущих клиентов дешевле, чем привлекать новых.\n",
    "\n",
    "Нужно спрогнозировать, уйдёт клиент из банка в ближайшее время или нет. Вам предоставлены исторические данные о поведении клиентов и расторжении договоров с банком. \n",
    "\n",
    "Постройте модель с предельно большим значением *F1*-меры. Чтобы сдать проект успешно, нужно довести метрику до 0.59. Проверьте *F1*-меру на тестовой выборке самостоятельно.\n",
    "\n",
    "Дополнительно измеряйте *AUC-ROC*, сравнивайте её значение с *F1*-мерой.\n",
    "\n",
    "Источник данных: [https://www.kaggle.com/barelydedicated/bank-customer-churn-modeling](https://www.kaggle.com/barelydedicated/bank-customer-churn-modeling)"
   ]
  },
  {
   "cell_type": "markdown",
   "metadata": {},
   "source": [
    "## Подготовка данных"
   ]
  },
  {
   "cell_type": "markdown",
   "metadata": {},
   "source": [
    "Импортируем нужные библиотеки, посмотрим общие данные, проверим на дубликаты."
   ]
  },
  {
   "cell_type": "code",
   "execution_count": 1,
   "metadata": {},
   "outputs": [],
   "source": [
    "import pandas as pd# Импортирую нужные в работе библиотеки\n",
    "import matplotlib.pyplot as plt\n",
    "from sklearn.model_selection import train_test_split\n",
    "from sklearn.linear_model import LogisticRegression\n",
    "from sklearn.tree import DecisionTreeClassifier\n",
    "from sklearn.preprocessing import OrdinalEncoder\n",
    "from sklearn.preprocessing import StandardScaler \n",
    "from sklearn.metrics import f1_score \n",
    "from sklearn.ensemble import RandomForestClassifier\n",
    "from sklearn.utils import shuffle\n",
    "from sklearn.metrics import roc_auc_score "
   ]
  },
  {
   "cell_type": "code",
   "execution_count": 2,
   "metadata": {},
   "outputs": [],
   "source": [
    "try:\n",
    "\n",
    "    df_1= pd.read_csv('C:/Users/Пользователь/OneDrive/Документы/Python/Churn.csv')\n",
    "   \n",
    "except:\n",
    "\n",
    "    df = pd.read_csv('/datasets/Churn.csv')# Откроем фаил"
   ]
  },
  {
   "cell_type": "code",
   "execution_count": 3,
   "metadata": {},
   "outputs": [
    {
     "name": "stdout",
     "output_type": "stream",
     "text": [
      "<class 'pandas.core.frame.DataFrame'>\n",
      "RangeIndex: 10000 entries, 0 to 9999\n",
      "Data columns (total 14 columns):\n",
      " #   Column           Non-Null Count  Dtype  \n",
      "---  ------           --------------  -----  \n",
      " 0   RowNumber        10000 non-null  int64  \n",
      " 1   CustomerId       10000 non-null  int64  \n",
      " 2   Surname          10000 non-null  object \n",
      " 3   CreditScore      10000 non-null  int64  \n",
      " 4   Geography        10000 non-null  object \n",
      " 5   Gender           10000 non-null  object \n",
      " 6   Age              10000 non-null  int64  \n",
      " 7   Tenure           9091 non-null   float64\n",
      " 8   Balance          10000 non-null  float64\n",
      " 9   NumOfProducts    10000 non-null  int64  \n",
      " 10  HasCrCard        10000 non-null  int64  \n",
      " 11  IsActiveMember   10000 non-null  int64  \n",
      " 12  EstimatedSalary  10000 non-null  float64\n",
      " 13  Exited           10000 non-null  int64  \n",
      "dtypes: float64(3), int64(8), object(3)\n",
      "memory usage: 1.1+ MB\n"
     ]
    }
   ],
   "source": [
    "df.info()# Посмотрим общую информацию"
   ]
  },
  {
   "cell_type": "code",
   "execution_count": 4,
   "metadata": {},
   "outputs": [
    {
     "data": {
      "text/html": [
       "<div>\n",
       "<style scoped>\n",
       "    .dataframe tbody tr th:only-of-type {\n",
       "        vertical-align: middle;\n",
       "    }\n",
       "\n",
       "    .dataframe tbody tr th {\n",
       "        vertical-align: top;\n",
       "    }\n",
       "\n",
       "    .dataframe thead th {\n",
       "        text-align: right;\n",
       "    }\n",
       "</style>\n",
       "<table border=\"1\" class=\"dataframe\">\n",
       "  <thead>\n",
       "    <tr style=\"text-align: right;\">\n",
       "      <th></th>\n",
       "      <th>RowNumber</th>\n",
       "      <th>CustomerId</th>\n",
       "      <th>Surname</th>\n",
       "      <th>CreditScore</th>\n",
       "      <th>Geography</th>\n",
       "      <th>Gender</th>\n",
       "      <th>Age</th>\n",
       "      <th>Tenure</th>\n",
       "      <th>Balance</th>\n",
       "      <th>NumOfProducts</th>\n",
       "      <th>HasCrCard</th>\n",
       "      <th>IsActiveMember</th>\n",
       "      <th>EstimatedSalary</th>\n",
       "      <th>Exited</th>\n",
       "    </tr>\n",
       "  </thead>\n",
       "  <tbody>\n",
       "    <tr>\n",
       "      <th>0</th>\n",
       "      <td>1</td>\n",
       "      <td>15634602</td>\n",
       "      <td>Hargrave</td>\n",
       "      <td>619</td>\n",
       "      <td>France</td>\n",
       "      <td>Female</td>\n",
       "      <td>42</td>\n",
       "      <td>2.0</td>\n",
       "      <td>0.00</td>\n",
       "      <td>1</td>\n",
       "      <td>1</td>\n",
       "      <td>1</td>\n",
       "      <td>101348.88</td>\n",
       "      <td>1</td>\n",
       "    </tr>\n",
       "    <tr>\n",
       "      <th>1</th>\n",
       "      <td>2</td>\n",
       "      <td>15647311</td>\n",
       "      <td>Hill</td>\n",
       "      <td>608</td>\n",
       "      <td>Spain</td>\n",
       "      <td>Female</td>\n",
       "      <td>41</td>\n",
       "      <td>1.0</td>\n",
       "      <td>83807.86</td>\n",
       "      <td>1</td>\n",
       "      <td>0</td>\n",
       "      <td>1</td>\n",
       "      <td>112542.58</td>\n",
       "      <td>0</td>\n",
       "    </tr>\n",
       "    <tr>\n",
       "      <th>2</th>\n",
       "      <td>3</td>\n",
       "      <td>15619304</td>\n",
       "      <td>Onio</td>\n",
       "      <td>502</td>\n",
       "      <td>France</td>\n",
       "      <td>Female</td>\n",
       "      <td>42</td>\n",
       "      <td>8.0</td>\n",
       "      <td>159660.80</td>\n",
       "      <td>3</td>\n",
       "      <td>1</td>\n",
       "      <td>0</td>\n",
       "      <td>113931.57</td>\n",
       "      <td>1</td>\n",
       "    </tr>\n",
       "    <tr>\n",
       "      <th>3</th>\n",
       "      <td>4</td>\n",
       "      <td>15701354</td>\n",
       "      <td>Boni</td>\n",
       "      <td>699</td>\n",
       "      <td>France</td>\n",
       "      <td>Female</td>\n",
       "      <td>39</td>\n",
       "      <td>1.0</td>\n",
       "      <td>0.00</td>\n",
       "      <td>2</td>\n",
       "      <td>0</td>\n",
       "      <td>0</td>\n",
       "      <td>93826.63</td>\n",
       "      <td>0</td>\n",
       "    </tr>\n",
       "    <tr>\n",
       "      <th>4</th>\n",
       "      <td>5</td>\n",
       "      <td>15737888</td>\n",
       "      <td>Mitchell</td>\n",
       "      <td>850</td>\n",
       "      <td>Spain</td>\n",
       "      <td>Female</td>\n",
       "      <td>43</td>\n",
       "      <td>2.0</td>\n",
       "      <td>125510.82</td>\n",
       "      <td>1</td>\n",
       "      <td>1</td>\n",
       "      <td>1</td>\n",
       "      <td>79084.10</td>\n",
       "      <td>0</td>\n",
       "    </tr>\n",
       "    <tr>\n",
       "      <th>5</th>\n",
       "      <td>6</td>\n",
       "      <td>15574012</td>\n",
       "      <td>Chu</td>\n",
       "      <td>645</td>\n",
       "      <td>Spain</td>\n",
       "      <td>Male</td>\n",
       "      <td>44</td>\n",
       "      <td>8.0</td>\n",
       "      <td>113755.78</td>\n",
       "      <td>2</td>\n",
       "      <td>1</td>\n",
       "      <td>0</td>\n",
       "      <td>149756.71</td>\n",
       "      <td>1</td>\n",
       "    </tr>\n",
       "    <tr>\n",
       "      <th>6</th>\n",
       "      <td>7</td>\n",
       "      <td>15592531</td>\n",
       "      <td>Bartlett</td>\n",
       "      <td>822</td>\n",
       "      <td>France</td>\n",
       "      <td>Male</td>\n",
       "      <td>50</td>\n",
       "      <td>7.0</td>\n",
       "      <td>0.00</td>\n",
       "      <td>2</td>\n",
       "      <td>1</td>\n",
       "      <td>1</td>\n",
       "      <td>10062.80</td>\n",
       "      <td>0</td>\n",
       "    </tr>\n",
       "    <tr>\n",
       "      <th>7</th>\n",
       "      <td>8</td>\n",
       "      <td>15656148</td>\n",
       "      <td>Obinna</td>\n",
       "      <td>376</td>\n",
       "      <td>Germany</td>\n",
       "      <td>Female</td>\n",
       "      <td>29</td>\n",
       "      <td>4.0</td>\n",
       "      <td>115046.74</td>\n",
       "      <td>4</td>\n",
       "      <td>1</td>\n",
       "      <td>0</td>\n",
       "      <td>119346.88</td>\n",
       "      <td>1</td>\n",
       "    </tr>\n",
       "    <tr>\n",
       "      <th>8</th>\n",
       "      <td>9</td>\n",
       "      <td>15792365</td>\n",
       "      <td>He</td>\n",
       "      <td>501</td>\n",
       "      <td>France</td>\n",
       "      <td>Male</td>\n",
       "      <td>44</td>\n",
       "      <td>4.0</td>\n",
       "      <td>142051.07</td>\n",
       "      <td>2</td>\n",
       "      <td>0</td>\n",
       "      <td>1</td>\n",
       "      <td>74940.50</td>\n",
       "      <td>0</td>\n",
       "    </tr>\n",
       "    <tr>\n",
       "      <th>9</th>\n",
       "      <td>10</td>\n",
       "      <td>15592389</td>\n",
       "      <td>H?</td>\n",
       "      <td>684</td>\n",
       "      <td>France</td>\n",
       "      <td>Male</td>\n",
       "      <td>27</td>\n",
       "      <td>2.0</td>\n",
       "      <td>134603.88</td>\n",
       "      <td>1</td>\n",
       "      <td>1</td>\n",
       "      <td>1</td>\n",
       "      <td>71725.73</td>\n",
       "      <td>0</td>\n",
       "    </tr>\n",
       "  </tbody>\n",
       "</table>\n",
       "</div>"
      ],
      "text/plain": [
       "   RowNumber  CustomerId   Surname  CreditScore Geography  Gender  Age  \\\n",
       "0          1    15634602  Hargrave          619    France  Female   42   \n",
       "1          2    15647311      Hill          608     Spain  Female   41   \n",
       "2          3    15619304      Onio          502    France  Female   42   \n",
       "3          4    15701354      Boni          699    France  Female   39   \n",
       "4          5    15737888  Mitchell          850     Spain  Female   43   \n",
       "5          6    15574012       Chu          645     Spain    Male   44   \n",
       "6          7    15592531  Bartlett          822    France    Male   50   \n",
       "7          8    15656148    Obinna          376   Germany  Female   29   \n",
       "8          9    15792365        He          501    France    Male   44   \n",
       "9         10    15592389        H?          684    France    Male   27   \n",
       "\n",
       "   Tenure    Balance  NumOfProducts  HasCrCard  IsActiveMember  \\\n",
       "0     2.0       0.00              1          1               1   \n",
       "1     1.0   83807.86              1          0               1   \n",
       "2     8.0  159660.80              3          1               0   \n",
       "3     1.0       0.00              2          0               0   \n",
       "4     2.0  125510.82              1          1               1   \n",
       "5     8.0  113755.78              2          1               0   \n",
       "6     7.0       0.00              2          1               1   \n",
       "7     4.0  115046.74              4          1               0   \n",
       "8     4.0  142051.07              2          0               1   \n",
       "9     2.0  134603.88              1          1               1   \n",
       "\n",
       "   EstimatedSalary  Exited  \n",
       "0        101348.88       1  \n",
       "1        112542.58       0  \n",
       "2        113931.57       1  \n",
       "3         93826.63       0  \n",
       "4         79084.10       0  \n",
       "5        149756.71       1  \n",
       "6         10062.80       0  \n",
       "7        119346.88       1  \n",
       "8         74940.50       0  \n",
       "9         71725.73       0  "
      ]
     },
     "execution_count": 4,
     "metadata": {},
     "output_type": "execute_result"
    }
   ],
   "source": [
    "df.head(10)# взглянем на первые 10 строчек "
   ]
  },
  {
   "cell_type": "code",
   "execution_count": 5,
   "metadata": {},
   "outputs": [],
   "source": [
    "df.columns = map(str.lower, df.columns)# преведем названия столбцов к нижнему регистру"
   ]
  },
  {
   "cell_type": "code",
   "execution_count": 6,
   "metadata": {},
   "outputs": [
    {
     "data": {
      "text/plain": [
       "rownumber            0\n",
       "customerid           0\n",
       "surname              0\n",
       "creditscore          0\n",
       "geography            0\n",
       "gender               0\n",
       "age                  0\n",
       "tenure             909\n",
       "balance              0\n",
       "numofproducts        0\n",
       "hascrcard            0\n",
       "isactivemember       0\n",
       "estimatedsalary      0\n",
       "exited               0\n",
       "dtype: int64"
      ]
     },
     "execution_count": 6,
     "metadata": {},
     "output_type": "execute_result"
    }
   ],
   "source": [
    "df.isna().sum()# посмотрим количество пропущенных значений для каждого столбца"
   ]
  },
  {
   "cell_type": "code",
   "execution_count": 7,
   "metadata": {},
   "outputs": [
    {
     "data": {
      "text/plain": [
       "array([ 2.,  1.,  8.,  7.,  4.,  6.,  3., 10.,  5.,  9.,  0., nan])"
      ]
     },
     "execution_count": 7,
     "metadata": {},
     "output_type": "execute_result"
    }
   ],
   "source": [
    "df['tenure'].unique()# изучем оригинальные значения столбца с пропусками"
   ]
  },
  {
   "cell_type": "code",
   "execution_count": 8,
   "metadata": {},
   "outputs": [
    {
     "data": {
      "text/plain": [
       "1.0     952\n",
       "2.0     950\n",
       "8.0     933\n",
       "3.0     928\n",
       "5.0     927\n",
       "7.0     925\n",
       "4.0     885\n",
       "9.0     882\n",
       "6.0     881\n",
       "10.0    446\n",
       "0.0     382\n",
       "Name: tenure, dtype: int64"
      ]
     },
     "execution_count": 8,
     "metadata": {},
     "output_type": "execute_result"
    }
   ],
   "source": [
    "df['tenure'].value_counts()# Посмотрим распределение по значениям в столбце"
   ]
  },
  {
   "cell_type": "code",
   "execution_count": 9,
   "metadata": {},
   "outputs": [
    {
     "data": {
      "text/plain": [
       "5.0"
      ]
     },
     "execution_count": 9,
     "metadata": {},
     "output_type": "execute_result"
    }
   ],
   "source": [
    "df['tenure'].median()# посчитаем медиану"
   ]
  },
  {
   "cell_type": "code",
   "execution_count": 10,
   "metadata": {},
   "outputs": [],
   "source": [
    "df['tenure'] = df['tenure'].fillna(5.0)# Пропуски заполним медианой"
   ]
  },
  {
   "cell_type": "code",
   "execution_count": 11,
   "metadata": {},
   "outputs": [],
   "source": [
    "df['tenure'] = df['tenure'].astype(int)# поменяем тип данных"
   ]
  },
  {
   "cell_type": "code",
   "execution_count": 12,
   "metadata": {},
   "outputs": [
    {
     "data": {
      "text/html": [
       "<div>\n",
       "<style scoped>\n",
       "    .dataframe tbody tr th:only-of-type {\n",
       "        vertical-align: middle;\n",
       "    }\n",
       "\n",
       "    .dataframe tbody tr th {\n",
       "        vertical-align: top;\n",
       "    }\n",
       "\n",
       "    .dataframe thead th {\n",
       "        text-align: right;\n",
       "    }\n",
       "</style>\n",
       "<table border=\"1\" class=\"dataframe\">\n",
       "  <thead>\n",
       "    <tr style=\"text-align: right;\">\n",
       "      <th></th>\n",
       "      <th>rownumber</th>\n",
       "      <th>customerid</th>\n",
       "      <th>surname</th>\n",
       "      <th>creditscore</th>\n",
       "      <th>geography</th>\n",
       "      <th>gender</th>\n",
       "      <th>age</th>\n",
       "      <th>tenure</th>\n",
       "      <th>balance</th>\n",
       "      <th>numofproducts</th>\n",
       "      <th>hascrcard</th>\n",
       "      <th>isactivemember</th>\n",
       "      <th>estimatedsalary</th>\n",
       "      <th>exited</th>\n",
       "    </tr>\n",
       "  </thead>\n",
       "  <tbody>\n",
       "  </tbody>\n",
       "</table>\n",
       "</div>"
      ],
      "text/plain": [
       "Empty DataFrame\n",
       "Columns: [rownumber, customerid, surname, creditscore, geography, gender, age, tenure, balance, numofproducts, hascrcard, isactivemember, estimatedsalary, exited]\n",
       "Index: []"
      ]
     },
     "execution_count": 12,
     "metadata": {},
     "output_type": "execute_result"
    }
   ],
   "source": [
    "duplicate_df = df[df.duplicated()]\n",
    "duplicate_df# проверим наши исходные данные на явные дубликаты"
   ]
  },
  {
   "cell_type": "code",
   "execution_count": 13,
   "metadata": {},
   "outputs": [
    {
     "data": {
      "text/plain": [
       "15695872    1\n",
       "15801062    1\n",
       "15682268    1\n",
       "15647453    1\n",
       "15684319    1\n",
       "           ..\n",
       "15629677    1\n",
       "15773039    1\n",
       "15766896    1\n",
       "15719793    1\n",
       "15812607    1\n",
       "Name: customerid, Length: 10000, dtype: int64"
      ]
     },
     "execution_count": 13,
     "metadata": {},
     "output_type": "execute_result"
    }
   ],
   "source": [
    "df['customerid'].value_counts()# проверим наши исходные данные на неявные дубликаты"
   ]
  },
  {
   "cell_type": "markdown",
   "metadata": {},
   "source": [
    "## Исследование задачи"
   ]
  },
  {
   "cell_type": "markdown",
   "metadata": {},
   "source": [
    "Итак для выявления наиболее подходящей модели сначала надо сравнить показатели F1 между собой. Приступим!"
   ]
  },
  {
   "cell_type": "code",
   "execution_count": 14,
   "metadata": {},
   "outputs": [],
   "source": [
    "df_ohe = df.drop(['rownumber', 'customerid', 'surname'], axis=1)# удалим ненужные для модели столбцы"
   ]
  },
  {
   "cell_type": "code",
   "execution_count": 15,
   "metadata": {},
   "outputs": [],
   "source": [
    "df_ohe = pd.get_dummies(df_ohe, drop_first=True)# применим прямое кодирование"
   ]
  },
  {
   "cell_type": "code",
   "execution_count": 16,
   "metadata": {},
   "outputs": [],
   "source": [
    "target = df_ohe['exited']\n",
    "features = df_ohe.drop(['exited'], axis=1)"
   ]
  },
  {
   "cell_type": "code",
   "execution_count": 17,
   "metadata": {},
   "outputs": [],
   "source": [
    "features_tr, features_valid, target_tr, target_valid = train_test_split(features, target, test_size=0.2, stratify=df_ohe['exited'], random_state=12345)\n",
    "# поделим данные на выборки"
   ]
  },
  {
   "cell_type": "code",
   "execution_count": 18,
   "metadata": {},
   "outputs": [],
   "source": [
    "features_train, features_test, target_train, target_test = train_test_split(features_tr, target_tr, test_size=0.25, random_state=12345)\n",
    "# поделим данные на выборки"
   ]
  },
  {
   "cell_type": "code",
   "execution_count": 19,
   "metadata": {},
   "outputs": [],
   "source": [
    "numeric = ['creditscore', 'age', 'balance', 'estimatedsalary', 'tenure']# Масштабируем данные"
   ]
  },
  {
   "cell_type": "code",
   "execution_count": 20,
   "metadata": {},
   "outputs": [
    {
     "data": {
      "text/plain": [
       "StandardScaler()"
      ]
     },
     "execution_count": 20,
     "metadata": {},
     "output_type": "execute_result"
    }
   ],
   "source": [
    "scaler = StandardScaler()\n",
    "scaler.fit(features_train[numeric])# Масштабируем данные"
   ]
  },
  {
   "cell_type": "code",
   "execution_count": 21,
   "metadata": {},
   "outputs": [
    {
     "name": "stderr",
     "output_type": "stream",
     "text": [
      "/tmp/ipykernel_260/3330657556.py:1: SettingWithCopyWarning: \n",
      "A value is trying to be set on a copy of a slice from a DataFrame.\n",
      "Try using .loc[row_indexer,col_indexer] = value instead\n",
      "\n",
      "See the caveats in the documentation: https://pandas.pydata.org/pandas-docs/stable/user_guide/indexing.html#returning-a-view-versus-a-copy\n",
      "  features_train[numeric] = scaler.transform(features_train[numeric])\n",
      "/opt/conda/lib/python3.9/site-packages/pandas/core/indexing.py:1738: SettingWithCopyWarning: \n",
      "A value is trying to be set on a copy of a slice from a DataFrame.\n",
      "Try using .loc[row_indexer,col_indexer] = value instead\n",
      "\n",
      "See the caveats in the documentation: https://pandas.pydata.org/pandas-docs/stable/user_guide/indexing.html#returning-a-view-versus-a-copy\n",
      "  self._setitem_single_column(loc, value[:, i].tolist(), pi)\n",
      "/tmp/ipykernel_260/3330657556.py:2: SettingWithCopyWarning: \n",
      "A value is trying to be set on a copy of a slice from a DataFrame.\n",
      "Try using .loc[row_indexer,col_indexer] = value instead\n",
      "\n",
      "See the caveats in the documentation: https://pandas.pydata.org/pandas-docs/stable/user_guide/indexing.html#returning-a-view-versus-a-copy\n",
      "  features_valid[numeric] = scaler.transform(features_valid[numeric])\n",
      "/opt/conda/lib/python3.9/site-packages/pandas/core/indexing.py:1738: SettingWithCopyWarning: \n",
      "A value is trying to be set on a copy of a slice from a DataFrame.\n",
      "Try using .loc[row_indexer,col_indexer] = value instead\n",
      "\n",
      "See the caveats in the documentation: https://pandas.pydata.org/pandas-docs/stable/user_guide/indexing.html#returning-a-view-versus-a-copy\n",
      "  self._setitem_single_column(loc, value[:, i].tolist(), pi)\n",
      "/tmp/ipykernel_260/3330657556.py:3: SettingWithCopyWarning: \n",
      "A value is trying to be set on a copy of a slice from a DataFrame.\n",
      "Try using .loc[row_indexer,col_indexer] = value instead\n",
      "\n",
      "See the caveats in the documentation: https://pandas.pydata.org/pandas-docs/stable/user_guide/indexing.html#returning-a-view-versus-a-copy\n",
      "  features_test[numeric] = scaler.transform(features_test[numeric])# Масштабируем данные\n",
      "/opt/conda/lib/python3.9/site-packages/pandas/core/indexing.py:1738: SettingWithCopyWarning: \n",
      "A value is trying to be set on a copy of a slice from a DataFrame.\n",
      "Try using .loc[row_indexer,col_indexer] = value instead\n",
      "\n",
      "See the caveats in the documentation: https://pandas.pydata.org/pandas-docs/stable/user_guide/indexing.html#returning-a-view-versus-a-copy\n",
      "  self._setitem_single_column(loc, value[:, i].tolist(), pi)\n"
     ]
    }
   ],
   "source": [
    "features_train[numeric] = scaler.transform(features_train[numeric])\n",
    "features_valid[numeric] = scaler.transform(features_valid[numeric])\n",
    "features_test[numeric] = scaler.transform(features_test[numeric])# Масштабируем данные"
   ]
  },
  {
   "cell_type": "markdown",
   "metadata": {},
   "source": [
    "Предварительная работа окончена. Пора строить модели!\n",
    "\n",
    "Начнем с LogisticRegression."
   ]
  },
  {
   "cell_type": "code",
   "execution_count": 22,
   "metadata": {},
   "outputs": [
    {
     "data": {
      "text/plain": [
       "0.29158878504672897"
      ]
     },
     "execution_count": 22,
     "metadata": {},
     "output_type": "execute_result"
    }
   ],
   "source": [
    "model = LogisticRegression(random_state=12345, solver='liblinear')\n",
    "model.fit(features_train, target_train) \n",
    "predicted = model.predict(features_valid)\n",
    "f1_score(target_valid, predicted)"
   ]
  },
  {
   "cell_type": "code",
   "execution_count": 23,
   "metadata": {},
   "outputs": [
    {
     "data": {
      "text/plain": [
       "0.775539792488945"
      ]
     },
     "execution_count": 23,
     "metadata": {},
     "output_type": "execute_result"
    }
   ],
   "source": [
    "probabilities = model.predict_proba(features_valid)\n",
    "probabilities_one_valid = probabilities[:, 1]\n",
    "auc_roc = roc_auc_score(target_valid, probabilities_one_valid)\n",
    "auc_roc"
   ]
  },
  {
   "cell_type": "markdown",
   "metadata": {},
   "source": [
    "Ого. результат ниже 0.3. Это никуда не годится)\n",
    "\n",
    "Продолжим с DecisionTreeClassifier."
   ]
  },
  {
   "cell_type": "code",
   "execution_count": 24,
   "metadata": {},
   "outputs": [
    {
     "data": {
      "text/plain": [
       "(0.5710059171597632, 7)"
      ]
     },
     "execution_count": 24,
     "metadata": {},
     "output_type": "execute_result"
    }
   ],
   "source": [
    "best_model_2= None\n",
    "best_result_2= 0\n",
    "\n",
    "for depth in range(1, 23):\n",
    "    model_2 = DecisionTreeClassifier(random_state=12345, max_depth=depth)# применим метод\n",
    "    model_2.fit(features_train, target_train)# обучим модель\n",
    "    predicted_2 = model_2.predict(features_valid)\n",
    "    result_2 = f1_score(target_valid, predicted_2)# качество модели посчитаем на валидационной выборке\n",
    "    if result_2 > best_result_2:\n",
    "        best_model_2= model_2# сохраним наилучшую модель\n",
    "        best_result_2= result_2#  сохраним наилучшее значение метрики F1 на валидационных данных\n",
    "        best_depth = depth\n",
    "\n",
    "best_result_2, best_depth"
   ]
  },
  {
   "cell_type": "code",
   "execution_count": 25,
   "metadata": {},
   "outputs": [
    {
     "data": {
      "text/plain": [
       "0.6709567811262726"
      ]
     },
     "execution_count": 25,
     "metadata": {},
     "output_type": "execute_result"
    }
   ],
   "source": [
    "probabilities_2= model_2.predict_proba(features_valid)\n",
    "probabilities_one_valid_2 = probabilities_2[:, 1]\n",
    "auc_roc = roc_auc_score(target_valid, probabilities_one_valid_2)\n",
    "auc_roc"
   ]
  },
  {
   "cell_type": "markdown",
   "metadata": {},
   "source": [
    "0.57 уже заметно лучше.\n",
    "\n",
    "И не забудем про RandomForestClassifier."
   ]
  },
  {
   "cell_type": "code",
   "execution_count": 26,
   "metadata": {},
   "outputs": [
    {
     "data": {
      "text/plain": [
       "(0.5844748858447488, 14, 14)"
      ]
     },
     "execution_count": 26,
     "metadata": {},
     "output_type": "execute_result"
    }
   ],
   "source": [
    "best_model_3 = None\n",
    "best_result_3 = 0\n",
    "\n",
    "\n",
    "for est in range(1, 20):\n",
    "    for depth in range (1, 20):\n",
    "        model_3 = RandomForestClassifier(random_state=12345, n_estimators=est, max_depth=depth)\n",
    "        model_3.fit(features_train, target_train)\n",
    "        predicted_3 = model_3.predict(features_valid)\n",
    "        result_3 = f1_score(target_valid, predicted_3)\n",
    "        \n",
    "        if result_3 > best_result_3:\n",
    "            best_model_3 = model_3\n",
    "            best_result_3 = result_3\n",
    "            best_est_3 = est\n",
    "            best_depth_3 = depth\n",
    "            \n",
    "best_result_3, best_depth_3, best_est_3"
   ]
  },
  {
   "cell_type": "code",
   "execution_count": 27,
   "metadata": {},
   "outputs": [
    {
     "data": {
      "text/plain": [
       "0.8369918454664216"
      ]
     },
     "execution_count": 27,
     "metadata": {},
     "output_type": "execute_result"
    }
   ],
   "source": [
    "probabilities_3= model_3.predict_proba(features_valid)\n",
    "probabilities_one_valid_3 = probabilities_3[:, 1]\n",
    "auc_roc = roc_auc_score(target_valid, probabilities_one_valid_3)\n",
    "auc_roc"
   ]
  },
  {
   "cell_type": "markdown",
   "metadata": {},
   "source": [
    "Результат почти не отличается от DecisionTreeClassifier, но все же немного выше.\n",
    "\n",
    "До желаемых 0.59 не добрались. Будем бороться с дисбалансом!"
   ]
  },
  {
   "cell_type": "markdown",
   "metadata": {},
   "source": [
    "## Борьба с дисбалансом"
   ]
  },
  {
   "cell_type": "markdown",
   "metadata": {},
   "source": [
    "Сперва посмотрим как повлияет на результаты F1 взвешивание классов.\n",
    "\n",
    "Порядок изучения моделей менять не будем."
   ]
  },
  {
   "cell_type": "code",
   "execution_count": 28,
   "metadata": {},
   "outputs": [
    {
     "data": {
      "text/plain": [
       "0.5068027210884353"
      ]
     },
     "execution_count": 28,
     "metadata": {},
     "output_type": "execute_result"
    }
   ],
   "source": [
    "model_4 = LogisticRegression(random_state=12345, solver='liblinear', class_weight='balanced')\n",
    "model_4.fit(features_train, target_train) \n",
    "predicted_valid = model_4.predict(features_valid)\n",
    "f1_score(target_valid, predicted_valid)"
   ]
  },
  {
   "cell_type": "code",
   "execution_count": 29,
   "metadata": {},
   "outputs": [
    {
     "data": {
      "text/plain": [
       "0.7815087815087813"
      ]
     },
     "execution_count": 29,
     "metadata": {},
     "output_type": "execute_result"
    }
   ],
   "source": [
    "probabilities_4= model_4.predict_proba(features_valid)\n",
    "probabilities_one_valid_4 = probabilities_4[:, 1]\n",
    "auc_roc = roc_auc_score(target_valid, probabilities_one_valid_4)\n",
    "auc_roc"
   ]
  },
  {
   "cell_type": "code",
   "execution_count": 30,
   "metadata": {},
   "outputs": [
    {
     "data": {
      "text/plain": [
       "(0.5719733079122974, 6)"
      ]
     },
     "execution_count": 30,
     "metadata": {},
     "output_type": "execute_result"
    }
   ],
   "source": [
    "best_model_5= None\n",
    "best_result_5= 0\n",
    "\n",
    "for depth in range(1, 50):\n",
    "    model_5 = DecisionTreeClassifier(random_state=12345, max_depth=depth, class_weight='balanced')# применим метод\n",
    "    model_5.fit(features_train, target_train)# обучим модель\n",
    "    predicted_5 = model_5.predict(features_valid)\n",
    "    result_5 = f1_score(target_valid, predicted_5)# качество модели посчитаем на валидационной выборке\n",
    "    if result_5 > best_result_5:\n",
    "        best_model_5= model_5# сохраним наилучшую модель\n",
    "        best_result_5= result_5#  сохраним наилучшее значение метрики F1 на валидационных данных\n",
    "        best_depth = depth\n",
    "\n",
    "best_result_5, best_depth"
   ]
  },
  {
   "cell_type": "code",
   "execution_count": 31,
   "metadata": {},
   "outputs": [
    {
     "data": {
      "text/plain": [
       "0.6934353459777189"
      ]
     },
     "execution_count": 31,
     "metadata": {},
     "output_type": "execute_result"
    }
   ],
   "source": [
    "probabilities_5= model_5.predict_proba(features_valid)\n",
    "probabilities_one_valid_5 = probabilities_5[:, 1]\n",
    "auc_roc = roc_auc_score(target_valid, probabilities_one_valid_5)\n",
    "auc_roc"
   ]
  },
  {
   "cell_type": "code",
   "execution_count": 32,
   "metadata": {},
   "outputs": [
    {
     "data": {
      "text/plain": [
       "(0.6470588235294117, 9, 21)"
      ]
     },
     "execution_count": 32,
     "metadata": {},
     "output_type": "execute_result"
    }
   ],
   "source": [
    "best_model_6 = None\n",
    "best_result_6 = 0\n",
    "\n",
    "\n",
    "for est in range(1, 25):\n",
    "    for depth in range (1, 20):\n",
    "        model_6 = RandomForestClassifier(random_state=12345, n_estimators=est, max_depth=depth, class_weight='balanced')\n",
    "        model_6.fit(features_train, target_train)\n",
    "        predicted_6 = model_6.predict(features_valid)\n",
    "        result_6 = f1_score(target_valid, predicted_6)\n",
    "        \n",
    "        if result_6 > best_result_6:\n",
    "            best_model_6 = model_6\n",
    "            best_result_6 = result_6\n",
    "            best_est_6 = est\n",
    "            best_depth_6 = depth\n",
    "            \n",
    "best_result_6, best_depth_6, best_est_6"
   ]
  },
  {
   "cell_type": "code",
   "execution_count": 33,
   "metadata": {},
   "outputs": [
    {
     "data": {
      "text/plain": [
       "0.8460077951603376"
      ]
     },
     "execution_count": 33,
     "metadata": {},
     "output_type": "execute_result"
    }
   ],
   "source": [
    "probabilities_6= model_6.predict_proba(features_valid)\n",
    "probabilities_one_valid_6 = probabilities_6[:, 1]\n",
    "auc_roc = roc_auc_score(target_valid, probabilities_one_valid_6)\n",
    "auc_roc"
   ]
  },
  {
   "cell_type": "markdown",
   "metadata": {},
   "source": [
    "Ну наконец то! Рубеж в 0.59 преодолен! при глубине в 7 и колличестве деревьев 23 метрика F1 показывает 0.62!\n",
    "\n",
    "Неплохо, но лучше проверить и результаты с увеличением выборки."
   ]
  },
  {
   "cell_type": "code",
   "execution_count": 34,
   "metadata": {},
   "outputs": [],
   "source": [
    "features_zeros = features_train[target_train == 0]\n",
    "features_ones = features_train[target_train == 1]\n",
    "target_zeros = target_train[target_train == 0]\n",
    "target_ones = target_train[target_train == 1]"
   ]
  },
  {
   "cell_type": "code",
   "execution_count": 35,
   "metadata": {},
   "outputs": [],
   "source": [
    "repeat = 4\n",
    "features_upsampled = pd.concat([features_zeros] + [features_ones] * repeat)\n",
    "target_upsampled = pd.concat([target_zeros] + [target_ones] * repeat)"
   ]
  },
  {
   "cell_type": "code",
   "execution_count": 36,
   "metadata": {},
   "outputs": [],
   "source": [
    "def upsample(features, target, repeat):\n",
    "    features_zeros = features[target == 0]\n",
    "    features_ones = features[target == 1]\n",
    "    target_zeros = target_train[target_train == 0]\n",
    "    target_ones = target_train[target_train == 1]\n",
    "    \n",
    "    features_upsampled = pd.concat([features_zeros] + [features_ones] * repeat)\n",
    "    target_upsampled = pd.concat([target_zeros] + [target_ones] * repeat)\n",
    "    features_upsampled, target_upsampled = shuffle(features_upsampled, target_upsampled, random_state=12345)\n",
    "\n",
    "    return features_upsampled, target_upsampled\n",
    "\n"
   ]
  },
  {
   "cell_type": "code",
   "execution_count": 37,
   "metadata": {},
   "outputs": [
    {
     "data": {
      "text/plain": [
       "0.5055131467345207"
      ]
     },
     "execution_count": 37,
     "metadata": {},
     "output_type": "execute_result"
    }
   ],
   "source": [
    "model_7 = LogisticRegression(random_state=12345, solver='liblinear')\n",
    "model_7.fit(features_upsampled, target_upsampled)\n",
    "predicted= model_7.predict(features_valid)\n",
    "f1_score(target_valid, predicted)"
   ]
  },
  {
   "cell_type": "code",
   "execution_count": 38,
   "metadata": {},
   "outputs": [
    {
     "data": {
      "text/plain": [
       "0.7815072391343577"
      ]
     },
     "execution_count": 38,
     "metadata": {},
     "output_type": "execute_result"
    }
   ],
   "source": [
    "probabilities_7= model_7.predict_proba(features_valid)\n",
    "probabilities_one_valid_7 = probabilities_7[:, 1]\n",
    "auc_roc = roc_auc_score(target_valid, probabilities_one_valid_7)\n",
    "auc_roc"
   ]
  },
  {
   "cell_type": "markdown",
   "metadata": {},
   "source": [
    "Модель LogisticRegression в любом варианте выдает худший показатель."
   ]
  },
  {
   "cell_type": "code",
   "execution_count": 39,
   "metadata": {},
   "outputs": [
    {
     "data": {
      "text/plain": [
       "(0.5719733079122974, 6)"
      ]
     },
     "execution_count": 39,
     "metadata": {},
     "output_type": "execute_result"
    }
   ],
   "source": [
    "best_model_8= None\n",
    "best_result_8= 0\n",
    "\n",
    "for depth in range(1, 50):\n",
    "    model_8 = DecisionTreeClassifier(random_state=12345, max_depth=depth)# применим метод\n",
    "    model_8.fit(features_upsampled, target_upsampled)# обучим модель\n",
    "    predicted_8 = model_8.predict(features_valid)\n",
    "    result_8 = f1_score(target_valid, predicted_8)# качество модели посчитаем на валидационной выборке\n",
    "    if result_8 > best_result_8:\n",
    "        best_model_8= model_8# сохраним наилучшую модель\n",
    "        best_result_8= result_8#  сохраним наилучшее значение метрики F1 на валидационных данных\n",
    "        best_depth = depth\n",
    "\n",
    "best_result_8, best_depth"
   ]
  },
  {
   "cell_type": "code",
   "execution_count": 40,
   "metadata": {},
   "outputs": [
    {
     "data": {
      "text/plain": [
       "0.7054604681723325"
      ]
     },
     "execution_count": 40,
     "metadata": {},
     "output_type": "execute_result"
    }
   ],
   "source": [
    "probabilities_8= model_8.predict_proba(features_valid)\n",
    "probabilities_one_valid_8 = probabilities_8[:, 1]\n",
    "auc_roc = roc_auc_score(target_valid, probabilities_one_valid_8)\n",
    "auc_roc"
   ]
  },
  {
   "cell_type": "code",
   "execution_count": 41,
   "metadata": {},
   "outputs": [
    {
     "data": {
      "text/plain": [
       "(0.5366614664586584, 1, 1)"
      ]
     },
     "execution_count": 41,
     "metadata": {},
     "output_type": "execute_result"
    }
   ],
   "source": [
    "best_model_9 = None\n",
    "best_result_9 = 0\n",
    "\n",
    "\n",
    "for est in range(1, 20):\n",
    "    for depth in range (1, 20):\n",
    "        model_9 = RandomForestClassifier(random_state=12345, n_estimators=est, max_depth=depth)\n",
    "        model_9.fit(features_upsampled, target_upsampled)\n",
    "        predicted_9 = model_6.predict(features_valid)\n",
    "        result_9 = f1_score(target_valid, predicted_9)\n",
    "        \n",
    "        if result_9 > best_result_9:\n",
    "            best_model_9 = model_9\n",
    "            best_result_9 = result_9\n",
    "            best_est_9 = est\n",
    "            best_depth_9 = depth\n",
    "            \n",
    "best_result_9, best_depth_9, best_est_9"
   ]
  },
  {
   "cell_type": "code",
   "execution_count": 42,
   "metadata": {},
   "outputs": [
    {
     "data": {
      "text/plain": [
       "0.8466733297241771"
      ]
     },
     "execution_count": 42,
     "metadata": {},
     "output_type": "execute_result"
    }
   ],
   "source": [
    "probabilities_9= model_9.predict_proba(features_valid)\n",
    "probabilities_one_valid_9 = probabilities_9[:, 1]\n",
    "auc_roc = roc_auc_score(target_valid, probabilities_one_valid_9)\n",
    "auc_roc"
   ]
  },
  {
   "cell_type": "markdown",
   "metadata": {},
   "source": [
    "На моделях DecisionTreeClassifier и RandomForestClassifier показатели так же хуже, чем в моделях со взвешиванием.\n",
    "\n",
    "Подведем итог. Наивысший показатель F1 у модели RandomForestClassifier со взвешиванием классов!\n",
    "\n",
    "Перейдем к тестированию."
   ]
  },
  {
   "cell_type": "markdown",
   "metadata": {},
   "source": [
    "## Тестирование модели"
   ]
  },
  {
   "cell_type": "code",
   "execution_count": 43,
   "metadata": {},
   "outputs": [
    {
     "data": {
      "text/plain": [
       "0.6148936170212767"
      ]
     },
     "execution_count": 43,
     "metadata": {},
     "output_type": "execute_result"
    }
   ],
   "source": [
    "model_10 = RandomForestClassifier(random_state=12345, n_estimators=19, max_depth=7, class_weight='balanced')\n",
    "model_10.fit(features_train, target_train)\n",
    "predicted_10 = model_10.predict(features_test)\n",
    "result_10 = f1_score(target_test, predicted_10)\n",
    "result_10    "
   ]
  },
  {
   "cell_type": "markdown",
   "metadata": {},
   "source": [
    "После проверки на тестовой выборке результат получился немного хуже, но совсем не критично!\n",
    "\n",
    "Проверим нашу модель на актуальность через auc_roc."
   ]
  },
  {
   "cell_type": "code",
   "execution_count": 44,
   "metadata": {},
   "outputs": [
    {
     "data": {
      "text/plain": [
       "0.7758625850014366"
      ]
     },
     "execution_count": 44,
     "metadata": {},
     "output_type": "execute_result"
    }
   ],
   "source": [
    "probabilities_test = model.predict_proba(features_test)\n",
    "probabilities_one_test = probabilities_test[:, 1]\n",
    "auc_roc = roc_auc_score(target_test, probabilities_one_test)\n",
    "auc_roc"
   ]
  },
  {
   "cell_type": "markdown",
   "metadata": {},
   "source": [
    "Наша модель в сравнении со случайными показателями показывает более высокий результат.Признаем ее адекватной!)\n",
    "\n",
    "\n",
    "Подведем итог.\n",
    "\n",
    "На основе данных клиентов банка было построено несколько моделей для попытки спрогнозировать риск ухода клиента.\n",
    "В основу исследований легли 3 модели : LogisticRegression, DecisionTreeClassifier и RandomForestClassifier.\n",
    "И для каждой из них применено 2 метода борьбы с дисбалансами! это взмешимание классов и увеличение выборки.\n",
    "так же к каждой из получившихся моделей примена метрика AUC-ROC. \n",
    "\n",
    "Самой подходящей моделью для анализа риска потерять клиента получилась 'RandomForestClassifier' с взвешиванием классов, максимальным количеством - 23 деревьев и максимальной глубиной - 7!  Эта модель так же успешно прошла тестирование, превысив заданный порог в 0.59 и проверку на адекватность с показателем AUC-ROC в 0.77"
   ]
  }
 ],
 "metadata": {
  "ExecuteTimeLog": [
   {
    "duration": 1773,
    "start_time": "2023-03-17T13:41:10.661Z"
   },
   {
    "duration": 131,
    "start_time": "2023-03-17T13:41:12.436Z"
   },
   {
    "duration": 14,
    "start_time": "2023-03-17T13:41:12.569Z"
   },
   {
    "duration": 32,
    "start_time": "2023-03-17T13:41:12.586Z"
   },
   {
    "duration": 6,
    "start_time": "2023-03-17T13:41:12.620Z"
   },
   {
    "duration": 14,
    "start_time": "2023-03-17T13:41:12.628Z"
   },
   {
    "duration": 6,
    "start_time": "2023-03-17T13:41:12.645Z"
   },
   {
    "duration": 27,
    "start_time": "2023-03-17T13:41:12.653Z"
   },
   {
    "duration": 6,
    "start_time": "2023-03-17T13:41:12.682Z"
   },
   {
    "duration": 14,
    "start_time": "2023-03-17T13:41:12.698Z"
   },
   {
    "duration": 7,
    "start_time": "2023-03-17T13:41:12.714Z"
   },
   {
    "duration": 19,
    "start_time": "2023-03-17T13:41:12.723Z"
   },
   {
    "duration": 7,
    "start_time": "2023-03-17T13:41:12.743Z"
   },
   {
    "duration": 13,
    "start_time": "2023-03-17T13:41:12.751Z"
   },
   {
    "duration": 26,
    "start_time": "2023-03-17T13:41:12.766Z"
   },
   {
    "duration": 21,
    "start_time": "2023-03-17T13:41:12.795Z"
   },
   {
    "duration": 31,
    "start_time": "2023-03-17T13:41:12.818Z"
   },
   {
    "duration": 13,
    "start_time": "2023-03-17T13:41:12.850Z"
   },
   {
    "duration": 7,
    "start_time": "2023-03-17T13:41:12.865Z"
   },
   {
    "duration": 25,
    "start_time": "2023-03-17T13:41:12.874Z"
   },
   {
    "duration": 38,
    "start_time": "2023-03-17T13:41:12.902Z"
   },
   {
    "duration": 66,
    "start_time": "2023-03-17T13:41:12.942Z"
   },
   {
    "duration": 396,
    "start_time": "2023-03-17T13:41:13.010Z"
   },
   {
    "duration": 0,
    "start_time": "2023-03-17T13:41:13.408Z"
   },
   {
    "duration": 0,
    "start_time": "2023-03-17T13:41:13.409Z"
   },
   {
    "duration": 0,
    "start_time": "2023-03-17T13:41:13.411Z"
   },
   {
    "duration": 0,
    "start_time": "2023-03-17T13:41:13.412Z"
   },
   {
    "duration": 0,
    "start_time": "2023-03-17T13:41:13.413Z"
   },
   {
    "duration": 0,
    "start_time": "2023-03-17T13:41:13.415Z"
   },
   {
    "duration": 0,
    "start_time": "2023-03-17T13:41:13.416Z"
   },
   {
    "duration": 0,
    "start_time": "2023-03-17T13:41:13.417Z"
   },
   {
    "duration": 0,
    "start_time": "2023-03-17T13:41:13.418Z"
   },
   {
    "duration": 0,
    "start_time": "2023-03-17T13:41:13.420Z"
   },
   {
    "duration": 0,
    "start_time": "2023-03-17T13:41:13.421Z"
   },
   {
    "duration": 0,
    "start_time": "2023-03-17T13:41:13.422Z"
   },
   {
    "duration": 0,
    "start_time": "2023-03-17T13:41:13.423Z"
   },
   {
    "duration": 0,
    "start_time": "2023-03-17T13:41:13.425Z"
   },
   {
    "duration": 0,
    "start_time": "2023-03-17T13:41:13.426Z"
   },
   {
    "duration": 0,
    "start_time": "2023-03-17T13:41:13.427Z"
   },
   {
    "duration": 0,
    "start_time": "2023-03-17T13:41:13.428Z"
   },
   {
    "duration": 0,
    "start_time": "2023-03-17T13:41:13.430Z"
   },
   {
    "duration": 35,
    "start_time": "2023-03-17T13:43:29.376Z"
   },
   {
    "duration": 1600,
    "start_time": "2023-03-17T13:44:45.946Z"
   },
   {
    "duration": 101,
    "start_time": "2023-03-17T13:44:47.547Z"
   },
   {
    "duration": 14,
    "start_time": "2023-03-17T13:44:47.650Z"
   },
   {
    "duration": 22,
    "start_time": "2023-03-17T13:44:47.666Z"
   },
   {
    "duration": 30,
    "start_time": "2023-03-17T13:44:47.696Z"
   },
   {
    "duration": 16,
    "start_time": "2023-03-17T13:44:47.727Z"
   },
   {
    "duration": 14,
    "start_time": "2023-03-17T13:44:47.745Z"
   },
   {
    "duration": 13,
    "start_time": "2023-03-17T13:44:47.761Z"
   },
   {
    "duration": 34,
    "start_time": "2023-03-17T13:44:47.776Z"
   },
   {
    "duration": 19,
    "start_time": "2023-03-17T13:44:47.814Z"
   },
   {
    "duration": 16,
    "start_time": "2023-03-17T13:44:47.835Z"
   },
   {
    "duration": 22,
    "start_time": "2023-03-17T13:44:47.853Z"
   },
   {
    "duration": 6,
    "start_time": "2023-03-17T13:44:47.877Z"
   },
   {
    "duration": 27,
    "start_time": "2023-03-17T13:44:47.885Z"
   },
   {
    "duration": 36,
    "start_time": "2023-03-17T13:44:47.920Z"
   },
   {
    "duration": 17,
    "start_time": "2023-03-17T13:44:47.958Z"
   },
   {
    "duration": 19,
    "start_time": "2023-03-17T13:44:47.976Z"
   },
   {
    "duration": 24,
    "start_time": "2023-03-17T13:44:48.005Z"
   },
   {
    "duration": 7,
    "start_time": "2023-03-17T13:44:48.031Z"
   },
   {
    "duration": 13,
    "start_time": "2023-03-17T13:44:48.040Z"
   },
   {
    "duration": 28,
    "start_time": "2023-03-17T13:44:48.055Z"
   },
   {
    "duration": 125,
    "start_time": "2023-03-17T13:44:48.085Z"
   },
   {
    "duration": 121,
    "start_time": "2023-03-17T13:44:48.293Z"
   },
   {
    "duration": 684,
    "start_time": "2023-03-17T13:44:48.436Z"
   },
   {
    "duration": 12,
    "start_time": "2023-03-17T13:44:49.124Z"
   },
   {
    "duration": 24923,
    "start_time": "2023-03-17T13:44:49.200Z"
   },
   {
    "duration": 72,
    "start_time": "2023-03-17T13:45:14.125Z"
   },
   {
    "duration": 146,
    "start_time": "2023-03-17T13:45:14.199Z"
   },
   {
    "duration": 61,
    "start_time": "2023-03-17T13:45:14.351Z"
   },
   {
    "duration": 1734,
    "start_time": "2023-03-17T13:45:14.418Z"
   },
   {
    "duration": 44,
    "start_time": "2023-03-17T13:45:16.154Z"
   },
   {
    "duration": 38629,
    "start_time": "2023-03-17T13:45:16.200Z"
   },
   {
    "duration": 68,
    "start_time": "2023-03-17T13:45:54.831Z"
   },
   {
    "duration": 127,
    "start_time": "2023-03-17T13:45:54.902Z"
   },
   {
    "duration": 26,
    "start_time": "2023-03-17T13:45:55.031Z"
   },
   {
    "duration": 6,
    "start_time": "2023-03-17T13:45:55.059Z"
   },
   {
    "duration": 96,
    "start_time": "2023-03-17T13:45:55.067Z"
   },
   {
    "duration": 16,
    "start_time": "2023-03-17T13:45:55.192Z"
   },
   {
    "duration": 2833,
    "start_time": "2023-03-17T13:45:55.214Z"
   },
   {
    "duration": 55,
    "start_time": "2023-03-17T13:45:58.050Z"
   },
   {
    "duration": 46837,
    "start_time": "2023-03-17T13:45:58.191Z"
   },
   {
    "duration": 66,
    "start_time": "2023-03-17T13:46:45.030Z"
   },
   {
    "duration": 232,
    "start_time": "2023-03-17T13:46:45.102Z"
   },
   {
    "duration": 63,
    "start_time": "2023-03-17T13:46:45.335Z"
   },
   {
    "duration": 15,
    "start_time": "2023-03-17T13:47:18.020Z"
   },
   {
    "duration": 1540,
    "start_time": "2023-03-21T10:48:13.995Z"
   },
   {
    "duration": 240,
    "start_time": "2023-03-21T10:48:15.537Z"
   },
   {
    "duration": 13,
    "start_time": "2023-03-21T10:48:15.779Z"
   },
   {
    "duration": 17,
    "start_time": "2023-03-21T10:48:15.793Z"
   },
   {
    "duration": 3,
    "start_time": "2023-03-21T10:48:15.811Z"
   },
   {
    "duration": 7,
    "start_time": "2023-03-21T10:48:15.815Z"
   },
   {
    "duration": 4,
    "start_time": "2023-03-21T10:48:15.824Z"
   },
   {
    "duration": 17,
    "start_time": "2023-03-21T10:48:15.830Z"
   },
   {
    "duration": 12,
    "start_time": "2023-03-21T10:48:15.848Z"
   },
   {
    "duration": 3,
    "start_time": "2023-03-21T10:48:15.861Z"
   },
   {
    "duration": 9,
    "start_time": "2023-03-21T10:48:15.866Z"
   },
   {
    "duration": 23,
    "start_time": "2023-03-21T10:48:15.877Z"
   },
   {
    "duration": 5,
    "start_time": "2023-03-21T10:48:15.902Z"
   },
   {
    "duration": 4,
    "start_time": "2023-03-21T10:48:15.910Z"
   },
   {
    "duration": 36,
    "start_time": "2023-03-21T10:48:15.915Z"
   },
   {
    "duration": 4,
    "start_time": "2023-03-21T10:48:15.952Z"
   },
   {
    "duration": 7,
    "start_time": "2023-03-21T10:48:15.958Z"
   },
   {
    "duration": 6,
    "start_time": "2023-03-21T10:48:15.967Z"
   },
   {
    "duration": 6,
    "start_time": "2023-03-21T10:48:15.974Z"
   },
   {
    "duration": 21,
    "start_time": "2023-03-21T10:48:15.981Z"
   },
   {
    "duration": 46,
    "start_time": "2023-03-21T10:48:16.003Z"
   },
   {
    "duration": 99,
    "start_time": "2023-03-21T10:48:16.050Z"
   },
   {
    "duration": 95,
    "start_time": "2023-03-21T10:48:16.152Z"
   },
   {
    "duration": 702,
    "start_time": "2023-03-21T10:48:16.248Z"
   },
   {
    "duration": 138,
    "start_time": "2023-03-21T10:48:16.954Z"
   },
   {
    "duration": 0,
    "start_time": "2023-03-21T10:48:17.093Z"
   },
   {
    "duration": 0,
    "start_time": "2023-03-21T10:48:17.095Z"
   },
   {
    "duration": 0,
    "start_time": "2023-03-21T10:48:17.096Z"
   },
   {
    "duration": 0,
    "start_time": "2023-03-21T10:48:17.097Z"
   },
   {
    "duration": 0,
    "start_time": "2023-03-21T10:48:17.098Z"
   },
   {
    "duration": 0,
    "start_time": "2023-03-21T10:48:17.099Z"
   },
   {
    "duration": 0,
    "start_time": "2023-03-21T10:48:17.100Z"
   },
   {
    "duration": 0,
    "start_time": "2023-03-21T10:48:17.101Z"
   },
   {
    "duration": 0,
    "start_time": "2023-03-21T10:48:17.102Z"
   },
   {
    "duration": 0,
    "start_time": "2023-03-21T10:48:17.103Z"
   },
   {
    "duration": 0,
    "start_time": "2023-03-21T10:48:17.104Z"
   },
   {
    "duration": 0,
    "start_time": "2023-03-21T10:48:17.105Z"
   },
   {
    "duration": 0,
    "start_time": "2023-03-21T10:48:17.106Z"
   },
   {
    "duration": 0,
    "start_time": "2023-03-21T10:48:17.107Z"
   },
   {
    "duration": 0,
    "start_time": "2023-03-21T10:48:17.108Z"
   },
   {
    "duration": 0,
    "start_time": "2023-03-21T10:48:17.109Z"
   },
   {
    "duration": 0,
    "start_time": "2023-03-21T10:48:17.110Z"
   },
   {
    "duration": 0,
    "start_time": "2023-03-21T10:48:17.111Z"
   },
   {
    "duration": 0,
    "start_time": "2023-03-21T10:48:17.112Z"
   },
   {
    "duration": 14,
    "start_time": "2023-03-21T10:49:31.981Z"
   },
   {
    "duration": 1371,
    "start_time": "2023-03-21T10:54:31.103Z"
   },
   {
    "duration": 104,
    "start_time": "2023-03-21T10:54:32.476Z"
   },
   {
    "duration": 14,
    "start_time": "2023-03-21T10:54:32.581Z"
   },
   {
    "duration": 17,
    "start_time": "2023-03-21T10:54:32.597Z"
   },
   {
    "duration": 3,
    "start_time": "2023-03-21T10:54:32.616Z"
   },
   {
    "duration": 8,
    "start_time": "2023-03-21T10:54:32.621Z"
   },
   {
    "duration": 4,
    "start_time": "2023-03-21T10:54:32.631Z"
   },
   {
    "duration": 7,
    "start_time": "2023-03-21T10:54:32.650Z"
   },
   {
    "duration": 5,
    "start_time": "2023-03-21T10:54:32.658Z"
   },
   {
    "duration": 6,
    "start_time": "2023-03-21T10:54:32.664Z"
   },
   {
    "duration": 4,
    "start_time": "2023-03-21T10:54:32.671Z"
   },
   {
    "duration": 16,
    "start_time": "2023-03-21T10:54:32.676Z"
   },
   {
    "duration": 6,
    "start_time": "2023-03-21T10:54:32.693Z"
   },
   {
    "duration": 3,
    "start_time": "2023-03-21T10:54:32.703Z"
   },
   {
    "duration": 49,
    "start_time": "2023-03-21T10:54:32.708Z"
   },
   {
    "duration": 5,
    "start_time": "2023-03-21T10:54:32.760Z"
   },
   {
    "duration": 7,
    "start_time": "2023-03-21T10:54:32.766Z"
   },
   {
    "duration": 6,
    "start_time": "2023-03-21T10:54:32.774Z"
   },
   {
    "duration": 3,
    "start_time": "2023-03-21T10:54:32.781Z"
   },
   {
    "duration": 12,
    "start_time": "2023-03-21T10:54:32.785Z"
   },
   {
    "duration": 49,
    "start_time": "2023-03-21T10:54:32.798Z"
   },
   {
    "duration": 94,
    "start_time": "2023-03-21T10:54:32.855Z"
   },
   {
    "duration": 93,
    "start_time": "2023-03-21T10:54:32.951Z"
   },
   {
    "duration": 688,
    "start_time": "2023-03-21T10:54:33.046Z"
   },
   {
    "duration": 18,
    "start_time": "2023-03-21T10:54:33.735Z"
   },
   {
    "duration": 22549,
    "start_time": "2023-03-21T10:54:33.754Z"
   },
   {
    "duration": 36,
    "start_time": "2023-03-21T10:54:56.305Z"
   },
   {
    "duration": 106,
    "start_time": "2023-03-21T10:54:56.347Z"
   },
   {
    "duration": 103,
    "start_time": "2023-03-21T10:54:56.458Z"
   },
   {
    "duration": 1641,
    "start_time": "2023-03-21T10:54:56.566Z"
   },
   {
    "duration": 49,
    "start_time": "2023-03-21T10:54:58.208Z"
   },
   {
    "duration": 34325,
    "start_time": "2023-03-21T10:54:58.343Z"
   },
   {
    "duration": 8,
    "start_time": "2023-03-21T10:55:32.669Z"
   },
   {
    "duration": 75,
    "start_time": "2023-03-21T10:55:32.678Z"
   },
   {
    "duration": 10,
    "start_time": "2023-03-21T10:55:32.754Z"
   },
   {
    "duration": 6,
    "start_time": "2023-03-21T10:55:32.846Z"
   },
   {
    "duration": 97,
    "start_time": "2023-03-21T10:55:32.857Z"
   },
   {
    "duration": 95,
    "start_time": "2023-03-21T10:55:32.956Z"
   },
   {
    "duration": 2568,
    "start_time": "2023-03-21T10:55:33.054Z"
   },
   {
    "duration": 41,
    "start_time": "2023-03-21T10:55:35.624Z"
   },
   {
    "duration": 42008,
    "start_time": "2023-03-21T10:55:35.669Z"
   },
   {
    "duration": 11,
    "start_time": "2023-03-21T10:56:17.679Z"
   },
   {
    "duration": 246,
    "start_time": "2023-03-21T10:56:17.739Z"
   },
   {
    "duration": 8,
    "start_time": "2023-03-21T10:56:17.987Z"
   },
   {
    "duration": 1513,
    "start_time": "2023-03-21T10:56:56.206Z"
   },
   {
    "duration": 153,
    "start_time": "2023-03-21T10:56:57.721Z"
   },
   {
    "duration": 12,
    "start_time": "2023-03-21T10:56:57.876Z"
   },
   {
    "duration": 16,
    "start_time": "2023-03-21T10:56:57.890Z"
   },
   {
    "duration": 3,
    "start_time": "2023-03-21T10:56:57.908Z"
   },
   {
    "duration": 8,
    "start_time": "2023-03-21T10:56:57.912Z"
   },
   {
    "duration": 14,
    "start_time": "2023-03-21T10:56:57.921Z"
   },
   {
    "duration": 23,
    "start_time": "2023-03-21T10:56:57.937Z"
   },
   {
    "duration": 6,
    "start_time": "2023-03-21T10:56:57.962Z"
   },
   {
    "duration": 4,
    "start_time": "2023-03-21T10:56:57.971Z"
   },
   {
    "duration": 4,
    "start_time": "2023-03-21T10:56:57.976Z"
   },
   {
    "duration": 22,
    "start_time": "2023-03-21T10:56:57.982Z"
   },
   {
    "duration": 6,
    "start_time": "2023-03-21T10:56:58.006Z"
   },
   {
    "duration": 40,
    "start_time": "2023-03-21T10:56:58.014Z"
   },
   {
    "duration": 13,
    "start_time": "2023-03-21T10:56:58.055Z"
   },
   {
    "duration": 9,
    "start_time": "2023-03-21T10:56:58.069Z"
   },
   {
    "duration": 9,
    "start_time": "2023-03-21T10:56:58.079Z"
   },
   {
    "duration": 5,
    "start_time": "2023-03-21T10:56:58.089Z"
   },
   {
    "duration": 2,
    "start_time": "2023-03-21T10:56:58.097Z"
   },
   {
    "duration": 9,
    "start_time": "2023-03-21T10:56:58.101Z"
   },
   {
    "duration": 55,
    "start_time": "2023-03-21T10:56:58.112Z"
   },
   {
    "duration": 86,
    "start_time": "2023-03-21T10:56:58.168Z"
   },
   {
    "duration": 92,
    "start_time": "2023-03-21T10:56:58.256Z"
   },
   {
    "duration": 709,
    "start_time": "2023-03-21T10:56:58.350Z"
   },
   {
    "duration": 21,
    "start_time": "2023-03-21T10:56:59.065Z"
   },
   {
    "duration": 22582,
    "start_time": "2023-03-21T10:56:59.143Z"
   },
   {
    "duration": 36,
    "start_time": "2023-03-21T10:57:21.726Z"
   },
   {
    "duration": 197,
    "start_time": "2023-03-21T10:57:21.766Z"
   },
   {
    "duration": 17,
    "start_time": "2023-03-21T10:57:22.040Z"
   },
   {
    "duration": 1648,
    "start_time": "2023-03-21T10:57:22.061Z"
   },
   {
    "duration": 44,
    "start_time": "2023-03-21T10:57:23.710Z"
   },
   {
    "duration": 1492,
    "start_time": "2023-03-21T10:57:56.490Z"
   },
   {
    "duration": 104,
    "start_time": "2023-03-21T10:57:57.984Z"
   },
   {
    "duration": 13,
    "start_time": "2023-03-21T10:57:58.090Z"
   },
   {
    "duration": 17,
    "start_time": "2023-03-21T10:57:58.105Z"
   },
   {
    "duration": 4,
    "start_time": "2023-03-21T10:57:58.124Z"
   },
   {
    "duration": 8,
    "start_time": "2023-03-21T10:57:58.129Z"
   },
   {
    "duration": 20,
    "start_time": "2023-03-21T10:57:58.139Z"
   },
   {
    "duration": 11,
    "start_time": "2023-03-21T10:57:58.161Z"
   },
   {
    "duration": 5,
    "start_time": "2023-03-21T10:57:58.174Z"
   },
   {
    "duration": 3,
    "start_time": "2023-03-21T10:57:58.182Z"
   },
   {
    "duration": 4,
    "start_time": "2023-03-21T10:57:58.186Z"
   },
   {
    "duration": 15,
    "start_time": "2023-03-21T10:57:58.192Z"
   },
   {
    "duration": 5,
    "start_time": "2023-03-21T10:57:58.208Z"
   },
   {
    "duration": 4,
    "start_time": "2023-03-21T10:57:58.214Z"
   },
   {
    "duration": 37,
    "start_time": "2023-03-21T10:57:58.219Z"
   },
   {
    "duration": 9,
    "start_time": "2023-03-21T10:57:58.257Z"
   },
   {
    "duration": 13,
    "start_time": "2023-03-21T10:57:58.268Z"
   },
   {
    "duration": 5,
    "start_time": "2023-03-21T10:57:58.282Z"
   },
   {
    "duration": 3,
    "start_time": "2023-03-21T10:57:58.289Z"
   },
   {
    "duration": 9,
    "start_time": "2023-03-21T10:57:58.293Z"
   },
   {
    "duration": 62,
    "start_time": "2023-03-21T10:57:58.303Z"
   },
   {
    "duration": 86,
    "start_time": "2023-03-21T10:57:58.367Z"
   },
   {
    "duration": 103,
    "start_time": "2023-03-21T10:57:58.455Z"
   },
   {
    "duration": 654,
    "start_time": "2023-03-21T10:57:58.560Z"
   },
   {
    "duration": 130,
    "start_time": "2023-03-21T10:57:59.215Z"
   },
   {
    "duration": 22218,
    "start_time": "2023-03-21T10:57:59.347Z"
   },
   {
    "duration": 10,
    "start_time": "2023-03-21T10:58:21.566Z"
   },
   {
    "duration": 101,
    "start_time": "2023-03-21T10:58:21.648Z"
   },
   {
    "duration": 11,
    "start_time": "2023-03-21T10:58:21.751Z"
   },
   {
    "duration": 1671,
    "start_time": "2023-03-21T10:58:21.763Z"
   },
   {
    "duration": 31,
    "start_time": "2023-03-21T10:58:23.436Z"
   },
   {
    "duration": 34869,
    "start_time": "2023-03-21T10:58:23.542Z"
   },
   {
    "duration": 34,
    "start_time": "2023-03-21T10:58:58.412Z"
   },
   {
    "duration": 7,
    "start_time": "2023-03-21T10:58:58.447Z"
   },
   {
    "duration": 104,
    "start_time": "2023-03-21T10:58:58.456Z"
   },
   {
    "duration": 13,
    "start_time": "2023-03-21T10:58:58.562Z"
   },
   {
    "duration": 70,
    "start_time": "2023-03-21T10:58:58.576Z"
   },
   {
    "duration": 15,
    "start_time": "2023-03-21T10:58:58.648Z"
   },
   {
    "duration": 2512,
    "start_time": "2023-03-21T10:58:58.747Z"
   },
   {
    "duration": 8,
    "start_time": "2023-03-21T10:59:01.260Z"
   },
   {
    "duration": 41320,
    "start_time": "2023-03-21T10:59:01.270Z"
   },
   {
    "duration": 8,
    "start_time": "2023-03-21T10:59:42.592Z"
   },
   {
    "duration": 243,
    "start_time": "2023-03-21T10:59:42.602Z"
   },
   {
    "duration": 12,
    "start_time": "2023-03-21T10:59:42.846Z"
   },
   {
    "duration": 1343,
    "start_time": "2023-03-21T11:10:52.121Z"
   },
   {
    "duration": 104,
    "start_time": "2023-03-21T11:10:53.466Z"
   },
   {
    "duration": 12,
    "start_time": "2023-03-21T11:10:53.572Z"
   },
   {
    "duration": 17,
    "start_time": "2023-03-21T11:10:53.586Z"
   },
   {
    "duration": 3,
    "start_time": "2023-03-21T11:10:53.604Z"
   },
   {
    "duration": 24,
    "start_time": "2023-03-21T11:10:53.608Z"
   },
   {
    "duration": 12,
    "start_time": "2023-03-21T11:10:53.634Z"
   },
   {
    "duration": 9,
    "start_time": "2023-03-21T11:10:53.649Z"
   },
   {
    "duration": 5,
    "start_time": "2023-03-21T11:10:53.659Z"
   },
   {
    "duration": 3,
    "start_time": "2023-03-21T11:10:53.667Z"
   },
   {
    "duration": 3,
    "start_time": "2023-03-21T11:10:53.671Z"
   },
   {
    "duration": 14,
    "start_time": "2023-03-21T11:10:53.676Z"
   },
   {
    "duration": 6,
    "start_time": "2023-03-21T11:10:53.691Z"
   },
   {
    "duration": 4,
    "start_time": "2023-03-21T11:10:53.698Z"
   },
   {
    "duration": 46,
    "start_time": "2023-03-21T11:10:53.703Z"
   },
   {
    "duration": 5,
    "start_time": "2023-03-21T11:10:53.755Z"
   },
   {
    "duration": 11,
    "start_time": "2023-03-21T11:10:53.763Z"
   },
   {
    "duration": 6,
    "start_time": "2023-03-21T11:10:53.776Z"
   },
   {
    "duration": 2,
    "start_time": "2023-03-21T11:10:53.784Z"
   },
   {
    "duration": 13,
    "start_time": "2023-03-21T11:10:53.788Z"
   },
   {
    "duration": 51,
    "start_time": "2023-03-21T11:10:53.802Z"
   },
   {
    "duration": 109,
    "start_time": "2023-03-21T11:10:53.855Z"
   },
   {
    "duration": 91,
    "start_time": "2023-03-21T11:10:53.966Z"
   },
   {
    "duration": 703,
    "start_time": "2023-03-21T11:10:54.058Z"
   },
   {
    "duration": 115,
    "start_time": "2023-03-21T11:10:54.763Z"
   },
   {
    "duration": 0,
    "start_time": "2023-03-21T11:10:54.880Z"
   },
   {
    "duration": 0,
    "start_time": "2023-03-21T11:10:54.881Z"
   },
   {
    "duration": 0,
    "start_time": "2023-03-21T11:10:54.882Z"
   },
   {
    "duration": 0,
    "start_time": "2023-03-21T11:10:54.883Z"
   },
   {
    "duration": 0,
    "start_time": "2023-03-21T11:10:54.884Z"
   },
   {
    "duration": 0,
    "start_time": "2023-03-21T11:10:54.885Z"
   },
   {
    "duration": 0,
    "start_time": "2023-03-21T11:10:54.886Z"
   },
   {
    "duration": 0,
    "start_time": "2023-03-21T11:10:54.887Z"
   },
   {
    "duration": 0,
    "start_time": "2023-03-21T11:10:54.887Z"
   },
   {
    "duration": 0,
    "start_time": "2023-03-21T11:10:54.888Z"
   },
   {
    "duration": 0,
    "start_time": "2023-03-21T11:10:54.889Z"
   },
   {
    "duration": 0,
    "start_time": "2023-03-21T11:10:54.890Z"
   },
   {
    "duration": 0,
    "start_time": "2023-03-21T11:10:54.891Z"
   },
   {
    "duration": 1,
    "start_time": "2023-03-21T11:10:54.891Z"
   },
   {
    "duration": 0,
    "start_time": "2023-03-21T11:10:54.892Z"
   },
   {
    "duration": 0,
    "start_time": "2023-03-21T11:10:54.894Z"
   },
   {
    "duration": 0,
    "start_time": "2023-03-21T11:10:54.894Z"
   },
   {
    "duration": 0,
    "start_time": "2023-03-21T11:10:54.895Z"
   },
   {
    "duration": 23,
    "start_time": "2023-03-21T11:11:49.835Z"
   },
   {
    "duration": 22001,
    "start_time": "2023-03-21T11:12:02.760Z"
   },
   {
    "duration": 19,
    "start_time": "2023-03-21T11:12:26.887Z"
   },
   {
    "duration": 1452,
    "start_time": "2023-03-21T11:13:07.122Z"
   },
   {
    "duration": 104,
    "start_time": "2023-03-21T11:13:08.576Z"
   },
   {
    "duration": 12,
    "start_time": "2023-03-21T11:13:08.682Z"
   },
   {
    "duration": 17,
    "start_time": "2023-03-21T11:13:08.695Z"
   },
   {
    "duration": 3,
    "start_time": "2023-03-21T11:13:08.713Z"
   },
   {
    "duration": 8,
    "start_time": "2023-03-21T11:13:08.717Z"
   },
   {
    "duration": 4,
    "start_time": "2023-03-21T11:13:08.727Z"
   },
   {
    "duration": 23,
    "start_time": "2023-03-21T11:13:08.732Z"
   },
   {
    "duration": 6,
    "start_time": "2023-03-21T11:13:08.757Z"
   },
   {
    "duration": 4,
    "start_time": "2023-03-21T11:13:08.767Z"
   },
   {
    "duration": 4,
    "start_time": "2023-03-21T11:13:08.773Z"
   },
   {
    "duration": 23,
    "start_time": "2023-03-21T11:13:08.779Z"
   },
   {
    "duration": 7,
    "start_time": "2023-03-21T11:13:08.804Z"
   },
   {
    "duration": 7,
    "start_time": "2023-03-21T11:13:08.813Z"
   },
   {
    "duration": 36,
    "start_time": "2023-03-21T11:13:08.822Z"
   },
   {
    "duration": 6,
    "start_time": "2023-03-21T11:13:08.860Z"
   },
   {
    "duration": 11,
    "start_time": "2023-03-21T11:13:08.868Z"
   },
   {
    "duration": 7,
    "start_time": "2023-03-21T11:13:08.881Z"
   },
   {
    "duration": 3,
    "start_time": "2023-03-21T11:13:08.890Z"
   },
   {
    "duration": 11,
    "start_time": "2023-03-21T11:13:08.895Z"
   },
   {
    "duration": 57,
    "start_time": "2023-03-21T11:13:08.907Z"
   },
   {
    "duration": 20,
    "start_time": "2023-03-21T11:13:08.966Z"
   },
   {
    "duration": 70,
    "start_time": "2023-03-21T11:13:08.987Z"
   },
   {
    "duration": 728,
    "start_time": "2023-03-21T11:13:09.061Z"
   },
   {
    "duration": 6,
    "start_time": "2023-03-21T11:13:09.791Z"
   },
   {
    "duration": 22095,
    "start_time": "2023-03-21T11:13:09.799Z"
   },
   {
    "duration": 17,
    "start_time": "2023-03-21T11:13:31.896Z"
   },
   {
    "duration": 51,
    "start_time": "2023-03-21T11:13:31.917Z"
   },
   {
    "duration": 102,
    "start_time": "2023-03-21T11:13:32.051Z"
   },
   {
    "duration": 1524,
    "start_time": "2023-03-21T11:13:32.157Z"
   },
   {
    "duration": 7,
    "start_time": "2023-03-21T11:13:33.683Z"
   },
   {
    "duration": 34382,
    "start_time": "2023-03-21T11:13:33.691Z"
   },
   {
    "duration": 17,
    "start_time": "2023-03-21T11:14:08.074Z"
   },
   {
    "duration": 6,
    "start_time": "2023-03-21T11:14:08.092Z"
   },
   {
    "duration": 7,
    "start_time": "2023-03-21T11:14:08.100Z"
   },
   {
    "duration": 126,
    "start_time": "2023-03-21T11:14:08.108Z"
   },
   {
    "duration": 0,
    "start_time": "2023-03-21T11:14:08.235Z"
   },
   {
    "duration": 0,
    "start_time": "2023-03-21T11:14:08.250Z"
   },
   {
    "duration": 0,
    "start_time": "2023-03-21T11:14:08.252Z"
   },
   {
    "duration": 0,
    "start_time": "2023-03-21T11:14:08.254Z"
   },
   {
    "duration": 0,
    "start_time": "2023-03-21T11:14:08.255Z"
   },
   {
    "duration": 0,
    "start_time": "2023-03-21T11:14:08.256Z"
   },
   {
    "duration": 0,
    "start_time": "2023-03-21T11:14:08.257Z"
   },
   {
    "duration": 1380,
    "start_time": "2023-03-21T11:16:54.203Z"
   },
   {
    "duration": 94,
    "start_time": "2023-03-21T11:16:55.585Z"
   },
   {
    "duration": 12,
    "start_time": "2023-03-21T11:16:55.681Z"
   },
   {
    "duration": 16,
    "start_time": "2023-03-21T11:16:55.695Z"
   },
   {
    "duration": 2,
    "start_time": "2023-03-21T11:16:55.713Z"
   },
   {
    "duration": 14,
    "start_time": "2023-03-21T11:16:55.716Z"
   },
   {
    "duration": 5,
    "start_time": "2023-03-21T11:16:55.732Z"
   },
   {
    "duration": 16,
    "start_time": "2023-03-21T11:16:55.738Z"
   },
   {
    "duration": 8,
    "start_time": "2023-03-21T11:16:55.755Z"
   },
   {
    "duration": 4,
    "start_time": "2023-03-21T11:16:55.765Z"
   },
   {
    "duration": 6,
    "start_time": "2023-03-21T11:16:55.770Z"
   },
   {
    "duration": 21,
    "start_time": "2023-03-21T11:16:55.777Z"
   },
   {
    "duration": 13,
    "start_time": "2023-03-21T11:16:55.799Z"
   },
   {
    "duration": 4,
    "start_time": "2023-03-21T11:16:55.814Z"
   },
   {
    "duration": 17,
    "start_time": "2023-03-21T11:16:55.820Z"
   },
   {
    "duration": 17,
    "start_time": "2023-03-21T11:16:55.838Z"
   },
   {
    "duration": 9,
    "start_time": "2023-03-21T11:16:55.856Z"
   },
   {
    "duration": 5,
    "start_time": "2023-03-21T11:16:55.866Z"
   },
   {
    "duration": 6,
    "start_time": "2023-03-21T11:16:55.873Z"
   },
   {
    "duration": 8,
    "start_time": "2023-03-21T11:16:55.880Z"
   },
   {
    "duration": 22,
    "start_time": "2023-03-21T11:16:55.889Z"
   },
   {
    "duration": 47,
    "start_time": "2023-03-21T11:16:55.912Z"
   },
   {
    "duration": 92,
    "start_time": "2023-03-21T11:16:55.961Z"
   },
   {
    "duration": 730,
    "start_time": "2023-03-21T11:16:56.056Z"
   },
   {
    "duration": 9,
    "start_time": "2023-03-21T11:16:56.788Z"
   },
   {
    "duration": 22260,
    "start_time": "2023-03-21T11:16:56.799Z"
   },
   {
    "duration": 17,
    "start_time": "2023-03-21T11:17:19.060Z"
   },
   {
    "duration": 65,
    "start_time": "2023-03-21T11:17:19.080Z"
   },
   {
    "duration": 17,
    "start_time": "2023-03-21T11:17:19.147Z"
   },
   {
    "duration": 1626,
    "start_time": "2023-03-21T11:17:19.167Z"
   },
   {
    "duration": 6,
    "start_time": "2023-03-21T11:17:20.795Z"
   },
   {
    "duration": 35456,
    "start_time": "2023-03-21T11:17:20.803Z"
   },
   {
    "duration": 22,
    "start_time": "2023-03-21T11:17:56.261Z"
   },
   {
    "duration": 9,
    "start_time": "2023-03-21T11:17:56.285Z"
   },
   {
    "duration": 8,
    "start_time": "2023-03-21T11:17:56.295Z"
   },
   {
    "duration": 6,
    "start_time": "2023-03-21T11:17:56.304Z"
   },
   {
    "duration": 129,
    "start_time": "2023-03-21T11:17:56.312Z"
   },
   {
    "duration": 107,
    "start_time": "2023-03-21T11:17:56.443Z"
   },
   {
    "duration": 2007,
    "start_time": "2023-03-21T11:17:56.552Z"
   },
   {
    "duration": 16,
    "start_time": "2023-03-21T11:17:58.562Z"
   },
   {
    "duration": 33990,
    "start_time": "2023-03-21T11:17:58.580Z"
   },
   {
    "duration": 22,
    "start_time": "2023-03-21T11:18:32.572Z"
   },
   {
    "duration": 136,
    "start_time": "2023-03-21T11:18:32.596Z"
   },
   {
    "duration": 22,
    "start_time": "2023-03-21T11:18:32.733Z"
   },
   {
    "duration": 1381,
    "start_time": "2023-03-21T11:33:28.026Z"
   },
   {
    "duration": 90,
    "start_time": "2023-03-21T11:33:29.409Z"
   },
   {
    "duration": 11,
    "start_time": "2023-03-21T11:33:29.501Z"
   },
   {
    "duration": 15,
    "start_time": "2023-03-21T11:33:29.514Z"
   },
   {
    "duration": 2,
    "start_time": "2023-03-21T11:33:29.531Z"
   },
   {
    "duration": 8,
    "start_time": "2023-03-21T11:33:29.534Z"
   },
   {
    "duration": 9,
    "start_time": "2023-03-21T11:33:29.543Z"
   },
   {
    "duration": 6,
    "start_time": "2023-03-21T11:33:29.559Z"
   },
   {
    "duration": 5,
    "start_time": "2023-03-21T11:33:29.567Z"
   },
   {
    "duration": 4,
    "start_time": "2023-03-21T11:33:29.575Z"
   },
   {
    "duration": 4,
    "start_time": "2023-03-21T11:33:29.580Z"
   },
   {
    "duration": 15,
    "start_time": "2023-03-21T11:33:29.585Z"
   },
   {
    "duration": 5,
    "start_time": "2023-03-21T11:33:29.601Z"
   },
   {
    "duration": 38,
    "start_time": "2023-03-21T11:33:29.607Z"
   },
   {
    "duration": 12,
    "start_time": "2023-03-21T11:33:29.646Z"
   },
   {
    "duration": 4,
    "start_time": "2023-03-21T11:33:29.660Z"
   },
   {
    "duration": 10,
    "start_time": "2023-03-21T11:33:29.666Z"
   },
   {
    "duration": 5,
    "start_time": "2023-03-21T11:33:29.677Z"
   },
   {
    "duration": 2,
    "start_time": "2023-03-21T11:33:29.684Z"
   },
   {
    "duration": 9,
    "start_time": "2023-03-21T11:33:29.687Z"
   },
   {
    "duration": 62,
    "start_time": "2023-03-21T11:33:29.698Z"
   },
   {
    "duration": 85,
    "start_time": "2023-03-21T11:33:29.762Z"
   },
   {
    "duration": 11,
    "start_time": "2023-03-21T11:33:29.848Z"
   },
   {
    "duration": 740,
    "start_time": "2023-03-21T11:33:29.861Z"
   },
   {
    "duration": 7,
    "start_time": "2023-03-21T11:33:30.602Z"
   },
   {
    "duration": 21907,
    "start_time": "2023-03-21T11:33:30.610Z"
   },
   {
    "duration": 37,
    "start_time": "2023-03-21T11:33:52.519Z"
   },
   {
    "duration": 96,
    "start_time": "2023-03-21T11:33:52.560Z"
   },
   {
    "duration": 95,
    "start_time": "2023-03-21T11:33:52.659Z"
   },
   {
    "duration": 1630,
    "start_time": "2023-03-21T11:33:52.756Z"
   },
   {
    "duration": 9,
    "start_time": "2023-03-21T11:33:54.388Z"
   },
   {
    "duration": 34496,
    "start_time": "2023-03-21T11:33:54.398Z"
   },
   {
    "duration": 17,
    "start_time": "2023-03-21T11:34:28.895Z"
   },
   {
    "duration": 20,
    "start_time": "2023-03-21T11:34:28.914Z"
   },
   {
    "duration": 11,
    "start_time": "2023-03-21T11:34:28.936Z"
   },
   {
    "duration": 17,
    "start_time": "2023-03-21T11:34:28.948Z"
   },
   {
    "duration": 85,
    "start_time": "2023-03-21T11:34:28.966Z"
   },
   {
    "duration": 94,
    "start_time": "2023-03-21T11:34:29.053Z"
   },
   {
    "duration": 1951,
    "start_time": "2023-03-21T11:34:29.149Z"
   },
   {
    "duration": 10,
    "start_time": "2023-03-21T11:34:31.104Z"
   },
   {
    "duration": 32315,
    "start_time": "2023-03-21T11:34:31.116Z"
   },
   {
    "duration": 16,
    "start_time": "2023-03-21T11:35:03.432Z"
   },
   {
    "duration": 115,
    "start_time": "2023-03-21T11:35:03.449Z"
   },
   {
    "duration": 12,
    "start_time": "2023-03-21T11:35:03.565Z"
   }
  ],
  "kernelspec": {
   "display_name": "Python 3 (ipykernel)",
   "language": "python",
   "name": "python3"
  },
  "language_info": {
   "codemirror_mode": {
    "name": "ipython",
    "version": 3
   },
   "file_extension": ".py",
   "mimetype": "text/x-python",
   "name": "python",
   "nbconvert_exporter": "python",
   "pygments_lexer": "ipython3",
   "version": "3.9.13"
  },
  "toc": {
   "base_numbering": 1,
   "nav_menu": {},
   "number_sections": true,
   "sideBar": true,
   "skip_h1_title": true,
   "title_cell": "Содержание",
   "title_sidebar": "Contents",
   "toc_cell": true,
   "toc_position": {},
   "toc_section_display": true,
   "toc_window_display": true
  }
 },
 "nbformat": 4,
 "nbformat_minor": 2
}
