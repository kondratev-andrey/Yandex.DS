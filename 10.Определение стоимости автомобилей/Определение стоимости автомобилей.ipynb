{
 "cells": [
  {
   "cell_type": "markdown",
   "metadata": {},
   "source": [
    "# Определение стоимости автомобилей"
   ]
  },
  {
   "cell_type": "markdown",
   "metadata": {},
   "source": [
    "Сервис по продаже автомобилей с пробегом «Не бит, не крашен» разрабатывает приложение для привлечения новых клиентов. В нём можно быстро узнать рыночную стоимость своего автомобиля. В вашем распоряжении исторические данные: технические характеристики, комплектации и цены автомобилей. Вам нужно построить модель для определения стоимости. \n",
    "\n",
    "Заказчику важны:\n",
    "\n",
    "- качество предсказания;\n",
    "- скорость предсказания;\n",
    "- время обучения."
   ]
  },
  {
   "cell_type": "markdown",
   "metadata": {},
   "source": [
    "## Подготовка данных"
   ]
  },
  {
   "cell_type": "raw",
   "metadata": {},
   "source": [
    "!pip install lightgbm"
   ]
  },
  {
   "cell_type": "code",
   "execution_count": 1,
   "metadata": {},
   "outputs": [],
   "source": [
    "import pandas as pd\n",
    "import numpy as np\n",
    "from sklearn.model_selection import train_test_split\n",
    "from sklearn.tree import DecisionTreeRegressor\n",
    "from sklearn.ensemble import RandomForestRegressor\n",
    "from sklearn.dummy import DummyRegressor\n",
    "from sklearn.linear_model import Ridge\n",
    "from sklearn.metrics import mean_squared_error\n",
    "import lightgbm as lgb\n",
    "from sklearn.preprocessing import OrdinalEncoder\n",
    "from time import time"
   ]
  },
  {
   "cell_type": "code",
   "execution_count": 2,
   "metadata": {},
   "outputs": [
    {
     "name": "stdout",
     "output_type": "stream",
     "text": [
      "<class 'pandas.core.frame.DataFrame'>\n",
      "RangeIndex: 354369 entries, 0 to 354368\n",
      "Data columns (total 16 columns):\n",
      " #   Column             Non-Null Count   Dtype \n",
      "---  ------             --------------   ----- \n",
      " 0   DateCrawled        354369 non-null  object\n",
      " 1   Price              354369 non-null  int64 \n",
      " 2   VehicleType        316879 non-null  object\n",
      " 3   RegistrationYear   354369 non-null  int64 \n",
      " 4   Gearbox            334536 non-null  object\n",
      " 5   Power              354369 non-null  int64 \n",
      " 6   Model              334664 non-null  object\n",
      " 7   Kilometer          354369 non-null  int64 \n",
      " 8   RegistrationMonth  354369 non-null  int64 \n",
      " 9   FuelType           321474 non-null  object\n",
      " 10  Brand              354369 non-null  object\n",
      " 11  Repaired           283215 non-null  object\n",
      " 12  DateCreated        354369 non-null  object\n",
      " 13  NumberOfPictures   354369 non-null  int64 \n",
      " 14  PostalCode         354369 non-null  int64 \n",
      " 15  LastSeen           354369 non-null  object\n",
      "dtypes: int64(7), object(9)\n",
      "memory usage: 43.3+ MB\n"
     ]
    }
   ],
   "source": [
    "try:\n",
    "    data = pd.read_csv('C:/Users/Пользователь/OneDrive/Документы/Python/autos.csv')\n",
    "except:\n",
    "    data = pd.read_csv('/datasets/autos.csv')\n",
    "    \n",
    "data.info()"
   ]
  },
  {
   "cell_type": "markdown",
   "metadata": {},
   "source": [
    "Начнем с проверки на дубликаты."
   ]
  },
  {
   "cell_type": "code",
   "execution_count": 3,
   "metadata": {},
   "outputs": [
    {
     "data": {
      "text/plain": [
       "4"
      ]
     },
     "execution_count": 3,
     "metadata": {},
     "output_type": "execute_result"
    }
   ],
   "source": [
    "data.duplicated().sum()"
   ]
  },
  {
   "cell_type": "code",
   "execution_count": 4,
   "metadata": {},
   "outputs": [],
   "source": [
    "data = data.drop_duplicates().reset_index(drop=True)"
   ]
  },
  {
   "cell_type": "markdown",
   "metadata": {},
   "source": [
    "Теперь посмотрим на пропуски."
   ]
  },
  {
   "cell_type": "code",
   "execution_count": 5,
   "metadata": {},
   "outputs": [
    {
     "data": {
      "text/plain": [
       "DateCrawled              0\n",
       "Price                    0\n",
       "VehicleType          37490\n",
       "RegistrationYear         0\n",
       "Gearbox              19833\n",
       "Power                    0\n",
       "Model                19705\n",
       "Kilometer                0\n",
       "RegistrationMonth        0\n",
       "FuelType             32895\n",
       "Brand                    0\n",
       "Repaired             71154\n",
       "DateCreated              0\n",
       "NumberOfPictures         0\n",
       "PostalCode               0\n",
       "LastSeen                 0\n",
       "dtype: int64"
      ]
     },
     "execution_count": 5,
     "metadata": {},
     "output_type": "execute_result"
    }
   ],
   "source": [
    "data.isna().sum()"
   ]
  },
  {
   "cell_type": "markdown",
   "metadata": {},
   "source": [
    "Заменим пропуски на заначение 'unknown'."
   ]
  },
  {
   "cell_type": "code",
   "execution_count": 6,
   "metadata": {},
   "outputs": [],
   "source": [
    "data[\"VehicleType\"] = data[\"VehicleType\"].fillna('unknown')\n",
    "data[\"Gearbox\"] = data[\"Gearbox\"].fillna('unknown')\n",
    "data[\"Model\"] = data[\"Model\"].fillna('unknown')\n",
    "data[\"FuelType\"] = data[\"FuelType\"].fillna('unknown')\n",
    "data[\"Repaired\"] = data[\"Repaired\"].fillna('unknown')"
   ]
  },
  {
   "cell_type": "code",
   "execution_count": 7,
   "metadata": {},
   "outputs": [
    {
     "data": {
      "text/plain": [
       "DateCrawled          0\n",
       "Price                0\n",
       "VehicleType          0\n",
       "RegistrationYear     0\n",
       "Gearbox              0\n",
       "Power                0\n",
       "Model                0\n",
       "Kilometer            0\n",
       "RegistrationMonth    0\n",
       "FuelType             0\n",
       "Brand                0\n",
       "Repaired             0\n",
       "DateCreated          0\n",
       "NumberOfPictures     0\n",
       "PostalCode           0\n",
       "LastSeen             0\n",
       "dtype: int64"
      ]
     },
     "execution_count": 7,
     "metadata": {},
     "output_type": "execute_result"
    }
   ],
   "source": [
    "data.isna().sum()"
   ]
  },
  {
   "cell_type": "code",
   "execution_count": 8,
   "metadata": {},
   "outputs": [],
   "source": [
    "data.columns = data.columns.str.lower()# приведем названия столбцов в нижний регистр."
   ]
  },
  {
   "cell_type": "markdown",
   "metadata": {},
   "source": [
    "Удалим столбцы, которые не несут важной информации для нашей модели."
   ]
  },
  {
   "cell_type": "code",
   "execution_count": 9,
   "metadata": {},
   "outputs": [],
   "source": [
    "data = data.drop([\"datecrawled\",\"datecreated\",\"lastseen\",\"numberofpictures\",\"postalcode\"],axis = 1)"
   ]
  },
  {
   "cell_type": "code",
   "execution_count": 10,
   "metadata": {
    "scrolled": true
   },
   "outputs": [
    {
     "data": {
      "text/html": [
       "<div>\n",
       "<style scoped>\n",
       "    .dataframe tbody tr th:only-of-type {\n",
       "        vertical-align: middle;\n",
       "    }\n",
       "\n",
       "    .dataframe tbody tr th {\n",
       "        vertical-align: top;\n",
       "    }\n",
       "\n",
       "    .dataframe thead th {\n",
       "        text-align: right;\n",
       "    }\n",
       "</style>\n",
       "<table border=\"1\" class=\"dataframe\">\n",
       "  <thead>\n",
       "    <tr style=\"text-align: right;\">\n",
       "      <th></th>\n",
       "      <th>price</th>\n",
       "      <th>vehicletype</th>\n",
       "      <th>registrationyear</th>\n",
       "      <th>gearbox</th>\n",
       "      <th>power</th>\n",
       "      <th>model</th>\n",
       "      <th>kilometer</th>\n",
       "      <th>registrationmonth</th>\n",
       "      <th>fueltype</th>\n",
       "      <th>brand</th>\n",
       "      <th>repaired</th>\n",
       "    </tr>\n",
       "  </thead>\n",
       "  <tbody>\n",
       "    <tr>\n",
       "      <th>0</th>\n",
       "      <td>480</td>\n",
       "      <td>unknown</td>\n",
       "      <td>1993</td>\n",
       "      <td>manual</td>\n",
       "      <td>0</td>\n",
       "      <td>golf</td>\n",
       "      <td>150000</td>\n",
       "      <td>0</td>\n",
       "      <td>petrol</td>\n",
       "      <td>volkswagen</td>\n",
       "      <td>unknown</td>\n",
       "    </tr>\n",
       "    <tr>\n",
       "      <th>1</th>\n",
       "      <td>18300</td>\n",
       "      <td>coupe</td>\n",
       "      <td>2011</td>\n",
       "      <td>manual</td>\n",
       "      <td>190</td>\n",
       "      <td>unknown</td>\n",
       "      <td>125000</td>\n",
       "      <td>5</td>\n",
       "      <td>gasoline</td>\n",
       "      <td>audi</td>\n",
       "      <td>yes</td>\n",
       "    </tr>\n",
       "    <tr>\n",
       "      <th>2</th>\n",
       "      <td>9800</td>\n",
       "      <td>suv</td>\n",
       "      <td>2004</td>\n",
       "      <td>auto</td>\n",
       "      <td>163</td>\n",
       "      <td>grand</td>\n",
       "      <td>125000</td>\n",
       "      <td>8</td>\n",
       "      <td>gasoline</td>\n",
       "      <td>jeep</td>\n",
       "      <td>unknown</td>\n",
       "    </tr>\n",
       "    <tr>\n",
       "      <th>3</th>\n",
       "      <td>1500</td>\n",
       "      <td>small</td>\n",
       "      <td>2001</td>\n",
       "      <td>manual</td>\n",
       "      <td>75</td>\n",
       "      <td>golf</td>\n",
       "      <td>150000</td>\n",
       "      <td>6</td>\n",
       "      <td>petrol</td>\n",
       "      <td>volkswagen</td>\n",
       "      <td>no</td>\n",
       "    </tr>\n",
       "    <tr>\n",
       "      <th>4</th>\n",
       "      <td>3600</td>\n",
       "      <td>small</td>\n",
       "      <td>2008</td>\n",
       "      <td>manual</td>\n",
       "      <td>69</td>\n",
       "      <td>fabia</td>\n",
       "      <td>90000</td>\n",
       "      <td>7</td>\n",
       "      <td>gasoline</td>\n",
       "      <td>skoda</td>\n",
       "      <td>no</td>\n",
       "    </tr>\n",
       "  </tbody>\n",
       "</table>\n",
       "</div>"
      ],
      "text/plain": [
       "   price vehicletype  registrationyear gearbox  power    model  kilometer  \\\n",
       "0    480     unknown              1993  manual      0     golf     150000   \n",
       "1  18300       coupe              2011  manual    190  unknown     125000   \n",
       "2   9800         suv              2004    auto    163    grand     125000   \n",
       "3   1500       small              2001  manual     75     golf     150000   \n",
       "4   3600       small              2008  manual     69    fabia      90000   \n",
       "\n",
       "   registrationmonth  fueltype       brand repaired  \n",
       "0                  0    petrol  volkswagen  unknown  \n",
       "1                  5  gasoline        audi      yes  \n",
       "2                  8  gasoline        jeep  unknown  \n",
       "3                  6    petrol  volkswagen       no  \n",
       "4                  7  gasoline       skoda       no  "
      ]
     },
     "execution_count": 10,
     "metadata": {},
     "output_type": "execute_result"
    }
   ],
   "source": [
    "data.head()"
   ]
  },
  {
   "cell_type": "markdown",
   "metadata": {},
   "source": [
    "Проверим датасат на наличие аномалий."
   ]
  },
  {
   "cell_type": "code",
   "execution_count": 11,
   "metadata": {},
   "outputs": [
    {
     "data": {
      "text/plain": [
       "0        10772\n",
       "500       5670\n",
       "1500      5394\n",
       "1000      4648\n",
       "1200      4594\n",
       "         ...  \n",
       "1368         1\n",
       "233          1\n",
       "11080        1\n",
       "16340        1\n",
       "10985        1\n",
       "Name: price, Length: 3731, dtype: int64"
      ]
     },
     "execution_count": 11,
     "metadata": {},
     "output_type": "execute_result"
    }
   ],
   "source": [
    "data.price.value_counts()"
   ]
  },
  {
   "cell_type": "code",
   "execution_count": 12,
   "metadata": {},
   "outputs": [],
   "source": [
    "data = data.loc[data['price'] > 0]# Удалим значения с нулевой стоимостью."
   ]
  },
  {
   "cell_type": "code",
   "execution_count": 13,
   "metadata": {},
   "outputs": [
    {
     "data": {
      "text/plain": [
       "array(['unknown', 'coupe', 'suv', 'small', 'sedan', 'convertible', 'bus',\n",
       "       'wagon', 'other'], dtype=object)"
      ]
     },
     "execution_count": 13,
     "metadata": {},
     "output_type": "execute_result"
    }
   ],
   "source": [
    "data.vehicletype.unique()"
   ]
  },
  {
   "cell_type": "code",
   "execution_count": 14,
   "metadata": {},
   "outputs": [
    {
     "data": {
      "text/plain": [
       "array([1993, 2011, 2004, 2001, 2008, 1995, 2014, 1998, 2005, 1910, 2016,\n",
       "       2007, 2009, 2002, 2018, 1997, 1990, 2017, 1981, 2003, 1994, 1991,\n",
       "       1984, 2006, 1999, 2012, 2010, 2000, 1992, 2013, 1996, 1985, 1989,\n",
       "       2015, 1982, 1976, 1983, 1973, 1969, 1971, 1987, 1986, 1988, 1980,\n",
       "       1970, 1965, 1945, 1925, 1974, 1979, 1955, 1978, 1972, 1968, 1977,\n",
       "       1961, 1966, 1975, 1963, 1964, 1960, 5000, 1958, 1967, 1959, 1956,\n",
       "       3200, 1000, 1941, 9999, 8888, 1500, 2200, 4100, 1962, 1929, 1957,\n",
       "       1940, 3000, 2066, 1949, 2019, 1937, 1951, 1800, 1953, 1954, 1234,\n",
       "       8000, 5300, 9000, 2900, 6000, 5900, 5911, 1400, 1950, 4000, 1948,\n",
       "       1952, 8500, 1932, 1255, 3700, 3800, 4800, 1942, 7000, 1935, 1933,\n",
       "       1936, 6500, 1923, 2290, 1930, 1001, 9450, 1944, 2500, 1943, 1934,\n",
       "       1938, 1928, 5555, 5600, 1600, 1111, 2222, 1039, 1300, 2800, 1931,\n",
       "       4500, 1602, 7800, 1947, 1927, 7100, 8200, 1946], dtype=int64)"
      ]
     },
     "execution_count": 14,
     "metadata": {},
     "output_type": "execute_result"
    }
   ],
   "source": [
    "data.registrationyear.unique()"
   ]
  },
  {
   "cell_type": "markdown",
   "metadata": {},
   "source": [
    "С годом регистрации автомобиля есть явные аномалии. Ограничим по годам за последние 30 лет. с 1986 по 2016."
   ]
  },
  {
   "cell_type": "code",
   "execution_count": 15,
   "metadata": {},
   "outputs": [],
   "source": [
    "data = data.loc[(data['registrationyear'] <= 2016) & (data['registrationyear'] >= 1986)]"
   ]
  },
  {
   "cell_type": "code",
   "execution_count": 16,
   "metadata": {},
   "outputs": [
    {
     "data": {
      "text/plain": [
       "array(['manual', 'auto', 'unknown'], dtype=object)"
      ]
     },
     "execution_count": 16,
     "metadata": {},
     "output_type": "execute_result"
    }
   ],
   "source": [
    "data.gearbox.unique()"
   ]
  },
  {
   "cell_type": "code",
   "execution_count": 17,
   "metadata": {},
   "outputs": [
    {
     "data": {
      "text/plain": [
       "0        31381\n",
       "75       21961\n",
       "60       14598\n",
       "150      13693\n",
       "101      12373\n",
       "         ...  \n",
       "519          1\n",
       "2461         1\n",
       "6006         1\n",
       "10520        1\n",
       "1241         1\n",
       "Name: power, Length: 678, dtype: int64"
      ]
     },
     "execution_count": 17,
     "metadata": {},
     "output_type": "execute_result"
    }
   ],
   "source": [
    "data.power.value_counts()"
   ]
  },
  {
   "cell_type": "markdown",
   "metadata": {},
   "source": [
    "Ограничим мощность мотора от 1 до 1000 л.с."
   ]
  },
  {
   "cell_type": "code",
   "execution_count": 18,
   "metadata": {},
   "outputs": [],
   "source": [
    "data = data.loc[(data['power'] <= 1000) & (data['power'] >= 1)]"
   ]
  },
  {
   "cell_type": "code",
   "execution_count": 19,
   "metadata": {},
   "outputs": [
    {
     "data": {
      "text/plain": [
       "array([125000, 150000,  90000,  30000,  70000, 100000,  60000,  20000,\n",
       "        80000,   5000,  50000,  40000,  10000], dtype=int64)"
      ]
     },
     "execution_count": 19,
     "metadata": {},
     "output_type": "execute_result"
    }
   ],
   "source": [
    "data.kilometer.unique()"
   ]
  },
  {
   "cell_type": "code",
   "execution_count": 20,
   "metadata": {},
   "outputs": [
    {
     "name": "stdout",
     "output_type": "stream",
     "text": [
      "<class 'pandas.core.frame.DataFrame'>\n",
      "Int64Index: 292518 entries, 1 to 354364\n",
      "Data columns (total 11 columns):\n",
      " #   Column             Non-Null Count   Dtype \n",
      "---  ------             --------------   ----- \n",
      " 0   price              292518 non-null  int64 \n",
      " 1   vehicletype        292518 non-null  object\n",
      " 2   registrationyear   292518 non-null  int64 \n",
      " 3   gearbox            292518 non-null  object\n",
      " 4   power              292518 non-null  int64 \n",
      " 5   model              292518 non-null  object\n",
      " 6   kilometer          292518 non-null  int64 \n",
      " 7   registrationmonth  292518 non-null  int64 \n",
      " 8   fueltype           292518 non-null  object\n",
      " 9   brand              292518 non-null  object\n",
      " 10  repaired           292518 non-null  object\n",
      "dtypes: int64(5), object(6)\n",
      "memory usage: 26.8+ MB\n"
     ]
    }
   ],
   "source": [
    "data.info()"
   ]
  },
  {
   "cell_type": "markdown",
   "metadata": {},
   "source": [
    "После обработки данных для коректной работы были удалены несколько столбцов с ненужной для нашей модели информацией и дубликаты. Пропуски в столбцах заменены на значение 'unknown'. Так же удалены записи с нулевой стоимостью, записи с годом регистрации автомобиля не попадающие во временной  промежуток с 1986 по 2016г. и записи с мощностью мотора меньше 1 и больше 1000."
   ]
  },
  {
   "cell_type": "markdown",
   "metadata": {},
   "source": [
    "## Обучение моделей"
   ]
  },
  {
   "cell_type": "markdown",
   "metadata": {},
   "source": [
    "Перейдем к обучению моделей. Первым делом выделим целевой признак."
   ]
  },
  {
   "cell_type": "code",
   "execution_count": 21,
   "metadata": {},
   "outputs": [],
   "source": [
    "features=data.drop(['price'],axis=1)\n",
    "target=data['price']"
   ]
  },
  {
   "cell_type": "code",
   "execution_count": 22,
   "metadata": {},
   "outputs": [],
   "source": [
    "col=['vehicletype', 'gearbox','model',\n",
    "       'fueltype', 'brand', 'repaired']"
   ]
  },
  {
   "cell_type": "markdown",
   "metadata": {},
   "source": [
    "Разделим датасет на выборки."
   ]
  },
  {
   "cell_type": "code",
   "execution_count": 23,
   "metadata": {},
   "outputs": [],
   "source": [
    "features_train, features_valid_test, target_train, target_valid_test  = train_test_split(features,target, test_size=0.4, random_state=254)\n",
    "features_valid, features_test, target_valid, target_test = train_test_split(features_valid_test, target_valid_test, test_size=0.5, random_state=12345)"
   ]
  },
  {
   "cell_type": "markdown",
   "metadata": {},
   "source": [
    "Копируем данные для кодировки"
   ]
  },
  {
   "cell_type": "code",
   "execution_count": 24,
   "metadata": {},
   "outputs": [],
   "source": [
    "features_train_oe = features_train.copy()\n",
    "features_valid_oe = features_valid.copy()\n",
    "features_test_oe = features_test.copy()"
   ]
  },
  {
   "cell_type": "code",
   "execution_count": 25,
   "metadata": {},
   "outputs": [
    {
     "data": {
      "text/html": [
       "<div>\n",
       "<style scoped>\n",
       "    .dataframe tbody tr th:only-of-type {\n",
       "        vertical-align: middle;\n",
       "    }\n",
       "\n",
       "    .dataframe tbody tr th {\n",
       "        vertical-align: top;\n",
       "    }\n",
       "\n",
       "    .dataframe thead th {\n",
       "        text-align: right;\n",
       "    }\n",
       "</style>\n",
       "<table border=\"1\" class=\"dataframe\">\n",
       "  <thead>\n",
       "    <tr style=\"text-align: right;\">\n",
       "      <th></th>\n",
       "      <th>vehicletype</th>\n",
       "      <th>registrationyear</th>\n",
       "      <th>gearbox</th>\n",
       "      <th>power</th>\n",
       "      <th>model</th>\n",
       "      <th>kilometer</th>\n",
       "      <th>registrationmonth</th>\n",
       "      <th>fueltype</th>\n",
       "      <th>brand</th>\n",
       "      <th>repaired</th>\n",
       "    </tr>\n",
       "  </thead>\n",
       "  <tbody>\n",
       "    <tr>\n",
       "      <th>24029</th>\n",
       "      <td>4.0</td>\n",
       "      <td>2000</td>\n",
       "      <td>1.0</td>\n",
       "      <td>90</td>\n",
       "      <td>37.0</td>\n",
       "      <td>150000</td>\n",
       "      <td>10</td>\n",
       "      <td>6.0</td>\n",
       "      <td>23.0</td>\n",
       "      <td>0.0</td>\n",
       "    </tr>\n",
       "    <tr>\n",
       "      <th>199826</th>\n",
       "      <td>5.0</td>\n",
       "      <td>1997</td>\n",
       "      <td>1.0</td>\n",
       "      <td>60</td>\n",
       "      <td>83.0</td>\n",
       "      <td>150000</td>\n",
       "      <td>2</td>\n",
       "      <td>6.0</td>\n",
       "      <td>24.0</td>\n",
       "      <td>0.0</td>\n",
       "    </tr>\n",
       "    <tr>\n",
       "      <th>164311</th>\n",
       "      <td>8.0</td>\n",
       "      <td>2000</td>\n",
       "      <td>1.0</td>\n",
       "      <td>118</td>\n",
       "      <td>11.0</td>\n",
       "      <td>150000</td>\n",
       "      <td>10</td>\n",
       "      <td>6.0</td>\n",
       "      <td>2.0</td>\n",
       "      <td>0.0</td>\n",
       "    </tr>\n",
       "    <tr>\n",
       "      <th>283674</th>\n",
       "      <td>5.0</td>\n",
       "      <td>2001</td>\n",
       "      <td>1.0</td>\n",
       "      <td>60</td>\n",
       "      <td>173.0</td>\n",
       "      <td>70000</td>\n",
       "      <td>5</td>\n",
       "      <td>6.0</td>\n",
       "      <td>38.0</td>\n",
       "      <td>1.0</td>\n",
       "    </tr>\n",
       "    <tr>\n",
       "      <th>267170</th>\n",
       "      <td>8.0</td>\n",
       "      <td>2006</td>\n",
       "      <td>1.0</td>\n",
       "      <td>140</td>\n",
       "      <td>29.0</td>\n",
       "      <td>150000</td>\n",
       "      <td>9</td>\n",
       "      <td>2.0</td>\n",
       "      <td>1.0</td>\n",
       "      <td>0.0</td>\n",
       "    </tr>\n",
       "  </tbody>\n",
       "</table>\n",
       "</div>"
      ],
      "text/plain": [
       "        vehicletype  registrationyear  gearbox  power  model  kilometer  \\\n",
       "24029           4.0              2000      1.0     90   37.0     150000   \n",
       "199826          5.0              1997      1.0     60   83.0     150000   \n",
       "164311          8.0              2000      1.0    118   11.0     150000   \n",
       "283674          5.0              2001      1.0     60  173.0      70000   \n",
       "267170          8.0              2006      1.0    140   29.0     150000   \n",
       "\n",
       "        registrationmonth  fueltype  brand  repaired  \n",
       "24029                  10       6.0   23.0       0.0  \n",
       "199826                  2       6.0   24.0       0.0  \n",
       "164311                 10       6.0    2.0       0.0  \n",
       "283674                  5       6.0   38.0       1.0  \n",
       "267170                  9       2.0    1.0       0.0  "
      ]
     },
     "execution_count": 25,
     "metadata": {},
     "output_type": "execute_result"
    }
   ],
   "source": [
    "encoder = OrdinalEncoder(handle_unknown='use_encoded_value', unknown_value=-1)# Задаём Энкодеру стратегию обработки неизвестных категорий.\n",
    "encoder.fit(features_train[col])                                   # Обучаем Энкодер\n",
    "features_train_oe[col] = encoder.transform(features_train_oe[col]) # Кодируем train\n",
    "features_valid_oe[col] = encoder.transform(features_valid_oe[col]) # Кодируем valid\n",
    "features_test_oe[col] = encoder.transform(features_test_oe[col])   # Кодируем test\n",
    "features_test_oe.head()                                            # Смотрим"
   ]
  },
  {
   "cell_type": "markdown",
   "metadata": {},
   "source": [
    "Начнем с модели DecisionTreeRegressor."
   ]
  },
  {
   "cell_type": "code",
   "execution_count": 26,
   "metadata": {},
   "outputs": [
    {
     "name": "stdout",
     "output_type": "stream",
     "text": [
      "Глубина: 3\n",
      "RMSE для DecisionTreeRegressor: 2863.2622408491043\n",
      "\n",
      "Глубина: 6\n",
      "RMSE для DecisionTreeRegressor: 2200.254676980122\n",
      "\n",
      "Глубина: 9\n",
      "RMSE для DecisionTreeRegressor: 1951.5520696143528\n",
      "\n",
      "Глубина: 12\n",
      "RMSE для DecisionTreeRegressor: 1825.1488627510214\n",
      "\n",
      "Глубина: 15\n",
      "RMSE для DecisionTreeRegressor: 1828.980214026706\n",
      "\n",
      "Глубина: 18\n",
      "RMSE для DecisionTreeRegressor: 1871.3380980418428\n",
      "\n",
      "Глубина: 21\n",
      "RMSE для DecisionTreeRegressor: 1930.129725568479\n",
      "\n"
     ]
    }
   ],
   "source": [
    "for depth in range(3, 22, 3):\n",
    "    model = DecisionTreeRegressor(random_state=12345, max_depth = depth)\n",
    "    model.fit(features_train_oe, target_train)\n",
    "    predictions = model.predict(features_valid_oe)\n",
    "    rmse = mean_squared_error(target_valid, predictions)**0.5\n",
    "    print('Глубина:', depth)\n",
    "    print('RMSE для DecisionTreeRegressor:', rmse)\n",
    "    print('')"
   ]
  },
  {
   "cell_type": "markdown",
   "metadata": {},
   "source": [
    "Лучший показатель у модели DecisionTreeRegressor на глубине 12. и RMSE 1825.1488627510214\n",
    "\n",
    "\n",
    "Далее посмотрим на RandomForestRegressor."
   ]
  },
  {
   "cell_type": "code",
   "execution_count": 27,
   "metadata": {
    "scrolled": true
   },
   "outputs": [
    {
     "name": "stdout",
     "output_type": "stream",
     "text": [
      "Количество деревьев: 3 Глубина 1\n",
      "RMSE для RandomForestRegressor: 3615.9276075344374\n",
      "\n",
      "Количество деревьев: 6 Глубина 1\n",
      "RMSE для RandomForestRegressor: 3615.9532291467\n",
      "\n",
      "Количество деревьев: 9 Глубина 1\n",
      "RMSE для RandomForestRegressor: 3615.9542835935295\n",
      "\n",
      "Количество деревьев: 12 Глубина 1\n",
      "RMSE для RandomForestRegressor: 3615.950526539263\n",
      "\n",
      "Количество деревьев: 15 Глубина 1\n",
      "RMSE для RandomForestRegressor: 3615.9377955818586\n",
      "\n",
      "Количество деревьев: 18 Глубина 1\n",
      "RMSE для RandomForestRegressor: 3615.9394095974662\n",
      "\n",
      "Количество деревьев: 21 Глубина 1\n",
      "RMSE для RandomForestRegressor: 3615.9468780511534\n",
      "\n",
      "Количество деревьев: 3 Глубина 2\n",
      "RMSE для RandomForestRegressor: 3140.0699612342437\n",
      "\n",
      "Количество деревьев: 6 Глубина 2\n",
      "RMSE для RandomForestRegressor: 3139.7927900605423\n",
      "\n",
      "Количество деревьев: 9 Глубина 2\n",
      "RMSE для RandomForestRegressor: 3140.01279128729\n",
      "\n",
      "Количество деревьев: 12 Глубина 2\n",
      "RMSE для RandomForestRegressor: 3139.838525616604\n",
      "\n",
      "Количество деревьев: 15 Глубина 2\n",
      "RMSE для RandomForestRegressor: 3139.7909866141304\n",
      "\n",
      "Количество деревьев: 18 Глубина 2\n",
      "RMSE для RandomForestRegressor: 3139.7859377042796\n",
      "\n",
      "Количество деревьев: 21 Глубина 2\n",
      "RMSE для RandomForestRegressor: 3139.7904366893913\n",
      "\n",
      "Количество деревьев: 3 Глубина 3\n",
      "RMSE для RandomForestRegressor: 2860.716869869742\n",
      "\n",
      "Количество деревьев: 6 Глубина 3\n",
      "RMSE для RandomForestRegressor: 2860.0634168162924\n",
      "\n",
      "Количество деревьев: 9 Глубина 3\n",
      "RMSE для RandomForestRegressor: 2859.9358169687666\n",
      "\n",
      "Количество деревьев: 12 Глубина 3\n",
      "RMSE для RandomForestRegressor: 2847.429481589653\n",
      "\n",
      "Количество деревьев: 15 Глубина 3\n",
      "RMSE для RandomForestRegressor: 2846.076200267069\n",
      "\n",
      "Количество деревьев: 18 Глубина 3\n",
      "RMSE для RandomForestRegressor: 2843.735185227066\n",
      "\n",
      "Количество деревьев: 21 Глубина 3\n",
      "RMSE для RandomForestRegressor: 2845.7716055096544\n",
      "\n",
      "Количество деревьев: 3 Глубина 4\n",
      "RMSE для RandomForestRegressor: 2513.6117007492016\n",
      "\n",
      "Количество деревьев: 6 Глубина 4\n",
      "RMSE для RandomForestRegressor: 2511.7287268458526\n",
      "\n",
      "Количество деревьев: 9 Глубина 4\n",
      "RMSE для RandomForestRegressor: 2509.65340410131\n",
      "\n",
      "Количество деревьев: 12 Глубина 4\n",
      "RMSE для RandomForestRegressor: 2503.9820477837325\n",
      "\n",
      "Количество деревьев: 15 Глубина 4\n",
      "RMSE для RandomForestRegressor: 2496.9852640827535\n",
      "\n",
      "Количество деревьев: 18 Глубина 4\n",
      "RMSE для RandomForestRegressor: 2495.543890651241\n",
      "\n",
      "Количество деревьев: 21 Глубина 4\n",
      "RMSE для RandomForestRegressor: 2490.773170399421\n",
      "\n",
      "Количество деревьев: 3 Глубина 5\n",
      "RMSE для RandomForestRegressor: 2323.54057194882\n",
      "\n",
      "Количество деревьев: 6 Глубина 5\n",
      "RMSE для RandomForestRegressor: 2313.374849232542\n",
      "\n",
      "Количество деревьев: 9 Глубина 5\n",
      "RMSE для RandomForestRegressor: 2313.0764178799886\n",
      "\n",
      "Количество деревьев: 12 Глубина 5\n",
      "RMSE для RandomForestRegressor: 2306.7200212673956\n",
      "\n",
      "Количество деревьев: 15 Глубина 5\n",
      "RMSE для RandomForestRegressor: 2302.946505745129\n",
      "\n",
      "Количество деревьев: 18 Глубина 5\n",
      "RMSE для RandomForestRegressor: 2299.9326717104077\n",
      "\n",
      "Количество деревьев: 21 Глубина 5\n",
      "RMSE для RandomForestRegressor: 2298.541594925894\n",
      "\n"
     ]
    }
   ],
   "source": [
    "for depth in range(1,6):\n",
    "    for est in range(3,22,3):\n",
    "        model = RandomForestRegressor(max_depth=depth, n_estimators=est, random_state=1234)\n",
    "        model.fit(features_train_oe, target_train)\n",
    "        predictions = model.predict(features_valid_oe)\n",
    "        rmse = mean_squared_error(target_valid, predictions)**0.5\n",
    "        print('Количество деревьев:', est, \"Глубина\",depth)\n",
    "        print('RMSE для RandomForestRegressor:', rmse)\n",
    "        print('')"
   ]
  },
  {
   "cell_type": "markdown",
   "metadata": {},
   "source": [
    "Лучший показатель RMSE у модели RandomForestRegressor равен 2298.541594925894, что хуже, чем у DecisionTreeRegressor.\n",
    "\n",
    "Далее посмотрим на LGBMRegressor."
   ]
  },
  {
   "cell_type": "code",
   "execution_count": 28,
   "metadata": {
    "scrolled": true
   },
   "outputs": [
    {
     "name": "stdout",
     "output_type": "stream",
     "text": [
      "Количество деревьев: 100 25\n",
      "RMSE для LGBMRegressor: 1642.6151759206161\n",
      "\n",
      "Количество деревьев: 100 400\n",
      "RMSE для LGBMRegressor: 1464.0072258613543\n",
      "\n",
      "Количество деревьев: 100 15\n",
      "RMSE для LGBMRegressor: 1699.4026205883454\n",
      "\n",
      "Количество деревьев: 500 25\n",
      "RMSE для LGBMRegressor: 1510.8533436413638\n",
      "\n",
      "Количество деревьев: 500 400\n",
      "RMSE для LGBMRegressor: 1446.5234388913013\n",
      "\n",
      "Количество деревьев: 500 15\n",
      "RMSE для LGBMRegressor: 1553.039446344039\n",
      "\n",
      "Количество деревьев: 1000 25\n",
      "RMSE для LGBMRegressor: 1479.842296693585\n",
      "\n",
      "Количество деревьев: 1000 400\n",
      "RMSE для LGBMRegressor: 1461.448136699782\n",
      "\n",
      "Количество деревьев: 1000 15\n",
      "RMSE для LGBMRegressor: 1508.6833687953942\n",
      "\n"
     ]
    }
   ],
   "source": [
    "for est in [100, 500, 1000]:\n",
    "    for num in [25, 400, 15]:\n",
    "        model = lgb.LGBMRegressor(n_estimators = est, num_leaves = num, random_state=12345)\n",
    "        model.fit(features_train_oe, target_train)\n",
    "        predictions= model.predict(features_valid_oe)\n",
    "        rmse = mean_squared_error(target_valid, predictions)**0.5\n",
    "        print('Количество деревьев:', est, num)\n",
    "        print('RMSE для LGBMRegressor:', rmse)\n",
    "        print('')"
   ]
  },
  {
   "cell_type": "markdown",
   "metadata": {},
   "source": [
    "А вот и победитель! RMSE 1446.5234388913013"
   ]
  },
  {
   "cell_type": "markdown",
   "metadata": {},
   "source": [
    "Сравнив три модели можно выделить наиболее эффективную. В нашем случае это LGBMRegressor."
   ]
  },
  {
   "cell_type": "markdown",
   "metadata": {},
   "source": [
    "## Анализ моделей"
   ]
  },
  {
   "cell_type": "markdown",
   "metadata": {},
   "source": [
    "Теперь посчитаем отдельно время затраченное на обучение и предсказания каждой модели.\n",
    "\n",
    "DecisionTreeRegressor."
   ]
  },
  {
   "cell_type": "code",
   "execution_count": 29,
   "metadata": {},
   "outputs": [
    {
     "name": "stdout",
     "output_type": "stream",
     "text": [
      "Время обучения: 1.018 сек.\n"
     ]
    }
   ],
   "source": [
    "start = time()\n",
    "model1 = DecisionTreeRegressor(random_state=12345, max_depth=12)\n",
    "model1.fit(features_train_oe, target_train)\n",
    "end = time()\n",
    "t1 = round(end - start, 3)\n",
    "print('Время обучения:', t1, 'сек.')"
   ]
  },
  {
   "cell_type": "code",
   "execution_count": 30,
   "metadata": {},
   "outputs": [
    {
     "name": "stdout",
     "output_type": "stream",
     "text": [
      "Время предсказания: 0.031 сек.\n",
      "RMSE для DecisionTreeRegressor: 1825.1488627510214\n"
     ]
    }
   ],
   "source": [
    "start = time()\n",
    "predictions = model1.predict(features_valid_oe)\n",
    "end = time()\n",
    "t2 = round(end - start, 3)\n",
    "rmse_1 = mean_squared_error(target_valid, predictions)**0.5\n",
    "print('Время предсказания:', t2, 'сек.')\n",
    "print('RMSE для DecisionTreeRegressor:', rmse_1)"
   ]
  },
  {
   "cell_type": "markdown",
   "metadata": {},
   "source": [
    "RandomForestRegressor"
   ]
  },
  {
   "cell_type": "code",
   "execution_count": 31,
   "metadata": {},
   "outputs": [
    {
     "name": "stdout",
     "output_type": "stream",
     "text": [
      "Время обучения: 3.941 сек.\n"
     ]
    }
   ],
   "source": [
    "start = time()\n",
    "model2 = RandomForestRegressor(random_state=12345, max_depth=4, n_estimators=15)\n",
    "model2.fit(features_train_oe, target_train)\n",
    "end = time()\n",
    "t3 = round(end - start, 3)\n",
    "print('Время обучения:', t3, 'сек.')"
   ]
  },
  {
   "cell_type": "code",
   "execution_count": 32,
   "metadata": {},
   "outputs": [
    {
     "name": "stdout",
     "output_type": "stream",
     "text": [
      "Время предсказания: 0.093 сек.\n",
      "RMSE для RandomForestRegressor: 2488.3153396652447\n"
     ]
    }
   ],
   "source": [
    "start = time()\n",
    "predictions = model2.predict(features_valid_oe)\n",
    "end = time()\n",
    "t4 = round(end - start, 3)\n",
    "rmse_2 = mean_squared_error(target_valid, predictions)**0.5\n",
    "print('Время предсказания:', t4, 'сек.')\n",
    "print('RMSE для RandomForestRegressor:', rmse_2)"
   ]
  },
  {
   "cell_type": "markdown",
   "metadata": {},
   "source": [
    "LGBMRegressor"
   ]
  },
  {
   "cell_type": "code",
   "execution_count": 33,
   "metadata": {},
   "outputs": [
    {
     "name": "stdout",
     "output_type": "stream",
     "text": [
      "Время обучения: 12.791 сек.\n"
     ]
    }
   ],
   "source": [
    "start = time()\n",
    "model3 = lgb.LGBMRegressor(random_state=12345,\n",
    "                          n_estimators=500,\n",
    "                          num_leaves=400)\n",
    "model3.fit(features_train_oe, target_train)\n",
    "end = time()\n",
    "t5 = round(end - start, 3)\n",
    "print('Время обучения:', t5, 'сек.')"
   ]
  },
  {
   "cell_type": "code",
   "execution_count": 34,
   "metadata": {},
   "outputs": [
    {
     "name": "stdout",
     "output_type": "stream",
     "text": [
      "Время предсказания: 1.655 сек.\n",
      "RMSE для LGBMRegressor: 1446.5234388913013\n"
     ]
    }
   ],
   "source": [
    "start = time()\n",
    "predictions = model3.predict(features_valid_oe)\n",
    "end = time()\n",
    "t6 = round(end - start, 3)\n",
    "rmse_3 = mean_squared_error(target_valid, predictions)**0.5\n",
    "print('Время предсказания:', t6, 'сек.')\n",
    "print('RMSE для LGBMRegressor:', rmse_3)"
   ]
  },
  {
   "cell_type": "code",
   "execution_count": 35,
   "metadata": {},
   "outputs": [
    {
     "data": {
      "text/html": [
       "<div>\n",
       "<style scoped>\n",
       "    .dataframe tbody tr th:only-of-type {\n",
       "        vertical-align: middle;\n",
       "    }\n",
       "\n",
       "    .dataframe tbody tr th {\n",
       "        vertical-align: top;\n",
       "    }\n",
       "\n",
       "    .dataframe thead th {\n",
       "        text-align: right;\n",
       "    }\n",
       "</style>\n",
       "<table border=\"1\" class=\"dataframe\">\n",
       "  <thead>\n",
       "    <tr style=\"text-align: right;\">\n",
       "      <th></th>\n",
       "      <th>Модель</th>\n",
       "      <th>RMSE</th>\n",
       "      <th>Время обучения</th>\n",
       "      <th>Время предсказания</th>\n",
       "    </tr>\n",
       "  </thead>\n",
       "  <tbody>\n",
       "    <tr>\n",
       "      <th>0</th>\n",
       "      <td>LGBMRegressor</td>\n",
       "      <td>1446.523439</td>\n",
       "      <td>12.791</td>\n",
       "      <td>1.655</td>\n",
       "    </tr>\n",
       "    <tr>\n",
       "      <th>1</th>\n",
       "      <td>DecisionTreeRegressor</td>\n",
       "      <td>1825.148863</td>\n",
       "      <td>1.018</td>\n",
       "      <td>0.031</td>\n",
       "    </tr>\n",
       "    <tr>\n",
       "      <th>2</th>\n",
       "      <td>RandomForestRegressor</td>\n",
       "      <td>2488.315340</td>\n",
       "      <td>3.941</td>\n",
       "      <td>0.093</td>\n",
       "    </tr>\n",
       "  </tbody>\n",
       "</table>\n",
       "</div>"
      ],
      "text/plain": [
       "                  Модель         RMSE  Время обучения  Время предсказания\n",
       "0          LGBMRegressor  1446.523439          12.791               1.655\n",
       "1  DecisionTreeRegressor  1825.148863           1.018               0.031\n",
       "2  RandomForestRegressor  2488.315340           3.941               0.093"
      ]
     },
     "execution_count": 35,
     "metadata": {},
     "output_type": "execute_result"
    }
   ],
   "source": [
    "analysis = [['DecisionTreeRegressor', rmse_1, t1, t2],\n",
    "            ['RandomForestRegressor', rmse_2, t3, t4],\n",
    "            ['LGBMRegressor', rmse_3, t5, t6]]\n",
    "columns = ['Модель','RMSE', 'Время обучения', 'Время предсказания']\n",
    "analysis_data = pd.DataFrame(data=analysis, columns=columns)\n",
    "analysis_data.sort_values(by='RMSE', axis=0).reset_index(drop=True)"
   ]
  },
  {
   "cell_type": "markdown",
   "metadata": {},
   "source": [
    "Чтож, хорошо видно, что модель LGBMRegressor затрачивает зничительно больше времени на обучение и предсказание. Но при этом эта потеря времени оправдана лучшим показателем RMSE."
   ]
  },
  {
   "cell_type": "markdown",
   "metadata": {},
   "source": [
    "## Тестирование лучшей модели"
   ]
  },
  {
   "cell_type": "markdown",
   "metadata": {},
   "source": [
    "Проверим результаты модели LGBMRegressor на тестовой выборке."
   ]
  },
  {
   "cell_type": "code",
   "execution_count": 36,
   "metadata": {},
   "outputs": [
    {
     "name": "stdout",
     "output_type": "stream",
     "text": [
      "RMSE для LGBMRegressor на тестовой выборке: 1466.4245663680522\n"
     ]
    }
   ],
   "source": [
    "predictions = model3.predict(features_test_oe)\n",
    "rmse_4 = mean_squared_error(target_test, predictions)**0.5\n",
    "print('RMSE для LGBMRegressor на тестовой выборке:', rmse_4)"
   ]
  },
  {
   "cell_type": "markdown",
   "metadata": {},
   "source": [
    "Отлично, расхождения минимальны. Тестирование прошло удачно."
   ]
  },
  {
   "cell_type": "markdown",
   "metadata": {},
   "source": [
    "## Общие выводы"
   ]
  },
  {
   "cell_type": "markdown",
   "metadata": {},
   "source": [
    "Была проведена предварительная обработка данных по выявлению пропусков, дубликатов и удалению ненужной нам информации.\n",
    "\n",
    "На примере построения трех моделей был выявлен яыный фаворит с наилучшими показателями метрике RMSE. Это модель LGBMRegressor.\n",
    "И несмотря на большее затраченное время предсказания именно ее лучше рекомендовать заказчику для получения наиболее точной цены на авто.\n",
    "Возможно имеет смысл использовать две модели на разных этапах регистрации. Предварительно использовать более быструю, но менее точную модель для привлечения внимания пользователя. А потом при более полном заполнеении информации об авто уже использовать более долгую, но точную модель."
   ]
  }
 ],
 "metadata": {
  "kernelspec": {
   "display_name": "Python 3 (ipykernel)",
   "language": "python",
   "name": "python3"
  },
  "language_info": {
   "codemirror_mode": {
    "name": "ipython",
    "version": 3
   },
   "file_extension": ".py",
   "mimetype": "text/x-python",
   "name": "python",
   "nbconvert_exporter": "python",
   "pygments_lexer": "ipython3",
   "version": "3.9.13"
  },
  "toc": {
   "base_numbering": 1,
   "nav_menu": {},
   "number_sections": true,
   "sideBar": true,
   "skip_h1_title": true,
   "title_cell": "Table of Contents",
   "title_sidebar": "Contents",
   "toc_cell": false,
   "toc_position": {},
   "toc_section_display": true,
   "toc_window_display": false
  }
 },
 "nbformat": 4,
 "nbformat_minor": 2
}
