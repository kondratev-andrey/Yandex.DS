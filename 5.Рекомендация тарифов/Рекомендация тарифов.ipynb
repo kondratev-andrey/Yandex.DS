{
 "cells": [
  {
   "cell_type": "markdown",
   "metadata": {},
   "source": [
    "# Рекомендация тарифов"
   ]
  },
  {
   "cell_type": "markdown",
   "metadata": {},
   "source": [
    "В вашем распоряжении данные о поведении клиентов, которые уже перешли на эти тарифы (из проекта курса «Статистический анализ данных»). Нужно построить модель для задачи классификации, которая выберет подходящий тариф. Предобработка данных не понадобится — вы её уже сделали.\n",
    "\n",
    "Постройте модель с максимально большим значением *accuracy*. Чтобы сдать проект успешно, нужно довести долю правильных ответов по крайней мере до 0.75. Проверьте *accuracy* на тестовой выборке самостоятельно."
   ]
  },
  {
   "cell_type": "markdown",
   "metadata": {},
   "source": [
    "## Откройте и изучите файл\n"
   ]
  },
  {
   "cell_type": "code",
   "execution_count": 1,
   "metadata": {},
   "outputs": [],
   "source": [
    "import pandas as pd# Импортирую нужные в работе библиотеки."
   ]
  },
  {
   "cell_type": "code",
   "execution_count": 2,
   "metadata": {},
   "outputs": [],
   "source": [
    "from sklearn.tree import DecisionTreeClassifier"
   ]
  },
  {
   "cell_type": "code",
   "execution_count": 3,
   "metadata": {},
   "outputs": [],
   "source": [
    "from sklearn.ensemble import RandomForestClassifier"
   ]
  },
  {
   "cell_type": "code",
   "execution_count": 4,
   "metadata": {},
   "outputs": [],
   "source": [
    "from sklearn.model_selection import train_test_split"
   ]
  },
  {
   "cell_type": "code",
   "execution_count": 5,
   "metadata": {},
   "outputs": [],
   "source": [
    "from sklearn.linear_model import LogisticRegression "
   ]
  },
  {
   "cell_type": "code",
   "execution_count": 6,
   "metadata": {},
   "outputs": [],
   "source": [
    "from sklearn.metrics import accuracy_score"
   ]
  },
  {
   "cell_type": "code",
   "execution_count": 7,
   "metadata": {
    "scrolled": true
   },
   "outputs": [],
   "source": [
    "try:\n",
    "\n",
    "    df = pd.read_csv('C:/your_project/users_behavior.csv')\n",
    "except:\n",
    "\n",
    "    df = pd.read_csv('/datasets/users_behavior.csv')"
   ]
  },
  {
   "cell_type": "code",
   "execution_count": 8,
   "metadata": {},
   "outputs": [
    {
     "name": "stdout",
     "output_type": "stream",
     "text": [
      "<class 'pandas.core.frame.DataFrame'>\n",
      "RangeIndex: 3214 entries, 0 to 3213\n",
      "Data columns (total 5 columns):\n",
      " #   Column    Non-Null Count  Dtype  \n",
      "---  ------    --------------  -----  \n",
      " 0   calls     3214 non-null   float64\n",
      " 1   minutes   3214 non-null   float64\n",
      " 2   messages  3214 non-null   float64\n",
      " 3   mb_used   3214 non-null   float64\n",
      " 4   is_ultra  3214 non-null   int64  \n",
      "dtypes: float64(4), int64(1)\n",
      "memory usage: 125.7 KB\n"
     ]
    }
   ],
   "source": [
    "df.info()# Изучим общую информацию о полученном датафрейме"
   ]
  },
  {
   "cell_type": "code",
   "execution_count": 9,
   "metadata": {
    "scrolled": true
   },
   "outputs": [
    {
     "data": {
      "text/html": [
       "<div>\n",
       "<style scoped>\n",
       "    .dataframe tbody tr th:only-of-type {\n",
       "        vertical-align: middle;\n",
       "    }\n",
       "\n",
       "    .dataframe tbody tr th {\n",
       "        vertical-align: top;\n",
       "    }\n",
       "\n",
       "    .dataframe thead th {\n",
       "        text-align: right;\n",
       "    }\n",
       "</style>\n",
       "<table border=\"1\" class=\"dataframe\">\n",
       "  <thead>\n",
       "    <tr style=\"text-align: right;\">\n",
       "      <th></th>\n",
       "      <th>calls</th>\n",
       "      <th>minutes</th>\n",
       "      <th>messages</th>\n",
       "      <th>mb_used</th>\n",
       "      <th>is_ultra</th>\n",
       "    </tr>\n",
       "  </thead>\n",
       "  <tbody>\n",
       "    <tr>\n",
       "      <th>0</th>\n",
       "      <td>40.0</td>\n",
       "      <td>311.90</td>\n",
       "      <td>83.0</td>\n",
       "      <td>19915.42</td>\n",
       "      <td>0</td>\n",
       "    </tr>\n",
       "    <tr>\n",
       "      <th>1</th>\n",
       "      <td>85.0</td>\n",
       "      <td>516.75</td>\n",
       "      <td>56.0</td>\n",
       "      <td>22696.96</td>\n",
       "      <td>0</td>\n",
       "    </tr>\n",
       "    <tr>\n",
       "      <th>2</th>\n",
       "      <td>77.0</td>\n",
       "      <td>467.66</td>\n",
       "      <td>86.0</td>\n",
       "      <td>21060.45</td>\n",
       "      <td>0</td>\n",
       "    </tr>\n",
       "    <tr>\n",
       "      <th>3</th>\n",
       "      <td>106.0</td>\n",
       "      <td>745.53</td>\n",
       "      <td>81.0</td>\n",
       "      <td>8437.39</td>\n",
       "      <td>1</td>\n",
       "    </tr>\n",
       "    <tr>\n",
       "      <th>4</th>\n",
       "      <td>66.0</td>\n",
       "      <td>418.74</td>\n",
       "      <td>1.0</td>\n",
       "      <td>14502.75</td>\n",
       "      <td>0</td>\n",
       "    </tr>\n",
       "    <tr>\n",
       "      <th>5</th>\n",
       "      <td>58.0</td>\n",
       "      <td>344.56</td>\n",
       "      <td>21.0</td>\n",
       "      <td>15823.37</td>\n",
       "      <td>0</td>\n",
       "    </tr>\n",
       "    <tr>\n",
       "      <th>6</th>\n",
       "      <td>57.0</td>\n",
       "      <td>431.64</td>\n",
       "      <td>20.0</td>\n",
       "      <td>3738.90</td>\n",
       "      <td>1</td>\n",
       "    </tr>\n",
       "    <tr>\n",
       "      <th>7</th>\n",
       "      <td>15.0</td>\n",
       "      <td>132.40</td>\n",
       "      <td>6.0</td>\n",
       "      <td>21911.60</td>\n",
       "      <td>0</td>\n",
       "    </tr>\n",
       "    <tr>\n",
       "      <th>8</th>\n",
       "      <td>7.0</td>\n",
       "      <td>43.39</td>\n",
       "      <td>3.0</td>\n",
       "      <td>2538.67</td>\n",
       "      <td>1</td>\n",
       "    </tr>\n",
       "    <tr>\n",
       "      <th>9</th>\n",
       "      <td>90.0</td>\n",
       "      <td>665.41</td>\n",
       "      <td>38.0</td>\n",
       "      <td>17358.61</td>\n",
       "      <td>0</td>\n",
       "    </tr>\n",
       "  </tbody>\n",
       "</table>\n",
       "</div>"
      ],
      "text/plain": [
       "   calls  minutes  messages   mb_used  is_ultra\n",
       "0   40.0   311.90      83.0  19915.42         0\n",
       "1   85.0   516.75      56.0  22696.96         0\n",
       "2   77.0   467.66      86.0  21060.45         0\n",
       "3  106.0   745.53      81.0   8437.39         1\n",
       "4   66.0   418.74       1.0  14502.75         0\n",
       "5   58.0   344.56      21.0  15823.37         0\n",
       "6   57.0   431.64      20.0   3738.90         1\n",
       "7   15.0   132.40       6.0  21911.60         0\n",
       "8    7.0    43.39       3.0   2538.67         1\n",
       "9   90.0   665.41      38.0  17358.61         0"
      ]
     },
     "execution_count": 9,
     "metadata": {},
     "output_type": "execute_result"
    }
   ],
   "source": [
    "df.head(10)# взглянем на первые 10 строчек "
   ]
  },
  {
   "cell_type": "markdown",
   "metadata": {},
   "source": [
    "## Разбейте данные на выборки"
   ]
  },
  {
   "cell_type": "code",
   "execution_count": 10,
   "metadata": {},
   "outputs": [],
   "source": [
    "df_tr, df_valid = train_test_split(df, test_size=0.2, stratify=df['is_ultra'], random_state=12345) # отделите 20% данных для валидационной выборки"
   ]
  },
  {
   "cell_type": "code",
   "execution_count": 11,
   "metadata": {},
   "outputs": [],
   "source": [
    "df_train, df_test = train_test_split(df_tr, test_size=0.25, stratify=df_tr['is_ultra'], random_state=12345) # отделите 20% данных для тестовой выборки"
   ]
  },
  {
   "cell_type": "markdown",
   "metadata": {},
   "source": [
    "## Исследуйте модели"
   ]
  },
  {
   "cell_type": "markdown",
   "metadata": {},
   "source": [
    "Создадим обучающий набор данных"
   ]
  },
  {
   "cell_type": "code",
   "execution_count": 12,
   "metadata": {},
   "outputs": [],
   "source": [
    "features = df_train.drop(['is_ultra'], axis=1)\n",
    "target = df_train['is_ultra']"
   ]
  },
  {
   "cell_type": "code",
   "execution_count": 13,
   "metadata": {},
   "outputs": [],
   "source": [
    "features_valid = df_valid.drop(['is_ultra'], axis=1)\n",
    "target_valid = df_valid['is_ultra']"
   ]
  },
  {
   "cell_type": "code",
   "execution_count": 14,
   "metadata": {},
   "outputs": [],
   "source": [
    "features_test = df_test.drop(['is_ultra'], axis=1)\n",
    "target_test = df_test['is_ultra']"
   ]
  },
  {
   "cell_type": "markdown",
   "metadata": {},
   "source": [
    "Начнем с модели 'Дерево решений'"
   ]
  },
  {
   "cell_type": "code",
   "execution_count": 15,
   "metadata": {},
   "outputs": [
    {
     "data": {
      "text/plain": [
       "(0.7993779160186625, 3)"
      ]
     },
     "execution_count": 15,
     "metadata": {},
     "output_type": "execute_result"
    }
   ],
   "source": [
    "best_model_dtc= None\n",
    "best_result_dtc= 0\n",
    "\n",
    "for depth in range(1, 50):\n",
    "    model_dtc = DecisionTreeClassifier(random_state=12345, max_depth=depth)# применим метод\n",
    "    model_dtc.fit(features, target)# обучим модель\n",
    "    predictions_valid = model_dtc.predict(features_valid)\n",
    "    result_dtc = accuracy_score(target_valid, predictions_valid)# качество модели посчитаем на валидационной выборке\n",
    "    if result_dtc > best_result_dtc:\n",
    "        best_model_dtc= model_dtc# сохраним наилучшую модель\n",
    "        best_result_dtc= result_dtc#  сохраним наилучшее значение метрики accuracy на валидационных данных\n",
    "        best_depth = depth\n",
    "\n",
    "best_result_dtc, best_depth"
   ]
  },
  {
   "cell_type": "markdown",
   "metadata": {},
   "source": [
    "Результат accuracy модели 'Дерево решений' равен 0.7993779160186625, а лучшая глубина дерева равна 3. Неплохо.\n",
    "\n",
    "Далее перейдем к модели 'Логистическая регрессия'."
   ]
  },
  {
   "cell_type": "code",
   "execution_count": 16,
   "metadata": {},
   "outputs": [
    {
     "data": {
      "text/plain": [
       "0.7371695178849145"
      ]
     },
     "execution_count": 16,
     "metadata": {},
     "output_type": "execute_result"
    }
   ],
   "source": [
    "model_lr = LogisticRegression(random_state=12345)# применим метод\n",
    "model_lr.fit(features, target)# обучим модель\n",
    "result_lr = model_lr.score(features_valid, target_valid)# качество модели посчитаем на валидационной выборке\n",
    "result_lr"
   ]
  },
  {
   "cell_type": "markdown",
   "metadata": {},
   "source": [
    "Результат accuracy модели 'Логистическая регрессия' равен 0.7371695178849145. Заметно хуже, чем в 'Дерево решений'.\n",
    "\n",
    "Далее посмотрим на модель 'Случайный лес'."
   ]
  },
  {
   "cell_type": "code",
   "execution_count": 17,
   "metadata": {},
   "outputs": [
    {
     "data": {
      "text/plain": [
       "(0.8195956454121306, 17, 18)"
      ]
     },
     "execution_count": 17,
     "metadata": {},
     "output_type": "execute_result"
    }
   ],
   "source": [
    "best_model_rfc = None\n",
    "best_result_rfc = 0\n",
    "\n",
    "\n",
    "for est in range(1, 20):\n",
    "    for depth in range (1, 20):\n",
    "        model_rfc = RandomForestClassifier(random_state=12345, n_estimators=est, max_depth=depth)\n",
    "        model_rfc.fit(features, target)\n",
    "        result_rfc = model_rfc.score(features_valid, target_valid)\n",
    "        \n",
    "        if result_rfc > best_result_rfc:\n",
    "            best_model_rfc = model_rfc\n",
    "            best_result_rfc = result_rfc\n",
    "            best_est_rfc = est\n",
    "            best_depth_rfc = depth\n",
    "            \n",
    "best_result_rfc, best_depth_rfc, best_est_rfc"
   ]
  },
  {
   "cell_type": "markdown",
   "metadata": {},
   "source": [
    "Кажется у нас есть победитель. Результат accuracy модели 'Случайный лес' равен 0.8195956454121306."
   ]
  },
  {
   "cell_type": "markdown",
   "metadata": {},
   "source": [
    "## Проверьте модель на тестовой выборке"
   ]
  },
  {
   "cell_type": "code",
   "execution_count": 23,
   "metadata": {},
   "outputs": [
    {
     "data": {
      "text/plain": [
       "0.8087091757387247"
      ]
     },
     "execution_count": 23,
     "metadata": {},
     "output_type": "execute_result"
    }
   ],
   "source": [
    "model = RandomForestClassifier(random_state=12345, n_estimators=17, max_depth=18)\n",
    "model.fit(features, target)\n",
    "result = model.score(features_test, target_test)\n",
    "result     "
   ]
  },
  {
   "cell_type": "markdown",
   "metadata": {},
   "source": [
    "После проверки на тестовой выборке результат получился немного хуже, но совсем не критично!"
   ]
  },
  {
   "cell_type": "markdown",
   "metadata": {},
   "source": [
    "## (бонус) Проверьте модели на адекватность"
   ]
  },
  {
   "cell_type": "code",
   "execution_count": 19,
   "metadata": {},
   "outputs": [
    {
     "data": {
      "text/plain": [
       "0    1337\n",
       "1     591\n",
       "Name: is_ultra, dtype: int64"
      ]
     },
     "execution_count": 19,
     "metadata": {},
     "output_type": "execute_result"
    }
   ],
   "source": [
    "target.value_counts()# посмотрим большую долю ответов"
   ]
  },
  {
   "cell_type": "code",
   "execution_count": 20,
   "metadata": {},
   "outputs": [
    {
     "data": {
      "text/plain": [
       "1928"
      ]
     },
     "execution_count": 20,
     "metadata": {},
     "output_type": "execute_result"
    }
   ],
   "source": [
    "target.count()# посмотрим общее количество записей"
   ]
  },
  {
   "cell_type": "code",
   "execution_count": 22,
   "metadata": {},
   "outputs": [
    {
     "data": {
      "text/plain": [
       "0.6934647302904564"
      ]
     },
     "execution_count": 22,
     "metadata": {},
     "output_type": "execute_result"
    }
   ],
   "source": [
    "1337 / 1928# посчитаем долю случайных значений для сравнения с нашим accuracy"
   ]
  },
  {
   "cell_type": "markdown",
   "metadata": {},
   "source": [
    "Наша модель в сравнении со случайными показателями показывает более высокий результат.Признаем ее адекватной!)"
   ]
  },
  {
   "cell_type": "markdown",
   "metadata": {},
   "source": [
    "Подведем итог.\n",
    "\n",
    "Самой подходящей моделью для совета аббонентам нового тарифа стала 'RandomForestClassifier' с максимальным количеством - 17 деревьев и максимальной глубиной - 18!"
   ]
  }
 ],
 "metadata": {
  "ExecuteTimeLog": [
   {
    "duration": 433,
    "start_time": "2023-02-10T08:10:58.648Z"
   },
   {
    "duration": 805,
    "start_time": "2023-02-10T08:12:01.839Z"
   },
   {
    "duration": 2,
    "start_time": "2023-02-10T08:12:03.899Z"
   },
   {
    "duration": 67,
    "start_time": "2023-02-10T08:12:04.798Z"
   },
   {
    "duration": 365,
    "start_time": "2023-02-10T08:12:17.388Z"
   },
   {
    "duration": 738,
    "start_time": "2023-02-10T08:12:17.755Z"
   },
   {
    "duration": 3,
    "start_time": "2023-02-10T08:12:18.495Z"
   },
   {
    "duration": 33,
    "start_time": "2023-02-10T08:12:18.499Z"
   },
   {
    "duration": 418,
    "start_time": "2023-03-10T13:35:58.365Z"
   },
   {
    "duration": 1656,
    "start_time": "2023-03-10T13:35:58.785Z"
   },
   {
    "duration": 10,
    "start_time": "2023-03-10T13:36:00.442Z"
   },
   {
    "duration": 22,
    "start_time": "2023-03-10T13:36:00.454Z"
   },
   {
    "duration": 11,
    "start_time": "2023-03-10T13:36:00.479Z"
   },
   {
    "duration": 22,
    "start_time": "2023-03-10T13:36:00.491Z"
   },
   {
    "duration": 125,
    "start_time": "2023-03-10T13:36:00.514Z"
   },
   {
    "duration": 0,
    "start_time": "2023-03-10T13:36:00.641Z"
   },
   {
    "duration": 0,
    "start_time": "2023-03-10T13:36:00.642Z"
   },
   {
    "duration": 0,
    "start_time": "2023-03-10T13:36:00.642Z"
   },
   {
    "duration": 0,
    "start_time": "2023-03-10T13:36:00.643Z"
   },
   {
    "duration": 0,
    "start_time": "2023-03-10T13:36:00.644Z"
   },
   {
    "duration": 0,
    "start_time": "2023-03-10T13:36:00.645Z"
   },
   {
    "duration": 0,
    "start_time": "2023-03-10T13:36:00.646Z"
   },
   {
    "duration": 0,
    "start_time": "2023-03-10T13:36:00.647Z"
   },
   {
    "duration": 0,
    "start_time": "2023-03-10T13:36:00.647Z"
   },
   {
    "duration": 0,
    "start_time": "2023-03-10T13:36:00.648Z"
   },
   {
    "duration": 0,
    "start_time": "2023-03-10T13:36:00.650Z"
   },
   {
    "duration": 0,
    "start_time": "2023-03-10T13:36:00.650Z"
   },
   {
    "duration": 0,
    "start_time": "2023-03-10T13:36:00.652Z"
   },
   {
    "duration": 0,
    "start_time": "2023-03-10T13:36:00.652Z"
   },
   {
    "duration": 377,
    "start_time": "2023-03-10T13:43:20.665Z"
   },
   {
    "duration": 776,
    "start_time": "2023-03-10T13:43:21.044Z"
   },
   {
    "duration": 12,
    "start_time": "2023-03-10T13:43:21.822Z"
   },
   {
    "duration": 2,
    "start_time": "2023-03-10T13:43:21.836Z"
   },
   {
    "duration": 7,
    "start_time": "2023-03-10T13:43:21.839Z"
   },
   {
    "duration": 6,
    "start_time": "2023-03-10T13:43:21.847Z"
   },
   {
    "duration": 118,
    "start_time": "2023-03-10T13:43:21.854Z"
   },
   {
    "duration": 0,
    "start_time": "2023-03-10T13:43:21.975Z"
   },
   {
    "duration": 0,
    "start_time": "2023-03-10T13:43:21.977Z"
   },
   {
    "duration": 0,
    "start_time": "2023-03-10T13:43:21.979Z"
   },
   {
    "duration": 0,
    "start_time": "2023-03-10T13:43:21.981Z"
   },
   {
    "duration": 0,
    "start_time": "2023-03-10T13:43:21.982Z"
   },
   {
    "duration": 0,
    "start_time": "2023-03-10T13:43:21.983Z"
   },
   {
    "duration": 0,
    "start_time": "2023-03-10T13:43:21.985Z"
   },
   {
    "duration": 0,
    "start_time": "2023-03-10T13:43:21.986Z"
   },
   {
    "duration": 0,
    "start_time": "2023-03-10T13:43:21.988Z"
   },
   {
    "duration": 0,
    "start_time": "2023-03-10T13:43:21.989Z"
   },
   {
    "duration": 0,
    "start_time": "2023-03-10T13:43:21.991Z"
   },
   {
    "duration": 0,
    "start_time": "2023-03-10T13:43:22.024Z"
   },
   {
    "duration": 0,
    "start_time": "2023-03-10T13:43:22.026Z"
   },
   {
    "duration": 0,
    "start_time": "2023-03-10T13:43:22.027Z"
   },
   {
    "duration": 411,
    "start_time": "2023-03-10T13:44:17.221Z"
   },
   {
    "duration": 711,
    "start_time": "2023-03-10T13:44:17.634Z"
   },
   {
    "duration": 12,
    "start_time": "2023-03-10T13:44:18.346Z"
   },
   {
    "duration": 3,
    "start_time": "2023-03-10T13:44:18.360Z"
   },
   {
    "duration": 9,
    "start_time": "2023-03-10T13:44:18.365Z"
   },
   {
    "duration": 34,
    "start_time": "2023-03-10T13:44:18.376Z"
   },
   {
    "duration": 68,
    "start_time": "2023-03-10T13:44:18.411Z"
   },
   {
    "duration": 12,
    "start_time": "2023-03-10T13:44:18.480Z"
   },
   {
    "duration": 18,
    "start_time": "2023-03-10T13:44:18.493Z"
   },
   {
    "duration": 5,
    "start_time": "2023-03-10T13:44:18.513Z"
   },
   {
    "duration": 5,
    "start_time": "2023-03-10T13:44:18.520Z"
   },
   {
    "duration": 4,
    "start_time": "2023-03-10T13:44:18.527Z"
   },
   {
    "duration": 5,
    "start_time": "2023-03-10T13:44:18.532Z"
   },
   {
    "duration": 4,
    "start_time": "2023-03-10T13:44:18.540Z"
   },
   {
    "duration": 524,
    "start_time": "2023-03-10T13:44:18.545Z"
   },
   {
    "duration": 62,
    "start_time": "2023-03-10T13:44:19.072Z"
   },
   {
    "duration": 12297,
    "start_time": "2023-03-10T13:44:19.137Z"
   },
   {
    "duration": 89,
    "start_time": "2023-03-10T13:44:31.436Z"
   },
   {
    "duration": 8,
    "start_time": "2023-03-10T13:44:31.527Z"
   },
   {
    "duration": 29,
    "start_time": "2023-03-10T13:44:31.537Z"
   },
   {
    "duration": 36,
    "start_time": "2023-03-10T13:44:31.568Z"
   },
   {
    "duration": 134,
    "start_time": "2023-03-10T13:54:52.863Z"
   },
   {
    "duration": 87,
    "start_time": "2023-03-10T13:55:41.946Z"
   },
   {
    "duration": 395,
    "start_time": "2023-03-10T14:05:35.202Z"
   },
   {
    "duration": 1476,
    "start_time": "2023-03-10T14:05:35.599Z"
   },
   {
    "duration": 15,
    "start_time": "2023-03-10T14:05:37.077Z"
   },
   {
    "duration": 17,
    "start_time": "2023-03-10T14:05:37.094Z"
   },
   {
    "duration": 14,
    "start_time": "2023-03-10T14:05:37.113Z"
   },
   {
    "duration": 28,
    "start_time": "2023-03-10T14:05:37.129Z"
   },
   {
    "duration": 79,
    "start_time": "2023-03-10T14:05:37.160Z"
   },
   {
    "duration": 107,
    "start_time": "2023-03-10T14:05:37.240Z"
   },
   {
    "duration": 0,
    "start_time": "2023-03-10T14:05:37.350Z"
   },
   {
    "duration": 0,
    "start_time": "2023-03-10T14:05:37.350Z"
   },
   {
    "duration": 0,
    "start_time": "2023-03-10T14:05:37.351Z"
   },
   {
    "duration": 0,
    "start_time": "2023-03-10T14:05:37.352Z"
   },
   {
    "duration": 0,
    "start_time": "2023-03-10T14:05:37.353Z"
   },
   {
    "duration": 0,
    "start_time": "2023-03-10T14:05:37.354Z"
   },
   {
    "duration": 0,
    "start_time": "2023-03-10T14:05:37.355Z"
   },
   {
    "duration": 0,
    "start_time": "2023-03-10T14:05:37.356Z"
   },
   {
    "duration": 0,
    "start_time": "2023-03-10T14:05:37.356Z"
   },
   {
    "duration": 0,
    "start_time": "2023-03-10T14:05:37.357Z"
   },
   {
    "duration": 0,
    "start_time": "2023-03-10T14:05:37.358Z"
   },
   {
    "duration": 0,
    "start_time": "2023-03-10T14:05:37.359Z"
   },
   {
    "duration": 0,
    "start_time": "2023-03-10T14:05:37.360Z"
   },
   {
    "duration": 366,
    "start_time": "2023-03-10T14:06:19.103Z"
   },
   {
    "duration": 1701,
    "start_time": "2023-03-10T14:06:19.470Z"
   },
   {
    "duration": 14,
    "start_time": "2023-03-10T14:06:21.172Z"
   },
   {
    "duration": 26,
    "start_time": "2023-03-10T14:06:21.187Z"
   },
   {
    "duration": 5,
    "start_time": "2023-03-10T14:06:21.215Z"
   },
   {
    "duration": 14,
    "start_time": "2023-03-10T14:06:21.221Z"
   },
   {
    "duration": 62,
    "start_time": "2023-03-10T14:06:21.237Z"
   },
   {
    "duration": 10,
    "start_time": "2023-03-10T14:06:21.301Z"
   },
   {
    "duration": 25,
    "start_time": "2023-03-10T14:06:21.312Z"
   },
   {
    "duration": 13,
    "start_time": "2023-03-10T14:06:21.338Z"
   },
   {
    "duration": 6,
    "start_time": "2023-03-10T14:06:21.352Z"
   },
   {
    "duration": 8,
    "start_time": "2023-03-10T14:06:21.359Z"
   },
   {
    "duration": 29,
    "start_time": "2023-03-10T14:06:21.369Z"
   },
   {
    "duration": 25,
    "start_time": "2023-03-10T14:06:21.400Z"
   },
   {
    "duration": 509,
    "start_time": "2023-03-10T14:06:21.426Z"
   },
   {
    "duration": 31,
    "start_time": "2023-03-10T14:06:21.937Z"
   },
   {
    "duration": 12075,
    "start_time": "2023-03-10T14:06:21.969Z"
   },
   {
    "duration": 82,
    "start_time": "2023-03-10T14:06:34.046Z"
   },
   {
    "duration": 5,
    "start_time": "2023-03-10T14:06:34.129Z"
   },
   {
    "duration": 8,
    "start_time": "2023-03-10T14:06:34.136Z"
   },
   {
    "duration": 5,
    "start_time": "2023-03-10T14:06:34.146Z"
   },
   {
    "duration": 427,
    "start_time": "2023-03-10T14:10:33.632Z"
   },
   {
    "duration": 794,
    "start_time": "2023-03-10T14:10:34.061Z"
   },
   {
    "duration": 12,
    "start_time": "2023-03-10T14:10:34.857Z"
   },
   {
    "duration": 3,
    "start_time": "2023-03-10T14:10:34.871Z"
   },
   {
    "duration": 3,
    "start_time": "2023-03-10T14:10:34.876Z"
   },
   {
    "duration": 3,
    "start_time": "2023-03-10T14:10:34.881Z"
   },
   {
    "duration": 83,
    "start_time": "2023-03-10T14:10:34.886Z"
   },
   {
    "duration": 11,
    "start_time": "2023-03-10T14:10:34.971Z"
   },
   {
    "duration": 34,
    "start_time": "2023-03-10T14:10:34.985Z"
   },
   {
    "duration": 9,
    "start_time": "2023-03-10T14:10:35.023Z"
   },
   {
    "duration": 6,
    "start_time": "2023-03-10T14:10:35.034Z"
   },
   {
    "duration": 10,
    "start_time": "2023-03-10T14:10:35.042Z"
   },
   {
    "duration": 19,
    "start_time": "2023-03-10T14:10:35.054Z"
   },
   {
    "duration": 9,
    "start_time": "2023-03-10T14:10:35.075Z"
   },
   {
    "duration": 540,
    "start_time": "2023-03-10T14:10:35.086Z"
   },
   {
    "duration": 38,
    "start_time": "2023-03-10T14:10:35.628Z"
   },
   {
    "duration": 12504,
    "start_time": "2023-03-10T14:10:35.669Z"
   },
   {
    "duration": 105,
    "start_time": "2023-03-10T14:10:48.175Z"
   },
   {
    "duration": 6,
    "start_time": "2023-03-10T14:10:48.283Z"
   },
   {
    "duration": 5,
    "start_time": "2023-03-10T14:10:48.290Z"
   },
   {
    "duration": 4,
    "start_time": "2023-03-10T14:10:48.296Z"
   },
   {
    "duration": 414,
    "start_time": "2023-03-10T14:12:39.835Z"
   },
   {
    "duration": 777,
    "start_time": "2023-03-10T14:12:40.251Z"
   },
   {
    "duration": 11,
    "start_time": "2023-03-10T14:12:41.030Z"
   },
   {
    "duration": 3,
    "start_time": "2023-03-10T14:12:41.042Z"
   },
   {
    "duration": 3,
    "start_time": "2023-03-10T14:12:41.047Z"
   },
   {
    "duration": 6,
    "start_time": "2023-03-10T14:12:41.052Z"
   },
   {
    "duration": 112,
    "start_time": "2023-03-10T14:12:41.059Z"
   },
   {
    "duration": 13,
    "start_time": "2023-03-10T14:12:41.173Z"
   },
   {
    "duration": 16,
    "start_time": "2023-03-10T14:12:41.188Z"
   },
   {
    "duration": 5,
    "start_time": "2023-03-10T14:12:41.206Z"
   },
   {
    "duration": 5,
    "start_time": "2023-03-10T14:12:41.213Z"
   },
   {
    "duration": 7,
    "start_time": "2023-03-10T14:12:41.220Z"
   },
   {
    "duration": 8,
    "start_time": "2023-03-10T14:12:41.228Z"
   },
   {
    "duration": 32,
    "start_time": "2023-03-10T14:12:41.239Z"
   },
   {
    "duration": 498,
    "start_time": "2023-03-10T14:12:41.273Z"
   },
   {
    "duration": 35,
    "start_time": "2023-03-10T14:12:41.772Z"
   },
   {
    "duration": 12462,
    "start_time": "2023-03-10T14:12:41.810Z"
   },
   {
    "duration": 99,
    "start_time": "2023-03-10T14:12:54.274Z"
   },
   {
    "duration": 6,
    "start_time": "2023-03-10T14:12:54.374Z"
   },
   {
    "duration": 5,
    "start_time": "2023-03-10T14:12:54.382Z"
   },
   {
    "duration": 7,
    "start_time": "2023-03-10T14:12:54.388Z"
   },
   {
    "duration": 439,
    "start_time": "2023-03-10T18:34:54.716Z"
   },
   {
    "duration": 1782,
    "start_time": "2023-03-10T18:34:55.157Z"
   },
   {
    "duration": 16,
    "start_time": "2023-03-10T18:34:56.944Z"
   },
   {
    "duration": 3,
    "start_time": "2023-03-10T18:34:56.962Z"
   },
   {
    "duration": 4,
    "start_time": "2023-03-10T18:34:56.967Z"
   },
   {
    "duration": 11,
    "start_time": "2023-03-10T18:34:56.974Z"
   },
   {
    "duration": 75,
    "start_time": "2023-03-10T18:34:56.987Z"
   },
   {
    "duration": 13,
    "start_time": "2023-03-10T18:34:57.063Z"
   },
   {
    "duration": 27,
    "start_time": "2023-03-10T18:34:57.078Z"
   },
   {
    "duration": 6,
    "start_time": "2023-03-10T18:34:57.107Z"
   },
   {
    "duration": 7,
    "start_time": "2023-03-10T18:34:57.115Z"
   },
   {
    "duration": 6,
    "start_time": "2023-03-10T18:34:57.125Z"
   },
   {
    "duration": 4,
    "start_time": "2023-03-10T18:34:57.134Z"
   },
   {
    "duration": 7,
    "start_time": "2023-03-10T18:34:57.143Z"
   },
   {
    "duration": 545,
    "start_time": "2023-03-10T18:34:57.152Z"
   },
   {
    "duration": 50,
    "start_time": "2023-03-10T18:34:57.698Z"
   },
   {
    "duration": 14213,
    "start_time": "2023-03-10T18:34:57.750Z"
   },
   {
    "duration": 111,
    "start_time": "2023-03-10T18:35:11.965Z"
   },
   {
    "duration": 5,
    "start_time": "2023-03-10T18:35:12.078Z"
   },
   {
    "duration": 9,
    "start_time": "2023-03-10T18:35:12.084Z"
   },
   {
    "duration": 5,
    "start_time": "2023-03-10T18:35:12.095Z"
   },
   {
    "duration": 4,
    "start_time": "2023-03-10T18:35:33.955Z"
   },
   {
    "duration": 103,
    "start_time": "2023-03-10T18:35:39.110Z"
   }
  ],
  "kernelspec": {
   "display_name": "Python 3 (ipykernel)",
   "language": "python",
   "name": "python3"
  },
  "language_info": {
   "codemirror_mode": {
    "name": "ipython",
    "version": 3
   },
   "file_extension": ".py",
   "mimetype": "text/x-python",
   "name": "python",
   "nbconvert_exporter": "python",
   "pygments_lexer": "ipython3",
   "version": "3.9.13"
  },
  "toc": {
   "base_numbering": 1,
   "nav_menu": {},
   "number_sections": true,
   "sideBar": true,
   "skip_h1_title": true,
   "title_cell": "Table of Contents",
   "title_sidebar": "Contents",
   "toc_cell": false,
   "toc_position": {},
   "toc_section_display": true,
   "toc_window_display": false
  }
 },
 "nbformat": 4,
 "nbformat_minor": 2
}
