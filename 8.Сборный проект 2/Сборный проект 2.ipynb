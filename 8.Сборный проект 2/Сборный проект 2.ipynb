{
 "cells": [
  {
   "cell_type": "markdown",
   "metadata": {},
   "source": [
    "# Восстановление золота из руды"
   ]
  },
  {
   "cell_type": "markdown",
   "metadata": {},
   "source": [
    "Подготовьте прототип модели машинного обучения для «Цифры». Компания разрабатывает решения для эффективной работы промышленных предприятий.\n",
    "\n",
    "Модель должна предсказать коэффициент восстановления золота из золотосодержащей руды. Используйте данные с параметрами добычи и очистки. \n",
    "\n",
    "Модель поможет оптимизировать производство, чтобы не запускать предприятие с убыточными характеристиками.\n",
    "\n",
    "Вам нужно:\n",
    "\n",
    "1. Подготовить данные;\n",
    "2. Провести исследовательский анализ данных;\n",
    "3. Построить и обучить модель.\n",
    "\n",
    "Чтобы выполнить проект, обращайтесь к библиотекам *pandas*, *matplotlib* и *sklearn.* Вам поможет их документация."
   ]
  },
  {
   "cell_type": "markdown",
   "metadata": {},
   "source": [
    "## Подготовка данных"
   ]
  },
  {
   "cell_type": "code",
   "execution_count": 1,
   "metadata": {},
   "outputs": [],
   "source": [
    "import pandas as pd\n",
    "from sklearn.metrics import mean_absolute_error\n",
    "import matplotlib.pyplot as plt\n",
    "import numpy as np\n",
    "from sklearn.model_selection import cross_val_score,KFold\n",
    "from sklearn.tree import DecisionTreeRegressor\n",
    "from sklearn.ensemble import RandomForestRegressor\n",
    "from sklearn.metrics import fbeta_score, make_scorer\n",
    "from sklearn.model_selection import cross_val_score\n",
    "import warnings\n",
    "from sklearn.linear_model import LinearRegression\n",
    "import seaborn as sns\n",
    "from sklearn.dummy import DummyRegressor\n",
    "import collections\n",
    "import seaborn as sns\n",
    "import matplotlib.pyplot as plt\n",
    "from sklearn.preprocessing import StandardScaler\n",
    "import scipy. interpolate\n",
    "\n",
    "warnings.filterwarnings('ignore')"
   ]
  },
  {
   "cell_type": "code",
   "execution_count": 4,
   "metadata": {},
   "outputs": [],
   "source": [
    "try:\n",
    "    data = pd.read_csv('C:/Users/Пользователь/OneDrive/Документы/Python/gold_recovery_full_new.csv')\n",
    "    test_data = pd.read_csv('C:/Users/Пользователь/OneDrive/Документы/Python/gold_recovery_test_new.csv')\n",
    "    train_data = pd.read_csv('C:/Users/Пользователь/OneDrive/Документы/Python/gold_recovery_train_new.csv')\n",
    "    \n",
    "except:\n",
    "    data = pd.read_csv('/datasets/gold_recovery_full_new.csv')\n",
    "    test_data = pd.read_csv('/datasets/gold_recovery_test_new.csv')\n",
    "    train_data = pd.read_csv('/datasets/gold_recovery_train_new.csv')"
   ]
  },
  {
   "cell_type": "markdown",
   "metadata": {},
   "source": [
    "Сначала посмотрим наобщую информацию и проверим на дубликаты и пропуски."
   ]
  },
  {
   "cell_type": "code",
   "execution_count": 3,
   "metadata": {
    "scrolled": true
   },
   "outputs": [
    {
     "name": "stdout",
     "output_type": "stream",
     "text": [
      "<class 'pandas.core.frame.DataFrame'>\n",
      "RangeIndex: 19439 entries, 0 to 19438\n",
      "Data columns (total 87 columns):\n",
      " #   Column                                              Non-Null Count  Dtype  \n",
      "---  ------                                              --------------  -----  \n",
      " 0   date                                                19439 non-null  object \n",
      " 1   final.output.concentrate_ag                         19438 non-null  float64\n",
      " 2   final.output.concentrate_pb                         19438 non-null  float64\n",
      " 3   final.output.concentrate_sol                        19228 non-null  float64\n",
      " 4   final.output.concentrate_au                         19439 non-null  float64\n",
      " 5   final.output.recovery                               19439 non-null  float64\n",
      " 6   final.output.tail_ag                                19438 non-null  float64\n",
      " 7   final.output.tail_pb                                19338 non-null  float64\n",
      " 8   final.output.tail_sol                               19433 non-null  float64\n",
      " 9   final.output.tail_au                                19439 non-null  float64\n",
      " 10  primary_cleaner.input.sulfate                       19415 non-null  float64\n",
      " 11  primary_cleaner.input.depressant                    19402 non-null  float64\n",
      " 12  primary_cleaner.input.feed_size                     19439 non-null  float64\n",
      " 13  primary_cleaner.input.xanthate                      19335 non-null  float64\n",
      " 14  primary_cleaner.output.concentrate_ag               19439 non-null  float64\n",
      " 15  primary_cleaner.output.concentrate_pb               19323 non-null  float64\n",
      " 16  primary_cleaner.output.concentrate_sol              19069 non-null  float64\n",
      " 17  primary_cleaner.output.concentrate_au               19439 non-null  float64\n",
      " 18  primary_cleaner.output.tail_ag                      19435 non-null  float64\n",
      " 19  primary_cleaner.output.tail_pb                      19418 non-null  float64\n",
      " 20  primary_cleaner.output.tail_sol                     19377 non-null  float64\n",
      " 21  primary_cleaner.output.tail_au                      19439 non-null  float64\n",
      " 22  primary_cleaner.state.floatbank8_a_air              19435 non-null  float64\n",
      " 23  primary_cleaner.state.floatbank8_a_level            19438 non-null  float64\n",
      " 24  primary_cleaner.state.floatbank8_b_air              19435 non-null  float64\n",
      " 25  primary_cleaner.state.floatbank8_b_level            19438 non-null  float64\n",
      " 26  primary_cleaner.state.floatbank8_c_air              19437 non-null  float64\n",
      " 27  primary_cleaner.state.floatbank8_c_level            19438 non-null  float64\n",
      " 28  primary_cleaner.state.floatbank8_d_air              19436 non-null  float64\n",
      " 29  primary_cleaner.state.floatbank8_d_level            19438 non-null  float64\n",
      " 30  rougher.calculation.sulfate_to_au_concentrate       19437 non-null  float64\n",
      " 31  rougher.calculation.floatbank10_sulfate_to_au_feed  19437 non-null  float64\n",
      " 32  rougher.calculation.floatbank11_sulfate_to_au_feed  19437 non-null  float64\n",
      " 33  rougher.calculation.au_pb_ratio                     19439 non-null  float64\n",
      " 34  rougher.input.feed_ag                               19439 non-null  float64\n",
      " 35  rougher.input.feed_pb                               19339 non-null  float64\n",
      " 36  rougher.input.feed_rate                             19428 non-null  float64\n",
      " 37  rougher.input.feed_size                             19294 non-null  float64\n",
      " 38  rougher.input.feed_sol                              19340 non-null  float64\n",
      " 39  rougher.input.feed_au                               19439 non-null  float64\n",
      " 40  rougher.input.floatbank10_sulfate                   19405 non-null  float64\n",
      " 41  rougher.input.floatbank10_xanthate                  19431 non-null  float64\n",
      " 42  rougher.input.floatbank11_sulfate                   19395 non-null  float64\n",
      " 43  rougher.input.floatbank11_xanthate                  18986 non-null  float64\n",
      " 44  rougher.output.concentrate_ag                       19439 non-null  float64\n",
      " 45  rougher.output.concentrate_pb                       19439 non-null  float64\n",
      " 46  rougher.output.concentrate_sol                      19416 non-null  float64\n",
      " 47  rougher.output.concentrate_au                       19439 non-null  float64\n",
      " 48  rougher.output.recovery                             19439 non-null  float64\n",
      " 49  rougher.output.tail_ag                              19438 non-null  float64\n",
      " 50  rougher.output.tail_pb                              19439 non-null  float64\n",
      " 51  rougher.output.tail_sol                             19439 non-null  float64\n",
      " 52  rougher.output.tail_au                              19439 non-null  float64\n",
      " 53  rougher.state.floatbank10_a_air                     19438 non-null  float64\n",
      " 54  rougher.state.floatbank10_a_level                   19438 non-null  float64\n",
      " 55  rougher.state.floatbank10_b_air                     19438 non-null  float64\n",
      " 56  rougher.state.floatbank10_b_level                   19438 non-null  float64\n",
      " 57  rougher.state.floatbank10_c_air                     19438 non-null  float64\n",
      " 58  rougher.state.floatbank10_c_level                   19438 non-null  float64\n",
      " 59  rougher.state.floatbank10_d_air                     19439 non-null  float64\n",
      " 60  rougher.state.floatbank10_d_level                   19439 non-null  float64\n",
      " 61  rougher.state.floatbank10_e_air                     19003 non-null  float64\n",
      " 62  rougher.state.floatbank10_e_level                   19439 non-null  float64\n",
      " 63  rougher.state.floatbank10_f_air                     19439 non-null  float64\n",
      " 64  rougher.state.floatbank10_f_level                   19439 non-null  float64\n",
      " 65  secondary_cleaner.output.tail_ag                    19437 non-null  float64\n",
      " 66  secondary_cleaner.output.tail_pb                    19427 non-null  float64\n",
      " 67  secondary_cleaner.output.tail_sol                   17691 non-null  float64\n",
      " 68  secondary_cleaner.output.tail_au                    19439 non-null  float64\n",
      " 69  secondary_cleaner.state.floatbank2_a_air            19219 non-null  float64\n",
      " 70  secondary_cleaner.state.floatbank2_a_level          19438 non-null  float64\n",
      " 71  secondary_cleaner.state.floatbank2_b_air            19416 non-null  float64\n",
      " 72  secondary_cleaner.state.floatbank2_b_level          19438 non-null  float64\n",
      " 73  secondary_cleaner.state.floatbank3_a_air            19426 non-null  float64\n",
      " 74  secondary_cleaner.state.floatbank3_a_level          19438 non-null  float64\n",
      " 75  secondary_cleaner.state.floatbank3_b_air            19438 non-null  float64\n",
      " 76  secondary_cleaner.state.floatbank3_b_level          19438 non-null  float64\n",
      " 77  secondary_cleaner.state.floatbank4_a_air            19433 non-null  float64\n",
      " 78  secondary_cleaner.state.floatbank4_a_level          19438 non-null  float64\n",
      " 79  secondary_cleaner.state.floatbank4_b_air            19438 non-null  float64\n",
      " 80  secondary_cleaner.state.floatbank4_b_level          19438 non-null  float64\n",
      " 81  secondary_cleaner.state.floatbank5_a_air            19438 non-null  float64\n",
      " 82  secondary_cleaner.state.floatbank5_a_level          19438 non-null  float64\n",
      " 83  secondary_cleaner.state.floatbank5_b_air            19438 non-null  float64\n",
      " 84  secondary_cleaner.state.floatbank5_b_level          19438 non-null  float64\n",
      " 85  secondary_cleaner.state.floatbank6_a_air            19437 non-null  float64\n",
      " 86  secondary_cleaner.state.floatbank6_a_level          19438 non-null  float64\n",
      "dtypes: float64(86), object(1)\n",
      "memory usage: 12.9+ MB\n"
     ]
    }
   ],
   "source": [
    "data.info()"
   ]
  },
  {
   "cell_type": "code",
   "execution_count": 43,
   "metadata": {
    "scrolled": true
   },
   "outputs": [
    {
     "name": "stdout",
     "output_type": "stream",
     "text": [
      "<class 'pandas.core.frame.DataFrame'>\n",
      "RangeIndex: 5290 entries, 0 to 5289\n",
      "Data columns (total 53 columns):\n",
      " #   Column                                      Non-Null Count  Dtype  \n",
      "---  ------                                      --------------  -----  \n",
      " 0   date                                        5290 non-null   object \n",
      " 1   primary_cleaner.input.sulfate               5286 non-null   float64\n",
      " 2   primary_cleaner.input.depressant            5285 non-null   float64\n",
      " 3   primary_cleaner.input.feed_size             5290 non-null   float64\n",
      " 4   primary_cleaner.input.xanthate              5286 non-null   float64\n",
      " 5   primary_cleaner.state.floatbank8_a_air      5290 non-null   float64\n",
      " 6   primary_cleaner.state.floatbank8_a_level    5290 non-null   float64\n",
      " 7   primary_cleaner.state.floatbank8_b_air      5290 non-null   float64\n",
      " 8   primary_cleaner.state.floatbank8_b_level    5290 non-null   float64\n",
      " 9   primary_cleaner.state.floatbank8_c_air      5290 non-null   float64\n",
      " 10  primary_cleaner.state.floatbank8_c_level    5290 non-null   float64\n",
      " 11  primary_cleaner.state.floatbank8_d_air      5290 non-null   float64\n",
      " 12  primary_cleaner.state.floatbank8_d_level    5290 non-null   float64\n",
      " 13  rougher.input.feed_ag                       5290 non-null   float64\n",
      " 14  rougher.input.feed_pb                       5290 non-null   float64\n",
      " 15  rougher.input.feed_rate                     5287 non-null   float64\n",
      " 16  rougher.input.feed_size                     5289 non-null   float64\n",
      " 17  rougher.input.feed_sol                      5269 non-null   float64\n",
      " 18  rougher.input.feed_au                       5290 non-null   float64\n",
      " 19  rougher.input.floatbank10_sulfate           5285 non-null   float64\n",
      " 20  rougher.input.floatbank10_xanthate          5290 non-null   float64\n",
      " 21  rougher.input.floatbank11_sulfate           5282 non-null   float64\n",
      " 22  rougher.input.floatbank11_xanthate          5265 non-null   float64\n",
      " 23  rougher.state.floatbank10_a_air             5290 non-null   float64\n",
      " 24  rougher.state.floatbank10_a_level           5290 non-null   float64\n",
      " 25  rougher.state.floatbank10_b_air             5290 non-null   float64\n",
      " 26  rougher.state.floatbank10_b_level           5290 non-null   float64\n",
      " 27  rougher.state.floatbank10_c_air             5290 non-null   float64\n",
      " 28  rougher.state.floatbank10_c_level           5290 non-null   float64\n",
      " 29  rougher.state.floatbank10_d_air             5290 non-null   float64\n",
      " 30  rougher.state.floatbank10_d_level           5290 non-null   float64\n",
      " 31  rougher.state.floatbank10_e_air             5290 non-null   float64\n",
      " 32  rougher.state.floatbank10_e_level           5290 non-null   float64\n",
      " 33  rougher.state.floatbank10_f_air             5290 non-null   float64\n",
      " 34  rougher.state.floatbank10_f_level           5290 non-null   float64\n",
      " 35  secondary_cleaner.state.floatbank2_a_air    5287 non-null   float64\n",
      " 36  secondary_cleaner.state.floatbank2_a_level  5290 non-null   float64\n",
      " 37  secondary_cleaner.state.floatbank2_b_air    5288 non-null   float64\n",
      " 38  secondary_cleaner.state.floatbank2_b_level  5290 non-null   float64\n",
      " 39  secondary_cleaner.state.floatbank3_a_air    5281 non-null   float64\n",
      " 40  secondary_cleaner.state.floatbank3_a_level  5290 non-null   float64\n",
      " 41  secondary_cleaner.state.floatbank3_b_air    5290 non-null   float64\n",
      " 42  secondary_cleaner.state.floatbank3_b_level  5290 non-null   float64\n",
      " 43  secondary_cleaner.state.floatbank4_a_air    5290 non-null   float64\n",
      " 44  secondary_cleaner.state.floatbank4_a_level  5290 non-null   float64\n",
      " 45  secondary_cleaner.state.floatbank4_b_air    5290 non-null   float64\n",
      " 46  secondary_cleaner.state.floatbank4_b_level  5290 non-null   float64\n",
      " 47  secondary_cleaner.state.floatbank5_a_air    5290 non-null   float64\n",
      " 48  secondary_cleaner.state.floatbank5_a_level  5290 non-null   float64\n",
      " 49  secondary_cleaner.state.floatbank5_b_air    5290 non-null   float64\n",
      " 50  secondary_cleaner.state.floatbank5_b_level  5290 non-null   float64\n",
      " 51  secondary_cleaner.state.floatbank6_a_air    5290 non-null   float64\n",
      " 52  secondary_cleaner.state.floatbank6_a_level  5290 non-null   float64\n",
      "dtypes: float64(52), object(1)\n",
      "memory usage: 2.1+ MB\n"
     ]
    }
   ],
   "source": [
    "test_data.info()"
   ]
  },
  {
   "cell_type": "code",
   "execution_count": 44,
   "metadata": {
    "scrolled": true
   },
   "outputs": [
    {
     "name": "stdout",
     "output_type": "stream",
     "text": [
      "<class 'pandas.core.frame.DataFrame'>\n",
      "RangeIndex: 14149 entries, 0 to 14148\n",
      "Data columns (total 87 columns):\n",
      " #   Column                                              Non-Null Count  Dtype  \n",
      "---  ------                                              --------------  -----  \n",
      " 0   date                                                14149 non-null  object \n",
      " 1   final.output.concentrate_ag                         14148 non-null  float64\n",
      " 2   final.output.concentrate_pb                         14148 non-null  float64\n",
      " 3   final.output.concentrate_sol                        13938 non-null  float64\n",
      " 4   final.output.concentrate_au                         14149 non-null  float64\n",
      " 5   final.output.recovery                               14149 non-null  float64\n",
      " 6   final.output.tail_ag                                14149 non-null  float64\n",
      " 7   final.output.tail_pb                                14049 non-null  float64\n",
      " 8   final.output.tail_sol                               14144 non-null  float64\n",
      " 9   final.output.tail_au                                14149 non-null  float64\n",
      " 10  primary_cleaner.input.sulfate                       14129 non-null  float64\n",
      " 11  primary_cleaner.input.depressant                    14117 non-null  float64\n",
      " 12  primary_cleaner.input.feed_size                     14149 non-null  float64\n",
      " 13  primary_cleaner.input.xanthate                      14049 non-null  float64\n",
      " 14  primary_cleaner.output.concentrate_ag               14149 non-null  float64\n",
      " 15  primary_cleaner.output.concentrate_pb               14063 non-null  float64\n",
      " 16  primary_cleaner.output.concentrate_sol              13863 non-null  float64\n",
      " 17  primary_cleaner.output.concentrate_au               14149 non-null  float64\n",
      " 18  primary_cleaner.output.tail_ag                      14148 non-null  float64\n",
      " 19  primary_cleaner.output.tail_pb                      14134 non-null  float64\n",
      " 20  primary_cleaner.output.tail_sol                     14103 non-null  float64\n",
      " 21  primary_cleaner.output.tail_au                      14149 non-null  float64\n",
      " 22  primary_cleaner.state.floatbank8_a_air              14145 non-null  float64\n",
      " 23  primary_cleaner.state.floatbank8_a_level            14148 non-null  float64\n",
      " 24  primary_cleaner.state.floatbank8_b_air              14145 non-null  float64\n",
      " 25  primary_cleaner.state.floatbank8_b_level            14148 non-null  float64\n",
      " 26  primary_cleaner.state.floatbank8_c_air              14147 non-null  float64\n",
      " 27  primary_cleaner.state.floatbank8_c_level            14148 non-null  float64\n",
      " 28  primary_cleaner.state.floatbank8_d_air              14146 non-null  float64\n",
      " 29  primary_cleaner.state.floatbank8_d_level            14148 non-null  float64\n",
      " 30  rougher.calculation.sulfate_to_au_concentrate       14148 non-null  float64\n",
      " 31  rougher.calculation.floatbank10_sulfate_to_au_feed  14148 non-null  float64\n",
      " 32  rougher.calculation.floatbank11_sulfate_to_au_feed  14148 non-null  float64\n",
      " 33  rougher.calculation.au_pb_ratio                     14149 non-null  float64\n",
      " 34  rougher.input.feed_ag                               14149 non-null  float64\n",
      " 35  rougher.input.feed_pb                               14049 non-null  float64\n",
      " 36  rougher.input.feed_rate                             14141 non-null  float64\n",
      " 37  rougher.input.feed_size                             14005 non-null  float64\n",
      " 38  rougher.input.feed_sol                              14071 non-null  float64\n",
      " 39  rougher.input.feed_au                               14149 non-null  float64\n",
      " 40  rougher.input.floatbank10_sulfate                   14120 non-null  float64\n",
      " 41  rougher.input.floatbank10_xanthate                  14141 non-null  float64\n",
      " 42  rougher.input.floatbank11_sulfate                   14113 non-null  float64\n",
      " 43  rougher.input.floatbank11_xanthate                  13721 non-null  float64\n",
      " 44  rougher.output.concentrate_ag                       14149 non-null  float64\n",
      " 45  rougher.output.concentrate_pb                       14149 non-null  float64\n",
      " 46  rougher.output.concentrate_sol                      14127 non-null  float64\n",
      " 47  rougher.output.concentrate_au                       14149 non-null  float64\n",
      " 48  rougher.output.recovery                             14149 non-null  float64\n",
      " 49  rougher.output.tail_ag                              14148 non-null  float64\n",
      " 50  rougher.output.tail_pb                              14149 non-null  float64\n",
      " 51  rougher.output.tail_sol                             14149 non-null  float64\n",
      " 52  rougher.output.tail_au                              14149 non-null  float64\n",
      " 53  rougher.state.floatbank10_a_air                     14148 non-null  float64\n",
      " 54  rougher.state.floatbank10_a_level                   14148 non-null  float64\n",
      " 55  rougher.state.floatbank10_b_air                     14148 non-null  float64\n",
      " 56  rougher.state.floatbank10_b_level                   14148 non-null  float64\n",
      " 57  rougher.state.floatbank10_c_air                     14148 non-null  float64\n",
      " 58  rougher.state.floatbank10_c_level                   14148 non-null  float64\n",
      " 59  rougher.state.floatbank10_d_air                     14149 non-null  float64\n",
      " 60  rougher.state.floatbank10_d_level                   14149 non-null  float64\n",
      " 61  rougher.state.floatbank10_e_air                     13713 non-null  float64\n",
      " 62  rougher.state.floatbank10_e_level                   14149 non-null  float64\n",
      " 63  rougher.state.floatbank10_f_air                     14149 non-null  float64\n",
      " 64  rougher.state.floatbank10_f_level                   14149 non-null  float64\n",
      " 65  secondary_cleaner.output.tail_ag                    14147 non-null  float64\n",
      " 66  secondary_cleaner.output.tail_pb                    14139 non-null  float64\n",
      " 67  secondary_cleaner.output.tail_sol                   12544 non-null  float64\n",
      " 68  secondary_cleaner.output.tail_au                    14149 non-null  float64\n",
      " 69  secondary_cleaner.state.floatbank2_a_air            13932 non-null  float64\n",
      " 70  secondary_cleaner.state.floatbank2_a_level          14148 non-null  float64\n",
      " 71  secondary_cleaner.state.floatbank2_b_air            14128 non-null  float64\n",
      " 72  secondary_cleaner.state.floatbank2_b_level          14148 non-null  float64\n",
      " 73  secondary_cleaner.state.floatbank3_a_air            14145 non-null  float64\n",
      " 74  secondary_cleaner.state.floatbank3_a_level          14148 non-null  float64\n",
      " 75  secondary_cleaner.state.floatbank3_b_air            14148 non-null  float64\n",
      " 76  secondary_cleaner.state.floatbank3_b_level          14148 non-null  float64\n",
      " 77  secondary_cleaner.state.floatbank4_a_air            14143 non-null  float64\n",
      " 78  secondary_cleaner.state.floatbank4_a_level          14148 non-null  float64\n",
      " 79  secondary_cleaner.state.floatbank4_b_air            14148 non-null  float64\n",
      " 80  secondary_cleaner.state.floatbank4_b_level          14148 non-null  float64\n",
      " 81  secondary_cleaner.state.floatbank5_a_air            14148 non-null  float64\n",
      " 82  secondary_cleaner.state.floatbank5_a_level          14148 non-null  float64\n",
      " 83  secondary_cleaner.state.floatbank5_b_air            14148 non-null  float64\n",
      " 84  secondary_cleaner.state.floatbank5_b_level          14148 non-null  float64\n",
      " 85  secondary_cleaner.state.floatbank6_a_air            14147 non-null  float64\n",
      " 86  secondary_cleaner.state.floatbank6_a_level          14148 non-null  float64\n",
      "dtypes: float64(86), object(1)\n",
      "memory usage: 9.4+ MB\n"
     ]
    }
   ],
   "source": [
    "train_data.info()"
   ]
  },
  {
   "cell_type": "code",
   "execution_count": 45,
   "metadata": {
    "scrolled": true
   },
   "outputs": [
    {
     "data": {
      "text/html": [
       "<div>\n",
       "<style scoped>\n",
       "    .dataframe tbody tr th:only-of-type {\n",
       "        vertical-align: middle;\n",
       "    }\n",
       "\n",
       "    .dataframe tbody tr th {\n",
       "        vertical-align: top;\n",
       "    }\n",
       "\n",
       "    .dataframe thead th {\n",
       "        text-align: right;\n",
       "    }\n",
       "</style>\n",
       "<table border=\"1\" class=\"dataframe\">\n",
       "  <thead>\n",
       "    <tr style=\"text-align: right;\">\n",
       "      <th></th>\n",
       "      <th>date</th>\n",
       "      <th>final.output.concentrate_ag</th>\n",
       "      <th>final.output.concentrate_pb</th>\n",
       "      <th>final.output.concentrate_sol</th>\n",
       "      <th>final.output.concentrate_au</th>\n",
       "      <th>final.output.recovery</th>\n",
       "      <th>final.output.tail_ag</th>\n",
       "      <th>final.output.tail_pb</th>\n",
       "      <th>final.output.tail_sol</th>\n",
       "      <th>final.output.tail_au</th>\n",
       "      <th>...</th>\n",
       "      <th>secondary_cleaner.state.floatbank4_a_air</th>\n",
       "      <th>secondary_cleaner.state.floatbank4_a_level</th>\n",
       "      <th>secondary_cleaner.state.floatbank4_b_air</th>\n",
       "      <th>secondary_cleaner.state.floatbank4_b_level</th>\n",
       "      <th>secondary_cleaner.state.floatbank5_a_air</th>\n",
       "      <th>secondary_cleaner.state.floatbank5_a_level</th>\n",
       "      <th>secondary_cleaner.state.floatbank5_b_air</th>\n",
       "      <th>secondary_cleaner.state.floatbank5_b_level</th>\n",
       "      <th>secondary_cleaner.state.floatbank6_a_air</th>\n",
       "      <th>secondary_cleaner.state.floatbank6_a_level</th>\n",
       "    </tr>\n",
       "  </thead>\n",
       "  <tbody>\n",
       "    <tr>\n",
       "      <th>0</th>\n",
       "      <td>2016-01-15 00:00:00</td>\n",
       "      <td>6.055403</td>\n",
       "      <td>9.889648</td>\n",
       "      <td>5.507324</td>\n",
       "      <td>42.192020</td>\n",
       "      <td>70.541216</td>\n",
       "      <td>10.411962</td>\n",
       "      <td>0.895447</td>\n",
       "      <td>16.904297</td>\n",
       "      <td>2.143149</td>\n",
       "      <td>...</td>\n",
       "      <td>14.016835</td>\n",
       "      <td>-502.488007</td>\n",
       "      <td>12.099931</td>\n",
       "      <td>-504.715942</td>\n",
       "      <td>9.925633</td>\n",
       "      <td>-498.310211</td>\n",
       "      <td>8.079666</td>\n",
       "      <td>-500.470978</td>\n",
       "      <td>14.151341</td>\n",
       "      <td>-605.841980</td>\n",
       "    </tr>\n",
       "    <tr>\n",
       "      <th>1</th>\n",
       "      <td>2016-01-15 01:00:00</td>\n",
       "      <td>6.029369</td>\n",
       "      <td>9.968944</td>\n",
       "      <td>5.257781</td>\n",
       "      <td>42.701629</td>\n",
       "      <td>69.266198</td>\n",
       "      <td>10.462676</td>\n",
       "      <td>0.927452</td>\n",
       "      <td>16.634514</td>\n",
       "      <td>2.224930</td>\n",
       "      <td>...</td>\n",
       "      <td>13.992281</td>\n",
       "      <td>-505.503262</td>\n",
       "      <td>11.950531</td>\n",
       "      <td>-501.331529</td>\n",
       "      <td>10.039245</td>\n",
       "      <td>-500.169983</td>\n",
       "      <td>7.984757</td>\n",
       "      <td>-500.582168</td>\n",
       "      <td>13.998353</td>\n",
       "      <td>-599.787184</td>\n",
       "    </tr>\n",
       "    <tr>\n",
       "      <th>2</th>\n",
       "      <td>2016-01-15 02:00:00</td>\n",
       "      <td>6.055926</td>\n",
       "      <td>10.213995</td>\n",
       "      <td>5.383759</td>\n",
       "      <td>42.657501</td>\n",
       "      <td>68.116445</td>\n",
       "      <td>10.507046</td>\n",
       "      <td>0.953716</td>\n",
       "      <td>16.208849</td>\n",
       "      <td>2.257889</td>\n",
       "      <td>...</td>\n",
       "      <td>14.015015</td>\n",
       "      <td>-502.520901</td>\n",
       "      <td>11.912783</td>\n",
       "      <td>-501.133383</td>\n",
       "      <td>10.070913</td>\n",
       "      <td>-500.129135</td>\n",
       "      <td>8.013877</td>\n",
       "      <td>-500.517572</td>\n",
       "      <td>14.028663</td>\n",
       "      <td>-601.427363</td>\n",
       "    </tr>\n",
       "    <tr>\n",
       "      <th>3</th>\n",
       "      <td>2016-01-15 03:00:00</td>\n",
       "      <td>6.047977</td>\n",
       "      <td>9.977019</td>\n",
       "      <td>4.858634</td>\n",
       "      <td>42.689819</td>\n",
       "      <td>68.347543</td>\n",
       "      <td>10.422762</td>\n",
       "      <td>0.883763</td>\n",
       "      <td>16.532835</td>\n",
       "      <td>2.146849</td>\n",
       "      <td>...</td>\n",
       "      <td>14.036510</td>\n",
       "      <td>-500.857308</td>\n",
       "      <td>11.999550</td>\n",
       "      <td>-501.193686</td>\n",
       "      <td>9.970366</td>\n",
       "      <td>-499.201640</td>\n",
       "      <td>7.977324</td>\n",
       "      <td>-500.255908</td>\n",
       "      <td>14.005551</td>\n",
       "      <td>-599.996129</td>\n",
       "    </tr>\n",
       "    <tr>\n",
       "      <th>4</th>\n",
       "      <td>2016-01-15 04:00:00</td>\n",
       "      <td>6.148599</td>\n",
       "      <td>10.142511</td>\n",
       "      <td>4.939416</td>\n",
       "      <td>42.774141</td>\n",
       "      <td>66.927016</td>\n",
       "      <td>10.360302</td>\n",
       "      <td>0.792826</td>\n",
       "      <td>16.525686</td>\n",
       "      <td>2.055292</td>\n",
       "      <td>...</td>\n",
       "      <td>14.027298</td>\n",
       "      <td>-499.838632</td>\n",
       "      <td>11.953070</td>\n",
       "      <td>-501.053894</td>\n",
       "      <td>9.925709</td>\n",
       "      <td>-501.686727</td>\n",
       "      <td>7.894242</td>\n",
       "      <td>-500.356035</td>\n",
       "      <td>13.996647</td>\n",
       "      <td>-601.496691</td>\n",
       "    </tr>\n",
       "  </tbody>\n",
       "</table>\n",
       "<p>5 rows × 87 columns</p>\n",
       "</div>"
      ],
      "text/plain": [
       "                  date  final.output.concentrate_ag  \\\n",
       "0  2016-01-15 00:00:00                     6.055403   \n",
       "1  2016-01-15 01:00:00                     6.029369   \n",
       "2  2016-01-15 02:00:00                     6.055926   \n",
       "3  2016-01-15 03:00:00                     6.047977   \n",
       "4  2016-01-15 04:00:00                     6.148599   \n",
       "\n",
       "   final.output.concentrate_pb  final.output.concentrate_sol  \\\n",
       "0                     9.889648                      5.507324   \n",
       "1                     9.968944                      5.257781   \n",
       "2                    10.213995                      5.383759   \n",
       "3                     9.977019                      4.858634   \n",
       "4                    10.142511                      4.939416   \n",
       "\n",
       "   final.output.concentrate_au  final.output.recovery  final.output.tail_ag  \\\n",
       "0                    42.192020              70.541216             10.411962   \n",
       "1                    42.701629              69.266198             10.462676   \n",
       "2                    42.657501              68.116445             10.507046   \n",
       "3                    42.689819              68.347543             10.422762   \n",
       "4                    42.774141              66.927016             10.360302   \n",
       "\n",
       "   final.output.tail_pb  final.output.tail_sol  final.output.tail_au  ...  \\\n",
       "0              0.895447              16.904297              2.143149  ...   \n",
       "1              0.927452              16.634514              2.224930  ...   \n",
       "2              0.953716              16.208849              2.257889  ...   \n",
       "3              0.883763              16.532835              2.146849  ...   \n",
       "4              0.792826              16.525686              2.055292  ...   \n",
       "\n",
       "   secondary_cleaner.state.floatbank4_a_air  \\\n",
       "0                                 14.016835   \n",
       "1                                 13.992281   \n",
       "2                                 14.015015   \n",
       "3                                 14.036510   \n",
       "4                                 14.027298   \n",
       "\n",
       "   secondary_cleaner.state.floatbank4_a_level  \\\n",
       "0                                 -502.488007   \n",
       "1                                 -505.503262   \n",
       "2                                 -502.520901   \n",
       "3                                 -500.857308   \n",
       "4                                 -499.838632   \n",
       "\n",
       "   secondary_cleaner.state.floatbank4_b_air  \\\n",
       "0                                 12.099931   \n",
       "1                                 11.950531   \n",
       "2                                 11.912783   \n",
       "3                                 11.999550   \n",
       "4                                 11.953070   \n",
       "\n",
       "   secondary_cleaner.state.floatbank4_b_level  \\\n",
       "0                                 -504.715942   \n",
       "1                                 -501.331529   \n",
       "2                                 -501.133383   \n",
       "3                                 -501.193686   \n",
       "4                                 -501.053894   \n",
       "\n",
       "   secondary_cleaner.state.floatbank5_a_air  \\\n",
       "0                                  9.925633   \n",
       "1                                 10.039245   \n",
       "2                                 10.070913   \n",
       "3                                  9.970366   \n",
       "4                                  9.925709   \n",
       "\n",
       "   secondary_cleaner.state.floatbank5_a_level  \\\n",
       "0                                 -498.310211   \n",
       "1                                 -500.169983   \n",
       "2                                 -500.129135   \n",
       "3                                 -499.201640   \n",
       "4                                 -501.686727   \n",
       "\n",
       "   secondary_cleaner.state.floatbank5_b_air  \\\n",
       "0                                  8.079666   \n",
       "1                                  7.984757   \n",
       "2                                  8.013877   \n",
       "3                                  7.977324   \n",
       "4                                  7.894242   \n",
       "\n",
       "   secondary_cleaner.state.floatbank5_b_level  \\\n",
       "0                                 -500.470978   \n",
       "1                                 -500.582168   \n",
       "2                                 -500.517572   \n",
       "3                                 -500.255908   \n",
       "4                                 -500.356035   \n",
       "\n",
       "   secondary_cleaner.state.floatbank6_a_air  \\\n",
       "0                                 14.151341   \n",
       "1                                 13.998353   \n",
       "2                                 14.028663   \n",
       "3                                 14.005551   \n",
       "4                                 13.996647   \n",
       "\n",
       "   secondary_cleaner.state.floatbank6_a_level  \n",
       "0                                 -605.841980  \n",
       "1                                 -599.787184  \n",
       "2                                 -601.427363  \n",
       "3                                 -599.996129  \n",
       "4                                 -601.496691  \n",
       "\n",
       "[5 rows x 87 columns]"
      ]
     },
     "execution_count": 45,
     "metadata": {},
     "output_type": "execute_result"
    }
   ],
   "source": [
    "data.head()"
   ]
  },
  {
   "cell_type": "code",
   "execution_count": 46,
   "metadata": {},
   "outputs": [
    {
     "data": {
      "text/html": [
       "<div>\n",
       "<style scoped>\n",
       "    .dataframe tbody tr th:only-of-type {\n",
       "        vertical-align: middle;\n",
       "    }\n",
       "\n",
       "    .dataframe tbody tr th {\n",
       "        vertical-align: top;\n",
       "    }\n",
       "\n",
       "    .dataframe thead th {\n",
       "        text-align: right;\n",
       "    }\n",
       "</style>\n",
       "<table border=\"1\" class=\"dataframe\">\n",
       "  <thead>\n",
       "    <tr style=\"text-align: right;\">\n",
       "      <th></th>\n",
       "      <th>date</th>\n",
       "      <th>primary_cleaner.input.sulfate</th>\n",
       "      <th>primary_cleaner.input.depressant</th>\n",
       "      <th>primary_cleaner.input.feed_size</th>\n",
       "      <th>primary_cleaner.input.xanthate</th>\n",
       "      <th>primary_cleaner.state.floatbank8_a_air</th>\n",
       "      <th>primary_cleaner.state.floatbank8_a_level</th>\n",
       "      <th>primary_cleaner.state.floatbank8_b_air</th>\n",
       "      <th>primary_cleaner.state.floatbank8_b_level</th>\n",
       "      <th>primary_cleaner.state.floatbank8_c_air</th>\n",
       "      <th>...</th>\n",
       "      <th>secondary_cleaner.state.floatbank4_a_air</th>\n",
       "      <th>secondary_cleaner.state.floatbank4_a_level</th>\n",
       "      <th>secondary_cleaner.state.floatbank4_b_air</th>\n",
       "      <th>secondary_cleaner.state.floatbank4_b_level</th>\n",
       "      <th>secondary_cleaner.state.floatbank5_a_air</th>\n",
       "      <th>secondary_cleaner.state.floatbank5_a_level</th>\n",
       "      <th>secondary_cleaner.state.floatbank5_b_air</th>\n",
       "      <th>secondary_cleaner.state.floatbank5_b_level</th>\n",
       "      <th>secondary_cleaner.state.floatbank6_a_air</th>\n",
       "      <th>secondary_cleaner.state.floatbank6_a_level</th>\n",
       "    </tr>\n",
       "  </thead>\n",
       "  <tbody>\n",
       "    <tr>\n",
       "      <th>0</th>\n",
       "      <td>2016-09-01 00:59:59</td>\n",
       "      <td>210.800909</td>\n",
       "      <td>14.993118</td>\n",
       "      <td>8.080000</td>\n",
       "      <td>1.005021</td>\n",
       "      <td>1398.981301</td>\n",
       "      <td>-500.225577</td>\n",
       "      <td>1399.144926</td>\n",
       "      <td>-499.919735</td>\n",
       "      <td>1400.102998</td>\n",
       "      <td>...</td>\n",
       "      <td>12.023554</td>\n",
       "      <td>-497.795834</td>\n",
       "      <td>8.016656</td>\n",
       "      <td>-501.289139</td>\n",
       "      <td>7.946562</td>\n",
       "      <td>-432.317850</td>\n",
       "      <td>4.872511</td>\n",
       "      <td>-500.037437</td>\n",
       "      <td>26.705889</td>\n",
       "      <td>-499.709414</td>\n",
       "    </tr>\n",
       "    <tr>\n",
       "      <th>1</th>\n",
       "      <td>2016-09-01 01:59:59</td>\n",
       "      <td>215.392455</td>\n",
       "      <td>14.987471</td>\n",
       "      <td>8.080000</td>\n",
       "      <td>0.990469</td>\n",
       "      <td>1398.777912</td>\n",
       "      <td>-500.057435</td>\n",
       "      <td>1398.055362</td>\n",
       "      <td>-499.778182</td>\n",
       "      <td>1396.151033</td>\n",
       "      <td>...</td>\n",
       "      <td>12.058140</td>\n",
       "      <td>-498.695773</td>\n",
       "      <td>8.130979</td>\n",
       "      <td>-499.634209</td>\n",
       "      <td>7.958270</td>\n",
       "      <td>-525.839648</td>\n",
       "      <td>4.878850</td>\n",
       "      <td>-500.162375</td>\n",
       "      <td>25.019940</td>\n",
       "      <td>-499.819438</td>\n",
       "    </tr>\n",
       "    <tr>\n",
       "      <th>2</th>\n",
       "      <td>2016-09-01 02:59:59</td>\n",
       "      <td>215.259946</td>\n",
       "      <td>12.884934</td>\n",
       "      <td>7.786667</td>\n",
       "      <td>0.996043</td>\n",
       "      <td>1398.493666</td>\n",
       "      <td>-500.868360</td>\n",
       "      <td>1398.860436</td>\n",
       "      <td>-499.764529</td>\n",
       "      <td>1398.075709</td>\n",
       "      <td>...</td>\n",
       "      <td>11.962366</td>\n",
       "      <td>-498.767484</td>\n",
       "      <td>8.096893</td>\n",
       "      <td>-500.827423</td>\n",
       "      <td>8.071056</td>\n",
       "      <td>-500.801673</td>\n",
       "      <td>4.905125</td>\n",
       "      <td>-499.828510</td>\n",
       "      <td>24.994862</td>\n",
       "      <td>-500.622559</td>\n",
       "    </tr>\n",
       "    <tr>\n",
       "      <th>3</th>\n",
       "      <td>2016-09-01 03:59:59</td>\n",
       "      <td>215.336236</td>\n",
       "      <td>12.006805</td>\n",
       "      <td>7.640000</td>\n",
       "      <td>0.863514</td>\n",
       "      <td>1399.618111</td>\n",
       "      <td>-498.863574</td>\n",
       "      <td>1397.440120</td>\n",
       "      <td>-499.211024</td>\n",
       "      <td>1400.129303</td>\n",
       "      <td>...</td>\n",
       "      <td>12.033091</td>\n",
       "      <td>-498.350935</td>\n",
       "      <td>8.074946</td>\n",
       "      <td>-499.474407</td>\n",
       "      <td>7.897085</td>\n",
       "      <td>-500.868509</td>\n",
       "      <td>4.931400</td>\n",
       "      <td>-499.963623</td>\n",
       "      <td>24.948919</td>\n",
       "      <td>-498.709987</td>\n",
       "    </tr>\n",
       "    <tr>\n",
       "      <th>4</th>\n",
       "      <td>2016-09-01 04:59:59</td>\n",
       "      <td>199.099327</td>\n",
       "      <td>10.682530</td>\n",
       "      <td>7.530000</td>\n",
       "      <td>0.805575</td>\n",
       "      <td>1401.268123</td>\n",
       "      <td>-500.808305</td>\n",
       "      <td>1398.128818</td>\n",
       "      <td>-499.504543</td>\n",
       "      <td>1402.172226</td>\n",
       "      <td>...</td>\n",
       "      <td>12.025367</td>\n",
       "      <td>-500.786497</td>\n",
       "      <td>8.054678</td>\n",
       "      <td>-500.397500</td>\n",
       "      <td>8.107890</td>\n",
       "      <td>-509.526725</td>\n",
       "      <td>4.957674</td>\n",
       "      <td>-500.360026</td>\n",
       "      <td>25.003331</td>\n",
       "      <td>-500.856333</td>\n",
       "    </tr>\n",
       "  </tbody>\n",
       "</table>\n",
       "<p>5 rows × 53 columns</p>\n",
       "</div>"
      ],
      "text/plain": [
       "                  date  primary_cleaner.input.sulfate  \\\n",
       "0  2016-09-01 00:59:59                     210.800909   \n",
       "1  2016-09-01 01:59:59                     215.392455   \n",
       "2  2016-09-01 02:59:59                     215.259946   \n",
       "3  2016-09-01 03:59:59                     215.336236   \n",
       "4  2016-09-01 04:59:59                     199.099327   \n",
       "\n",
       "   primary_cleaner.input.depressant  primary_cleaner.input.feed_size  \\\n",
       "0                         14.993118                         8.080000   \n",
       "1                         14.987471                         8.080000   \n",
       "2                         12.884934                         7.786667   \n",
       "3                         12.006805                         7.640000   \n",
       "4                         10.682530                         7.530000   \n",
       "\n",
       "   primary_cleaner.input.xanthate  primary_cleaner.state.floatbank8_a_air  \\\n",
       "0                        1.005021                             1398.981301   \n",
       "1                        0.990469                             1398.777912   \n",
       "2                        0.996043                             1398.493666   \n",
       "3                        0.863514                             1399.618111   \n",
       "4                        0.805575                             1401.268123   \n",
       "\n",
       "   primary_cleaner.state.floatbank8_a_level  \\\n",
       "0                               -500.225577   \n",
       "1                               -500.057435   \n",
       "2                               -500.868360   \n",
       "3                               -498.863574   \n",
       "4                               -500.808305   \n",
       "\n",
       "   primary_cleaner.state.floatbank8_b_air  \\\n",
       "0                             1399.144926   \n",
       "1                             1398.055362   \n",
       "2                             1398.860436   \n",
       "3                             1397.440120   \n",
       "4                             1398.128818   \n",
       "\n",
       "   primary_cleaner.state.floatbank8_b_level  \\\n",
       "0                               -499.919735   \n",
       "1                               -499.778182   \n",
       "2                               -499.764529   \n",
       "3                               -499.211024   \n",
       "4                               -499.504543   \n",
       "\n",
       "   primary_cleaner.state.floatbank8_c_air  ...  \\\n",
       "0                             1400.102998  ...   \n",
       "1                             1396.151033  ...   \n",
       "2                             1398.075709  ...   \n",
       "3                             1400.129303  ...   \n",
       "4                             1402.172226  ...   \n",
       "\n",
       "   secondary_cleaner.state.floatbank4_a_air  \\\n",
       "0                                 12.023554   \n",
       "1                                 12.058140   \n",
       "2                                 11.962366   \n",
       "3                                 12.033091   \n",
       "4                                 12.025367   \n",
       "\n",
       "   secondary_cleaner.state.floatbank4_a_level  \\\n",
       "0                                 -497.795834   \n",
       "1                                 -498.695773   \n",
       "2                                 -498.767484   \n",
       "3                                 -498.350935   \n",
       "4                                 -500.786497   \n",
       "\n",
       "   secondary_cleaner.state.floatbank4_b_air  \\\n",
       "0                                  8.016656   \n",
       "1                                  8.130979   \n",
       "2                                  8.096893   \n",
       "3                                  8.074946   \n",
       "4                                  8.054678   \n",
       "\n",
       "   secondary_cleaner.state.floatbank4_b_level  \\\n",
       "0                                 -501.289139   \n",
       "1                                 -499.634209   \n",
       "2                                 -500.827423   \n",
       "3                                 -499.474407   \n",
       "4                                 -500.397500   \n",
       "\n",
       "   secondary_cleaner.state.floatbank5_a_air  \\\n",
       "0                                  7.946562   \n",
       "1                                  7.958270   \n",
       "2                                  8.071056   \n",
       "3                                  7.897085   \n",
       "4                                  8.107890   \n",
       "\n",
       "   secondary_cleaner.state.floatbank5_a_level  \\\n",
       "0                                 -432.317850   \n",
       "1                                 -525.839648   \n",
       "2                                 -500.801673   \n",
       "3                                 -500.868509   \n",
       "4                                 -509.526725   \n",
       "\n",
       "   secondary_cleaner.state.floatbank5_b_air  \\\n",
       "0                                  4.872511   \n",
       "1                                  4.878850   \n",
       "2                                  4.905125   \n",
       "3                                  4.931400   \n",
       "4                                  4.957674   \n",
       "\n",
       "   secondary_cleaner.state.floatbank5_b_level  \\\n",
       "0                                 -500.037437   \n",
       "1                                 -500.162375   \n",
       "2                                 -499.828510   \n",
       "3                                 -499.963623   \n",
       "4                                 -500.360026   \n",
       "\n",
       "   secondary_cleaner.state.floatbank6_a_air  \\\n",
       "0                                 26.705889   \n",
       "1                                 25.019940   \n",
       "2                                 24.994862   \n",
       "3                                 24.948919   \n",
       "4                                 25.003331   \n",
       "\n",
       "   secondary_cleaner.state.floatbank6_a_level  \n",
       "0                                 -499.709414  \n",
       "1                                 -499.819438  \n",
       "2                                 -500.622559  \n",
       "3                                 -498.709987  \n",
       "4                                 -500.856333  \n",
       "\n",
       "[5 rows x 53 columns]"
      ]
     },
     "execution_count": 46,
     "metadata": {},
     "output_type": "execute_result"
    }
   ],
   "source": [
    "test_data.head()"
   ]
  },
  {
   "cell_type": "code",
   "execution_count": 47,
   "metadata": {},
   "outputs": [
    {
     "data": {
      "text/html": [
       "<div>\n",
       "<style scoped>\n",
       "    .dataframe tbody tr th:only-of-type {\n",
       "        vertical-align: middle;\n",
       "    }\n",
       "\n",
       "    .dataframe tbody tr th {\n",
       "        vertical-align: top;\n",
       "    }\n",
       "\n",
       "    .dataframe thead th {\n",
       "        text-align: right;\n",
       "    }\n",
       "</style>\n",
       "<table border=\"1\" class=\"dataframe\">\n",
       "  <thead>\n",
       "    <tr style=\"text-align: right;\">\n",
       "      <th></th>\n",
       "      <th>date</th>\n",
       "      <th>final.output.concentrate_ag</th>\n",
       "      <th>final.output.concentrate_pb</th>\n",
       "      <th>final.output.concentrate_sol</th>\n",
       "      <th>final.output.concentrate_au</th>\n",
       "      <th>final.output.recovery</th>\n",
       "      <th>final.output.tail_ag</th>\n",
       "      <th>final.output.tail_pb</th>\n",
       "      <th>final.output.tail_sol</th>\n",
       "      <th>final.output.tail_au</th>\n",
       "      <th>...</th>\n",
       "      <th>secondary_cleaner.state.floatbank4_a_air</th>\n",
       "      <th>secondary_cleaner.state.floatbank4_a_level</th>\n",
       "      <th>secondary_cleaner.state.floatbank4_b_air</th>\n",
       "      <th>secondary_cleaner.state.floatbank4_b_level</th>\n",
       "      <th>secondary_cleaner.state.floatbank5_a_air</th>\n",
       "      <th>secondary_cleaner.state.floatbank5_a_level</th>\n",
       "      <th>secondary_cleaner.state.floatbank5_b_air</th>\n",
       "      <th>secondary_cleaner.state.floatbank5_b_level</th>\n",
       "      <th>secondary_cleaner.state.floatbank6_a_air</th>\n",
       "      <th>secondary_cleaner.state.floatbank6_a_level</th>\n",
       "    </tr>\n",
       "  </thead>\n",
       "  <tbody>\n",
       "    <tr>\n",
       "      <th>0</th>\n",
       "      <td>2016-01-15 00:00:00</td>\n",
       "      <td>6.055403</td>\n",
       "      <td>9.889648</td>\n",
       "      <td>5.507324</td>\n",
       "      <td>42.192020</td>\n",
       "      <td>70.541216</td>\n",
       "      <td>10.411962</td>\n",
       "      <td>0.895447</td>\n",
       "      <td>16.904297</td>\n",
       "      <td>2.143149</td>\n",
       "      <td>...</td>\n",
       "      <td>14.016835</td>\n",
       "      <td>-502.488007</td>\n",
       "      <td>12.099931</td>\n",
       "      <td>-504.715942</td>\n",
       "      <td>9.925633</td>\n",
       "      <td>-498.310211</td>\n",
       "      <td>8.079666</td>\n",
       "      <td>-500.470978</td>\n",
       "      <td>14.151341</td>\n",
       "      <td>-605.841980</td>\n",
       "    </tr>\n",
       "    <tr>\n",
       "      <th>1</th>\n",
       "      <td>2016-01-15 01:00:00</td>\n",
       "      <td>6.029369</td>\n",
       "      <td>9.968944</td>\n",
       "      <td>5.257781</td>\n",
       "      <td>42.701629</td>\n",
       "      <td>69.266198</td>\n",
       "      <td>10.462676</td>\n",
       "      <td>0.927452</td>\n",
       "      <td>16.634514</td>\n",
       "      <td>2.224930</td>\n",
       "      <td>...</td>\n",
       "      <td>13.992281</td>\n",
       "      <td>-505.503262</td>\n",
       "      <td>11.950531</td>\n",
       "      <td>-501.331529</td>\n",
       "      <td>10.039245</td>\n",
       "      <td>-500.169983</td>\n",
       "      <td>7.984757</td>\n",
       "      <td>-500.582168</td>\n",
       "      <td>13.998353</td>\n",
       "      <td>-599.787184</td>\n",
       "    </tr>\n",
       "    <tr>\n",
       "      <th>2</th>\n",
       "      <td>2016-01-15 02:00:00</td>\n",
       "      <td>6.055926</td>\n",
       "      <td>10.213995</td>\n",
       "      <td>5.383759</td>\n",
       "      <td>42.657501</td>\n",
       "      <td>68.116445</td>\n",
       "      <td>10.507046</td>\n",
       "      <td>0.953716</td>\n",
       "      <td>16.208849</td>\n",
       "      <td>2.257889</td>\n",
       "      <td>...</td>\n",
       "      <td>14.015015</td>\n",
       "      <td>-502.520901</td>\n",
       "      <td>11.912783</td>\n",
       "      <td>-501.133383</td>\n",
       "      <td>10.070913</td>\n",
       "      <td>-500.129135</td>\n",
       "      <td>8.013877</td>\n",
       "      <td>-500.517572</td>\n",
       "      <td>14.028663</td>\n",
       "      <td>-601.427363</td>\n",
       "    </tr>\n",
       "    <tr>\n",
       "      <th>3</th>\n",
       "      <td>2016-01-15 03:00:00</td>\n",
       "      <td>6.047977</td>\n",
       "      <td>9.977019</td>\n",
       "      <td>4.858634</td>\n",
       "      <td>42.689819</td>\n",
       "      <td>68.347543</td>\n",
       "      <td>10.422762</td>\n",
       "      <td>0.883763</td>\n",
       "      <td>16.532835</td>\n",
       "      <td>2.146849</td>\n",
       "      <td>...</td>\n",
       "      <td>14.036510</td>\n",
       "      <td>-500.857308</td>\n",
       "      <td>11.999550</td>\n",
       "      <td>-501.193686</td>\n",
       "      <td>9.970366</td>\n",
       "      <td>-499.201640</td>\n",
       "      <td>7.977324</td>\n",
       "      <td>-500.255908</td>\n",
       "      <td>14.005551</td>\n",
       "      <td>-599.996129</td>\n",
       "    </tr>\n",
       "    <tr>\n",
       "      <th>4</th>\n",
       "      <td>2016-01-15 04:00:00</td>\n",
       "      <td>6.148599</td>\n",
       "      <td>10.142511</td>\n",
       "      <td>4.939416</td>\n",
       "      <td>42.774141</td>\n",
       "      <td>66.927016</td>\n",
       "      <td>10.360302</td>\n",
       "      <td>0.792826</td>\n",
       "      <td>16.525686</td>\n",
       "      <td>2.055292</td>\n",
       "      <td>...</td>\n",
       "      <td>14.027298</td>\n",
       "      <td>-499.838632</td>\n",
       "      <td>11.953070</td>\n",
       "      <td>-501.053894</td>\n",
       "      <td>9.925709</td>\n",
       "      <td>-501.686727</td>\n",
       "      <td>7.894242</td>\n",
       "      <td>-500.356035</td>\n",
       "      <td>13.996647</td>\n",
       "      <td>-601.496691</td>\n",
       "    </tr>\n",
       "  </tbody>\n",
       "</table>\n",
       "<p>5 rows × 87 columns</p>\n",
       "</div>"
      ],
      "text/plain": [
       "                  date  final.output.concentrate_ag  \\\n",
       "0  2016-01-15 00:00:00                     6.055403   \n",
       "1  2016-01-15 01:00:00                     6.029369   \n",
       "2  2016-01-15 02:00:00                     6.055926   \n",
       "3  2016-01-15 03:00:00                     6.047977   \n",
       "4  2016-01-15 04:00:00                     6.148599   \n",
       "\n",
       "   final.output.concentrate_pb  final.output.concentrate_sol  \\\n",
       "0                     9.889648                      5.507324   \n",
       "1                     9.968944                      5.257781   \n",
       "2                    10.213995                      5.383759   \n",
       "3                     9.977019                      4.858634   \n",
       "4                    10.142511                      4.939416   \n",
       "\n",
       "   final.output.concentrate_au  final.output.recovery  final.output.tail_ag  \\\n",
       "0                    42.192020              70.541216             10.411962   \n",
       "1                    42.701629              69.266198             10.462676   \n",
       "2                    42.657501              68.116445             10.507046   \n",
       "3                    42.689819              68.347543             10.422762   \n",
       "4                    42.774141              66.927016             10.360302   \n",
       "\n",
       "   final.output.tail_pb  final.output.tail_sol  final.output.tail_au  ...  \\\n",
       "0              0.895447              16.904297              2.143149  ...   \n",
       "1              0.927452              16.634514              2.224930  ...   \n",
       "2              0.953716              16.208849              2.257889  ...   \n",
       "3              0.883763              16.532835              2.146849  ...   \n",
       "4              0.792826              16.525686              2.055292  ...   \n",
       "\n",
       "   secondary_cleaner.state.floatbank4_a_air  \\\n",
       "0                                 14.016835   \n",
       "1                                 13.992281   \n",
       "2                                 14.015015   \n",
       "3                                 14.036510   \n",
       "4                                 14.027298   \n",
       "\n",
       "   secondary_cleaner.state.floatbank4_a_level  \\\n",
       "0                                 -502.488007   \n",
       "1                                 -505.503262   \n",
       "2                                 -502.520901   \n",
       "3                                 -500.857308   \n",
       "4                                 -499.838632   \n",
       "\n",
       "   secondary_cleaner.state.floatbank4_b_air  \\\n",
       "0                                 12.099931   \n",
       "1                                 11.950531   \n",
       "2                                 11.912783   \n",
       "3                                 11.999550   \n",
       "4                                 11.953070   \n",
       "\n",
       "   secondary_cleaner.state.floatbank4_b_level  \\\n",
       "0                                 -504.715942   \n",
       "1                                 -501.331529   \n",
       "2                                 -501.133383   \n",
       "3                                 -501.193686   \n",
       "4                                 -501.053894   \n",
       "\n",
       "   secondary_cleaner.state.floatbank5_a_air  \\\n",
       "0                                  9.925633   \n",
       "1                                 10.039245   \n",
       "2                                 10.070913   \n",
       "3                                  9.970366   \n",
       "4                                  9.925709   \n",
       "\n",
       "   secondary_cleaner.state.floatbank5_a_level  \\\n",
       "0                                 -498.310211   \n",
       "1                                 -500.169983   \n",
       "2                                 -500.129135   \n",
       "3                                 -499.201640   \n",
       "4                                 -501.686727   \n",
       "\n",
       "   secondary_cleaner.state.floatbank5_b_air  \\\n",
       "0                                  8.079666   \n",
       "1                                  7.984757   \n",
       "2                                  8.013877   \n",
       "3                                  7.977324   \n",
       "4                                  7.894242   \n",
       "\n",
       "   secondary_cleaner.state.floatbank5_b_level  \\\n",
       "0                                 -500.470978   \n",
       "1                                 -500.582168   \n",
       "2                                 -500.517572   \n",
       "3                                 -500.255908   \n",
       "4                                 -500.356035   \n",
       "\n",
       "   secondary_cleaner.state.floatbank6_a_air  \\\n",
       "0                                 14.151341   \n",
       "1                                 13.998353   \n",
       "2                                 14.028663   \n",
       "3                                 14.005551   \n",
       "4                                 13.996647   \n",
       "\n",
       "   secondary_cleaner.state.floatbank6_a_level  \n",
       "0                                 -605.841980  \n",
       "1                                 -599.787184  \n",
       "2                                 -601.427363  \n",
       "3                                 -599.996129  \n",
       "4                                 -601.496691  \n",
       "\n",
       "[5 rows x 87 columns]"
      ]
     },
     "execution_count": 47,
     "metadata": {},
     "output_type": "execute_result"
    }
   ],
   "source": [
    "train_data.head()"
   ]
  },
  {
   "cell_type": "code",
   "execution_count": 48,
   "metadata": {},
   "outputs": [
    {
     "data": {
      "text/plain": [
       "date                                            0\n",
       "final.output.concentrate_ag                     1\n",
       "final.output.concentrate_pb                     1\n",
       "final.output.concentrate_sol                  211\n",
       "final.output.concentrate_au                     0\n",
       "                                             ... \n",
       "secondary_cleaner.state.floatbank5_a_level      1\n",
       "secondary_cleaner.state.floatbank5_b_air        1\n",
       "secondary_cleaner.state.floatbank5_b_level      1\n",
       "secondary_cleaner.state.floatbank6_a_air        2\n",
       "secondary_cleaner.state.floatbank6_a_level      1\n",
       "Length: 87, dtype: int64"
      ]
     },
     "execution_count": 48,
     "metadata": {},
     "output_type": "execute_result"
    }
   ],
   "source": [
    "data.isna().sum()"
   ]
  },
  {
   "cell_type": "code",
   "execution_count": 49,
   "metadata": {
    "scrolled": true
   },
   "outputs": [
    {
     "data": {
      "text/plain": [
       "date                                           0\n",
       "primary_cleaner.input.sulfate                  4\n",
       "primary_cleaner.input.depressant               5\n",
       "primary_cleaner.input.feed_size                0\n",
       "primary_cleaner.input.xanthate                 4\n",
       "primary_cleaner.state.floatbank8_a_air         0\n",
       "primary_cleaner.state.floatbank8_a_level       0\n",
       "primary_cleaner.state.floatbank8_b_air         0\n",
       "primary_cleaner.state.floatbank8_b_level       0\n",
       "primary_cleaner.state.floatbank8_c_air         0\n",
       "primary_cleaner.state.floatbank8_c_level       0\n",
       "primary_cleaner.state.floatbank8_d_air         0\n",
       "primary_cleaner.state.floatbank8_d_level       0\n",
       "rougher.input.feed_ag                          0\n",
       "rougher.input.feed_pb                          0\n",
       "rougher.input.feed_rate                        3\n",
       "rougher.input.feed_size                        1\n",
       "rougher.input.feed_sol                        21\n",
       "rougher.input.feed_au                          0\n",
       "rougher.input.floatbank10_sulfate              5\n",
       "rougher.input.floatbank10_xanthate             0\n",
       "rougher.input.floatbank11_sulfate              8\n",
       "rougher.input.floatbank11_xanthate            25\n",
       "rougher.state.floatbank10_a_air                0\n",
       "rougher.state.floatbank10_a_level              0\n",
       "rougher.state.floatbank10_b_air                0\n",
       "rougher.state.floatbank10_b_level              0\n",
       "rougher.state.floatbank10_c_air                0\n",
       "rougher.state.floatbank10_c_level              0\n",
       "rougher.state.floatbank10_d_air                0\n",
       "rougher.state.floatbank10_d_level              0\n",
       "rougher.state.floatbank10_e_air                0\n",
       "rougher.state.floatbank10_e_level              0\n",
       "rougher.state.floatbank10_f_air                0\n",
       "rougher.state.floatbank10_f_level              0\n",
       "secondary_cleaner.state.floatbank2_a_air       3\n",
       "secondary_cleaner.state.floatbank2_a_level     0\n",
       "secondary_cleaner.state.floatbank2_b_air       2\n",
       "secondary_cleaner.state.floatbank2_b_level     0\n",
       "secondary_cleaner.state.floatbank3_a_air       9\n",
       "secondary_cleaner.state.floatbank3_a_level     0\n",
       "secondary_cleaner.state.floatbank3_b_air       0\n",
       "secondary_cleaner.state.floatbank3_b_level     0\n",
       "secondary_cleaner.state.floatbank4_a_air       0\n",
       "secondary_cleaner.state.floatbank4_a_level     0\n",
       "secondary_cleaner.state.floatbank4_b_air       0\n",
       "secondary_cleaner.state.floatbank4_b_level     0\n",
       "secondary_cleaner.state.floatbank5_a_air       0\n",
       "secondary_cleaner.state.floatbank5_a_level     0\n",
       "secondary_cleaner.state.floatbank5_b_air       0\n",
       "secondary_cleaner.state.floatbank5_b_level     0\n",
       "secondary_cleaner.state.floatbank6_a_air       0\n",
       "secondary_cleaner.state.floatbank6_a_level     0\n",
       "dtype: int64"
      ]
     },
     "execution_count": 49,
     "metadata": {},
     "output_type": "execute_result"
    }
   ],
   "source": [
    "test_data.isna().sum()"
   ]
  },
  {
   "cell_type": "code",
   "execution_count": 50,
   "metadata": {},
   "outputs": [
    {
     "data": {
      "text/plain": [
       "date                                            0\n",
       "final.output.concentrate_ag                     1\n",
       "final.output.concentrate_pb                     1\n",
       "final.output.concentrate_sol                  211\n",
       "final.output.concentrate_au                     0\n",
       "                                             ... \n",
       "secondary_cleaner.state.floatbank5_a_level      1\n",
       "secondary_cleaner.state.floatbank5_b_air        1\n",
       "secondary_cleaner.state.floatbank5_b_level      1\n",
       "secondary_cleaner.state.floatbank6_a_air        2\n",
       "secondary_cleaner.state.floatbank6_a_level      1\n",
       "Length: 87, dtype: int64"
      ]
     },
     "execution_count": 50,
     "metadata": {},
     "output_type": "execute_result"
    }
   ],
   "source": [
    "train_data.isna().sum()"
   ]
  },
  {
   "cell_type": "markdown",
   "metadata": {},
   "source": [
    "Пропуски есть. Из-за множества столбцов сложно оценить их объем. Лучше их все посчитать."
   ]
  },
  {
   "cell_type": "code",
   "execution_count": 51,
   "metadata": {},
   "outputs": [
    {
     "name": "stdout",
     "output_type": "stream",
     "text": [
      "Пропуски в data: 4481\n",
      "Пропуски в test_data: 90\n",
      "Пропуски в train_data: 4100\n"
     ]
    }
   ],
   "source": [
    "print('Пропуски в data:', data.isna().sum().sum())\n",
    "print('Пропуски в test_data:', test_data.isna().sum().sum())\n",
    "print('Пропуски в train_data:', train_data.isna().sum().sum())"
   ]
  },
  {
   "cell_type": "markdown",
   "metadata": {},
   "source": [
    "Теперь проверим на дубликаты."
   ]
  },
  {
   "cell_type": "code",
   "execution_count": 52,
   "metadata": {},
   "outputs": [
    {
     "name": "stdout",
     "output_type": "stream",
     "text": [
      "Дубликаты в data: 0\n",
      "Дубликаты в test_data: 0\n",
      "Дубликаты в train_data: 0\n"
     ]
    }
   ],
   "source": [
    "print('Дубликаты в data:', data.duplicated().sum())\n",
    "print('Дубликаты в test_data:', test_data.duplicated().sum())\n",
    "print('Дубликаты в train_data:', train_data.duplicated().sum())"
   ]
  },
  {
   "cell_type": "markdown",
   "metadata": {},
   "source": [
    "Дубликатов в проекте нет, а вот пропусков довольно много.\n",
    "Теперь вычислим эффективность обогащения  на обучающей выборке для признака rougher.output.recovery."
   ]
  },
  {
   "cell_type": "code",
   "execution_count": 53,
   "metadata": {},
   "outputs": [],
   "source": [
    "formula = ((train_data['rougher.output.concentrate_au']*(train_data['rougher.input.feed_au']-train_data['rougher.output.tail_au'])) / (train_data['rougher.input.feed_au']*(train_data['rougher.output.concentrate_au']-train_data['rougher.output.tail_au'])))*100"
   ]
  },
  {
   "cell_type": "markdown",
   "metadata": {},
   "source": [
    "Проверим MAE."
   ]
  },
  {
   "cell_type": "code",
   "execution_count": 54,
   "metadata": {},
   "outputs": [
    {
     "data": {
      "text/plain": [
       "9.73512347450521e-15"
      ]
     },
     "execution_count": 54,
     "metadata": {},
     "output_type": "execute_result"
    }
   ],
   "source": [
    "mae = mean_absolute_error(train_data['rougher.output.recovery'],formula)\n",
    "mae"
   ]
  },
  {
   "cell_type": "markdown",
   "metadata": {},
   "source": [
    "Значение ошибки совсем небольшое. Расчеты произведены верно.\n",
    "\n",
    "Теперь проанализируем признаки, недоступные в тестовой выборке. Для этого применим метод difference."
   ]
  },
  {
   "cell_type": "code",
   "execution_count": 55,
   "metadata": {},
   "outputs": [
    {
     "data": {
      "text/plain": [
       "Index(['final.output.concentrate_ag', 'final.output.concentrate_au',\n",
       "       'final.output.concentrate_pb', 'final.output.concentrate_sol',\n",
       "       'final.output.recovery', 'final.output.tail_ag', 'final.output.tail_au',\n",
       "       'final.output.tail_pb', 'final.output.tail_sol',\n",
       "       'primary_cleaner.output.concentrate_ag',\n",
       "       'primary_cleaner.output.concentrate_au',\n",
       "       'primary_cleaner.output.concentrate_pb',\n",
       "       'primary_cleaner.output.concentrate_sol',\n",
       "       'primary_cleaner.output.tail_ag', 'primary_cleaner.output.tail_au',\n",
       "       'primary_cleaner.output.tail_pb', 'primary_cleaner.output.tail_sol',\n",
       "       'rougher.calculation.au_pb_ratio',\n",
       "       'rougher.calculation.floatbank10_sulfate_to_au_feed',\n",
       "       'rougher.calculation.floatbank11_sulfate_to_au_feed',\n",
       "       'rougher.calculation.sulfate_to_au_concentrate',\n",
       "       'rougher.output.concentrate_ag', 'rougher.output.concentrate_au',\n",
       "       'rougher.output.concentrate_pb', 'rougher.output.concentrate_sol',\n",
       "       'rougher.output.recovery', 'rougher.output.tail_ag',\n",
       "       'rougher.output.tail_au', 'rougher.output.tail_pb',\n",
       "       'rougher.output.tail_sol', 'secondary_cleaner.output.tail_ag',\n",
       "       'secondary_cleaner.output.tail_au', 'secondary_cleaner.output.tail_pb',\n",
       "       'secondary_cleaner.output.tail_sol'],\n",
       "      dtype='object')"
      ]
     },
     "execution_count": 55,
     "metadata": {},
     "output_type": "execute_result"
    }
   ],
   "source": [
    "train_columns = train_data.columns\n",
    "test_columns = test_data.columns\n",
    "resalt = train_columns.difference(test_columns)\n",
    "resalt"
   ]
  },
  {
   "cell_type": "markdown",
   "metadata": {},
   "source": [
    "Чтож, перечень столбцов, отсутствующих в тестовом датасете достаточно велик. \n",
    "Для начала добавим в тестовую выборку нужные нам столбцы.И удалим ненужные столбцы из обучающей.\n",
    "Пропуски заполним средним значением по столбцу. "
   ]
  },
  {
   "cell_type": "code",
   "execution_count": 56,
   "metadata": {},
   "outputs": [],
   "source": [
    "data_target_test = data[['date','rougher.output.recovery', 'final.output.recovery']]\n",
    "test_data = test_data.merge(data_target_test, how='left', on='date')"
   ]
  },
  {
   "cell_type": "code",
   "execution_count": 57,
   "metadata": {},
   "outputs": [],
   "source": [
    "train_data = train_data[test_data.columns]"
   ]
  },
  {
   "cell_type": "code",
   "execution_count": 58,
   "metadata": {},
   "outputs": [],
   "source": [
    "data = data.fillna(method=\"bfill\")\n",
    "test_data = test_data.fillna(method=\"bfill\")\n",
    "train_data = train_data.fillna(method=\"bfill\")"
   ]
  },
  {
   "cell_type": "markdown",
   "metadata": {},
   "source": [
    "Обнулим индексы."
   ]
  },
  {
   "cell_type": "code",
   "execution_count": 59,
   "metadata": {},
   "outputs": [],
   "source": [
    "data.reset_index(drop= True , inplace= True )\n",
    "test_data.reset_index(drop= True , inplace= True )\n",
    "train_data.reset_index(drop= True , inplace= True )"
   ]
  },
  {
   "cell_type": "markdown",
   "metadata": {},
   "source": [
    "И для удобства работы с данными все '.' в названиях столбцов заменим на '_'"
   ]
  },
  {
   "cell_type": "code",
   "execution_count": 60,
   "metadata": {},
   "outputs": [],
   "source": [
    "data.columns = data.columns.str.replace('.', '_')\n",
    "test_data.columns = test_data.columns.str.replace('.', '_')\n",
    "train_data.columns = train_data.columns.str.replace('.', '_')"
   ]
  },
  {
   "cell_type": "markdown",
   "metadata": {},
   "source": [
    "## Анализ данных"
   ]
  },
  {
   "cell_type": "markdown",
   "metadata": {},
   "source": [
    "Напишем функцию, которая выводит распределение средних значений концетрации металлов на различных этапах обработки.\n",
    "Для наглядности в построении графика применим к разным этапам разработки следующие цвета:\n",
    "- <font color='red'>красный</font> : концентрация до флотрации.\n",
    "- <font color='cyan'>голубой</font> : концентрация после флотрации.\n",
    "- <font color='magenta'>фиолетовый</font> : первичная очистка.\n",
    "- <font color='olivedrab'>оливковый</font> : вторичная очистка."
   ]
  },
  {
   "cell_type": "code",
   "execution_count": 61,
   "metadata": {},
   "outputs": [],
   "source": [
    "def concentration_plot(columns, title_name):\n",
    "    colors = ['red', 'cyan', 'magenta', 'olivedrab']\n",
    "    plt.figure(figsize=(17,5))\n",
    "    for i in range(len(columns)):\n",
    "        sns.distplot(data[columns[i]], hist = False, kde = True, color=colors[i]).set(xlabel='Среднее значение', \n",
    "                                                                   ylabel='Плотность частоты', title=title_name);  \n",
    "    plt.legend(bbox_to_anchor=( 1.02 , 1 ), loc='upper left', borderaxespad= 0, labels=[\"концентрация до флотрации\",\"концентрация после флотрации\",\"первичная очистка\",\"вторичная очистка\"])"
   ]
  },
  {
   "cell_type": "code",
   "execution_count": 62,
   "metadata": {},
   "outputs": [
    {
     "data": {
      "image/png": "[encoded data removed]",
      "text/plain": [
       "<Figure size 1224x360 with 1 Axes>"
      ]
     },
     "metadata": {
      "needs_background": "light"
     },
     "output_type": "display_data"
    }
   ],
   "source": [
    "concentration_plot(['rougher_input_feed_au' ,  \n",
    "                    'rougher_output_concentrate_au',  \n",
    "                    'primary_cleaner_output_concentrate_au',  \n",
    "                    'final_output_concentrate_au'], \n",
    "                    'Концентрация золота на различных этапах фильтрации.')"
   ]
  },
  {
   "cell_type": "markdown",
   "metadata": {},
   "source": [
    "Тут все максимально упорядоченно. С каждым новым этапом очистки концентрация золота растет. \n",
    "\n",
    "Посмотрим на серебро."
   ]
  },
  {
   "cell_type": "code",
   "execution_count": 63,
   "metadata": {},
   "outputs": [
    {
     "data": {
      "image/png": "[encoded data removed]",
      "text/plain": [
       "<Figure size 1224x360 with 1 Axes>"
      ]
     },
     "metadata": {
      "needs_background": "light"
     },
     "output_type": "display_data"
    }
   ],
   "source": [
    "concentration_plot(['rougher_input_feed_ag', \n",
    "                    'rougher_output_concentrate_ag', \n",
    "                    'primary_cleaner_output_concentrate_ag', \n",
    "                    'final_output_concentrate_ag'], \n",
    "                    'Концентрация серебра на различных этапах фильтрации.')"
   ]
  },
  {
   "cell_type": "markdown",
   "metadata": {},
   "source": [
    "С серебром не все так однозначно. Показатели до флотрации и после первичной очистки очень схожи. А вот после вторичной очистки показатели минимальны. Самая большая консентрация серебра наблюдается после флотрации.\n",
    "\n",
    "Переходим к свинцу."
   ]
  },
  {
   "cell_type": "code",
   "execution_count": 64,
   "metadata": {},
   "outputs": [
    {
     "data": {
      "image/png": "[encoded data removed]",
      "text/plain": [
       "<Figure size 1224x360 with 1 Axes>"
      ]
     },
     "metadata": {
      "needs_background": "light"
     },
     "output_type": "display_data"
    }
   ],
   "source": [
    "concentration_plot(['rougher_input_feed_pb', \n",
    "                    'rougher_output_concentrate_pb', \n",
    "                    'primary_cleaner_output_concentrate_pb', \n",
    "                    'final_output_concentrate_pb'], \n",
    "                    'Концентрация свинца на различных этапах фильтрации.')"
   ]
  },
  {
   "cell_type": "markdown",
   "metadata": {},
   "source": [
    "Минимальные значения наблюдаются до флотрации. После флотрации показатели заметно вырастают. Первичная очистка дает еще один прирост. А вот вторичная очистка показатели по концентрации практически не меняет, но увеличивается плотность частоты встречаемых значений."
   ]
  },
  {
   "cell_type": "markdown",
   "metadata": {},
   "source": [
    "Дальше сравним распределение размеров гранул сырья на обучающей и тестовой выборках."
   ]
  },
  {
   "cell_type": "code",
   "execution_count": 65,
   "metadata": {},
   "outputs": [
    {
     "data": {
      "image/png": "[encoded data removed]",
      "text/plain": [
       "<Figure size 1224x360 with 1 Axes>"
      ]
     },
     "metadata": {
      "needs_background": "light"
     },
     "output_type": "display_data"
    }
   ],
   "source": [
    "plt.figure(figsize=(17,5))\n",
    "\n",
    "sns.kdeplot(data=train_data,x = 'rougher_input_feed_size')\n",
    "sns.kdeplot(data=test_data,x = 'rougher_input_feed_size')\n",
    "\n",
    "plt.legend(loc='upper right', labels=[\"обучающая выборка\",\"тестовая выборка\"])\n",
    "plt.title('Сравнение распределения размеров гранул')\n",
    "plt.xlabel('Размер гранул')\n",
    "plt.ylabel('Плотность')\n",
    "plt.show()"
   ]
  },
  {
   "cell_type": "markdown",
   "metadata": {},
   "source": [
    "Отлично! Размер гранул практически идентичный. Можно продолжать исследование.\n",
    "\n",
    "Посмотрим на суммарную концентрацию всех веществ на разных стадиях: в сырье, в черновом и финальном концентратах. "
   ]
  },
  {
   "cell_type": "code",
   "execution_count": 66,
   "metadata": {},
   "outputs": [
    {
     "data": {
      "image/png": "[encoded data removed]",
      "text/plain": [
       "<Figure size 1224x360 with 1 Axes>"
      ]
     },
     "metadata": {
      "needs_background": "light"
     },
     "output_type": "display_data"
    }
   ],
   "source": [
    "rougher_input = data['rougher_input_feed_ag']+data['rougher_input_feed_au']+data['rougher_input_feed_pb']+data['rougher_input_feed_sol']\n",
    "\n",
    "rougher_input.plot(y = 'summary_rougher_input_feed_',kind='hist', bins = 50, figsize=(17,5), color='red')\n",
    "\n",
    "plt.title('Суммарная концентрация всех веществ до флотрации')\n",
    "plt.xlabel('Содержание вещества')\n",
    "plt.ylabel('Частота')\n",
    "plt.show()\n"
   ]
  },
  {
   "cell_type": "code",
   "execution_count": 67,
   "metadata": {},
   "outputs": [
    {
     "data": {
      "image/png": "[encoded data removed]",
      "text/plain": [
       "<Figure size 1224x360 with 1 Axes>"
      ]
     },
     "metadata": {
      "needs_background": "light"
     },
     "output_type": "display_data"
    }
   ],
   "source": [
    "rougher_output = data['rougher_output_concentrate_ag']+data['rougher_output_concentrate_au']+data['rougher_output_concentrate_pb']+data['rougher_output_concentrate_sol']\n",
    "\n",
    "rougher_output.plot(y = 'summary_rougher_output_concentrate_',kind='hist', bins = 50, figsize=(17,5), color='cyan')\n",
    "\n",
    "plt.title('Суммарная концентрация всех веществ после флотрации')\n",
    "plt.xlabel('Содержание вещества')\n",
    "plt.ylabel('Частота')\n",
    "plt.show()"
   ]
  },
  {
   "cell_type": "code",
   "execution_count": 68,
   "metadata": {},
   "outputs": [
    {
     "data": {
      "image/png": "[encoded data removed]",
      "text/plain": [
       "<Figure size 1224x360 with 1 Axes>"
      ]
     },
     "metadata": {
      "needs_background": "light"
     },
     "output_type": "display_data"
    }
   ],
   "source": [
    "primary_cleaner = data['primary_cleaner_output_concentrate_ag']+data['primary_cleaner_output_concentrate_au']+data['primary_cleaner_output_concentrate_pb']+data['primary_cleaner_output_concentrate_sol']\n",
    "\n",
    "primary_cleaner.plot(y = 'summary_primary_cleaner_concentrate_',kind='hist', bins = 50, figsize=(17,5), color='magenta')\n",
    "\n",
    "plt.title('Суммарная концентрация всех веществ после первичной очистки')\n",
    "plt.xlabel('Содержание вещества')\n",
    "plt.ylabel('Частота')\n",
    "plt.show()"
   ]
  },
  {
   "cell_type": "code",
   "execution_count": 69,
   "metadata": {},
   "outputs": [
    {
     "data": {
      "image/png": "[encoded data removed]",
      "text/plain": [
       "<Figure size 1224x360 with 1 Axes>"
      ]
     },
     "metadata": {
      "needs_background": "light"
     },
     "output_type": "display_data"
    }
   ],
   "source": [
    "final_output = data['final_output_concentrate_ag']+data['final_output_concentrate_au']+data['final_output_concentrate_pb']+data['final_output_concentrate_sol']\n",
    "\n",
    "final_output.plot(y = 'summary_final_output_concentrate_',kind='hist', bins = 50, figsize=(17,5), color='olivedrab')\n",
    "\n",
    "plt.title('Суммарная концентрация всех веществ после вторичной очистки')\n",
    "plt.xlabel('Содержание вещества')\n",
    "plt.ylabel('Частота')\n",
    "plt.show()"
   ]
  },
  {
   "cell_type": "markdown",
   "metadata": {},
   "source": [
    "Средние показатели концентрации веществ показывают 60-70 единиц. Так же можно заметить большое скопление показателей возле 0. Такого быть не может, эти данные лучше удалить."
   ]
  },
  {
   "cell_type": "code",
   "execution_count": 70,
   "metadata": {},
   "outputs": [],
   "source": [
    "data = data.query('rougher_input_feed_ag != 0 and rougher_input_feed_au != 0 and rougher_input_feed_pb != 0 and rougher_input_feed_sol != 0')\n",
    "data = data.query('rougher_output_concentrate_ag != 0 and rougher_output_concentrate_au != 0 and rougher_output_concentrate_pb != 0 and rougher_output_concentrate_sol != 0')\n",
    "data = data.query('primary_cleaner_output_concentrate_ag != 0 and primary_cleaner_output_concentrate_au != 0 and primary_cleaner_output_concentrate_pb != 0 and primary_cleaner_output_concentrate_sol != 0')\n",
    "data = data.query('final_output_concentrate_ag != 0 and final_output_concentrate_au != 0 and final_output_concentrate_pb != 0 and final_output_concentrate_sol != 0')\n",
    "\n",
    "train_data = train_data.query('rougher_input_feed_ag != 0 and rougher_input_feed_au != 0 and rougher_input_feed_pb != 0 and rougher_input_feed_sol != 0')"
   ]
  },
  {
   "cell_type": "markdown",
   "metadata": {},
   "source": [
    "## Модель"
   ]
  },
  {
   "cell_type": "markdown",
   "metadata": {},
   "source": [
    "Напишем функцию для вычисления итоговой sMAPE."
   ]
  },
  {
   "cell_type": "code",
   "execution_count": 71,
   "metadata": {},
   "outputs": [],
   "source": [
    "def smape(y_true,y_pred):\n",
    "    error = np.mean(abs(y_true - y_pred)/((abs(y_true)+abs(y_pred))/2))*100\n",
    "    return error\n",
    "\n",
    "def final_smape(smape_rougher,smape_final):\n",
    "    return (0.25*smape_rougher + 0.75*smape_final)\n"
   ]
  },
  {
   "cell_type": "markdown",
   "metadata": {},
   "source": [
    "Удалим больше не нужный нам столбец с датой."
   ]
  },
  {
   "cell_type": "code",
   "execution_count": 72,
   "metadata": {},
   "outputs": [],
   "source": [
    "test_data.drop(['date'],axis = 1 ,inplace=True)\n",
    "train_data.drop(['date'],axis = 1 ,inplace=True)"
   ]
  },
  {
   "cell_type": "markdown",
   "metadata": {},
   "source": [
    "Обозначим признаки."
   ]
  },
  {
   "cell_type": "code",
   "execution_count": 73,
   "metadata": {},
   "outputs": [],
   "source": [
    "features_train_rougher = train_data.filter(regex='rougher',axis=1).drop(['rougher_output_recovery'], axis=1)\n",
    "cols = set(train_data.columns) - set(features_train_rougher.columns)\n",
    "features_train_final = train_data.drop(cols, axis=1)\n",
    "\n",
    "target_train_rougher = train_data['rougher_output_recovery']\n",
    "target_train_final = train_data['final_output_recovery']\n",
    "\n",
    "features_test_rougher = test_data.filter(regex='rougher',axis=1).drop(['rougher_output_recovery'], axis=1)\n",
    "features_test_final = test_data.drop(cols, axis=1)\n",
    "\n",
    "target_test_rougher = test_data['rougher_output_recovery']\n",
    "target_test_final = test_data['final_output_recovery']"
   ]
  },
  {
   "cell_type": "markdown",
   "metadata": {},
   "source": [
    "Промаштабируем данные."
   ]
  },
  {
   "cell_type": "code",
   "execution_count": 74,
   "metadata": {},
   "outputs": [],
   "source": [
    "numeric = features_train_rougher.columns\n",
    "numeric_2 = features_train_final.columns\n",
    "\n",
    "scaler = StandardScaler()\n",
    "scaler_2 = StandardScaler()\n",
    "\n",
    "scaler.fit(features_train_rougher[numeric])\n",
    "scaler_2.fit(features_train_final[numeric_2])\n",
    "\n",
    "features_train_rougher[numeric] = scaler.transform(features_train_rougher[numeric])\n",
    "features_train_final[numeric] = scaler.transform(features_train_final[numeric])\n",
    "\n",
    "features_test_rougher[numeric_2] = scaler.transform(features_test_rougher[numeric_2])\n",
    "features_test_final[numeric_2] = scaler_2.transform(features_test_final[numeric_2])\n"
   ]
  },
  {
   "cell_type": "markdown",
   "metadata": {},
   "source": [
    "Посчитаем sMAPE для трех моделей."
   ]
  },
  {
   "cell_type": "code",
   "execution_count": 75,
   "metadata": {},
   "outputs": [
    {
     "name": "stdout",
     "output_type": "stream",
     "text": [
      "sMape -10.846586801842962\n"
     ]
    }
   ],
   "source": [
    "model = LinearRegression()\n",
    "scorer = make_scorer(smape, greater_is_better=False)\n",
    "rougher_linear = cross_val_score(model, features_train_rougher, target_train_rougher, scoring=scorer, cv=5).mean()\n",
    "final_linear = cross_val_score(model, features_train_final, target_train_final, scoring=scorer, cv=5).mean()\n",
    "print('sMape', final_smape(rougher_linear, final_linear))"
   ]
  },
  {
   "cell_type": "markdown",
   "metadata": {},
   "source": [
    "sMape для модели LinearRegression() равен -10.846586801842962"
   ]
  },
  {
   "cell_type": "code",
   "execution_count": 76,
   "metadata": {
    "scrolled": true
   },
   "outputs": [
    {
     "name": "stdout",
     "output_type": "stream",
     "text": [
      "depth 1 min_samples_leaf 5\n",
      "Итоговое sMAPE для решающего дерева: -11.018732910943609\n",
      "depth 1 min_samples_leaf 10\n",
      "Итоговое sMAPE для решающего дерева: -11.018732910943609\n",
      "depth 1 min_samples_leaf 15\n",
      "Итоговое sMAPE для решающего дерева: -11.018732910943609\n",
      "depth 2 min_samples_leaf 5\n",
      "Итоговое sMAPE для решающего дерева: -11.557774661811749\n",
      "depth 2 min_samples_leaf 10\n",
      "Итоговое sMAPE для решающего дерева: -11.557774661811749\n",
      "depth 2 min_samples_leaf 15\n",
      "Итоговое sMAPE для решающего дерева: -11.557774661811749\n",
      "depth 3 min_samples_leaf 5\n",
      "Итоговое sMAPE для решающего дерева: -11.1683937515899\n",
      "depth 3 min_samples_leaf 10\n",
      "Итоговое sMAPE для решающего дерева: -11.1683937515899\n",
      "depth 3 min_samples_leaf 15\n",
      "Итоговое sMAPE для решающего дерева: -11.081856414867103\n",
      "depth 4 min_samples_leaf 5\n",
      "Итоговое sMAPE для решающего дерева: -12.179743734056817\n",
      "depth 4 min_samples_leaf 10\n",
      "Итоговое sMAPE для решающего дерева: -12.207770200303884\n",
      "depth 4 min_samples_leaf 15\n",
      "Итоговое sMAPE для решающего дерева: -11.876798726206694\n",
      "depth 5 min_samples_leaf 5\n",
      "Итоговое sMAPE для решающего дерева: -13.014524620002726\n",
      "depth 5 min_samples_leaf 10\n",
      "Итоговое sMAPE для решающего дерева: -12.194973113855454\n",
      "depth 5 min_samples_leaf 15\n",
      "Итоговое sMAPE для решающего дерева: -12.53637434644046\n",
      "depth 6 min_samples_leaf 5\n",
      "Итоговое sMAPE для решающего дерева: -13.677761802618075\n",
      "depth 6 min_samples_leaf 10\n",
      "Итоговое sMAPE для решающего дерева: -12.825818082521275\n",
      "depth 6 min_samples_leaf 15\n",
      "Итоговое sMAPE для решающего дерева: -12.754759096933668\n",
      "depth 7 min_samples_leaf 5\n",
      "Итоговое sMAPE для решающего дерева: -13.71845937742057\n",
      "depth 7 min_samples_leaf 10\n",
      "Итоговое sMAPE для решающего дерева: -13.083292737374755\n",
      "depth 7 min_samples_leaf 15\n",
      "Итоговое sMAPE для решающего дерева: -12.822377898643234\n",
      "depth 8 min_samples_leaf 5\n",
      "Итоговое sMAPE для решающего дерева: -14.258580501612148\n",
      "depth 8 min_samples_leaf 10\n",
      "Итоговое sMAPE для решающего дерева: -13.3574042985525\n",
      "depth 8 min_samples_leaf 15\n",
      "Итоговое sMAPE для решающего дерева: -13.021326344352142\n",
      "depth 9 min_samples_leaf 5\n",
      "Итоговое sMAPE для решающего дерева: -14.672835500019067\n",
      "depth 9 min_samples_leaf 10\n",
      "Итоговое sMAPE для решающего дерева: -13.993765626692223\n",
      "depth 9 min_samples_leaf 15\n",
      "Итоговое sMAPE для решающего дерева: -13.10118041009962\n",
      "\n"
     ]
    }
   ],
   "source": [
    "for depth in range(1, 10):\n",
    "    for samples_leaf in range(5,20,5):\n",
    "        model_2 = DecisionTreeRegressor(random_state=12345, max_depth = depth, min_samples_leaf = samples_leaf )\n",
    "        scorer = make_scorer(smape, greater_is_better=False)\n",
    "        rougher_tree = cross_val_score(model_2, features_train_rougher, target_train_rougher, scoring=scorer, cv=5).mean()\n",
    "        final_tree = cross_val_score(model_2, features_train_final, target_train_final, scoring=scorer, cv=5).mean()\n",
    "        print('depth',depth,'min_samples_leaf',samples_leaf)\n",
    "        print('Итоговое sMAPE для решающего дерева:',final_smape(rougher_tree, final_tree))\n",
    "print()"
   ]
  },
  {
   "cell_type": "markdown",
   "metadata": {},
   "source": [
    "sMape для модели DecisionTreeRegressor() равен 11.018732910943609"
   ]
  },
  {
   "cell_type": "code",
   "execution_count": 77,
   "metadata": {
    "scrolled": true
   },
   "outputs": [
    {
     "name": "stdout",
     "output_type": "stream",
     "text": [
      "depth 1 est 5\n",
      "Итоговое sMAPE для решающего дерева: -11.025035807206176\n",
      "depth 1 est 10\n",
      "Итоговое sMAPE для решающего дерева: -11.037147138027507\n",
      "depth 1 est 15\n",
      "Итоговое sMAPE для решающего дерева: -11.041555271221313\n",
      "depth 1 est 20\n",
      "Итоговое sMAPE для решающего дерева: -11.025270077025292\n",
      "depth 2 est 5\n",
      "Итоговое sMAPE для решающего дерева: -11.262411954251785\n",
      "depth 2 est 10\n",
      "Итоговое sMAPE для решающего дерева: -11.297102047362134\n",
      "depth 2 est 15\n",
      "Итоговое sMAPE для решающего дерева: -11.29215536127379\n",
      "depth 2 est 20\n",
      "Итоговое sMAPE для решающего дерева: -11.271625150532213\n",
      "depth 3 est 5\n",
      "Итоговое sMAPE для решающего дерева: -10.837160588920595\n",
      "depth 3 est 10\n",
      "Итоговое sMAPE для решающего дерева: -10.883815244375327\n",
      "depth 3 est 15\n",
      "Итоговое sMAPE для решающего дерева: -10.849109469449193\n",
      "depth 3 est 20\n",
      "Итоговое sMAPE для решающего дерева: -10.878793535513545\n",
      "depth 4 est 5\n",
      "Итоговое sMAPE для решающего дерева: -11.170335394286857\n",
      "depth 4 est 10\n",
      "Итоговое sMAPE для решающего дерева: -11.166044619918445\n",
      "depth 4 est 15\n",
      "Итоговое sMAPE для решающего дерева: -11.091889040609738\n",
      "depth 4 est 20\n",
      "Итоговое sMAPE для решающего дерева: -11.181731242665492\n",
      "depth 5 est 5\n",
      "Итоговое sMAPE для решающего дерева: -12.06830452836101\n",
      "depth 5 est 10\n",
      "Итоговое sMAPE для решающего дерева: -11.75998056918383\n",
      "depth 5 est 15\n",
      "Итоговое sMAPE для решающего дерева: -11.588844563721644\n",
      "depth 5 est 20\n",
      "Итоговое sMAPE для решающего дерева: -11.616242368382805\n",
      "depth 6 est 5\n",
      "Итоговое sMAPE для решающего дерева: -12.293137448396266\n",
      "depth 6 est 10\n",
      "Итоговое sMAPE для решающего дерева: -11.864910295054035\n",
      "depth 6 est 15\n",
      "Итоговое sMAPE для решающего дерева: -11.884777229543017\n",
      "depth 6 est 20\n",
      "Итоговое sMAPE для решающего дерева: -11.802968288727339\n",
      "depth 7 est 5\n",
      "Итоговое sMAPE для решающего дерева: -12.508810724208836\n",
      "depth 7 est 10\n",
      "Итоговое sMAPE для решающего дерева: -12.07224973933687\n",
      "depth 7 est 15\n",
      "Итоговое sMAPE для решающего дерева: -12.078312418651869\n",
      "depth 7 est 20\n",
      "Итоговое sMAPE для решающего дерева: -12.06905747338456\n",
      "depth 8 est 5\n",
      "Итоговое sMAPE для решающего дерева: -12.170089875019023\n",
      "depth 8 est 10\n",
      "Итоговое sMAPE для решающего дерева: -11.872439692790595\n",
      "depth 8 est 15\n",
      "Итоговое sMAPE для решающего дерева: -12.015474774158088\n",
      "depth 8 est 20\n",
      "Итоговое sMAPE для решающего дерева: -12.045205211902662\n",
      "depth 9 est 5\n",
      "Итоговое sMAPE для решающего дерева: -12.857171489124305\n",
      "depth 9 est 10\n",
      "Итоговое sMAPE для решающего дерева: -12.24795218401492\n",
      "depth 9 est 15\n",
      "Итоговое sMAPE для решающего дерева: -12.243700736687648\n",
      "depth 9 est 20\n",
      "Итоговое sMAPE для решающего дерева: -12.237806884179829\n",
      "\n"
     ]
    }
   ],
   "source": [
    "for depth in range(1, 10, 1):\n",
    "    for est in range(5,25,5):\n",
    "        \n",
    "        model_3 = RandomForestRegressor(max_depth=depth, n_estimators=est,random_state=1234)\n",
    "        scorer = make_scorer(smape, greater_is_better=False)\n",
    "        rougher_tree = cross_val_score(model_3, features_train_rougher, target_train_rougher,scoring=scorer, cv=5).mean()\n",
    "        final_tree = cross_val_score(model_3, features_train_final, target_train_final,scoring=scorer, cv=5).mean()\n",
    "        print('depth',depth,'est',est)\n",
    "        print('Итоговое sMAPE для решающего дерева:',final_smape(rougher_tree, final_tree))\n",
    "print()"
   ]
  },
  {
   "cell_type": "markdown",
   "metadata": {},
   "source": [
    "sMape для модели RandomForestRegressor() равен 10.837160588920595.\n",
    "\n",
    "А значит именно эту модель признаем самой эффективной.\n",
    "\n",
    "Проверим ее на тестовой выборке."
   ]
  },
  {
   "cell_type": "code",
   "execution_count": 78,
   "metadata": {},
   "outputs": [
    {
     "name": "stdout",
     "output_type": "stream",
     "text": [
      "sMAPE для rougher: 9.969394810980663\n",
      "sMAPE для final: 9.338565383524564\n",
      "sMAPE на тестовой выборке: 9.496272740388589\n"
     ]
    }
   ],
   "source": [
    "model_01 = RandomForestRegressor(max_depth=3, n_estimators=5,random_state=1234)\n",
    "model_02 = RandomForestRegressor(max_depth=3, n_estimators=5,random_state=1234)\n",
    "\n",
    "model_01.fit(features_train_rougher, target_train_rougher)\n",
    "model_02.fit(features_train_final, target_train_final)\n",
    "\n",
    "test_predictions_01 = model_01.predict(features_test_rougher)\n",
    "test_predictions_02 = model_02.predict(features_test_final)\n",
    "\n",
    "smape_01 = smape(target_test_rougher, test_predictions_01)\n",
    "smape_02 = smape(target_test_final, test_predictions_02)\n",
    "\n",
    "print('sMAPE для rougher:',smape_01)\n",
    "print('sMAPE для final:',smape_02)\n",
    "print('sMAPE на тестовой выборке:',final_smape(smape_01,smape_02))"
   ]
  },
  {
   "cell_type": "markdown",
   "metadata": {},
   "source": [
    "sMape для модели RandomForestRegressor() на тестовой выборке равен 9.496272740388589.\n",
    "\n",
    "Теперь проверим модель на адекватность при помощи DummyRegressor."
   ]
  },
  {
   "cell_type": "code",
   "execution_count": 79,
   "metadata": {},
   "outputs": [
    {
     "name": "stdout",
     "output_type": "stream",
     "text": [
      "sMAPE для rougher: 10.379799283438492\n",
      "sMAPE для final: 10.25957407354855\n",
      "sMAPE на тестовой выборке: 10.289630376021035\n"
     ]
    }
   ],
   "source": [
    "model_01 = DummyRegressor(strategy= 'mean')\n",
    "model_02 = DummyRegressor(strategy= 'mean')\n",
    "\n",
    "model_01.fit(features_train_rougher, target_train_rougher)\n",
    "model_02.fit(features_train_final, target_train_final)\n",
    "\n",
    "test_predictions_01 = model_01.predict(features_test_rougher)\n",
    "test_predictions_02 = model_02.predict(features_test_final)\n",
    "\n",
    "smape_01 = smape(target_test_rougher, test_predictions_01)\n",
    "smape_02 = smape(target_test_final, test_predictions_02)\n",
    "\n",
    "print('sMAPE для rougher:',smape_01)\n",
    "print('sMAPE для final:',smape_02)\n",
    "print('sMAPE на тестовой выборке:',final_smape(smape_01,smape_02))"
   ]
  },
  {
   "cell_type": "markdown",
   "metadata": {},
   "source": [
    "Показатель sMape для DummyRegressor 10.289630376021035. Ошибка больше, чем в нашей модели, а значит признаем ее адекватной)"
   ]
  },
  {
   "cell_type": "markdown",
   "metadata": {},
   "source": [
    "Мной были подготовлены и проанализированны данные для восстановления золота из руды.\n",
    "\n",
    "* Проанализированы концентрации металлов (Au, Ag, Pb) на всех стадиях очистки.\n",
    "* Изучены распределения гранул сырья для обучающей и тестовой выборок.\n",
    "* Исследованна суммарная концентрация всех веществ на разных стадиях: в сырье, в черновом и финальном концентратах.\n",
    "\n",
    "Построенно несколько моделей.\n",
    "\n",
    "* Рассмотрены модели RandomForest, DecisionTreeи и LinearRegression\n",
    "* RandomForest показала себя лучше и была принята за основную модель.\n",
    "* sMape модели RandomForest меньше, чем у константной, модель признаётся адекватной."
   ]
  }
 ],
 "metadata": {
  "ExecuteTimeLog": [
   {
    "duration": 2253,
    "start_time": "2023-04-01T11:20:48.909Z"
   },
   {
    "duration": 3274,
    "start_time": "2023-04-01T11:20:51.166Z"
   },
   {
    "duration": 21,
    "start_time": "2023-04-01T11:20:54.442Z"
   },
   {
    "duration": 14,
    "start_time": "2023-04-01T11:20:54.466Z"
   },
   {
    "duration": 18,
    "start_time": "2023-04-01T11:20:54.488Z"
   },
   {
    "duration": 27,
    "start_time": "2023-04-01T11:20:54.508Z"
   },
   {
    "duration": 63,
    "start_time": "2023-04-01T11:20:54.538Z"
   },
   {
    "duration": 39,
    "start_time": "2023-04-01T11:20:54.603Z"
   },
   {
    "duration": 12,
    "start_time": "2023-04-01T11:20:54.646Z"
   },
   {
    "duration": 10,
    "start_time": "2023-04-01T11:20:54.690Z"
   },
   {
    "duration": 14,
    "start_time": "2023-04-01T11:20:54.702Z"
   },
   {
    "duration": 22,
    "start_time": "2023-04-01T11:20:54.718Z"
   },
   {
    "duration": 372,
    "start_time": "2023-04-01T11:20:54.742Z"
   },
   {
    "duration": 8,
    "start_time": "2023-04-01T11:20:55.116Z"
   },
   {
    "duration": 32,
    "start_time": "2023-04-01T11:20:55.126Z"
   },
   {
    "duration": 38,
    "start_time": "2023-04-01T11:20:55.160Z"
   },
   {
    "duration": 28,
    "start_time": "2023-04-01T11:20:55.200Z"
   },
   {
    "duration": 30,
    "start_time": "2023-04-01T11:20:55.230Z"
   },
   {
    "duration": 39,
    "start_time": "2023-04-01T11:20:55.262Z"
   },
   {
    "duration": 129,
    "start_time": "2023-04-01T11:20:55.305Z"
   },
   {
    "duration": 0,
    "start_time": "2023-04-01T11:20:55.436Z"
   },
   {
    "duration": 0,
    "start_time": "2023-04-01T11:20:55.437Z"
   },
   {
    "duration": 0,
    "start_time": "2023-04-01T11:20:55.439Z"
   },
   {
    "duration": 0,
    "start_time": "2023-04-01T11:20:55.440Z"
   },
   {
    "duration": 0,
    "start_time": "2023-04-01T11:20:55.442Z"
   },
   {
    "duration": 0,
    "start_time": "2023-04-01T11:20:55.443Z"
   },
   {
    "duration": 0,
    "start_time": "2023-04-01T11:20:55.444Z"
   },
   {
    "duration": 0,
    "start_time": "2023-04-01T11:20:55.446Z"
   },
   {
    "duration": 0,
    "start_time": "2023-04-01T11:20:55.447Z"
   },
   {
    "duration": 0,
    "start_time": "2023-04-01T11:20:55.449Z"
   },
   {
    "duration": 0,
    "start_time": "2023-04-01T11:20:55.451Z"
   },
   {
    "duration": 0,
    "start_time": "2023-04-01T11:20:55.451Z"
   },
   {
    "duration": 0,
    "start_time": "2023-04-01T11:20:55.453Z"
   },
   {
    "duration": 0,
    "start_time": "2023-04-01T11:20:55.488Z"
   },
   {
    "duration": 0,
    "start_time": "2023-04-01T11:20:55.489Z"
   },
   {
    "duration": 0,
    "start_time": "2023-04-01T11:20:55.491Z"
   },
   {
    "duration": 0,
    "start_time": "2023-04-01T11:20:55.493Z"
   },
   {
    "duration": 0,
    "start_time": "2023-04-01T11:20:55.494Z"
   },
   {
    "duration": 0,
    "start_time": "2023-04-01T11:20:55.495Z"
   },
   {
    "duration": 0,
    "start_time": "2023-04-01T11:20:55.497Z"
   },
   {
    "duration": 10,
    "start_time": "2023-04-01T11:21:19.325Z"
   },
   {
    "duration": 10,
    "start_time": "2023-04-01T11:22:39.785Z"
   },
   {
    "duration": 11,
    "start_time": "2023-04-01T11:27:55.411Z"
   },
   {
    "duration": 10,
    "start_time": "2023-04-01T11:44:37.010Z"
   },
   {
    "duration": 1477,
    "start_time": "2023-04-01T11:46:37.895Z"
   },
   {
    "duration": 794,
    "start_time": "2023-04-01T11:46:39.376Z"
   },
   {
    "duration": 37,
    "start_time": "2023-04-01T11:46:40.172Z"
   },
   {
    "duration": 14,
    "start_time": "2023-04-01T11:46:40.212Z"
   },
   {
    "duration": 31,
    "start_time": "2023-04-01T11:46:40.227Z"
   },
   {
    "duration": 50,
    "start_time": "2023-04-01T11:46:40.260Z"
   },
   {
    "duration": 25,
    "start_time": "2023-04-01T11:46:40.312Z"
   },
   {
    "duration": 25,
    "start_time": "2023-04-01T11:46:40.339Z"
   },
   {
    "duration": 37,
    "start_time": "2023-04-01T11:46:40.365Z"
   },
   {
    "duration": 18,
    "start_time": "2023-04-01T11:46:40.405Z"
   },
   {
    "duration": 42,
    "start_time": "2023-04-01T11:46:40.427Z"
   },
   {
    "duration": 48,
    "start_time": "2023-04-01T11:46:40.471Z"
   },
   {
    "duration": 294,
    "start_time": "2023-04-01T11:46:40.521Z"
   },
   {
    "duration": 7,
    "start_time": "2023-04-01T11:46:40.817Z"
   },
   {
    "duration": 12,
    "start_time": "2023-04-01T11:46:40.826Z"
   },
   {
    "duration": 6,
    "start_time": "2023-04-01T11:46:40.840Z"
   },
   {
    "duration": 16,
    "start_time": "2023-04-01T11:46:40.848Z"
   },
   {
    "duration": 26,
    "start_time": "2023-04-01T11:46:40.866Z"
   },
   {
    "duration": 58,
    "start_time": "2023-04-01T11:46:40.898Z"
   },
   {
    "duration": 135,
    "start_time": "2023-04-01T11:46:40.957Z"
   },
   {
    "duration": 0,
    "start_time": "2023-04-01T11:46:41.095Z"
   },
   {
    "duration": 0,
    "start_time": "2023-04-01T11:46:41.099Z"
   },
   {
    "duration": 0,
    "start_time": "2023-04-01T11:46:41.101Z"
   },
   {
    "duration": 0,
    "start_time": "2023-04-01T11:46:41.102Z"
   },
   {
    "duration": 0,
    "start_time": "2023-04-01T11:46:41.103Z"
   },
   {
    "duration": 0,
    "start_time": "2023-04-01T11:46:41.105Z"
   },
   {
    "duration": 0,
    "start_time": "2023-04-01T11:46:41.106Z"
   },
   {
    "duration": 0,
    "start_time": "2023-04-01T11:46:41.108Z"
   },
   {
    "duration": 0,
    "start_time": "2023-04-01T11:46:41.109Z"
   },
   {
    "duration": 0,
    "start_time": "2023-04-01T11:46:41.111Z"
   },
   {
    "duration": 0,
    "start_time": "2023-04-01T11:46:41.112Z"
   },
   {
    "duration": 1,
    "start_time": "2023-04-01T11:46:41.113Z"
   },
   {
    "duration": 0,
    "start_time": "2023-04-01T11:46:41.114Z"
   },
   {
    "duration": 0,
    "start_time": "2023-04-01T11:46:41.115Z"
   },
   {
    "duration": 0,
    "start_time": "2023-04-01T11:46:41.116Z"
   },
   {
    "duration": 0,
    "start_time": "2023-04-01T11:46:41.117Z"
   },
   {
    "duration": 0,
    "start_time": "2023-04-01T11:46:41.118Z"
   },
   {
    "duration": 0,
    "start_time": "2023-04-01T11:46:41.119Z"
   },
   {
    "duration": 0,
    "start_time": "2023-04-01T11:46:41.121Z"
   },
   {
    "duration": 0,
    "start_time": "2023-04-01T11:46:41.123Z"
   },
   {
    "duration": 1578,
    "start_time": "2023-04-01T11:54:32.840Z"
   },
   {
    "duration": 916,
    "start_time": "2023-04-01T11:54:34.421Z"
   },
   {
    "duration": 21,
    "start_time": "2023-04-01T11:54:35.339Z"
   },
   {
    "duration": 36,
    "start_time": "2023-04-01T11:54:35.362Z"
   },
   {
    "duration": 25,
    "start_time": "2023-04-01T11:54:35.404Z"
   },
   {
    "duration": 39,
    "start_time": "2023-04-01T11:54:35.431Z"
   },
   {
    "duration": 40,
    "start_time": "2023-04-01T11:54:35.472Z"
   },
   {
    "duration": 33,
    "start_time": "2023-04-01T11:54:35.514Z"
   },
   {
    "duration": 36,
    "start_time": "2023-04-01T11:54:35.549Z"
   },
   {
    "duration": 34,
    "start_time": "2023-04-01T11:54:35.587Z"
   },
   {
    "duration": 49,
    "start_time": "2023-04-01T11:54:35.623Z"
   },
   {
    "duration": 23,
    "start_time": "2023-04-01T11:54:35.675Z"
   },
   {
    "duration": 268,
    "start_time": "2023-04-01T11:54:35.700Z"
   },
   {
    "duration": 19,
    "start_time": "2023-04-01T11:54:35.974Z"
   },
   {
    "duration": 16,
    "start_time": "2023-04-01T11:54:35.995Z"
   },
   {
    "duration": 129,
    "start_time": "2023-04-01T11:54:36.013Z"
   },
   {
    "duration": 38,
    "start_time": "2023-04-01T11:54:36.144Z"
   },
   {
    "duration": 17,
    "start_time": "2023-04-01T11:54:36.183Z"
   },
   {
    "duration": 50,
    "start_time": "2023-04-01T11:54:36.202Z"
   },
   {
    "duration": 3,
    "start_time": "2023-04-01T11:54:36.253Z"
   },
   {
    "duration": 30,
    "start_time": "2023-04-01T11:54:36.258Z"
   },
   {
    "duration": 16,
    "start_time": "2023-04-01T11:54:36.290Z"
   },
   {
    "duration": 1302,
    "start_time": "2023-04-01T11:54:36.308Z"
   },
   {
    "duration": 1276,
    "start_time": "2023-04-01T11:54:37.611Z"
   },
   {
    "duration": 1441,
    "start_time": "2023-04-01T11:54:38.890Z"
   },
   {
    "duration": 647,
    "start_time": "2023-04-01T11:54:40.334Z"
   },
   {
    "duration": 355,
    "start_time": "2023-04-01T11:54:40.984Z"
   },
   {
    "duration": 251,
    "start_time": "2023-04-01T11:54:41.342Z"
   },
   {
    "duration": 284,
    "start_time": "2023-04-01T11:54:41.595Z"
   },
   {
    "duration": 297,
    "start_time": "2023-04-01T11:54:41.880Z"
   },
   {
    "duration": 76,
    "start_time": "2023-04-01T11:54:42.178Z"
   },
   {
    "duration": 4,
    "start_time": "2023-04-01T11:54:42.257Z"
   },
   {
    "duration": 25,
    "start_time": "2023-04-01T11:54:42.263Z"
   },
   {
    "duration": 23,
    "start_time": "2023-04-01T11:54:42.291Z"
   },
   {
    "duration": 38,
    "start_time": "2023-04-01T11:54:42.316Z"
   },
   {
    "duration": 2044,
    "start_time": "2023-04-01T11:54:42.356Z"
   },
   {
    "duration": 37266,
    "start_time": "2023-04-01T11:54:44.406Z"
   },
   {
    "duration": 366699,
    "start_time": "2023-04-01T11:55:21.674Z"
   },
   {
    "duration": 738,
    "start_time": "2023-04-01T12:01:28.375Z"
   },
   {
    "duration": 10,
    "start_time": "2023-04-01T12:01:29.115Z"
   },
   {
    "duration": 1635,
    "start_time": "2023-04-01T12:18:30.355Z"
   },
   {
    "duration": 841,
    "start_time": "2023-04-01T12:18:31.992Z"
   },
   {
    "duration": 19,
    "start_time": "2023-04-01T12:18:32.835Z"
   },
   {
    "duration": 13,
    "start_time": "2023-04-01T12:18:32.856Z"
   },
   {
    "duration": 5,
    "start_time": "2023-04-01T12:18:33.145Z"
   },
   {
    "duration": 802,
    "start_time": "2023-04-01T12:18:33.436Z"
   },
   {
    "duration": 31,
    "start_time": "2023-04-01T12:18:34.248Z"
   },
   {
    "duration": 29,
    "start_time": "2023-04-01T12:18:34.303Z"
   },
   {
    "duration": 22,
    "start_time": "2023-04-01T12:18:34.341Z"
   },
   {
    "duration": 23,
    "start_time": "2023-04-01T12:18:34.415Z"
   },
   {
    "duration": 47,
    "start_time": "2023-04-01T12:18:34.453Z"
   },
   {
    "duration": 21,
    "start_time": "2023-04-01T12:18:34.531Z"
   },
   {
    "duration": 38,
    "start_time": "2023-04-01T12:18:34.564Z"
   },
   {
    "duration": 22,
    "start_time": "2023-04-01T12:18:34.615Z"
   },
   {
    "duration": 20,
    "start_time": "2023-04-01T12:18:34.663Z"
   },
   {
    "duration": 23,
    "start_time": "2023-04-01T12:18:36.173Z"
   },
   {
    "duration": 299,
    "start_time": "2023-04-01T12:18:37.555Z"
   },
   {
    "duration": 1832,
    "start_time": "2023-04-01T12:18:39.068Z"
   },
   {
    "duration": 0,
    "start_time": "2023-04-01T12:18:40.904Z"
   },
   {
    "duration": 0,
    "start_time": "2023-04-01T12:18:40.908Z"
   },
   {
    "duration": 0,
    "start_time": "2023-04-01T12:18:40.911Z"
   },
   {
    "duration": 0,
    "start_time": "2023-04-01T12:18:40.914Z"
   },
   {
    "duration": 0,
    "start_time": "2023-04-01T12:18:40.917Z"
   },
   {
    "duration": 0,
    "start_time": "2023-04-01T12:18:40.919Z"
   },
   {
    "duration": 0,
    "start_time": "2023-04-01T12:18:40.923Z"
   },
   {
    "duration": 0,
    "start_time": "2023-04-01T12:18:40.925Z"
   },
   {
    "duration": 0,
    "start_time": "2023-04-01T12:18:40.927Z"
   },
   {
    "duration": 0,
    "start_time": "2023-04-01T12:18:40.929Z"
   },
   {
    "duration": 0,
    "start_time": "2023-04-01T12:18:40.931Z"
   },
   {
    "duration": 0,
    "start_time": "2023-04-01T12:18:40.934Z"
   },
   {
    "duration": 0,
    "start_time": "2023-04-01T12:18:40.936Z"
   },
   {
    "duration": 0,
    "start_time": "2023-04-01T12:18:40.939Z"
   },
   {
    "duration": 0,
    "start_time": "2023-04-01T12:18:40.988Z"
   },
   {
    "duration": 0,
    "start_time": "2023-04-01T12:18:40.995Z"
   },
   {
    "duration": 0,
    "start_time": "2023-04-01T12:18:41.000Z"
   },
   {
    "duration": 0,
    "start_time": "2023-04-01T12:18:41.001Z"
   },
   {
    "duration": 0,
    "start_time": "2023-04-01T12:18:41.003Z"
   },
   {
    "duration": 0,
    "start_time": "2023-04-01T12:18:41.004Z"
   },
   {
    "duration": 0,
    "start_time": "2023-04-01T12:18:41.005Z"
   },
   {
    "duration": 0,
    "start_time": "2023-04-01T12:18:41.006Z"
   },
   {
    "duration": 0,
    "start_time": "2023-04-01T12:18:41.008Z"
   },
   {
    "duration": 0,
    "start_time": "2023-04-01T12:18:41.009Z"
   },
   {
    "duration": 0,
    "start_time": "2023-04-01T12:18:41.011Z"
   },
   {
    "duration": 0,
    "start_time": "2023-04-01T12:18:41.012Z"
   },
   {
    "duration": 5,
    "start_time": "2023-04-01T12:19:37.234Z"
   },
   {
    "duration": 811,
    "start_time": "2023-04-01T12:19:37.241Z"
   },
   {
    "duration": 19,
    "start_time": "2023-04-01T12:19:38.053Z"
   },
   {
    "duration": 28,
    "start_time": "2023-04-01T12:19:38.074Z"
   },
   {
    "duration": 20,
    "start_time": "2023-04-01T12:19:38.104Z"
   },
   {
    "duration": 25,
    "start_time": "2023-04-01T12:19:38.126Z"
   },
   {
    "duration": 31,
    "start_time": "2023-04-01T12:19:38.187Z"
   },
   {
    "duration": 26,
    "start_time": "2023-04-01T12:19:38.220Z"
   },
   {
    "duration": 14,
    "start_time": "2023-04-01T12:19:38.248Z"
   },
   {
    "duration": 34,
    "start_time": "2023-04-01T12:19:38.264Z"
   },
   {
    "duration": 30,
    "start_time": "2023-04-01T12:19:38.301Z"
   },
   {
    "duration": 16,
    "start_time": "2023-04-01T12:19:38.333Z"
   },
   {
    "duration": 304,
    "start_time": "2023-04-01T12:19:38.351Z"
   },
   {
    "duration": 6,
    "start_time": "2023-04-01T12:19:38.658Z"
   },
   {
    "duration": 21,
    "start_time": "2023-04-01T12:19:38.666Z"
   },
   {
    "duration": 7,
    "start_time": "2023-04-01T12:19:38.689Z"
   },
   {
    "duration": 31,
    "start_time": "2023-04-01T12:19:38.698Z"
   },
   {
    "duration": 6,
    "start_time": "2023-04-01T12:19:38.730Z"
   },
   {
    "duration": 27,
    "start_time": "2023-04-01T12:19:38.738Z"
   },
   {
    "duration": 27,
    "start_time": "2023-04-01T12:19:38.767Z"
   },
   {
    "duration": 21,
    "start_time": "2023-04-01T12:19:38.796Z"
   },
   {
    "duration": 14,
    "start_time": "2023-04-01T12:19:38.820Z"
   },
   {
    "duration": 1423,
    "start_time": "2023-04-01T12:19:38.837Z"
   },
   {
    "duration": 1187,
    "start_time": "2023-04-01T12:19:40.263Z"
   },
   {
    "duration": 1200,
    "start_time": "2023-04-01T12:19:41.452Z"
   },
   {
    "duration": 479,
    "start_time": "2023-04-01T12:19:42.654Z"
   },
   {
    "duration": 293,
    "start_time": "2023-04-01T12:19:43.135Z"
   },
   {
    "duration": 242,
    "start_time": "2023-04-01T12:19:43.430Z"
   },
   {
    "duration": 263,
    "start_time": "2023-04-01T12:19:43.673Z"
   },
   {
    "duration": 284,
    "start_time": "2023-04-01T12:19:43.938Z"
   },
   {
    "duration": 175,
    "start_time": "2023-04-01T12:19:44.224Z"
   },
   {
    "duration": 5,
    "start_time": "2023-04-01T12:19:44.402Z"
   },
   {
    "duration": 24,
    "start_time": "2023-04-01T12:19:44.409Z"
   },
   {
    "duration": 15,
    "start_time": "2023-04-01T12:19:44.437Z"
   },
   {
    "duration": 56,
    "start_time": "2023-04-01T12:19:44.454Z"
   },
   {
    "duration": 1884,
    "start_time": "2023-04-01T12:19:44.513Z"
   },
   {
    "duration": 37906,
    "start_time": "2023-04-01T12:19:46.399Z"
   },
   {
    "duration": 362901,
    "start_time": "2023-04-01T12:20:24.308Z"
   },
   {
    "duration": 679,
    "start_time": "2023-04-01T12:26:27.211Z"
   },
   {
    "duration": 13,
    "start_time": "2023-04-01T12:26:27.893Z"
   },
   {
    "duration": 1818,
    "start_time": "2023-08-04T11:26:01.972Z"
   },
   {
    "duration": 3002,
    "start_time": "2023-08-04T11:26:05.769Z"
   },
   {
    "duration": 17,
    "start_time": "2023-08-04T11:26:17.576Z"
   },
   {
    "duration": 791,
    "start_time": "2023-08-04T11:26:46.330Z"
   }
  ],
  "kernelspec": {
   "display_name": "Python 3 (ipykernel)",
   "language": "python",
   "name": "python3"
  },
  "language_info": {
   "codemirror_mode": {
    "name": "ipython",
    "version": 3
   },
   "file_extension": ".py",
   "mimetype": "text/x-python",
   "name": "python",
   "nbconvert_exporter": "python",
   "pygments_lexer": "ipython3",
   "version": "3.9.13"
  },
  "toc": {
   "base_numbering": 1,
   "nav_menu": {},
   "number_sections": true,
   "sideBar": true,
   "skip_h1_title": true,
   "title_cell": "Содержание",
   "title_sidebar": "Contents",
   "toc_cell": true,
   "toc_position": {
    "height": "calc(100% - 180px)",
    "left": "10px",
    "top": "150px",
    "width": "284.638px"
   },
   "toc_section_display": true,
   "toc_window_display": true
  }
 },
 "nbformat": 4,
 "nbformat_minor": 2
}
